{
 "cells": [
  {
   "cell_type": "code",
   "execution_count": 44,
   "metadata": {},
   "outputs": [],
   "source": [
    "# Import modules\n",
    "import numpy as np\n",
    "from qiskit import(\n",
    "    QuantumCircuit,\n",
    "    execute,\n",
    "    Aer,\n",
    "    QuantumRegister,\n",
    "    ClassicalRegister\n",
    "    )\n",
    "\n",
    "from qiskit.visualization import plot_histogram"
   ]
  },
  {
   "cell_type": "code",
   "execution_count": 45,
   "metadata": {},
   "outputs": [],
   "source": [
    "# Define our registers and circuit\n",
    "qb = QuantumRegister(5, 'code_qubit')     # The 5 qubits to encode the state in\n",
    "an = QuantumRegister(4, 'ancilla_qubit')  # The two ancilla qubits (one of them is unused)\n",
    "cr = ClassicalRegister(4, 'syndrome_bit') # Classical register for registering the syndromes\n",
    "readout = ClassicalRegister(5, 'readout') # Readout of the final state at the end for statistics"
   ]
  },
  {
   "cell_type": "code",
   "execution_count": 46,
   "metadata": {},
   "outputs": [],
   "source": [
    "# Note that some gates might be redundant, haven't checked\n",
    "def encode_input( circuit, qbReg ):\n",
    "    '''Encode the input into logical 0 and 1\n",
    "    This assumes that the 0:th qubit is the\n",
    "    original state |psi> = a|0> + b|1>'''\n",
    "    \n",
    "    circuit.h( qbReg[3] )\n",
    "    circuit.cz( qbReg[3], qbReg[1] )\n",
    "    circuit.cz( qbReg[3], qbReg[2] )\n",
    "    circuit.cx( qbReg[3], qbReg[0] )   \n",
    "\n",
    "    circuit.h( qbReg[2] )\n",
    "    circuit.cx( qbReg[2], qbReg[0] )\n",
    "    circuit.cz( qbReg[2], qbReg[3] )\n",
    "    circuit.cz( qbReg[2], qbReg[4] )\n",
    "    \n",
    "    circuit.h( qbReg[1] )\n",
    "    circuit.cz( qbReg[1], qbReg[0] )\n",
    "    circuit.cx( qbReg[1], qbReg[3] )\n",
    "    circuit.cz( qbReg[1], qbReg[4] )\n",
    "    \n",
    "    circuit.h( qbReg[4] )\n",
    "    circuit.cz( qbReg[4], qbReg[2] )\n",
    "    circuit.cz( qbReg[4], qbReg[3] )\n",
    "    circuit.cx( qbReg[4], qbReg[1] )\n",
    "    \n",
    "    return\n",
    "\n",
    "# Define our stabilizers\n",
    "def measure_stabilizer( circuit, qbReg, anReg, clReg, i ):\n",
    "    '''Function for adding stabilizer measurements to a circuit.\n",
    "    Note that a measurement of X is done by using Hadamard before\n",
    "    and after. Input i specifies the stabilizer to measure:\n",
    "        i=0: XZZXI\n",
    "        i=1: IXZZX\n",
    "        i=2: XIXZZ\n",
    "        i=3: ZXIXZ\n",
    "    Other inputs are the circuit as well as the required registers'''\n",
    "    \n",
    "    if not isinstance(i, int):\n",
    "        raise error('i must be an integer')\n",
    "    \n",
    "    # Generate indexes\n",
    "    index = np.mod( i + np.array([0, 1, 2, 3]), 5 ) \n",
    "    \n",
    "    # Measure stabilizers\n",
    "    circuit.h( qbReg[ index[0] ] )\n",
    "    circuit.cx( qbReg[ index[0] ], anReg[i] )\n",
    "    circuit.h( qbReg[ index[0] ] ) \n",
    "        \n",
    "    circuit.cx( qbReg[ index[1] ], anReg[i] )\n",
    "        \n",
    "    circuit.cx( qbReg[ index[2] ], anReg[i] )\n",
    "        \n",
    "    circuit.h( qbReg[ index[3] ] )\n",
    "    circuit.cx( qbReg[ index[3] ], anReg[i] )\n",
    "    circuit.h( qbReg[ index[3] ])\n",
    "        \n",
    "    circuit.measure( anReg[i], clReg[i])\n",
    "    \n",
    "    return\n",
    "    \n"
   ]
  },
  {
   "cell_type": "code",
   "execution_count": 48,
   "metadata": {},
   "outputs": [
    {
     "name": "stdout",
     "output_type": "stream",
     "text": [
      "{'00001 0000': 65, '10000 0000': 76, '10011 0000': 82, '10101 0000': 62, '10110 0000': 73, '11001 0000': 78, '11010 0000': 58, '11100 0000': 63, '11111 0000': 57, '00010 0000': 49, '00100 0000': 62, '00111 0000': 55, '01000 0000': 72, '01011 0000': 56, '01101 0000': 63, '01110 0000': 53}\n"
     ]
    },
    {
     "data": {
      "image/png": "[encoded data removed]",
      "text/plain": [
       "<Figure size 504x360 with 1 Axes>"
      ]
     },
     "execution_count": 48,
     "metadata": {},
     "output_type": "execute_result"
    }
   ],
   "source": [
    "circuit = QuantumCircuit( cr, readout, an, qb )\n",
    "\n",
    "# Prepare the input\n",
    "circuit.x( qb[0] ) # As an example, start in |1>\n",
    "\n",
    "# Encode the state\n",
    "encode_input( circuit, qb ) \n",
    "\n",
    "# Add errors manually\n",
    "# (Nothing tried here yet)\n",
    "\n",
    "# Measure stabilizers\n",
    "measure_stabilizer( circuit, qb, an, cr, 0 )\n",
    "measure_stabilizer( circuit, qb, an, cr, 1 )\n",
    "measure_stabilizer( circuit, qb, an, cr, 2 )\n",
    "measure_stabilizer( circuit, qb, an, cr, 3 )\n",
    "\n",
    "# Readout of the encoded state\n",
    "circuit.measure( qb, readout )\n",
    "\n",
    "counts = execute(circuit, Aer.get_backend('qasm_simulator')).result().get_counts()\n",
    "print(counts)\n",
    "\n",
    "circuit.draw(output='mpl') # If it does not work, simply remove mpl: circuit.draw()\n",
    "plot_histogram(counts)\n",
    "# All stabilizers should give 0 (meaning '0000' for all states) unless error has been added."
   ]
  }
 ],
 "metadata": {
  "kernelspec": {
   "display_name": "Python 3",
   "language": "python",
   "name": "python3"
  },
  "language_info": {
   "codemirror_mode": {
    "name": "ipython",
    "version": 3
   },
   "file_extension": ".py",
   "mimetype": "text/x-python",
   "name": "python",
   "nbconvert_exporter": "python",
   "pygments_lexer": "ipython3",
   "version": "3.8.5"
  }
 },
 "nbformat": 4,
 "nbformat_minor": 4
}
