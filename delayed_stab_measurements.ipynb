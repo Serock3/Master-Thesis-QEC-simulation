{
 "cells": [
  {
   "cell_type": "markdown",
   "source": [
    "# Delayed stabilzier measurements and their effect on the QEC\n",
    "The [[5,1,3]] code is constructed in such a way that starting from $\\ket{0_L}$, every single qubit pauli operator $E$ will map the state to an orthagonal state. "
   ],
   "metadata": {}
  },
  {
   "cell_type": "code",
   "execution_count": null,
   "source": [],
   "outputs": [],
   "metadata": {}
  }
 ],
 "metadata": {
  "orig_nbformat": 4,
  "language_info": {
   "name": "python"
  }
 },
 "nbformat": 4,
 "nbformat_minor": 2
}