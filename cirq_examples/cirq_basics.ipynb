{
 "cells": [
  {
   "cell_type": "markdown",
   "metadata": {
    "id": "7FV_m2u2Hny8"
   },
   "source": [
    "##### Copyright 2020 The Cirq Developers"
   ]
  },
  {
   "cell_type": "code",
   "execution_count": null,
   "metadata": {
    "cellView": "form",
    "id": "2XSh1-J7HrcU"
   },
   "outputs": [],
   "source": [
    "#@title Licensed under the Apache License, Version 2.0 (the \"License\");\n",
    "# you may not use this file except in compliance with the License.\n",
    "# You may obtain a copy of the License at\n",
    "#\n",
    "# https://www.apache.org/licenses/LICENSE-2.0\n",
    "#\n",
    "# Unless required by applicable law or agreed to in writing, software\n",
    "# distributed under the License is distributed on an \"AS IS\" BASIS,\n",
    "# WITHOUT WARRANTIES OR CONDITIONS OF ANY KIND, either express or implied.\n",
    "# See the License for the specific language governing permissions and\n",
    "# limitations under the License."
   ]
  },
  {
   "cell_type": "markdown",
   "metadata": {
    "id": "Me7G0WVTHwHg"
   },
   "source": [
    "# Cirq basics"
   ]
  },
  {
   "cell_type": "markdown",
   "metadata": {
    "id": "67gUU740MSXd"
   },
   "source": [
    "This tutorial will teach the basics of how to use Cirq.  This tutorial will walk through how to use qubits, gates, and operations to create and simulate your first quantum circuit using Cirq.  It will briefly introduce devices, unitary matrices, decompositions, and optimizers.\n",
    "\n",
    "This tutorial isn’t a quantum computing 101 tutorial, we assume familiarity of quantum computing at about the level of the textbook “Quantum Computation and Quantum Information” by Nielsen and Chuang.\n",
    "\n",
    "For more in-depth examples closer to those found in current work, check out our tutorials page."
   ]
  },
  {
   "cell_type": "markdown",
   "metadata": {
    "id": "1dOjJlgrNUuz"
   },
   "source": [
    "To begin, please follow the instructions for [installing Cirq](../install.md)."
   ]
  },
  {
   "cell_type": "code",
   "execution_count": 1,
   "metadata": {
    "id": "bd9529db1c0b"
   },
   "outputs": [],
   "source": [
    "try:\n",
    "    import cirq\n",
    "except ImportError:\n",
    "    print(\"installing cirq...\")\n",
    "    !pip install --quiet cirq\n",
    "    print(\"installed cirq.\")"
   ]
  },
  {
   "cell_type": "markdown",
   "metadata": {
    "id": "xr-MMoXgNsUQ"
   },
   "source": [
    "## Qubits\n",
    "\n",
    "The first part of creating a quantum circuit is to define a set of qubits (also known as a quantum registers) to act on.\n",
    "\n",
    "Cirq has three main ways of defining qubits:\n",
    "\n",
    "*   `cirq.NamedQubit`: used to label qubits by an abstract name\n",
    "*   `cirq.LineQubit`: qubits labelled by number in a linear array \n",
    "*   `cirq.GridQubit`: qubits labelled by two numbers in a rectangular lattice.\n",
    "\n",
    "Here are some examples of defining each type of qubit."
   ]
  },
  {
   "cell_type": "code",
   "execution_count": 2,
   "metadata": {
    "id": "PsgSo-H0Os8X"
   },
   "outputs": [],
   "source": [
    "import cirq\n",
    "\n",
    "# Using named qubits can be useful for abstract algorithms\n",
    "# as well as algorithms not yet mapped onto hardware.\n",
    "q0 = cirq.NamedQubit('source')\n",
    "q1 = cirq.NamedQubit('target')\n",
    "\n",
    "# Line qubits can be created individually\n",
    "q3 = cirq.LineQubit(3)\n",
    "\n",
    "# Or created in a range\n",
    "# This will create LineQubit(0), LineQubit(1), LineQubit(2)\n",
    "q0, q1, q2 = cirq.LineQubit.range(3)\n",
    "\n",
    "# Grid Qubits can also be referenced individually\n",
    "q4_5 = cirq.GridQubit(4,5)\n",
    "\n",
    "# Or created in bulk in a square\n",
    "# This will create 16 qubits from (0,0) to (3,3)\n",
    "qubits = cirq.GridQubit.square(4)"
   ]
  },
  {
   "cell_type": "markdown",
   "metadata": {
    "id": "4zE6AutyQhQ6"
   },
   "source": [
    "There are also pre-packaged sets of qubits called [Devices](../devices.md).  These are qubits along with a set of rules of how they can be used.  A `cirq.Device` can be used to apply adjacency rules and other hardware constraints to a quantum circuit.  For our example, we will use the `cirq.google.Foxtail` device that comes with cirq.  It is a 2x11 grid that mimics early hardware released by Google."
   ]
  },
  {
   "cell_type": "code",
   "execution_count": 3,
   "metadata": {
    "id": "B0Dwgu-lQLpq"
   },
   "outputs": [
    {
     "output_type": "stream",
     "name": "stdout",
     "text": [
      "(0, 0)───(0, 1)───(0, 2)───(0, 3)───(0, 4)───(0, 5)───(0, 6)───(0, 7)───(0, 8)───(0, 9)───(0, 10)\n│        │        │        │        │        │        │        │        │        │        │\n│        │        │        │        │        │        │        │        │        │        │\n(1, 0)───(1, 1)───(1, 2)───(1, 3)───(1, 4)───(1, 5)───(1, 6)───(1, 7)───(1, 8)───(1, 9)───(1, 10)\n"
     ]
    }
   ],
   "source": [
    "print(cirq.google.Foxtail)"
   ]
  },
  {
   "cell_type": "markdown",
   "metadata": {
    "id": "j1QTjyxLSe5c"
   },
   "source": [
    "## Gates and operations\n",
    "\n",
    "The next step is to use the qubits to create operations that can be used in our circuit.  Cirq has two concepts that are important to understand here:\n",
    "\n",
    "*   A `Gate` is an effect that can be applied to a set of qubits.  \n",
    "*   An `Operation` is a gate applied to a set of qubits.\n",
    "\n",
    "For instance, `cirq.H` is the quantum [Hadamard](https://en.wikipedia.org/wiki/Quantum_logic_gate#Hadamard_(H)_gate) and is a `Gate` object.  `cirq.H(cirq.LineQubit(1))` is an `Operation` object and is the Hadamard gate applied to a specific qubit (line qubit number 1).\n",
    "\n",
    "Many textbook gates are included within cirq.  `cirq.X`, `cirq.Y`, and `cirq.Z` refer to the single-qubit Pauli gates.  `cirq.CZ`, `cirq.CNOT`, `cirq.SWAP` are a few of the common two-qubit gates.  `cirq.measure` is a macro to apply a `MeasurementGate` to a set of qubits.  You can find more, as well as instructions on how to creats your own custom gates, on the [Gates documentation](../gates.ipynb) page.\n",
    "\n",
    "Many arithmetic operations can also be applied to gates.  Here are some examples:"
   ]
  },
  {
   "cell_type": "code",
   "execution_count": 4,
   "metadata": {
    "id": "wDW-yU-fesDl"
   },
   "outputs": [],
   "source": [
    "# Example gates\n",
    "not_gate = cirq.CNOT\n",
    "pauli_z = cirq.Z\n",
    "\n",
    "# Using exponentiation to get square root gates\n",
    "sqrt_x_gate = cirq.X**0.5\n",
    "sqrt_iswap = cirq.ISWAP**0.5\n",
    "\n",
    "# Some gates can also take parameters\n",
    "sqrt_sqrt_y = cirq.YPowGate(exponent=0.25)\n",
    "\n",
    "# Example operations\n",
    "q0, q1 = cirq.LineQubit.range(2)\n",
    "z_op = cirq.Z(q0)\n",
    "not_op = cirq.CNOT(q0, q1)\n",
    "sqrt_iswap_op = sqrt_iswap(q0, q1)"
   ]
  },
  {
   "cell_type": "markdown",
   "metadata": {
    "id": "BnBGLMVvWVkz"
   },
   "source": [
    "## Circuits and moments\n",
    "\n",
    "We are now ready to construct a quantum circuit.  A `Circuit` is a collection of `Moment`s. A `Moment` is a collection of `Operation`s that all act during the same abstract time slice.  Each `Operation` must have a disjoint set of qubits from the other `Operation`s in the `Moment`.  A `Moment` can be thought of as a vertical slice of a quantum circuit diagram.\n",
    "\n",
    "Circuits can be constructed in several different ways.  By default, cirq will attempt to slide your operation into the earliest possible `Moment` when you insert it.\n"
   ]
  },
  {
   "cell_type": "code",
   "execution_count": 5,
   "metadata": {
    "id": "HEuqEZcXkz3Q"
   },
   "outputs": [
    {
     "output_type": "stream",
     "name": "stdout",
     "text": [
      "0: ───H───\n\n1: ───H───\n\n2: ───H───\n"
     ]
    }
   ],
   "source": [
    "circuit = cirq.Circuit()\n",
    "# You can create a circuit by appending to it\n",
    "circuit.append(cirq.H(q) for q in cirq.LineQubit.range(3))\n",
    "# All of the gates are put into the same Moment since none overlap\n",
    "print(circuit)"
   ]
  },
  {
   "cell_type": "code",
   "execution_count": 6,
   "metadata": {
    "id": "Lbez4guQl31P"
   },
   "outputs": [
    {
     "output_type": "stream",
     "name": "stdout",
     "text": [
      "0: ───×───────────\n      │\n1: ───×───×───────\n          │\n2: ───────×───×───\n              │\n3: ───────────×───\n"
     ]
    }
   ],
   "source": [
    "# We can also create a circuit directly as well:\n",
    "print(cirq.Circuit(cirq.SWAP(q, q+1) for q in cirq.LineQubit.range(3)))"
   ]
  },
  {
   "cell_type": "markdown",
   "metadata": {
    "id": "3FC9bdlXmShh"
   },
   "source": [
    "Sometimes, you may not want cirq to automatically shift operations all the way to the left.  To construct a circuit without doing this, you can create the circuit moment-by-moment or use a different `InsertStrategy`, explained more in the [Circuit documentation](../circuits.ipynb)."
   ]
  },
  {
   "cell_type": "code",
   "execution_count": 7,
   "metadata": {
    "id": "4AEahodTnYiI"
   },
   "outputs": [
    {
     "output_type": "stream",
     "name": "stdout",
     "text": [
      "0: ───H───────────\n\n1: ───────H───────\n\n2: ───────────H───\n"
     ]
    }
   ],
   "source": [
    "# Creates each gate in a separate moment.\n",
    "print(cirq.Circuit(cirq.Moment([cirq.H(q)]) for q in cirq.LineQubit.range(3)))"
   ]
  },
  {
   "cell_type": "markdown",
   "metadata": {
    "id": "j406AKYsobpq"
   },
   "source": [
    "### Circuits and devices\n",
    "\n",
    "One important consideration when using real quantum devices is that there are often hardware constraints on the circuit.  Creating a circuit with a `Device` will allow you to capture some of these requirements.  These `Device` objects will validate the operations you add to the circuit to make sure that no illegal operations are added.\n",
    "\n",
    "Let's look at an example using the Foxtail device."
   ]
  },
  {
   "cell_type": "code",
   "execution_count": 8,
   "metadata": {
    "id": "9UV-dXJOpy8B"
   },
   "outputs": [
    {
     "output_type": "stream",
     "name": "stdout",
     "text": [
      "Unconstrained device:\n(0, 0): ───@───@───\n           │   │\n(0, 1): ───@───┼───\n               │\n(0, 2): ───────@───\n\nFoxtail device:\nNot allowed. Non-local interaction: cirq.CZ(cirq.GridQubit(0, 0), cirq.GridQubit(0, 2)).\n"
     ]
    }
   ],
   "source": [
    "q0 = cirq.GridQubit(0, 0)\n",
    "q1 = cirq.GridQubit(0, 1)\n",
    "q2 = cirq.GridQubit(0, 2)\n",
    "adjacent_op = cirq.CZ(q0, q1)\n",
    "nonadjacent_op = cirq.CZ(q0, q2)\n",
    "\n",
    "# This is an unconstrained circuit with no device\n",
    "free_circuit = cirq.Circuit()\n",
    "# Both operations are allowed:\n",
    "free_circuit.append(adjacent_op)\n",
    "free_circuit.append(nonadjacent_op)\n",
    "print('Unconstrained device:')\n",
    "print(free_circuit)\n",
    "print()\n",
    "\n",
    "# This is a circuit on the Foxtail device\n",
    "# only adjacent operations are allowed.\n",
    "print('Foxtail device:')\n",
    "foxtail_circuit = cirq.Circuit(device=cirq.google.Foxtail)\n",
    "foxtail_circuit.append(adjacent_op)\n",
    "try:\n",
    "  # Not allowed, will throw exception\n",
    "  foxtail_circuit.append(nonadjacent_op)\n",
    "except ValueError as e:\n",
    "  print('Not allowed. %s' % e)\n"
   ]
  },
  {
   "cell_type": "markdown",
   "metadata": {
    "id": "xZ68bWEjoMKt"
   },
   "source": [
    "## Simulation\n",
    "\n",
    "The results of the application of a quantum circuit can be calculated by a `Simulator`.  Cirq comes bundled with a simulator that can calculate the results of circuits up to about a limit of 20 qubits.  It can be initialized with `cirq.Simulator()`.\n",
    "\n",
    "There are two different approaches to using a simulator:\n",
    "\n",
    "*   `simulate()`:  Since we are classically simulating a circuit, a simulator can directly access and view the resulting wave function.  This is useful for debugging, learning, and understanding how circuits will function.  \n",
    "*   `run()`:  When using actual quantum devices, we can only access the end result of a computation and must sample the results to get a distribution of results.  Running the simulator as a sampler mimics this behavior and only returns bit strings as output.\n",
    "\n",
    "Let's try to simulate a 2-qubit \"Bell State\":"
   ]
  },
  {
   "cell_type": "code",
   "execution_count": 9,
   "metadata": {
    "id": "AwC4SL6CHpXm"
   },
   "outputs": [
    {
     "output_type": "stream",
     "name": "stdout",
     "text": [
      "Simulate the circuit:\n",
      "measurements: (no measurements)\n",
      "output vector: 0.707|00⟩ + 0.707|11⟩\n",
      "\n",
      "Sample the circuit:\n",
      "Counter({0: 517, 3: 483})\n"
     ]
    }
   ],
   "source": [
    "# Create a circuit to generate a Bell State:\n",
    "# sqrt(2) * ( |00> + |11> )\n",
    "bell_circuit = cirq.Circuit()\n",
    "q0, q1 = cirq.LineQubit.range(2)\n",
    "bell_circuit.append(cirq.H(q0))\n",
    "bell_circuit.append(cirq.CNOT(q0,q1))\n",
    "\n",
    "# Initialize Simulator\n",
    "s=cirq.Simulator()\n",
    "\n",
    "print('Simulate the circuit:')\n",
    "results=s.simulate(bell_circuit)\n",
    "print(results)\n",
    "print()\n",
    "\n",
    "# For sampling, we need to add a measurement at the end\n",
    "bell_circuit.append(cirq.measure(q0, q1, key='result'))\n",
    "\n",
    "print('Sample the circuit:')\n",
    "samples=s.run(bell_circuit, repetitions=1000)\n",
    "# Print a histogram of results\n",
    "print(samples.histogram(key='result'))"
   ]
  },
  {
   "cell_type": "markdown",
   "metadata": {
    "id": "06Q_7vlQSu4Z"
   },
   "source": [
    "### Using parameter sweeps\n",
    "\n",
    "Cirq circuits allow for gates to have symbols as free parameters within the circuit.  This is especially useful for variational algorithms, which vary parameters within the circuit in order to optimize a cost function, but it can be useful in a variety of circumstances.\n",
    "\n",
    "For parameters, cirq uses the library `sympy` to add `sympy.Symbol` as parameters to gates and operations.  \n",
    "\n",
    "Once the circuit is complete, you can fill in the possible values of each of these parameters with a `Sweep`.  There are several possibilities that can be used as a sweep:\n",
    "\n",
    "*   `cirq.Points`: A list of manually specified values for one specific symbol as a sequence of floats\n",
    "*   `cirq.Linspace`: A linear sweep from a starting value to an ending value.\n",
    "*   `cirq.ListSweep`: A list of manually specified values for several different symbols, specified as a list of dictionaries.\n",
    "*   `cirq.Zip` and `cirq.Product`: Sweeps can be combined list-wise by zipping them together or through their Cartesian product.\n",
    "\n",
    "A parameterized circuit and sweep together can be run using the simulator or other sampler by changing `run()` to `run_sweep()` and adding the sweep as a parameter.\n",
    "\n",
    "Here is an example of sweeping an exponent of a X gate:"
   ]
  },
  {
   "cell_type": "code",
   "execution_count": 10,
   "metadata": {
    "id": "ElyizofbLGq9"
   },
   "outputs": [
    {
     "output_type": "execute_result",
     "data": {
      "text/plain": [
       "<matplotlib.collections.PathCollection at 0x7f6dac094310>"
      ]
     },
     "metadata": {},
     "execution_count": 10
    },
    {
     "output_type": "display_data",
     "data": {
      "text/plain": "<Figure size 432x288 with 1 Axes>",
      "image/svg+xml": "<?xml version=\"1.0\" encoding=\"utf-8\" standalone=\"no\"?>\n<!DOCTYPE svg PUBLIC \"-//W3C//DTD SVG 1.1//EN\"\n  \"http://www.w3.org/Graphics/SVG/1.1/DTD/svg11.dtd\">\n<!-- Created with matplotlib (https://matplotlib.org/) -->\n<svg height=\"248.518125pt\" version=\"1.1\" viewBox=\"0 0 372.103125 248.518125\" width=\"372.103125pt\" xmlns=\"http://www.w3.org/2000/svg\" xmlns:xlink=\"http://www.w3.org/1999/xlink\">\n <metadata>\n  <rdf:RDF xmlns:cc=\"http://creativecommons.org/ns#\" xmlns:dc=\"http://purl.org/dc/elements/1.1/\" xmlns:rdf=\"http://www.w3.org/1999/02/22-rdf-syntax-ns#\">\n   <cc:Work>\n    <dc:type rdf:resource=\"http://purl.org/dc/dcmitype/StillImage\"/>\n    <dc:date>2020-12-30T15:09:22.928961</dc:date>\n    <dc:format>image/svg+xml</dc:format>\n    <dc:creator>\n     <cc:Agent>\n      <dc:title>Matplotlib v3.3.3, https://matplotlib.org/</dc:title>\n     </cc:Agent>\n    </dc:creator>\n   </cc:Work>\n  </rdf:RDF>\n </metadata>\n <defs>\n  <style type=\"text/css\">*{stroke-linecap:butt;stroke-linejoin:round;}</style>\n </defs>\n <g id=\"figure_1\">\n  <g id=\"patch_1\">\n   <path d=\"M 0 248.518125 \nL 372.103125 248.518125 \nL 372.103125 0 \nL 0 0 \nz\n\" style=\"fill:none;\"/>\n  </g>\n  <g id=\"axes_1\">\n   <g id=\"patch_2\">\n    <path d=\"M 30.103125 224.64 \nL 364.903125 224.64 \nL 364.903125 7.2 \nL 30.103125 7.2 \nz\n\" style=\"fill:#ffffff;\"/>\n   </g>\n   <g id=\"PathCollection_1\">\n    <defs>\n     <path d=\"M 0 3 \nC 0.795609 3 1.55874 2.683901 2.12132 2.12132 \nC 2.683901 1.55874 3 0.795609 3 0 \nC 3 -0.795609 2.683901 -1.55874 2.12132 -2.12132 \nC 1.55874 -2.683901 0.795609 -3 0 -3 \nC -0.795609 -3 -1.55874 -2.683901 -2.12132 -2.12132 \nC -2.683901 -1.55874 -3 -0.795609 -3 0 \nC -3 0.795609 -2.683901 1.55874 -2.12132 2.12132 \nC -1.55874 2.683901 -0.795609 3 0 3 \nz\n\" id=\"mba2d50a48a\" style=\"stroke:#1f77b4;\"/>\n    </defs>\n    <g clip-path=\"url(#p3ebb82771c)\">\n     <use style=\"fill:#1f77b4;stroke:#1f77b4;\" x=\"45.321307\" xlink:href=\"#mba2d50a48a\" y=\"214.756364\"/>\n     <use style=\"fill:#1f77b4;stroke:#1f77b4;\" x=\"46.850772\" xlink:href=\"#mba2d50a48a\" y=\"214.756364\"/>\n     <use style=\"fill:#1f77b4;stroke:#1f77b4;\" x=\"48.380238\" xlink:href=\"#mba2d50a48a\" y=\"214.756364\"/>\n     <use style=\"fill:#1f77b4;stroke:#1f77b4;\" x=\"49.909703\" xlink:href=\"#mba2d50a48a\" y=\"213.570327\"/>\n     <use style=\"fill:#1f77b4;stroke:#1f77b4;\" x=\"51.439169\" xlink:href=\"#mba2d50a48a\" y=\"214.163345\"/>\n     <use style=\"fill:#1f77b4;stroke:#1f77b4;\" x=\"52.968634\" xlink:href=\"#mba2d50a48a\" y=\"213.768\"/>\n     <use style=\"fill:#1f77b4;stroke:#1f77b4;\" x=\"54.4981\" xlink:href=\"#mba2d50a48a\" y=\"212.779636\"/>\n     <use style=\"fill:#1f77b4;stroke:#1f77b4;\" x=\"56.027565\" xlink:href=\"#mba2d50a48a\" y=\"212.384291\"/>\n     <use style=\"fill:#1f77b4;stroke:#1f77b4;\" x=\"57.557031\" xlink:href=\"#mba2d50a48a\" y=\"211.000582\"/>\n     <use style=\"fill:#1f77b4;stroke:#1f77b4;\" x=\"59.086496\" xlink:href=\"#mba2d50a48a\" y=\"210.605236\"/>\n     <use style=\"fill:#1f77b4;stroke:#1f77b4;\" x=\"60.615962\" xlink:href=\"#mba2d50a48a\" y=\"209.616873\"/>\n     <use style=\"fill:#1f77b4;stroke:#1f77b4;\" x=\"62.145427\" xlink:href=\"#mba2d50a48a\" y=\"208.430836\"/>\n     <use style=\"fill:#1f77b4;stroke:#1f77b4;\" x=\"63.674893\" xlink:href=\"#mba2d50a48a\" y=\"206.849455\"/>\n     <use style=\"fill:#1f77b4;stroke:#1f77b4;\" x=\"65.204358\" xlink:href=\"#mba2d50a48a\" y=\"206.454109\"/>\n     <use style=\"fill:#1f77b4;stroke:#1f77b4;\" x=\"66.733824\" xlink:href=\"#mba2d50a48a\" y=\"204.675055\"/>\n     <use style=\"fill:#1f77b4;stroke:#1f77b4;\" x=\"68.263289\" xlink:href=\"#mba2d50a48a\" y=\"203.093673\"/>\n     <use style=\"fill:#1f77b4;stroke:#1f77b4;\" x=\"69.792755\" xlink:href=\"#mba2d50a48a\" y=\"202.698327\"/>\n     <use style=\"fill:#1f77b4;stroke:#1f77b4;\" x=\"71.32222\" xlink:href=\"#mba2d50a48a\" y=\"198.744873\"/>\n     <use style=\"fill:#1f77b4;stroke:#1f77b4;\" x=\"72.851686\" xlink:href=\"#mba2d50a48a\" y=\"200.523927\"/>\n     <use style=\"fill:#1f77b4;stroke:#1f77b4;\" x=\"74.381151\" xlink:href=\"#mba2d50a48a\" y=\"196.965818\"/>\n     <use style=\"fill:#1f77b4;stroke:#1f77b4;\" x=\"75.910617\" xlink:href=\"#mba2d50a48a\" y=\"197.163491\"/>\n     <use style=\"fill:#1f77b4;stroke:#1f77b4;\" x=\"77.440083\" xlink:href=\"#mba2d50a48a\" y=\"193.210036\"/>\n     <use style=\"fill:#1f77b4;stroke:#1f77b4;\" x=\"78.969548\" xlink:href=\"#mba2d50a48a\" y=\"193.012364\"/>\n     <use style=\"fill:#1f77b4;stroke:#1f77b4;\" x=\"80.499014\" xlink:href=\"#mba2d50a48a\" y=\"194.000727\"/>\n     <use style=\"fill:#1f77b4;stroke:#1f77b4;\" x=\"82.028479\" xlink:href=\"#mba2d50a48a\" y=\"182.140364\"/>\n     <use style=\"fill:#1f77b4;stroke:#1f77b4;\" x=\"83.557945\" xlink:href=\"#mba2d50a48a\" y=\"187.872873\"/>\n     <use style=\"fill:#1f77b4;stroke:#1f77b4;\" x=\"85.08741\" xlink:href=\"#mba2d50a48a\" y=\"184.512436\"/>\n     <use style=\"fill:#1f77b4;stroke:#1f77b4;\" x=\"86.616876\" xlink:href=\"#mba2d50a48a\" y=\"182.140364\"/>\n     <use style=\"fill:#1f77b4;stroke:#1f77b4;\" x=\"88.146341\" xlink:href=\"#mba2d50a48a\" y=\"183.3264\"/>\n     <use style=\"fill:#1f77b4;stroke:#1f77b4;\" x=\"89.675807\" xlink:href=\"#mba2d50a48a\" y=\"178.384582\"/>\n     <use style=\"fill:#1f77b4;stroke:#1f77b4;\" x=\"91.205272\" xlink:href=\"#mba2d50a48a\" y=\"171.466036\"/>\n     <use style=\"fill:#1f77b4;stroke:#1f77b4;\" x=\"92.734738\" xlink:href=\"#mba2d50a48a\" y=\"172.4544\"/>\n     <use style=\"fill:#1f77b4;stroke:#1f77b4;\" x=\"94.264203\" xlink:href=\"#mba2d50a48a\" y=\"170.873018\"/>\n     <use style=\"fill:#1f77b4;stroke:#1f77b4;\" x=\"95.793669\" xlink:href=\"#mba2d50a48a\" y=\"167.314909\"/>\n     <use style=\"fill:#1f77b4;stroke:#1f77b4;\" x=\"97.323134\" xlink:href=\"#mba2d50a48a\" y=\"161.187055\"/>\n     <use style=\"fill:#1f77b4;stroke:#1f77b4;\" x=\"98.8526\" xlink:href=\"#mba2d50a48a\" y=\"160.001018\"/>\n     <use style=\"fill:#1f77b4;stroke:#1f77b4;\" x=\"100.382065\" xlink:href=\"#mba2d50a48a\" y=\"153.873164\"/>\n     <use style=\"fill:#1f77b4;stroke:#1f77b4;\" x=\"101.911531\" xlink:href=\"#mba2d50a48a\" y=\"159.210327\"/>\n     <use style=\"fill:#1f77b4;stroke:#1f77b4;\" x=\"103.440996\" xlink:href=\"#mba2d50a48a\" y=\"157.2336\"/>\n     <use style=\"fill:#1f77b4;stroke:#1f77b4;\" x=\"104.970462\" xlink:href=\"#mba2d50a48a\" y=\"148.338327\"/>\n     <use style=\"fill:#1f77b4;stroke:#1f77b4;\" x=\"106.499927\" xlink:href=\"#mba2d50a48a\" y=\"143.594182\"/>\n     <use style=\"fill:#1f77b4;stroke:#1f77b4;\" x=\"108.029393\" xlink:href=\"#mba2d50a48a\" y=\"142.605818\"/>\n     <use style=\"fill:#1f77b4;stroke:#1f77b4;\" x=\"109.558858\" xlink:href=\"#mba2d50a48a\" y=\"140.233745\"/>\n     <use style=\"fill:#1f77b4;stroke:#1f77b4;\" x=\"111.088324\" xlink:href=\"#mba2d50a48a\" y=\"132.524509\"/>\n     <use style=\"fill:#1f77b4;stroke:#1f77b4;\" x=\"112.617789\" xlink:href=\"#mba2d50a48a\" y=\"132.919855\"/>\n     <use style=\"fill:#1f77b4;stroke:#1f77b4;\" x=\"114.147255\" xlink:href=\"#mba2d50a48a\" y=\"120.861818\"/>\n     <use style=\"fill:#1f77b4;stroke:#1f77b4;\" x=\"115.67672\" xlink:href=\"#mba2d50a48a\" y=\"122.047855\"/>\n     <use style=\"fill:#1f77b4;stroke:#1f77b4;\" x=\"117.206186\" xlink:href=\"#mba2d50a48a\" y=\"121.454836\"/>\n     <use style=\"fill:#1f77b4;stroke:#1f77b4;\" x=\"118.735651\" xlink:href=\"#mba2d50a48a\" y=\"120.466473\"/>\n     <use style=\"fill:#1f77b4;stroke:#1f77b4;\" x=\"120.265117\" xlink:href=\"#mba2d50a48a\" y=\"123.629236\"/>\n     <use style=\"fill:#1f77b4;stroke:#1f77b4;\" x=\"121.794582\" xlink:href=\"#mba2d50a48a\" y=\"113.152582\"/>\n     <use style=\"fill:#1f77b4;stroke:#1f77b4;\" x=\"123.324048\" xlink:href=\"#mba2d50a48a\" y=\"109.001455\"/>\n     <use style=\"fill:#1f77b4;stroke:#1f77b4;\" x=\"124.853513\" xlink:href=\"#mba2d50a48a\" y=\"111.768873\"/>\n     <use style=\"fill:#1f77b4;stroke:#1f77b4;\" x=\"126.382979\" xlink:href=\"#mba2d50a48a\" y=\"104.059636\"/>\n     <use style=\"fill:#1f77b4;stroke:#1f77b4;\" x=\"127.912444\" xlink:href=\"#mba2d50a48a\" y=\"93.978327\"/>\n     <use style=\"fill:#1f77b4;stroke:#1f77b4;\" x=\"129.44191\" xlink:href=\"#mba2d50a48a\" y=\"103.664291\"/>\n     <use style=\"fill:#1f77b4;stroke:#1f77b4;\" x=\"130.971375\" xlink:href=\"#mba2d50a48a\" y=\"98.920145\"/>\n     <use style=\"fill:#1f77b4;stroke:#1f77b4;\" x=\"132.500841\" xlink:href=\"#mba2d50a48a\" y=\"94.769018\"/>\n     <use style=\"fill:#1f77b4;stroke:#1f77b4;\" x=\"134.030306\" xlink:href=\"#mba2d50a48a\" y=\"88.245818\"/>\n     <use style=\"fill:#1f77b4;stroke:#1f77b4;\" x=\"135.559772\" xlink:href=\"#mba2d50a48a\" y=\"93.978327\"/>\n     <use style=\"fill:#1f77b4;stroke:#1f77b4;\" x=\"137.089237\" xlink:href=\"#mba2d50a48a\" y=\"88.641164\"/>\n     <use style=\"fill:#1f77b4;stroke:#1f77b4;\" x=\"138.618703\" xlink:href=\"#mba2d50a48a\" y=\"79.548218\"/>\n     <use style=\"fill:#1f77b4;stroke:#1f77b4;\" x=\"140.148168\" xlink:href=\"#mba2d50a48a\" y=\"80.338909\"/>\n     <use style=\"fill:#1f77b4;stroke:#1f77b4;\" x=\"141.677634\" xlink:href=\"#mba2d50a48a\" y=\"73.420364\"/>\n     <use style=\"fill:#1f77b4;stroke:#1f77b4;\" x=\"143.207099\" xlink:href=\"#mba2d50a48a\" y=\"73.420364\"/>\n     <use style=\"fill:#1f77b4;stroke:#1f77b4;\" x=\"144.736565\" xlink:href=\"#mba2d50a48a\" y=\"72.827345\"/>\n     <use style=\"fill:#1f77b4;stroke:#1f77b4;\" x=\"146.26603\" xlink:href=\"#mba2d50a48a\" y=\"67.094836\"/>\n     <use style=\"fill:#1f77b4;stroke:#1f77b4;\" x=\"147.795496\" xlink:href=\"#mba2d50a48a\" y=\"66.699491\"/>\n     <use style=\"fill:#1f77b4;stroke:#1f77b4;\" x=\"149.324961\" xlink:href=\"#mba2d50a48a\" y=\"62.548364\"/>\n     <use style=\"fill:#1f77b4;stroke:#1f77b4;\" x=\"150.854427\" xlink:href=\"#mba2d50a48a\" y=\"58.990255\"/>\n     <use style=\"fill:#1f77b4;stroke:#1f77b4;\" x=\"152.383892\" xlink:href=\"#mba2d50a48a\" y=\"53.455418\"/>\n     <use style=\"fill:#1f77b4;stroke:#1f77b4;\" x=\"153.913358\" xlink:href=\"#mba2d50a48a\" y=\"54.246109\"/>\n     <use style=\"fill:#1f77b4;stroke:#1f77b4;\" x=\"155.442823\" xlink:href=\"#mba2d50a48a\" y=\"50.688\"/>\n     <use style=\"fill:#1f77b4;stroke:#1f77b4;\" x=\"156.972289\" xlink:href=\"#mba2d50a48a\" y=\"50.885673\"/>\n     <use style=\"fill:#1f77b4;stroke:#1f77b4;\" x=\"158.501755\" xlink:href=\"#mba2d50a48a\" y=\"49.501964\"/>\n     <use style=\"fill:#1f77b4;stroke:#1f77b4;\" x=\"160.03122\" xlink:href=\"#mba2d50a48a\" y=\"46.536873\"/>\n     <use style=\"fill:#1f77b4;stroke:#1f77b4;\" x=\"161.560686\" xlink:href=\"#mba2d50a48a\" y=\"39.222982\"/>\n     <use style=\"fill:#1f77b4;stroke:#1f77b4;\" x=\"163.090151\" xlink:href=\"#mba2d50a48a\" y=\"38.432291\"/>\n     <use style=\"fill:#1f77b4;stroke:#1f77b4;\" x=\"164.619617\" xlink:href=\"#mba2d50a48a\" y=\"38.827636\"/>\n     <use style=\"fill:#1f77b4;stroke:#1f77b4;\" x=\"166.149082\" xlink:href=\"#mba2d50a48a\" y=\"34.478836\"/>\n     <use style=\"fill:#1f77b4;stroke:#1f77b4;\" x=\"167.678548\" xlink:href=\"#mba2d50a48a\" y=\"35.862545\"/>\n     <use style=\"fill:#1f77b4;stroke:#1f77b4;\" x=\"169.208013\" xlink:href=\"#mba2d50a48a\" y=\"34.478836\"/>\n     <use style=\"fill:#1f77b4;stroke:#1f77b4;\" x=\"170.737479\" xlink:href=\"#mba2d50a48a\" y=\"31.711418\"/>\n     <use style=\"fill:#1f77b4;stroke:#1f77b4;\" x=\"172.266944\" xlink:href=\"#mba2d50a48a\" y=\"32.304436\"/>\n     <use style=\"fill:#1f77b4;stroke:#1f77b4;\" x=\"173.79641\" xlink:href=\"#mba2d50a48a\" y=\"30.525382\"/>\n     <use style=\"fill:#1f77b4;stroke:#1f77b4;\" x=\"175.325875\" xlink:href=\"#mba2d50a48a\" y=\"30.920727\"/>\n     <use style=\"fill:#1f77b4;stroke:#1f77b4;\" x=\"176.855341\" xlink:href=\"#mba2d50a48a\" y=\"24.199855\"/>\n     <use style=\"fill:#1f77b4;stroke:#1f77b4;\" x=\"178.384806\" xlink:href=\"#mba2d50a48a\" y=\"24.397527\"/>\n     <use style=\"fill:#1f77b4;stroke:#1f77b4;\" x=\"179.914272\" xlink:href=\"#mba2d50a48a\" y=\"21.432436\"/>\n     <use style=\"fill:#1f77b4;stroke:#1f77b4;\" x=\"181.443737\" xlink:href=\"#mba2d50a48a\" y=\"22.618473\"/>\n     <use style=\"fill:#1f77b4;stroke:#1f77b4;\" x=\"182.973203\" xlink:href=\"#mba2d50a48a\" y=\"21.234764\"/>\n     <use style=\"fill:#1f77b4;stroke:#1f77b4;\" x=\"184.502668\" xlink:href=\"#mba2d50a48a\" y=\"21.234764\"/>\n     <use style=\"fill:#1f77b4;stroke:#1f77b4;\" x=\"186.032134\" xlink:href=\"#mba2d50a48a\" y=\"19.653382\"/>\n     <use style=\"fill:#1f77b4;stroke:#1f77b4;\" x=\"187.561599\" xlink:href=\"#mba2d50a48a\" y=\"20.048727\"/>\n     <use style=\"fill:#1f77b4;stroke:#1f77b4;\" x=\"189.091065\" xlink:href=\"#mba2d50a48a\" y=\"18.269673\"/>\n     <use style=\"fill:#1f77b4;stroke:#1f77b4;\" x=\"190.62053\" xlink:href=\"#mba2d50a48a\" y=\"18.072\"/>\n     <use style=\"fill:#1f77b4;stroke:#1f77b4;\" x=\"192.149996\" xlink:href=\"#mba2d50a48a\" y=\"17.281309\"/>\n     <use style=\"fill:#1f77b4;stroke:#1f77b4;\" x=\"193.679461\" xlink:href=\"#mba2d50a48a\" y=\"17.281309\"/>\n     <use style=\"fill:#1f77b4;stroke:#1f77b4;\" x=\"195.208927\" xlink:href=\"#mba2d50a48a\" y=\"17.281309\"/>\n     <use style=\"fill:#1f77b4;stroke:#1f77b4;\" x=\"196.738392\" xlink:href=\"#mba2d50a48a\" y=\"17.083636\"/>\n     <use style=\"fill:#1f77b4;stroke:#1f77b4;\" x=\"198.267858\" xlink:href=\"#mba2d50a48a\" y=\"17.083636\"/>\n     <use style=\"fill:#1f77b4;stroke:#1f77b4;\" x=\"199.797323\" xlink:href=\"#mba2d50a48a\" y=\"17.281309\"/>\n     <use style=\"fill:#1f77b4;stroke:#1f77b4;\" x=\"201.326789\" xlink:href=\"#mba2d50a48a\" y=\"17.281309\"/>\n     <use style=\"fill:#1f77b4;stroke:#1f77b4;\" x=\"202.856254\" xlink:href=\"#mba2d50a48a\" y=\"18.269673\"/>\n     <use style=\"fill:#1f77b4;stroke:#1f77b4;\" x=\"204.38572\" xlink:href=\"#mba2d50a48a\" y=\"18.269673\"/>\n     <use style=\"fill:#1f77b4;stroke:#1f77b4;\" x=\"205.915185\" xlink:href=\"#mba2d50a48a\" y=\"19.258036\"/>\n     <use style=\"fill:#1f77b4;stroke:#1f77b4;\" x=\"207.444651\" xlink:href=\"#mba2d50a48a\" y=\"19.258036\"/>\n     <use style=\"fill:#1f77b4;stroke:#1f77b4;\" x=\"208.974116\" xlink:href=\"#mba2d50a48a\" y=\"19.455709\"/>\n     <use style=\"fill:#1f77b4;stroke:#1f77b4;\" x=\"210.503582\" xlink:href=\"#mba2d50a48a\" y=\"20.444073\"/>\n     <use style=\"fill:#1f77b4;stroke:#1f77b4;\" x=\"212.033047\" xlink:href=\"#mba2d50a48a\" y=\"22.223127\"/>\n     <use style=\"fill:#1f77b4;stroke:#1f77b4;\" x=\"213.562513\" xlink:href=\"#mba2d50a48a\" y=\"21.234764\"/>\n     <use style=\"fill:#1f77b4;stroke:#1f77b4;\" x=\"215.091978\" xlink:href=\"#mba2d50a48a\" y=\"24.002182\"/>\n     <use style=\"fill:#1f77b4;stroke:#1f77b4;\" x=\"216.621444\" xlink:href=\"#mba2d50a48a\" y=\"25.385891\"/>\n     <use style=\"fill:#1f77b4;stroke:#1f77b4;\" x=\"218.150909\" xlink:href=\"#mba2d50a48a\" y=\"24.199855\"/>\n     <use style=\"fill:#1f77b4;stroke:#1f77b4;\" x=\"219.680375\" xlink:href=\"#mba2d50a48a\" y=\"26.374255\"/>\n     <use style=\"fill:#1f77b4;stroke:#1f77b4;\" x=\"221.20984\" xlink:href=\"#mba2d50a48a\" y=\"29.537018\"/>\n     <use style=\"fill:#1f77b4;stroke:#1f77b4;\" x=\"222.739306\" xlink:href=\"#mba2d50a48a\" y=\"28.746327\"/>\n     <use style=\"fill:#1f77b4;stroke:#1f77b4;\" x=\"224.268771\" xlink:href=\"#mba2d50a48a\" y=\"33.2928\"/>\n     <use style=\"fill:#1f77b4;stroke:#1f77b4;\" x=\"225.798237\" xlink:href=\"#mba2d50a48a\" y=\"34.281164\"/>\n     <use style=\"fill:#1f77b4;stroke:#1f77b4;\" x=\"227.327702\" xlink:href=\"#mba2d50a48a\" y=\"33.095127\"/>\n     <use style=\"fill:#1f77b4;stroke:#1f77b4;\" x=\"228.857168\" xlink:href=\"#mba2d50a48a\" y=\"38.234618\"/>\n     <use style=\"fill:#1f77b4;stroke:#1f77b4;\" x=\"230.386633\" xlink:href=\"#mba2d50a48a\" y=\"41.397382\"/>\n     <use style=\"fill:#1f77b4;stroke:#1f77b4;\" x=\"231.916099\" xlink:href=\"#mba2d50a48a\" y=\"39.222982\"/>\n     <use style=\"fill:#1f77b4;stroke:#1f77b4;\" x=\"233.445564\" xlink:href=\"#mba2d50a48a\" y=\"41.199709\"/>\n     <use style=\"fill:#1f77b4;stroke:#1f77b4;\" x=\"234.97503\" xlink:href=\"#mba2d50a48a\" y=\"46.932218\"/>\n     <use style=\"fill:#1f77b4;stroke:#1f77b4;\" x=\"236.504495\" xlink:href=\"#mba2d50a48a\" y=\"47.920582\"/>\n     <use style=\"fill:#1f77b4;stroke:#1f77b4;\" x=\"238.033961\" xlink:href=\"#mba2d50a48a\" y=\"53.257745\"/>\n     <use style=\"fill:#1f77b4;stroke:#1f77b4;\" x=\"239.563427\" xlink:href=\"#mba2d50a48a\" y=\"52.664727\"/>\n     <use style=\"fill:#1f77b4;stroke:#1f77b4;\" x=\"241.092892\" xlink:href=\"#mba2d50a48a\" y=\"61.164655\"/>\n     <use style=\"fill:#1f77b4;stroke:#1f77b4;\" x=\"242.622358\" xlink:href=\"#mba2d50a48a\" y=\"55.827491\"/>\n     <use style=\"fill:#1f77b4;stroke:#1f77b4;\" x=\"244.151823\" xlink:href=\"#mba2d50a48a\" y=\"57.606545\"/>\n     <use style=\"fill:#1f77b4;stroke:#1f77b4;\" x=\"245.681289\" xlink:href=\"#mba2d50a48a\" y=\"64.722764\"/>\n     <use style=\"fill:#1f77b4;stroke:#1f77b4;\" x=\"247.210754\" xlink:href=\"#mba2d50a48a\" y=\"62.350691\"/>\n     <use style=\"fill:#1f77b4;stroke:#1f77b4;\" x=\"248.74022\" xlink:href=\"#mba2d50a48a\" y=\"67.885527\"/>\n     <use style=\"fill:#1f77b4;stroke:#1f77b4;\" x=\"250.269685\" xlink:href=\"#mba2d50a48a\" y=\"70.850618\"/>\n     <use style=\"fill:#1f77b4;stroke:#1f77b4;\" x=\"251.799151\" xlink:href=\"#mba2d50a48a\" y=\"74.6064\"/>\n     <use style=\"fill:#1f77b4;stroke:#1f77b4;\" x=\"253.328616\" xlink:href=\"#mba2d50a48a\" y=\"78.9552\"/>\n     <use style=\"fill:#1f77b4;stroke:#1f77b4;\" x=\"254.858082\" xlink:href=\"#mba2d50a48a\" y=\"80.734255\"/>\n     <use style=\"fill:#1f77b4;stroke:#1f77b4;\" x=\"256.387547\" xlink:href=\"#mba2d50a48a\" y=\"83.897018\"/>\n     <use style=\"fill:#1f77b4;stroke:#1f77b4;\" x=\"257.917013\" xlink:href=\"#mba2d50a48a\" y=\"81.327273\"/>\n     <use style=\"fill:#1f77b4;stroke:#1f77b4;\" x=\"259.446478\" xlink:href=\"#mba2d50a48a\" y=\"84.490036\"/>\n     <use style=\"fill:#1f77b4;stroke:#1f77b4;\" x=\"260.975944\" xlink:href=\"#mba2d50a48a\" y=\"92.594618\"/>\n     <use style=\"fill:#1f77b4;stroke:#1f77b4;\" x=\"262.505409\" xlink:href=\"#mba2d50a48a\" y=\"88.838836\"/>\n     <use style=\"fill:#1f77b4;stroke:#1f77b4;\" x=\"264.034875\" xlink:href=\"#mba2d50a48a\" y=\"93.187636\"/>\n     <use style=\"fill:#1f77b4;stroke:#1f77b4;\" x=\"265.56434\" xlink:href=\"#mba2d50a48a\" y=\"98.722473\"/>\n     <use style=\"fill:#1f77b4;stroke:#1f77b4;\" x=\"267.093806\" xlink:href=\"#mba2d50a48a\" y=\"97.536436\"/>\n     <use style=\"fill:#1f77b4;stroke:#1f77b4;\" x=\"268.623271\" xlink:href=\"#mba2d50a48a\" y=\"106.036364\"/>\n     <use style=\"fill:#1f77b4;stroke:#1f77b4;\" x=\"270.152737\" xlink:href=\"#mba2d50a48a\" y=\"110.187491\"/>\n     <use style=\"fill:#1f77b4;stroke:#1f77b4;\" x=\"271.682202\" xlink:href=\"#mba2d50a48a\" y=\"108.210764\"/>\n     <use style=\"fill:#1f77b4;stroke:#1f77b4;\" x=\"273.211668\" xlink:href=\"#mba2d50a48a\" y=\"111.966545\"/>\n     <use style=\"fill:#1f77b4;stroke:#1f77b4;\" x=\"274.741133\" xlink:href=\"#mba2d50a48a\" y=\"118.885091\"/>\n     <use style=\"fill:#1f77b4;stroke:#1f77b4;\" x=\"276.270599\" xlink:href=\"#mba2d50a48a\" y=\"123.629236\"/>\n     <use style=\"fill:#1f77b4;stroke:#1f77b4;\" x=\"277.800064\" xlink:href=\"#mba2d50a48a\" y=\"124.6176\"/>\n     <use style=\"fill:#1f77b4;stroke:#1f77b4;\" x=\"279.32953\" xlink:href=\"#mba2d50a48a\" y=\"128.571055\"/>\n     <use style=\"fill:#1f77b4;stroke:#1f77b4;\" x=\"280.858995\" xlink:href=\"#mba2d50a48a\" y=\"130.350109\"/>\n     <use style=\"fill:#1f77b4;stroke:#1f77b4;\" x=\"282.388461\" xlink:href=\"#mba2d50a48a\" y=\"132.326836\"/>\n     <use style=\"fill:#1f77b4;stroke:#1f77b4;\" x=\"283.917926\" xlink:href=\"#mba2d50a48a\" y=\"135.291927\"/>\n     <use style=\"fill:#1f77b4;stroke:#1f77b4;\" x=\"285.447392\" xlink:href=\"#mba2d50a48a\" y=\"142.803491\"/>\n     <use style=\"fill:#1f77b4;stroke:#1f77b4;\" x=\"286.976857\" xlink:href=\"#mba2d50a48a\" y=\"139.8384\"/>\n     <use style=\"fill:#1f77b4;stroke:#1f77b4;\" x=\"288.506323\" xlink:href=\"#mba2d50a48a\" y=\"146.3616\"/>\n     <use style=\"fill:#1f77b4;stroke:#1f77b4;\" x=\"290.035788\" xlink:href=\"#mba2d50a48a\" y=\"149.129018\"/>\n     <use style=\"fill:#1f77b4;stroke:#1f77b4;\" x=\"291.565254\" xlink:href=\"#mba2d50a48a\" y=\"150.315055\"/>\n     <use style=\"fill:#1f77b4;stroke:#1f77b4;\" x=\"293.094719\" xlink:href=\"#mba2d50a48a\" y=\"159.012655\"/>\n     <use style=\"fill:#1f77b4;stroke:#1f77b4;\" x=\"294.624185\" xlink:href=\"#mba2d50a48a\" y=\"164.349818\"/>\n     <use style=\"fill:#1f77b4;stroke:#1f77b4;\" x=\"296.15365\" xlink:href=\"#mba2d50a48a\" y=\"157.2336\"/>\n     <use style=\"fill:#1f77b4;stroke:#1f77b4;\" x=\"297.683116\" xlink:href=\"#mba2d50a48a\" y=\"160.396364\"/>\n     <use style=\"fill:#1f77b4;stroke:#1f77b4;\" x=\"299.212581\" xlink:href=\"#mba2d50a48a\" y=\"164.349818\"/>\n     <use style=\"fill:#1f77b4;stroke:#1f77b4;\" x=\"300.742047\" xlink:href=\"#mba2d50a48a\" y=\"172.849745\"/>\n     <use style=\"fill:#1f77b4;stroke:#1f77b4;\" x=\"302.271512\" xlink:href=\"#mba2d50a48a\" y=\"173.640436\"/>\n     <use style=\"fill:#1f77b4;stroke:#1f77b4;\" x=\"303.800978\" xlink:href=\"#mba2d50a48a\" y=\"166.326545\"/>\n     <use style=\"fill:#1f77b4;stroke:#1f77b4;\" x=\"305.330443\" xlink:href=\"#mba2d50a48a\" y=\"176.407855\"/>\n     <use style=\"fill:#1f77b4;stroke:#1f77b4;\" x=\"306.859909\" xlink:href=\"#mba2d50a48a\" y=\"182.733382\"/>\n     <use style=\"fill:#1f77b4;stroke:#1f77b4;\" x=\"308.389374\" xlink:href=\"#mba2d50a48a\" y=\"183.3264\"/>\n     <use style=\"fill:#1f77b4;stroke:#1f77b4;\" x=\"309.91884\" xlink:href=\"#mba2d50a48a\" y=\"183.524073\"/>\n     <use style=\"fill:#1f77b4;stroke:#1f77b4;\" x=\"311.448305\" xlink:href=\"#mba2d50a48a\" y=\"186.291491\"/>\n     <use style=\"fill:#1f77b4;stroke:#1f77b4;\" x=\"312.977771\" xlink:href=\"#mba2d50a48a\" y=\"187.6752\"/>\n     <use style=\"fill:#1f77b4;stroke:#1f77b4;\" x=\"314.507236\" xlink:href=\"#mba2d50a48a\" y=\"188.663564\"/>\n     <use style=\"fill:#1f77b4;stroke:#1f77b4;\" x=\"316.036702\" xlink:href=\"#mba2d50a48a\" y=\"191.233309\"/>\n     <use style=\"fill:#1f77b4;stroke:#1f77b4;\" x=\"317.566167\" xlink:href=\"#mba2d50a48a\" y=\"193.407709\"/>\n     <use style=\"fill:#1f77b4;stroke:#1f77b4;\" x=\"319.095633\" xlink:href=\"#mba2d50a48a\" y=\"194.593745\"/>\n     <use style=\"fill:#1f77b4;stroke:#1f77b4;\" x=\"320.625099\" xlink:href=\"#mba2d50a48a\" y=\"198.151855\"/>\n     <use style=\"fill:#1f77b4;stroke:#1f77b4;\" x=\"322.154564\" xlink:href=\"#mba2d50a48a\" y=\"199.337891\"/>\n     <use style=\"fill:#1f77b4;stroke:#1f77b4;\" x=\"323.68403\" xlink:href=\"#mba2d50a48a\" y=\"196.965818\"/>\n     <use style=\"fill:#1f77b4;stroke:#1f77b4;\" x=\"325.213495\" xlink:href=\"#mba2d50a48a\" y=\"198.5472\"/>\n     <use style=\"fill:#1f77b4;stroke:#1f77b4;\" x=\"326.742961\" xlink:href=\"#mba2d50a48a\" y=\"203.093673\"/>\n     <use style=\"fill:#1f77b4;stroke:#1f77b4;\" x=\"328.272426\" xlink:href=\"#mba2d50a48a\" y=\"206.454109\"/>\n     <use style=\"fill:#1f77b4;stroke:#1f77b4;\" x=\"329.801892\" xlink:href=\"#mba2d50a48a\" y=\"207.837818\"/>\n     <use style=\"fill:#1f77b4;stroke:#1f77b4;\" x=\"331.331357\" xlink:href=\"#mba2d50a48a\" y=\"207.2448\"/>\n     <use style=\"fill:#1f77b4;stroke:#1f77b4;\" x=\"332.860823\" xlink:href=\"#mba2d50a48a\" y=\"207.837818\"/>\n     <use style=\"fill:#1f77b4;stroke:#1f77b4;\" x=\"334.390288\" xlink:href=\"#mba2d50a48a\" y=\"210.209891\"/>\n     <use style=\"fill:#1f77b4;stroke:#1f77b4;\" x=\"335.919754\" xlink:href=\"#mba2d50a48a\" y=\"211.395927\"/>\n     <use style=\"fill:#1f77b4;stroke:#1f77b4;\" x=\"337.449219\" xlink:href=\"#mba2d50a48a\" y=\"210.802909\"/>\n     <use style=\"fill:#1f77b4;stroke:#1f77b4;\" x=\"338.978685\" xlink:href=\"#mba2d50a48a\" y=\"210.605236\"/>\n     <use style=\"fill:#1f77b4;stroke:#1f77b4;\" x=\"340.50815\" xlink:href=\"#mba2d50a48a\" y=\"212.977309\"/>\n     <use style=\"fill:#1f77b4;stroke:#1f77b4;\" x=\"342.037616\" xlink:href=\"#mba2d50a48a\" y=\"213.768\"/>\n     <use style=\"fill:#1f77b4;stroke:#1f77b4;\" x=\"343.567081\" xlink:href=\"#mba2d50a48a\" y=\"214.163345\"/>\n     <use style=\"fill:#1f77b4;stroke:#1f77b4;\" x=\"345.096547\" xlink:href=\"#mba2d50a48a\" y=\"214.163345\"/>\n     <use style=\"fill:#1f77b4;stroke:#1f77b4;\" x=\"346.626012\" xlink:href=\"#mba2d50a48a\" y=\"214.558691\"/>\n     <use style=\"fill:#1f77b4;stroke:#1f77b4;\" x=\"348.155478\" xlink:href=\"#mba2d50a48a\" y=\"214.756364\"/>\n     <use style=\"fill:#1f77b4;stroke:#1f77b4;\" x=\"349.684943\" xlink:href=\"#mba2d50a48a\" y=\"214.756364\"/>\n    </g>\n   </g>\n   <g id=\"matplotlib.axis_1\">\n    <g id=\"xtick_1\">\n     <g id=\"line2d_1\">\n      <defs>\n       <path d=\"M 0 0 \nL 0 3.5 \n\" id=\"ma58cacd5e3\" style=\"stroke:#000000;stroke-width:0.8;\"/>\n      </defs>\n      <g>\n       <use style=\"stroke:#000000;stroke-width:0.8;\" x=\"45.321307\" xlink:href=\"#ma58cacd5e3\" y=\"224.64\"/>\n      </g>\n     </g>\n     <g id=\"text_1\">\n      <!-- 0.00 -->\n      <g transform=\"translate(34.188494 239.238437)scale(0.1 -0.1)\">\n       <defs>\n        <path d=\"M 31.78125 66.40625 \nQ 24.171875 66.40625 20.328125 58.90625 \nQ 16.5 51.421875 16.5 36.375 \nQ 16.5 21.390625 20.328125 13.890625 \nQ 24.171875 6.390625 31.78125 6.390625 \nQ 39.453125 6.390625 43.28125 13.890625 \nQ 47.125 21.390625 47.125 36.375 \nQ 47.125 51.421875 43.28125 58.90625 \nQ 39.453125 66.40625 31.78125 66.40625 \nz\nM 31.78125 74.21875 \nQ 44.046875 74.21875 50.515625 64.515625 \nQ 56.984375 54.828125 56.984375 36.375 \nQ 56.984375 17.96875 50.515625 8.265625 \nQ 44.046875 -1.421875 31.78125 -1.421875 \nQ 19.53125 -1.421875 13.0625 8.265625 \nQ 6.59375 17.96875 6.59375 36.375 \nQ 6.59375 54.828125 13.0625 64.515625 \nQ 19.53125 74.21875 31.78125 74.21875 \nz\n\" id=\"DejaVuSans-48\"/>\n        <path d=\"M 10.6875 12.40625 \nL 21 12.40625 \nL 21 0 \nL 10.6875 0 \nz\n\" id=\"DejaVuSans-46\"/>\n       </defs>\n       <use xlink:href=\"#DejaVuSans-48\"/>\n       <use x=\"63.623047\" xlink:href=\"#DejaVuSans-46\"/>\n       <use x=\"95.410156\" xlink:href=\"#DejaVuSans-48\"/>\n       <use x=\"159.033203\" xlink:href=\"#DejaVuSans-48\"/>\n      </g>\n     </g>\n    </g>\n    <g id=\"xtick_2\">\n     <g id=\"line2d_2\">\n      <g>\n       <use style=\"stroke:#000000;stroke-width:0.8;\" x=\"83.366761\" xlink:href=\"#ma58cacd5e3\" y=\"224.64\"/>\n      </g>\n     </g>\n     <g id=\"text_2\">\n      <!-- 0.25 -->\n      <g transform=\"translate(72.233949 239.238437)scale(0.1 -0.1)\">\n       <defs>\n        <path d=\"M 19.1875 8.296875 \nL 53.609375 8.296875 \nL 53.609375 0 \nL 7.328125 0 \nL 7.328125 8.296875 \nQ 12.9375 14.109375 22.625 23.890625 \nQ 32.328125 33.6875 34.8125 36.53125 \nQ 39.546875 41.84375 41.421875 45.53125 \nQ 43.3125 49.21875 43.3125 52.78125 \nQ 43.3125 58.59375 39.234375 62.25 \nQ 35.15625 65.921875 28.609375 65.921875 \nQ 23.96875 65.921875 18.8125 64.3125 \nQ 13.671875 62.703125 7.8125 59.421875 \nL 7.8125 69.390625 \nQ 13.765625 71.78125 18.9375 73 \nQ 24.125 74.21875 28.421875 74.21875 \nQ 39.75 74.21875 46.484375 68.546875 \nQ 53.21875 62.890625 53.21875 53.421875 \nQ 53.21875 48.921875 51.53125 44.890625 \nQ 49.859375 40.875 45.40625 35.40625 \nQ 44.1875 33.984375 37.640625 27.21875 \nQ 31.109375 20.453125 19.1875 8.296875 \nz\n\" id=\"DejaVuSans-50\"/>\n        <path d=\"M 10.796875 72.90625 \nL 49.515625 72.90625 \nL 49.515625 64.59375 \nL 19.828125 64.59375 \nL 19.828125 46.734375 \nQ 21.96875 47.46875 24.109375 47.828125 \nQ 26.265625 48.1875 28.421875 48.1875 \nQ 40.625 48.1875 47.75 41.5 \nQ 54.890625 34.8125 54.890625 23.390625 \nQ 54.890625 11.625 47.5625 5.09375 \nQ 40.234375 -1.421875 26.90625 -1.421875 \nQ 22.3125 -1.421875 17.546875 -0.640625 \nQ 12.796875 0.140625 7.71875 1.703125 \nL 7.71875 11.625 \nQ 12.109375 9.234375 16.796875 8.0625 \nQ 21.484375 6.890625 26.703125 6.890625 \nQ 35.15625 6.890625 40.078125 11.328125 \nQ 45.015625 15.765625 45.015625 23.390625 \nQ 45.015625 31 40.078125 35.4375 \nQ 35.15625 39.890625 26.703125 39.890625 \nQ 22.75 39.890625 18.8125 39.015625 \nQ 14.890625 38.140625 10.796875 36.28125 \nz\n\" id=\"DejaVuSans-53\"/>\n       </defs>\n       <use xlink:href=\"#DejaVuSans-48\"/>\n       <use x=\"63.623047\" xlink:href=\"#DejaVuSans-46\"/>\n       <use x=\"95.410156\" xlink:href=\"#DejaVuSans-50\"/>\n       <use x=\"159.033203\" xlink:href=\"#DejaVuSans-53\"/>\n      </g>\n     </g>\n    </g>\n    <g id=\"xtick_3\">\n     <g id=\"line2d_3\">\n      <g>\n       <use style=\"stroke:#000000;stroke-width:0.8;\" x=\"121.412216\" xlink:href=\"#ma58cacd5e3\" y=\"224.64\"/>\n      </g>\n     </g>\n     <g id=\"text_3\">\n      <!-- 0.50 -->\n      <g transform=\"translate(110.279403 239.238437)scale(0.1 -0.1)\">\n       <use xlink:href=\"#DejaVuSans-48\"/>\n       <use x=\"63.623047\" xlink:href=\"#DejaVuSans-46\"/>\n       <use x=\"95.410156\" xlink:href=\"#DejaVuSans-53\"/>\n       <use x=\"159.033203\" xlink:href=\"#DejaVuSans-48\"/>\n      </g>\n     </g>\n    </g>\n    <g id=\"xtick_4\">\n     <g id=\"line2d_4\">\n      <g>\n       <use style=\"stroke:#000000;stroke-width:0.8;\" x=\"159.45767\" xlink:href=\"#ma58cacd5e3\" y=\"224.64\"/>\n      </g>\n     </g>\n     <g id=\"text_4\">\n      <!-- 0.75 -->\n      <g transform=\"translate(148.324858 239.238437)scale(0.1 -0.1)\">\n       <defs>\n        <path d=\"M 8.203125 72.90625 \nL 55.078125 72.90625 \nL 55.078125 68.703125 \nL 28.609375 0 \nL 18.3125 0 \nL 43.21875 64.59375 \nL 8.203125 64.59375 \nz\n\" id=\"DejaVuSans-55\"/>\n       </defs>\n       <use xlink:href=\"#DejaVuSans-48\"/>\n       <use x=\"63.623047\" xlink:href=\"#DejaVuSans-46\"/>\n       <use x=\"95.410156\" xlink:href=\"#DejaVuSans-55\"/>\n       <use x=\"159.033203\" xlink:href=\"#DejaVuSans-53\"/>\n      </g>\n     </g>\n    </g>\n    <g id=\"xtick_5\">\n     <g id=\"line2d_5\">\n      <g>\n       <use style=\"stroke:#000000;stroke-width:0.8;\" x=\"197.503125\" xlink:href=\"#ma58cacd5e3\" y=\"224.64\"/>\n      </g>\n     </g>\n     <g id=\"text_5\">\n      <!-- 1.00 -->\n      <g transform=\"translate(186.370313 239.238437)scale(0.1 -0.1)\">\n       <defs>\n        <path d=\"M 12.40625 8.296875 \nL 28.515625 8.296875 \nL 28.515625 63.921875 \nL 10.984375 60.40625 \nL 10.984375 69.390625 \nL 28.421875 72.90625 \nL 38.28125 72.90625 \nL 38.28125 8.296875 \nL 54.390625 8.296875 \nL 54.390625 0 \nL 12.40625 0 \nz\n\" id=\"DejaVuSans-49\"/>\n       </defs>\n       <use xlink:href=\"#DejaVuSans-49\"/>\n       <use x=\"63.623047\" xlink:href=\"#DejaVuSans-46\"/>\n       <use x=\"95.410156\" xlink:href=\"#DejaVuSans-48\"/>\n       <use x=\"159.033203\" xlink:href=\"#DejaVuSans-48\"/>\n      </g>\n     </g>\n    </g>\n    <g id=\"xtick_6\">\n     <g id=\"line2d_6\">\n      <g>\n       <use style=\"stroke:#000000;stroke-width:0.8;\" x=\"235.54858\" xlink:href=\"#ma58cacd5e3\" y=\"224.64\"/>\n      </g>\n     </g>\n     <g id=\"text_6\">\n      <!-- 1.25 -->\n      <g transform=\"translate(224.415767 239.238437)scale(0.1 -0.1)\">\n       <use xlink:href=\"#DejaVuSans-49\"/>\n       <use x=\"63.623047\" xlink:href=\"#DejaVuSans-46\"/>\n       <use x=\"95.410156\" xlink:href=\"#DejaVuSans-50\"/>\n       <use x=\"159.033203\" xlink:href=\"#DejaVuSans-53\"/>\n      </g>\n     </g>\n    </g>\n    <g id=\"xtick_7\">\n     <g id=\"line2d_7\">\n      <g>\n       <use style=\"stroke:#000000;stroke-width:0.8;\" x=\"273.594034\" xlink:href=\"#ma58cacd5e3\" y=\"224.64\"/>\n      </g>\n     </g>\n     <g id=\"text_7\">\n      <!-- 1.50 -->\n      <g transform=\"translate(262.461222 239.238437)scale(0.1 -0.1)\">\n       <use xlink:href=\"#DejaVuSans-49\"/>\n       <use x=\"63.623047\" xlink:href=\"#DejaVuSans-46\"/>\n       <use x=\"95.410156\" xlink:href=\"#DejaVuSans-53\"/>\n       <use x=\"159.033203\" xlink:href=\"#DejaVuSans-48\"/>\n      </g>\n     </g>\n    </g>\n    <g id=\"xtick_8\">\n     <g id=\"line2d_8\">\n      <g>\n       <use style=\"stroke:#000000;stroke-width:0.8;\" x=\"311.639489\" xlink:href=\"#ma58cacd5e3\" y=\"224.64\"/>\n      </g>\n     </g>\n     <g id=\"text_8\">\n      <!-- 1.75 -->\n      <g transform=\"translate(300.506676 239.238437)scale(0.1 -0.1)\">\n       <use xlink:href=\"#DejaVuSans-49\"/>\n       <use x=\"63.623047\" xlink:href=\"#DejaVuSans-46\"/>\n       <use x=\"95.410156\" xlink:href=\"#DejaVuSans-55\"/>\n       <use x=\"159.033203\" xlink:href=\"#DejaVuSans-53\"/>\n      </g>\n     </g>\n    </g>\n    <g id=\"xtick_9\">\n     <g id=\"line2d_9\">\n      <g>\n       <use style=\"stroke:#000000;stroke-width:0.8;\" x=\"349.684943\" xlink:href=\"#ma58cacd5e3\" y=\"224.64\"/>\n      </g>\n     </g>\n     <g id=\"text_9\">\n      <!-- 2.00 -->\n      <g transform=\"translate(338.552131 239.238437)scale(0.1 -0.1)\">\n       <use xlink:href=\"#DejaVuSans-50\"/>\n       <use x=\"63.623047\" xlink:href=\"#DejaVuSans-46\"/>\n       <use x=\"95.410156\" xlink:href=\"#DejaVuSans-48\"/>\n       <use x=\"159.033203\" xlink:href=\"#DejaVuSans-48\"/>\n      </g>\n     </g>\n    </g>\n   </g>\n   <g id=\"matplotlib.axis_2\">\n    <g id=\"ytick_1\">\n     <g id=\"line2d_10\">\n      <defs>\n       <path d=\"M 0 0 \nL -3.5 0 \n\" id=\"m1eefa17067\" style=\"stroke:#000000;stroke-width:0.8;\"/>\n      </defs>\n      <g>\n       <use style=\"stroke:#000000;stroke-width:0.8;\" x=\"30.103125\" xlink:href=\"#m1eefa17067\" y=\"214.756364\"/>\n      </g>\n     </g>\n     <g id=\"text_10\">\n      <!-- 0.0 -->\n      <g transform=\"translate(7.2 218.555582)scale(0.1 -0.1)\">\n       <use xlink:href=\"#DejaVuSans-48\"/>\n       <use x=\"63.623047\" xlink:href=\"#DejaVuSans-46\"/>\n       <use x=\"95.410156\" xlink:href=\"#DejaVuSans-48\"/>\n      </g>\n     </g>\n    </g>\n    <g id=\"ytick_2\">\n     <g id=\"line2d_11\">\n      <g>\n       <use style=\"stroke:#000000;stroke-width:0.8;\" x=\"30.103125\" xlink:href=\"#m1eefa17067\" y=\"175.221818\"/>\n      </g>\n     </g>\n     <g id=\"text_11\">\n      <!-- 0.2 -->\n      <g transform=\"translate(7.2 179.021037)scale(0.1 -0.1)\">\n       <use xlink:href=\"#DejaVuSans-48\"/>\n       <use x=\"63.623047\" xlink:href=\"#DejaVuSans-46\"/>\n       <use x=\"95.410156\" xlink:href=\"#DejaVuSans-50\"/>\n      </g>\n     </g>\n    </g>\n    <g id=\"ytick_3\">\n     <g id=\"line2d_12\">\n      <g>\n       <use style=\"stroke:#000000;stroke-width:0.8;\" x=\"30.103125\" xlink:href=\"#m1eefa17067\" y=\"135.687273\"/>\n      </g>\n     </g>\n     <g id=\"text_12\">\n      <!-- 0.4 -->\n      <g transform=\"translate(7.2 139.486491)scale(0.1 -0.1)\">\n       <defs>\n        <path d=\"M 37.796875 64.3125 \nL 12.890625 25.390625 \nL 37.796875 25.390625 \nz\nM 35.203125 72.90625 \nL 47.609375 72.90625 \nL 47.609375 25.390625 \nL 58.015625 25.390625 \nL 58.015625 17.1875 \nL 47.609375 17.1875 \nL 47.609375 0 \nL 37.796875 0 \nL 37.796875 17.1875 \nL 4.890625 17.1875 \nL 4.890625 26.703125 \nz\n\" id=\"DejaVuSans-52\"/>\n       </defs>\n       <use xlink:href=\"#DejaVuSans-48\"/>\n       <use x=\"63.623047\" xlink:href=\"#DejaVuSans-46\"/>\n       <use x=\"95.410156\" xlink:href=\"#DejaVuSans-52\"/>\n      </g>\n     </g>\n    </g>\n    <g id=\"ytick_4\">\n     <g id=\"line2d_13\">\n      <g>\n       <use style=\"stroke:#000000;stroke-width:0.8;\" x=\"30.103125\" xlink:href=\"#m1eefa17067\" y=\"96.152727\"/>\n      </g>\n     </g>\n     <g id=\"text_13\">\n      <!-- 0.6 -->\n      <g transform=\"translate(7.2 99.951946)scale(0.1 -0.1)\">\n       <defs>\n        <path d=\"M 33.015625 40.375 \nQ 26.375 40.375 22.484375 35.828125 \nQ 18.609375 31.296875 18.609375 23.390625 \nQ 18.609375 15.53125 22.484375 10.953125 \nQ 26.375 6.390625 33.015625 6.390625 \nQ 39.65625 6.390625 43.53125 10.953125 \nQ 47.40625 15.53125 47.40625 23.390625 \nQ 47.40625 31.296875 43.53125 35.828125 \nQ 39.65625 40.375 33.015625 40.375 \nz\nM 52.59375 71.296875 \nL 52.59375 62.3125 \nQ 48.875 64.0625 45.09375 64.984375 \nQ 41.3125 65.921875 37.59375 65.921875 \nQ 27.828125 65.921875 22.671875 59.328125 \nQ 17.53125 52.734375 16.796875 39.40625 \nQ 19.671875 43.65625 24.015625 45.921875 \nQ 28.375 48.1875 33.59375 48.1875 \nQ 44.578125 48.1875 50.953125 41.515625 \nQ 57.328125 34.859375 57.328125 23.390625 \nQ 57.328125 12.15625 50.6875 5.359375 \nQ 44.046875 -1.421875 33.015625 -1.421875 \nQ 20.359375 -1.421875 13.671875 8.265625 \nQ 6.984375 17.96875 6.984375 36.375 \nQ 6.984375 53.65625 15.1875 63.9375 \nQ 23.390625 74.21875 37.203125 74.21875 \nQ 40.921875 74.21875 44.703125 73.484375 \nQ 48.484375 72.75 52.59375 71.296875 \nz\n\" id=\"DejaVuSans-54\"/>\n       </defs>\n       <use xlink:href=\"#DejaVuSans-48\"/>\n       <use x=\"63.623047\" xlink:href=\"#DejaVuSans-46\"/>\n       <use x=\"95.410156\" xlink:href=\"#DejaVuSans-54\"/>\n      </g>\n     </g>\n    </g>\n    <g id=\"ytick_5\">\n     <g id=\"line2d_14\">\n      <g>\n       <use style=\"stroke:#000000;stroke-width:0.8;\" x=\"30.103125\" xlink:href=\"#m1eefa17067\" y=\"56.618182\"/>\n      </g>\n     </g>\n     <g id=\"text_14\">\n      <!-- 0.8 -->\n      <g transform=\"translate(7.2 60.417401)scale(0.1 -0.1)\">\n       <defs>\n        <path d=\"M 31.78125 34.625 \nQ 24.75 34.625 20.71875 30.859375 \nQ 16.703125 27.09375 16.703125 20.515625 \nQ 16.703125 13.921875 20.71875 10.15625 \nQ 24.75 6.390625 31.78125 6.390625 \nQ 38.8125 6.390625 42.859375 10.171875 \nQ 46.921875 13.96875 46.921875 20.515625 \nQ 46.921875 27.09375 42.890625 30.859375 \nQ 38.875 34.625 31.78125 34.625 \nz\nM 21.921875 38.8125 \nQ 15.578125 40.375 12.03125 44.71875 \nQ 8.5 49.078125 8.5 55.328125 \nQ 8.5 64.0625 14.71875 69.140625 \nQ 20.953125 74.21875 31.78125 74.21875 \nQ 42.671875 74.21875 48.875 69.140625 \nQ 55.078125 64.0625 55.078125 55.328125 \nQ 55.078125 49.078125 51.53125 44.71875 \nQ 48 40.375 41.703125 38.8125 \nQ 48.828125 37.15625 52.796875 32.3125 \nQ 56.78125 27.484375 56.78125 20.515625 \nQ 56.78125 9.90625 50.3125 4.234375 \nQ 43.84375 -1.421875 31.78125 -1.421875 \nQ 19.734375 -1.421875 13.25 4.234375 \nQ 6.78125 9.90625 6.78125 20.515625 \nQ 6.78125 27.484375 10.78125 32.3125 \nQ 14.796875 37.15625 21.921875 38.8125 \nz\nM 18.3125 54.390625 \nQ 18.3125 48.734375 21.84375 45.5625 \nQ 25.390625 42.390625 31.78125 42.390625 \nQ 38.140625 42.390625 41.71875 45.5625 \nQ 45.3125 48.734375 45.3125 54.390625 \nQ 45.3125 60.0625 41.71875 63.234375 \nQ 38.140625 66.40625 31.78125 66.40625 \nQ 25.390625 66.40625 21.84375 63.234375 \nQ 18.3125 60.0625 18.3125 54.390625 \nz\n\" id=\"DejaVuSans-56\"/>\n       </defs>\n       <use xlink:href=\"#DejaVuSans-48\"/>\n       <use x=\"63.623047\" xlink:href=\"#DejaVuSans-46\"/>\n       <use x=\"95.410156\" xlink:href=\"#DejaVuSans-56\"/>\n      </g>\n     </g>\n    </g>\n    <g id=\"ytick_6\">\n     <g id=\"line2d_15\">\n      <g>\n       <use style=\"stroke:#000000;stroke-width:0.8;\" x=\"30.103125\" xlink:href=\"#m1eefa17067\" y=\"17.083636\"/>\n      </g>\n     </g>\n     <g id=\"text_15\">\n      <!-- 1.0 -->\n      <g transform=\"translate(7.2 20.882855)scale(0.1 -0.1)\">\n       <use xlink:href=\"#DejaVuSans-49\"/>\n       <use x=\"63.623047\" xlink:href=\"#DejaVuSans-46\"/>\n       <use x=\"95.410156\" xlink:href=\"#DejaVuSans-48\"/>\n      </g>\n     </g>\n    </g>\n   </g>\n   <g id=\"patch_3\">\n    <path d=\"M 30.103125 224.64 \nL 30.103125 7.2 \n\" style=\"fill:none;stroke:#000000;stroke-linecap:square;stroke-linejoin:miter;stroke-width:0.8;\"/>\n   </g>\n   <g id=\"patch_4\">\n    <path d=\"M 364.903125 224.64 \nL 364.903125 7.2 \n\" style=\"fill:none;stroke:#000000;stroke-linecap:square;stroke-linejoin:miter;stroke-width:0.8;\"/>\n   </g>\n   <g id=\"patch_5\">\n    <path d=\"M 30.103125 224.64 \nL 364.903125 224.64 \n\" style=\"fill:none;stroke:#000000;stroke-linecap:square;stroke-linejoin:miter;stroke-width:0.8;\"/>\n   </g>\n   <g id=\"patch_6\">\n    <path d=\"M 30.103125 7.2 \nL 364.903125 7.2 \n\" style=\"fill:none;stroke:#000000;stroke-linecap:square;stroke-linejoin:miter;stroke-width:0.8;\"/>\n   </g>\n  </g>\n </g>\n <defs>\n  <clipPath id=\"p3ebb82771c\">\n   <rect height=\"217.44\" width=\"334.8\" x=\"30.103125\" y=\"7.2\"/>\n  </clipPath>\n </defs>\n</svg>\n",
      "image/png": "[encoded data removed]"
     },
     "metadata": {
      "needs_background": "light"
     }
    }
   ],
   "source": [
    "import matplotlib.pyplot as plt\n",
    "import sympy\n",
    "\n",
    "# Perform an X gate with variable exponent\n",
    "q = cirq.GridQubit(1,1)\n",
    "circuit = cirq.Circuit(cirq.X(q) ** sympy.Symbol('t'),\n",
    "                       cirq.measure(q, key='m'))\n",
    "\n",
    "# Sweep exponent from zero (off) to one (on) and back to two (off)\n",
    "param_sweep = cirq.Linspace('t', start=0, stop=2, length=200)\n",
    "\n",
    "# Simulate the sweep\n",
    "s = cirq.Simulator()\n",
    "trials = s.run_sweep(circuit, param_sweep, repetitions=1000)\n",
    "\n",
    "# Plot all the results\n",
    "x_data = [trial.params['t'] for trial in trials]\n",
    "y_data = [trial.histogram(key='m')[1] / 1000.0 for trial in trials]\n",
    "plt.scatter('t','p', data={'t': x_data, 'p': y_data})\n"
   ]
  },
  {
   "cell_type": "markdown",
   "metadata": {
    "id": "M8oLYwusz4XE"
   },
   "source": [
    "## Unitary matrices and decompositions\n",
    "\n",
    "Most quantum operations have a unitary matrix representation.  This matrix can be accessed by applying `cirq.unitary()`.  This can be applied to gates, operations, and circuits that support this protocol and will return the unitary matrix that represents the object."
   ]
  },
  {
   "cell_type": "code",
   "execution_count": 11,
   "metadata": {
    "id": "xn9nnBA70s23"
   },
   "outputs": [
    {
     "output_type": "stream",
     "name": "stdout",
     "text": [
      "Unitary of the X gate\n[[0.+0.j 1.+0.j]\n [1.+0.j 0.+0.j]]\nUnitary of SWAP operator on two qubits.\n[[1.+0.j 0.+0.j 0.+0.j 0.+0.j]\n [0.+0.j 0.+0.j 1.+0.j 0.+0.j]\n [0.+0.j 1.+0.j 0.+0.j 0.+0.j]\n [0.+0.j 0.+0.j 0.+0.j 1.+0.j]]\nUnitary of a sample circuit\n[[0.+0.j 0.+0.j 1.+0.j 0.+0.j]\n [1.+0.j 0.+0.j 0.+0.j 0.+0.j]\n [0.+0.j 0.+0.j 0.+0.j 1.+0.j]\n [0.+0.j 1.+0.j 0.+0.j 0.+0.j]]\n"
     ]
    }
   ],
   "source": [
    "print('Unitary of the X gate')\n",
    "print(cirq.unitary(cirq.X))\n",
    "\n",
    "print('Unitary of SWAP operator on two qubits.')\n",
    "q0, q1 = cirq.LineQubit.range(2)\n",
    "print(cirq.unitary(cirq.SWAP(q0, q1)))\n",
    "\n",
    "print('Unitary of a sample circuit')\n",
    "print(cirq.unitary(cirq.Circuit(cirq.X(q0), cirq.SWAP(q0, q1))))"
   ]
  },
  {
   "cell_type": "markdown",
   "metadata": {
    "id": "Ls6Tnx90Y94Q"
   },
   "source": [
    "### Decompositions \n",
    "\n",
    "Many gates can be decomposed into an equivalent circuit with simpler operations and gates.  This is called decomposition and can be accomplished with the `cirq.decompose` protocol.  \n",
    "\n",
    "For instance, a Hadamard H gate can be decomposed into X and Y gates:"
   ]
  },
  {
   "cell_type": "code",
   "execution_count": 12,
   "metadata": {
    "id": "u8JwZaAUfbSv"
   },
   "outputs": [
    {
     "output_type": "stream",
     "name": "stdout",
     "text": [
      "[(cirq.Y**0.5).on(cirq.LineQubit(0)), cirq.XPowGate(exponent=1.0, global_shift=-0.25).on(cirq.LineQubit(0))]\n"
     ]
    }
   ],
   "source": [
    "print(cirq.decompose(cirq.H(cirq.LineQubit(0))))"
   ]
  },
  {
   "cell_type": "markdown",
   "metadata": {
    "id": "B8ciZZSSf2jb"
   },
   "source": [
    "Another example is the 3-qubit Toffoli gate, which is equivalent to a controlled-controlled-X gate.  Many devices do not support a three qubit gate, so it is important "
   ]
  },
  {
   "cell_type": "code",
   "execution_count": 13,
   "metadata": {
    "id": "bbjRWlzjgPwf"
   },
   "outputs": [
    {
     "output_type": "stream",
     "name": "stdout",
     "text": [
      "0: ───T────────────────@─────────────────────────────────@─────────────────────────────@────────────────────────────@───────────────────────────────────────\n                       │                                 │                             │                            │\n1: ───T───────Y^-0.5───@───Y^0.5────@───T^-1────Y^-0.5───@────────Y^0.5───@───Y^-0.5───@──────Y^0.5────@───Y^-0.5───@──────Y^0.5────@───────────────────────\n                                    │                                     │                            │                            │\n2: ───Y^0.5───X────────T───Y^-0.5───@───Y^0.5───T────────Y^-0.5───────────@───Y^0.5────T^-1───Y^-0.5───@───Y^0.5────T^-1───Y^-0.5───@───Y^0.5───Y^0.5───X───\n"
     ]
    }
   ],
   "source": [
    "q0, q1, q2 = cirq.LineQubit.range(3)\n",
    "print(cirq.Circuit(cirq.decompose(cirq.TOFFOLI(q0, q1, q2))))"
   ]
  },
  {
   "cell_type": "markdown",
   "metadata": {
    "id": "VWcik4ZwggXj"
   },
   "source": [
    "The above decomposes the Toffoli into a simpler set of one-qubit gates and CZ gates at the cost of lengthening the circuit considerably.\n",
    "\n",
    "Some devices will automatically decompose gates that they do not support.  For instance, if we use the `Foxtail` device from above, we can see this in action by adding an unsupported SWAP gate:"
   ]
  },
  {
   "cell_type": "code",
   "execution_count": 14,
   "metadata": {
    "id": "oS7vWnuHjLhE"
   },
   "outputs": [
    {
     "output_type": "stream",
     "name": "stdout",
     "text": [
      "(0, 0): ───Y^-0.5───@───S^-1───Y^0.5───X^0.5───@───S^-1───X^-0.5───@───S^-1───\n                    │                          │                   │\n(0, 1): ───Y^-0.5───@───S^-1───Y^0.5───X^0.5───@───S^-1───X^-0.5───@───S^-1───\n"
     ]
    }
   ],
   "source": [
    "swap = cirq.SWAP(cirq.GridQubit(0, 0), cirq.GridQubit(0, 1))\n",
    "print(cirq.Circuit(swap, device=cirq.google.Foxtail))"
   ]
  },
  {
   "cell_type": "markdown",
   "metadata": {
    "id": "rIUbvdVQkHbX"
   },
   "source": [
    "### Optimizers\n",
    "\n",
    "The last concept in this tutorial is the optimizer.  An optimizer can take a circuit and modify it.  Usually, this will entail combining or modifying operations to make it more efficient and shorter, though an optimizer can, in theory, do any sort of circuit manipulation.\n",
    "\n",
    "For example, the `MergeSingleQubitGates` optimizer will take consecutive single-qubit operations and merge them into a single `PhasedXZ` operation."
   ]
  },
  {
   "cell_type": "code",
   "execution_count": 15,
   "metadata": {
    "id": "5WvfOdaG5C_6"
   },
   "outputs": [
    {
     "output_type": "stream",
     "name": "stdout",
     "text": [
      "(1, 1): ───X^0.25───Y^0.25───T───\n           ┌                           ┐\n(1, 1): ───│ 0.5  +0.707j -0.   -0.5j  │───────────\n           │ 0.354+0.354j  0.146+0.854j│\n           └                           ┘\n"
     ]
    }
   ],
   "source": [
    "q=cirq.GridQubit(1, 1)\n",
    "optimizer=cirq.MergeSingleQubitGates()\n",
    "c=cirq.Circuit(cirq.X(q) ** 0.25, cirq.Y(q) ** 0.25, cirq.Z(q) ** 0.25)\n",
    "print(c)\n",
    "optimizer.optimize_circuit(c)\n",
    "print(c)"
   ]
  },
  {
   "cell_type": "markdown",
   "metadata": {
    "id": "xRfQqzdx7lUI"
   },
   "source": [
    "Other optimizers can assist in transforming a circuit into operations that are native operations on specific hardware devices.  You can find more about optimizers and how to create your own elsewhere in the documentation."
   ]
  },
  {
   "cell_type": "markdown",
   "metadata": {
    "id": "8QbTGmKlYT4i"
   },
   "source": [
    "## Next steps\n",
    "\n",
    "After completing this tutorial, you should be able to use gates and operations to construct your own quantum circuits, simulate them, and to use sweeps.  It should give you a brief idea of the commonly used \n",
    "\n",
    "There is much more to learn and try out for those who are interested:\n",
    "\n",
    "* Learn about the variety of [Gates](../gates.ipynb) available in cirq and more about the different ways to construct [Circuits](../circuits.ipynb)\n",
    "* Learn more about [Simulations](../simulation.ipynb) and how it works.\n",
    "* Learn about [Noise](../noise.ipynb) and how to utilize multi-level systems using [Qudits](../qudits.ipynb)\n",
    "* Dive into some [Examples](_index.yaml) and some in-depth tutorials of how to use cirq.\n",
    "\n",
    "Also, join our [cirq-announce mailing list](https://groups.google.com/forum/#!forum/cirq-announce) to hear about changes and releases or go to the [cirq github](https://github.com/quantumlib/Cirq/) to file issues."
   ]
  }
 ],
 "metadata": {
  "colab": {
   "collapsed_sections": [],
   "name": "basics.ipynb",
   "toc_visible": true
  },
  "kernelspec": {
   "display_name": "Python 3.8.5 64-bit",
   "name": "python38564bit9297408654df4db69cc5821ff3eba7d0",
   "language": "python"
  }
 },
 "nbformat": 4,
 "nbformat_minor": 0
}