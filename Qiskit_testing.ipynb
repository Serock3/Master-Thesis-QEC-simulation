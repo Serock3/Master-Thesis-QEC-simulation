{
 "cells": [
  {
   "cell_type": "markdown",
   "metadata": {},
   "source": [
    "# Testing around #\n",
    "Just some random testing, nothing with a structure to follow.\n",
    "Under 'Three-qubit bit-flip' is a working bit-flip code using 2 ancilla qubits,\n",
    "and below that is the same but only using a single ancilla qubit."
   ]
  },
  {
   "cell_type": "code",
   "execution_count": 2,
   "metadata": {},
   "outputs": [],
   "source": [
    "import numpy as np\n",
    "from qiskit import(\n",
    "    QuantumCircuit,\n",
    "    execute,\n",
    "    Aer\n",
    "    )\n",
    "\n",
    "from qiskit.visualization import plot_histogram"
   ]
  },
  {
   "cell_type": "code",
   "execution_count": 71,
   "metadata": {},
   "outputs": [
    {
     "data": {
      "text/plain": [
       "<qiskit.circuit.instructionset.InstructionSet at 0x7f36ebca8790>"
      ]
     },
     "execution_count": 71,
     "metadata": {},
     "output_type": "execute_result"
    }
   ],
   "source": [
    "# Define the circuit\n",
    "circuit = QuantumCircuit(2, 2)\n",
    "circuit.h(0)\n",
    "circuit.cx(0, 1);\n",
    "circuit.measure([0,1], [0,1])"
   ]
  },
  {
   "cell_type": "code",
   "execution_count": 72,
   "metadata": {},
   "outputs": [
    {
     "data": {
      "text/html": [
       "<pre style=\"word-wrap: normal;white-space: pre;background: #fff0;line-height: 1.1;font-family: &quot;Courier New&quot;,Courier,monospace\">     ┌───┐     ┌─┐   \n",
       "q_0: ┤ H ├──■──┤M├───\n",
       "     └───┘┌─┴─┐└╥┘┌─┐\n",
       "q_1: ─────┤ X ├─╫─┤M├\n",
       "          └───┘ ║ └╥┘\n",
       "c: 2/═══════════╩══╩═\n",
       "                0  1 </pre>"
      ],
      "text/plain": [
       "     ┌───┐     ┌─┐   \n",
       "q_0: ┤ H ├──■──┤M├───\n",
       "     └───┘┌─┴─┐└╥┘┌─┐\n",
       "q_1: ─────┤ X ├─╫─┤M├\n",
       "          └───┘ ║ └╥┘\n",
       "c: 2/═══════════╩══╩═\n",
       "                0  1 "
      ]
     },
     "execution_count": 72,
     "metadata": {},
     "output_type": "execute_result"
    }
   ],
   "source": [
    "circuit.draw()"
   ]
  },
  {
   "cell_type": "code",
   "execution_count": 73,
   "metadata": {},
   "outputs": [
    {
     "name": "stdout",
     "output_type": "stream",
     "text": [
      "Help on method measure in module qiskit.circuit.measure:\n",
      "\n",
      "measure(qubit, cbit) method of qiskit.circuit.quantumcircuit.QuantumCircuit instance\n",
      "    Measure quantum bit into classical bit (tuples).\n",
      "    \n",
      "    Args:\n",
      "        qubit (QuantumRegister|list|tuple): quantum register\n",
      "        cbit (ClassicalRegister|list|tuple): classical register\n",
      "    \n",
      "    Returns:\n",
      "        qiskit.Instruction: the attached measure instruction.\n",
      "    \n",
      "    Raises:\n",
      "        CircuitError: if qubit is not in this circuit or bad format;\n",
      "            if cbit is not in this circuit or not creg.\n",
      "\n"
     ]
    }
   ],
   "source": [
    "help( circuit.measure )"
   ]
  },
  {
   "cell_type": "code",
   "execution_count": 74,
   "metadata": {},
   "outputs": [
    {
     "name": "stdout",
     "output_type": "stream",
     "text": [
      "\n",
      "Total count for 00 and 11 are: {'00': 481, '11': 519}\n"
     ]
    },
    {
     "data": {
      "image/png": "[encoded data removed]",
      "text/plain": [
       "<Figure size 504x360 with 1 Axes>"
      ]
     },
     "execution_count": 74,
     "metadata": {},
     "output_type": "execute_result"
    }
   ],
   "source": [
    "simulator = Aer.get_backend('qasm_simulator')\n",
    "job = execute( circuit, simulator, shots=1000 )\n",
    "result = job.result()\n",
    "counts = result.get_counts( circuit )\n",
    "print(\"\\nTotal count for 00 and 11 are:\", counts)\n",
    "plot_histogram(counts)"
   ]
  },
  {
   "cell_type": "code",
   "execution_count": 3,
   "metadata": {},
   "outputs": [
    {
     "output_type": "stream",
     "name": "stdout",
     "text": [
      "{'0': 1024}\n"
     ]
    },
    {
     "output_type": "execute_result",
     "data": {
      "text/plain": [
       "                              \n",
       "   code_qubit_0: ──■──────────\n",
       "                   │          \n",
       "   code_qubit_1: ──┼────■─────\n",
       "                 ┌─┴─┐┌─┴─┐┌─┐\n",
       "ancilla_qubit_0: ┤ X ├┤ X ├┤M├\n",
       "                 └───┘└───┘└╥┘\n",
       " syndrome_bit: 1/═══════════╩═\n",
       "                            0 "
      ],
      "text/html": "<pre style=\"word-wrap: normal;white-space: pre;background: #fff0;line-height: 1.1;font-family: &quot;Courier New&quot;,Courier,monospace\">                              \n   code_qubit_0: ──■──────────\n                   │          \n   code_qubit_1: ──┼────■─────\n                 ┌─┴─┐┌─┴─┐┌─┐\nancilla_qubit_0: ┤ X ├┤ X ├┤M├\n                 └───┘└───┘└╥┘\n syndrome_bit: 1/═══════════╩═\n                            0 </pre>"
     },
     "metadata": {},
     "execution_count": 3
    }
   ],
   "source": [
    "# QEC Example\n",
    "from qiskit import QuantumRegister, ClassicalRegister\n",
    "\n",
    "cq = QuantumRegister(2,'code_qubit')\n",
    "lq = QuantumRegister(1,'ancilla_qubit')\n",
    "sb = ClassicalRegister(1,'syndrome_bit')\n",
    "qc = QuantumCircuit(cq,lq,sb)\n",
    "qc.cx(cq[0],lq[0])\n",
    "qc.cx(cq[1],lq[0])\n",
    "qc.measure(lq,sb)\n",
    "counts = execute(qc, Aer.get_backend('qasm_simulator')).result().get_counts()\n",
    "print(counts)\n",
    "qc.draw()\n"
   ]
  },
  {
   "cell_type": "markdown",
   "metadata": {},
   "source": [
    "# Three-qubit bit-flip #"
   ]
  },
  {
   "cell_type": "code",
   "execution_count": 76,
   "metadata": {},
   "outputs": [
    {
     "name": "stdout",
     "output_type": "stream",
     "text": [
      "{'111 10': 482, '000 10': 542}\n"
     ]
    },
    {
     "data": {
      "text/html": [
       "<pre style=\"word-wrap: normal;white-space: pre;background: #fff0;line-height: 1.1;font-family: &quot;Courier New&quot;,Courier,monospace\">                                ┌───┐┌───┐┌─┐                              »\n",
       "ancilla_qubit_0: ───────────────┤ X ├┤ X ├┤M├──────────────────────────────»\n",
       "                                └─┬─┘└─┬─┘└╥┘┌───┐┌───┐┌─┐                 »\n",
       "ancilla_qubit_1: ─────────────────┼────┼───╫─┤ X ├┤ X ├┤M├─────────────────»\n",
       "                 ┌───┐            │    │   ║ └─┬─┘└─┬─┘└╥┘ ┌───┐        ┌─┐»\n",
       "   code_qubit_0: ┤ H ├──■────■────■────┼───╫───┼────┼───╫──┤ X ├────────┤M├»\n",
       "                 └───┘┌─┴─┐  │         │   ║   │    │   ║  └─┬─┘  ┌───┐ └╥┘»\n",
       "   code_qubit_1: ─────┤ X ├──┼─────────■───╫───■────┼───╫────┼────┤ X ├──╫─»\n",
       "                      └───┘┌─┴─┐┌───┐      ║        │   ║    │    └─┬─┘  ║ »\n",
       "   code_qubit_2: ──────────┤ X ├┤ X ├──────╫────────■───╫────┼──────┼────╫─»\n",
       "                           └───┘└───┘      ║            ║ ┌──┴──┐┌──┴──┐ ║ »\n",
       " syndrome_bit: 2/══════════════════════════╩════════════╩═╡ = 1 ╞╡ = 3 ╞═╬═»\n",
       "                                           0            1 └─────┘└─────┘ ║ »\n",
       "      readout: 3/════════════════════════════════════════════════════════╩═»\n",
       "                                                                         0 »\n",
       "«                              \n",
       "«ancilla_qubit_0: ─────────────\n",
       "«                              \n",
       "«ancilla_qubit_1: ─────────────\n",
       "«                              \n",
       "«   code_qubit_0: ─────────────\n",
       "«                        ┌─┐   \n",
       "«   code_qubit_1: ───────┤M├───\n",
       "«                  ┌───┐ └╥┘┌─┐\n",
       "«   code_qubit_2: ─┤ X ├──╫─┤M├\n",
       "«                  └─┬─┘  ║ └╥┘\n",
       "«                 ┌──┴──┐ ║  ║ \n",
       "« syndrome_bit: 2/╡ = 2 ╞═╬══╬═\n",
       "«                 └─────┘ ║  ║ \n",
       "«      readout: 3/════════╩══╩═\n",
       "«                         1  2 </pre>"
      ],
      "text/plain": [
       "                                ┌───┐┌───┐┌─┐                              »\n",
       "ancilla_qubit_0: ───────────────┤ X ├┤ X ├┤M├──────────────────────────────»\n",
       "                                └─┬─┘└─┬─┘└╥┘┌───┐┌───┐┌─┐                 »\n",
       "ancilla_qubit_1: ─────────────────┼────┼───╫─┤ X ├┤ X ├┤M├─────────────────»\n",
       "                 ┌───┐            │    │   ║ └─┬─┘└─┬─┘└╥┘ ┌───┐        ┌─┐»\n",
       "   code_qubit_0: ┤ H ├──■────■────■────┼───╫───┼────┼───╫──┤ X ├────────┤M├»\n",
       "                 └───┘┌─┴─┐  │         │   ║   │    │   ║  └─┬─┘  ┌───┐ └╥┘»\n",
       "   code_qubit_1: ─────┤ X ├──┼─────────■───╫───■────┼───╫────┼────┤ X ├──╫─»\n",
       "                      └───┘┌─┴─┐┌───┐      ║        │   ║    │    └─┬─┘  ║ »\n",
       "   code_qubit_2: ──────────┤ X ├┤ X ├──────╫────────■───╫────┼──────┼────╫─»\n",
       "                           └───┘└───┘      ║            ║ ┌──┴──┐┌──┴──┐ ║ »\n",
       " syndrome_bit: 2/══════════════════════════╩════════════╩═╡ = 1 ╞╡ = 3 ╞═╬═»\n",
       "                                           0            1 └─────┘└─────┘ ║ »\n",
       "      readout: 3/════════════════════════════════════════════════════════╩═»\n",
       "                                                                         0 »\n",
       "«                              \n",
       "«ancilla_qubit_0: ─────────────\n",
       "«                              \n",
       "«ancilla_qubit_1: ─────────────\n",
       "«                              \n",
       "«   code_qubit_0: ─────────────\n",
       "«                        ┌─┐   \n",
       "«   code_qubit_1: ───────┤M├───\n",
       "«                  ┌───┐ └╥┘┌─┐\n",
       "«   code_qubit_2: ─┤ X ├──╫─┤M├\n",
       "«                  └─┬─┘  ║ └╥┘\n",
       "«                 ┌──┴──┐ ║  ║ \n",
       "« syndrome_bit: 2/╡ = 2 ╞═╬══╬═\n",
       "«                 └─────┘ ║  ║ \n",
       "«      readout: 3/════════╩══╩═\n",
       "«                         1  2 "
      ]
     },
     "execution_count": 76,
     "metadata": {},
     "output_type": "execute_result"
    }
   ],
   "source": [
    "qReg = QuantumRegister(3, 'code_qubit')\n",
    "aReg = QuantumRegister(2, 'ancilla_qubit')\n",
    "cReg1 = ClassicalRegister(2, 'syndrome_bit')\n",
    "#cReg2 = ClassicalRegister(1, 'syndrome_bit2')\n",
    "readout = ClassicalRegister(3, 'readout')\n",
    "circuit = QuantumCircuit( cReg1, readout, aReg, qReg )\n",
    "\n",
    "# Encoding\n",
    "circuit.h(qReg[0])\n",
    "circuit.cx(qReg[0], qReg[1])\n",
    "circuit.cx(qReg[0], qReg[2])\n",
    "\n",
    "# Manual errors\n",
    "circuit.x(qReg[2])\n",
    "\n",
    "# Syndrome measurements Z1Z2\n",
    "circuit.cx(qReg[0], aReg[0])\n",
    "circuit.cx(qReg[1], aReg[0])\n",
    "circuit.measure(aReg[0], cReg1[0])\n",
    "\n",
    "# Syndrome measurement Z2Z3\n",
    "circuit.cx(qReg[1], aReg[1])\n",
    "circuit.cx(qReg[2], aReg[1])\n",
    "circuit.measure(aReg[1], cReg1[1])\n",
    "\n",
    "# Conditional corrections\n",
    "circuit.x(qReg[0]).c_if(cReg1, 1) # The value can be written in base 10, but is interpreted as binary (to allow e.g. 01)\n",
    "circuit.x(qReg[1]).c_if(cReg1, 3)\n",
    "circuit.x(qReg[2]).c_if(cReg1, 2)\n",
    "\n",
    "# Readout the state\n",
    "circuit.measure(qReg, readout)\n",
    "\n",
    "\n",
    "counts = execute(circuit, Aer.get_backend('qasm_simulator')).result().get_counts()\n",
    "print(counts)\n",
    "circuit.draw()\n"
   ]
  },
  {
   "cell_type": "markdown",
   "metadata": {},
   "source": [
    "# Retry with a single ancilla #"
   ]
  },
  {
   "cell_type": "code",
   "execution_count": 77,
   "metadata": {},
   "outputs": [
    {
     "name": "stdout",
     "output_type": "stream",
     "text": [
      "{'111 11': 507, '000 11': 517}\n"
     ]
    },
    {
     "data": {
      "text/html": [
       "<pre style=\"word-wrap: normal;white-space: pre;background: #fff0;line-height: 1.1;font-family: &quot;Courier New&quot;,Courier,monospace\">                                     ┌───┐┌───┐┌─┐┌───┐┌───┐┌─┐              »\n",
       "ancilla_qubit_0: ────────────────────┤ X ├┤ X ├┤M├┤ X ├┤ X ├┤M├──────────────»\n",
       "                 ┌───┐          ┌───┐└─┬─┘└─┬─┘└╥┘└─┬─┘└─┬─┘└╥┘ ┌───┐        »\n",
       "   code_qubit_0: ┤ H ├──■────■──┤ X ├──■────┼───╫───┼────┼───╫──┤ X ├────────»\n",
       "                 └───┘┌─┴─┐  │  └───┘       │   ║   │    │   ║  └─┬─┘  ┌───┐ »\n",
       "   code_qubit_1: ─────┤ X ├──┼──────────────■───╫───■────┼───╫────┼────┤ X ├─»\n",
       "                      └───┘┌─┴─┐                ║        │   ║    │    └─┬─┘ »\n",
       "   code_qubit_2: ──────────┤ X ├────────────────╫────────■───╫────┼──────┼───»\n",
       "                           └───┘                ║            ║ ┌──┴──┐┌──┴──┐»\n",
       " syndrome_bit: 2/═══════════════════════════════╩════════════╩═╡ = 3 ╞╡ = 1 ╞»\n",
       "                                                0            1 └─────┘└─────┘»\n",
       "      readout: 3/════════════════════════════════════════════════════════════»\n",
       "                                                                             »\n",
       "«                                 \n",
       "«ancilla_qubit_0: ────────────────\n",
       "«                 ┌─┐             \n",
       "«   code_qubit_0: ┤M├─────────────\n",
       "«                 └╥┘       ┌─┐   \n",
       "«   code_qubit_1: ─╫────────┤M├───\n",
       "«                  ║  ┌───┐ └╥┘┌─┐\n",
       "«   code_qubit_2: ─╫──┤ X ├──╫─┤M├\n",
       "«                  ║  └─┬─┘  ║ └╥┘\n",
       "«                  ║ ┌──┴──┐ ║  ║ \n",
       "« syndrome_bit: 2/═╬═╡ = 2 ╞═╬══╬═\n",
       "«                  ║ └─────┘ ║  ║ \n",
       "«      readout: 3/═╩═════════╩══╩═\n",
       "«                  0         1  2 </pre>"
      ],
      "text/plain": [
       "                                     ┌───┐┌───┐┌─┐┌───┐┌───┐┌─┐              »\n",
       "ancilla_qubit_0: ────────────────────┤ X ├┤ X ├┤M├┤ X ├┤ X ├┤M├──────────────»\n",
       "                 ┌───┐          ┌───┐└─┬─┘└─┬─┘└╥┘└─┬─┘└─┬─┘└╥┘ ┌───┐        »\n",
       "   code_qubit_0: ┤ H ├──■────■──┤ X ├──■────┼───╫───┼────┼───╫──┤ X ├────────»\n",
       "                 └───┘┌─┴─┐  │  └───┘       │   ║   │    │   ║  └─┬─┘  ┌───┐ »\n",
       "   code_qubit_1: ─────┤ X ├──┼──────────────■───╫───■────┼───╫────┼────┤ X ├─»\n",
       "                      └───┘┌─┴─┐                ║        │   ║    │    └─┬─┘ »\n",
       "   code_qubit_2: ──────────┤ X ├────────────────╫────────■───╫────┼──────┼───»\n",
       "                           └───┘                ║            ║ ┌──┴──┐┌──┴──┐»\n",
       " syndrome_bit: 2/═══════════════════════════════╩════════════╩═╡ = 3 ╞╡ = 1 ╞»\n",
       "                                                0            1 └─────┘└─────┘»\n",
       "      readout: 3/════════════════════════════════════════════════════════════»\n",
       "                                                                             »\n",
       "«                                 \n",
       "«ancilla_qubit_0: ────────────────\n",
       "«                 ┌─┐             \n",
       "«   code_qubit_0: ┤M├─────────────\n",
       "«                 └╥┘       ┌─┐   \n",
       "«   code_qubit_1: ─╫────────┤M├───\n",
       "«                  ║  ┌───┐ └╥┘┌─┐\n",
       "«   code_qubit_2: ─╫──┤ X ├──╫─┤M├\n",
       "«                  ║  └─┬─┘  ║ └╥┘\n",
       "«                  ║ ┌──┴──┐ ║  ║ \n",
       "« syndrome_bit: 2/═╬═╡ = 2 ╞═╬══╬═\n",
       "«                  ║ └─────┘ ║  ║ \n",
       "«      readout: 3/═╩═════════╩══╩═\n",
       "«                  0         1  2 "
      ]
     },
     "execution_count": 77,
     "metadata": {},
     "output_type": "execute_result"
    }
   ],
   "source": [
    "qReg = QuantumRegister(3, 'code_qubit')\n",
    "aReg = QuantumRegister(1, 'ancilla_qubit')\n",
    "cReg1 = ClassicalRegister(2, 'syndrome_bit')\n",
    "#cReg2 = ClassicalRegister(1, 'syndrome_bit2')\n",
    "readout = ClassicalRegister(3, 'readout')\n",
    "circuit = QuantumCircuit( cReg1, readout, aReg, qReg )\n",
    "\n",
    "# Encoding\n",
    "circuit.h(qReg[0])\n",
    "circuit.cx(qReg[0], qReg[1])\n",
    "circuit.cx(qReg[0], qReg[2])\n",
    "\n",
    "# Manual errors\n",
    "circuit.x(qReg[0])\n",
    "\n",
    "# Syndrome measurements Z1Z2\n",
    "circuit.cx(qReg[0], aReg[0])\n",
    "circuit.cx(qReg[1], aReg[0])\n",
    "circuit.measure(aReg[0], cReg1[0])\n",
    "\n",
    "# Syndrome measurement Z2Z3\n",
    "circuit.cx(qReg[1], aReg[0])\n",
    "circuit.cx(qReg[2], aReg[0])\n",
    "circuit.measure(aReg[0], cReg1[1])\n",
    "\n",
    "\n",
    "# Conditional corrections with 1 ancilla\n",
    "circuit.x(qReg[0]).c_if(cReg1, 3)\n",
    "circuit.x(qReg[1]).c_if(cReg1, 1)\n",
    "circuit.x(qReg[2]).c_if(cReg1, 2)\n",
    "\n",
    "# Readout the state\n",
    "circuit.measure(qReg, readout)\n",
    "\n",
    "\n",
    "counts = execute(circuit, Aer.get_backend('qasm_simulator')).result().get_counts()\n",
    "print(counts)\n",
    "circuit.draw()\n",
    "\n"
   ]
  },
  {
   "cell_type": "markdown",
   "metadata": {},
   "source": [
    "# [[5,1,3]] code on 7-qubit chip"
   ]
  },
  {
   "cell_type": "code",
   "execution_count": 16,
   "metadata": {},
   "outputs": [],
   "source": [
    "# Define our registers and circuit\n",
    "qReg = QuantumRegister(5, 'code_qubit')\n",
    "aReg = QuantumRegister(2, 'ancilla_qubit')\n",
    "cReg = ClassicalRegister(4, 'syndrome_bit')\n",
    "readout = ClassicalRegister(5, 'readout')"
   ]
  },
  {
   "cell_type": "code",
   "execution_count": 32,
   "metadata": {},
   "outputs": [],
   "source": [
    "def generator_1( circuit ):\n",
    "    #circuit.h(qReg)\n",
    "    circuit.cx(qReg[0], aReg[0])\n",
    "    #circuit.h(qReg)\n",
    "    circuit.cx(qReg[1], aReg[0])\n",
    "    circuit.cx(qReg[2], aReg[0])\n",
    "    #circuit.h(qReg)\n",
    "    circuit.cx(qReg[3], aReg[0])\n",
    "    #circuit.h(qReg)\n",
    "    circuit.measure(aReg[0], cReg[0])\n",
    "    # Readout the state\n",
    "    circuit.measure(qReg, readout)\n",
    "    \n",
    "    return\n",
    "\n",
    "def generator_2( circuit ):\n",
    "    #circuit.h(qReg)\n",
    "    circuit.cx(qReg[0], aReg[0])\n",
    "    #circuit.h(qReg)\n",
    "    circuit.cx(qReg[1], aReg[0])\n",
    "    circuit.cx(qReg[2], aReg[0])\n",
    "    #circuit.h(qReg)\n",
    "    circuit.cx(qReg[3], aReg[0])\n",
    "    #circuit.h(qReg)\n",
    "    circuit.measure(aReg[0], cReg[0])\n",
    "    # Readout the state\n",
    "    circuit.measure(qReg, readout)"
   ]
  },
  {
   "cell_type": "code",
   "execution_count": 33,
   "metadata": {},
   "outputs": [
    {
     "name": "stdout",
     "output_type": "stream",
     "text": [
      "{'00001 0001': 1024}\n"
     ]
    },
    {
     "data": {
      "image/png": "[encoded data removed]",
      "text/plain": [
       "<Figure size 1104.69x565.88 with 1 Axes>"
      ]
     },
     "execution_count": 33,
     "metadata": {},
     "output_type": "execute_result"
    }
   ],
   "source": [
    "circuit = QuantumCircuit( cReg, readout, aReg, qReg )\n",
    "\n",
    "#circuit.h(qReg[0])\n",
    "\n",
    "# Encode the state\n",
    "circuit.cx( qReg[0], qReg[1] )\n",
    "circuit.swap( qReg[0], aReg[0] )\n",
    "circuit.cx( aReg[0], qReg[2] )\n",
    "circuit.cx( aReg[0], qReg[4] )\n",
    "circuit.cx( qReg[2], qReg[3] )\n",
    "circuit.swap( qReg[0], aReg[0] )\n",
    "\n",
    "# Manual errors\n",
    "circuit.x(qReg[0])\n",
    "\n",
    "# Stabilizer 1: XZZXI\n",
    "generator_1( circuit )\n",
    "\n",
    "\n",
    "counts = execute(circuit, Aer.get_backend('qasm_simulator')).result().get_counts()\n",
    "print(counts)\n",
    "\n",
    "circuit.draw(output='mpl')"
   ]
  },
  {
   "cell_type": "markdown",
   "metadata": {},
   "source": [
    "# Testing around with encoding the logical 0 #"
   ]
  },
  {
   "cell_type": "code",
   "execution_count": 39,
   "metadata": {},
   "outputs": [
    {
     "name": "stdout",
     "output_type": "stream",
     "text": [
      "{'0000000': 128, '0011101': 117, '0101110': 140, '0110011': 120, '1001000': 124, '1010101': 120, '1100110': 147, '1111011': 128}\n"
     ]
    },
    {
     "data": {
      "image/png": "[encoded data removed]",
      "text/plain": [
       "<Figure size 504x360 with 1 Axes>"
      ]
     },
     "execution_count": 39,
     "metadata": {},
     "output_type": "execute_result"
    }
   ],
   "source": [
    "# Define our registers and circuit\n",
    "q = QuantumRegister(7, 'code_qubit')\n",
    "readout = ClassicalRegister(7, 'readout')\n",
    "circuit = QuantumCircuit( readout, q )\n",
    "\n",
    "#circuit.h(qReg[0])\n",
    "\n",
    "# Encode the state\n",
    "circuit.h(q[0])\n",
    "circuit.h(q[1])\n",
    "circuit.h(q[3])\n",
    "\n",
    "circuit.cx(q[0], q[2])\n",
    "circuit.cx(q[3], q[5])\n",
    "circuit.cx(q[1], q[6])\n",
    "\n",
    "circuit.cx(q[0], q[4])\n",
    "circuit.cx(q[3], q[6])\n",
    "circuit.cx(q[1], q[5])\n",
    "\n",
    "circuit.cx(q[0], q[6])\n",
    "circuit.cx(q[1], q[2])\n",
    "circuit.cx(q[3], q[5])\n",
    "\n",
    "circuit.measure(q, readout)\n",
    "\n",
    "counts = execute(circuit, Aer.get_backend('qasm_simulator')).result().get_counts()\n",
    "print(counts)\n",
    "\n",
    "circuit.draw(output='mpl')\n",
    "plot_histogram(counts)"
   ]
  },
  {
   "cell_type": "code",
   "execution_count": 57,
   "metadata": {},
   "outputs": [],
   "source": [
    "def generator_1( circuit, q ):\n",
    "    circuit.x(q[0])\n",
    "    circuit.z(q[1])\n",
    "    circuit.z(q[2])\n",
    "    circuit.x(q[3])\n",
    "    return\n",
    "\n",
    "def generator_2( circuit, q ):\n",
    "    circuit.x(q[1])\n",
    "    circuit.z(q[2])\n",
    "    circuit.z(q[3])\n",
    "    circuit.x(q[4])\n",
    "    return\n",
    "\n",
    "def generator_3( circuit, q ):\n",
    "    circuit.x(q[2])\n",
    "    circuit.z(q[3])\n",
    "    circuit.z(q[4])\n",
    "    circuit.x(q[0])\n",
    "    return\n",
    "\n",
    "def generator_4( circuit, q ):\n",
    "    circuit.x(q[3])\n",
    "    circuit.z(q[4])\n",
    "    circuit.z(q[0])\n",
    "    circuit.x(q[1])\n",
    "    return"
   ]
  },
  {
   "cell_type": "code",
   "execution_count": 56,
   "metadata": {},
   "outputs": [
    {
     "name": "stdout",
     "output_type": "stream",
     "text": [
      "{'00000': 66, '10001': 60, '10010': 70, '10100': 55, '10111': 65, '11000': 55, '11011': 61, '11101': 59, '11110': 49, '00011': 87, '00101': 80, '00110': 66, '01001': 63, '01010': 64, '01100': 65, '01111': 59}\n"
     ]
    },
    {
     "data": {
      "image/png": "[encoded data removed]",
      "text/plain": [
       "<Figure size 504x360 with 1 Axes>"
      ]
     },
     "execution_count": 56,
     "metadata": {},
     "output_type": "execute_result"
    }
   ],
   "source": [
    "# Define our registers and circuit\n",
    "q = QuantumRegister(5, 'code_qubit')\n",
    "readout = ClassicalRegister(5, 'readout')\n",
    "circuit = QuantumCircuit( readout, q )\n",
    "\n",
    "\n",
    "# Encode the state\n",
    "#circuit.x(q[0])\n",
    "circuit.h(q[0])\n",
    "circuit.h(q[1])\n",
    "circuit.h(q[2])\n",
    "circuit.h(q[3])\n",
    "\n",
    "circuit.cx(q[0], q[1])\n",
    "circuit.cx(q[0], q[2])\n",
    "circuit.cx(q[0], q[3])\n",
    "circuit.cx(q[0], q[4])\n",
    "\n",
    "circuit.cx(q[1], q[2])\n",
    "circuit.cx(q[1], q[3])\n",
    "circuit.cx(q[1], q[4])\n",
    "\n",
    "circuit.cx(q[2], q[3])\n",
    "circuit.cx(q[2], q[4])\n",
    "\n",
    "circuit.cx(q[3], q[4])\n",
    "\n",
    "circuit.measure(q, readout)\n",
    "\n",
    "counts = execute(circuit, Aer.get_backend('qasm_simulator')).result().get_counts()\n",
    "print(counts)\n",
    "\n",
    "\n",
    "plot_histogram(counts)\n",
    "#circuit.draw(output='mpl')"
   ]
  },
  {
   "cell_type": "code",
   "execution_count": 67,
   "metadata": {},
   "outputs": [
    {
     "name": "stdout",
     "output_type": "stream",
     "text": [
      "{'10000': 68, '10001': 70, '10010': 66, '10011': 58, '10100': 70, '10101': 65, '10110': 69, '10111': 53, '11000': 76, '11001': 55, '11010': 67, '11011': 68, '11100': 56, '11101': 55, '11110': 56, '11111': 72}\n"
     ]
    },
    {
     "data": {
      "image/png": "[encoded data removed]",
      "text/plain": [
       "<Figure size 718.833x385.28 with 1 Axes>"
      ]
     },
     "execution_count": 67,
     "metadata": {},
     "output_type": "execute_result"
    }
   ],
   "source": [
    "# Define our registers and circuit\n",
    "q = QuantumRegister(5, 'code_qubit')\n",
    "readout = ClassicalRegister(5, 'readout')\n",
    "circuit = QuantumCircuit( readout, q )\n",
    "\n",
    "\n",
    "# Encode the state\n",
    "\n",
    "\n",
    "generator_1( circuit, q )\n",
    "generator_2( circuit, q )\n",
    "generator_3( circuit, q )\n",
    "generator_4( circuit, q )\n",
    "circuit.h(q[0])\n",
    "circuit.h(q[1])\n",
    "circuit.h(q[2])\n",
    "circuit.h(q[3])\n",
    "circuit.measure(q, readout)\n",
    "\n",
    "counts = execute(circuit, Aer.get_backend('qasm_simulator')).result().get_counts()\n",
    "print(counts)\n",
    "\n",
    "\n",
    "plot_histogram(counts)\n",
    "circuit.draw(output='mpl')"
   ]
  },
  {
   "source": [
    "# Testing with graphdecoders #"
   ],
   "cell_type": "markdown",
   "metadata": {}
  },
  {
   "cell_type": "code",
   "execution_count": 7,
   "metadata": {},
   "outputs": [
    {
     "output_type": "stream",
     "name": "stdout",
     "text": [
      "{'000 00': 511, '111 00': 513}\n"
     ]
    },
    {
     "output_type": "execute_result",
     "data": {
      "text/plain": [
       "                                ┌───┐┌───┐┌─┐                         \n",
       "ancilla_qubit_0: ───────────────┤ X ├┤ X ├┤M├─────────────────────────\n",
       "                                └─┬─┘└─┬─┘└╥┘┌───┐┌───┐┌─┐            \n",
       "ancilla_qubit_1: ─────────────────┼────┼───╫─┤ X ├┤ X ├┤M├────────────\n",
       "                 ┌───┐            │    │   ║ └─┬─┘└─┬─┘└╥┘ ░ ┌─┐      \n",
       "   code_qubit_0: ┤ H ├──■────■────■────┼───╫───┼────┼───╫──░─┤M├──────\n",
       "                 └───┘┌─┴─┐  │         │   ║   │    │   ║  ░ └╥┘┌─┐   \n",
       "   code_qubit_1: ─────┤ X ├──┼─────────■───╫───■────┼───╫──░──╫─┤M├───\n",
       "                      └───┘┌─┴─┐           ║        │   ║  ░  ║ └╥┘┌─┐\n",
       "   code_qubit_2: ──────────┤ X ├───────────╫────────■───╫──░──╫──╫─┤M├\n",
       "                           └───┘           ║            ║  ░  ║  ║ └╥┘\n",
       " syndrome_bit: 2/══════════════════════════╩════════════╩═════╬══╬══╬═\n",
       "                                           0            1     ║  ║  ║ \n",
       "                                                              ║  ║  ║ \n",
       "      readout: 3/═════════════════════════════════════════════╩══╩══╩═\n",
       "                                                              0  1  2 "
      ],
      "text/html": "<pre style=\"word-wrap: normal;white-space: pre;background: #fff0;line-height: 1.1;font-family: &quot;Courier New&quot;,Courier,monospace\">                                ┌───┐┌───┐┌─┐                         \nancilla_qubit_0: ───────────────┤ X ├┤ X ├┤M├─────────────────────────\n                                └─┬─┘└─┬─┘└╥┘┌───┐┌───┐┌─┐            \nancilla_qubit_1: ─────────────────┼────┼───╫─┤ X ├┤ X ├┤M├────────────\n                 ┌───┐            │    │   ║ └─┬─┘└─┬─┘└╥┘ ░ ┌─┐      \n   code_qubit_0: ┤ H ├──■────■────■────┼───╫───┼────┼───╫──░─┤M├──────\n                 └───┘┌─┴─┐  │         │   ║   │    │   ║  ░ └╥┘┌─┐   \n   code_qubit_1: ─────┤ X ├──┼─────────■───╫───■────┼───╫──░──╫─┤M├───\n                      └───┘┌─┴─┐           ║        │   ║  ░  ║ └╥┘┌─┐\n   code_qubit_2: ──────────┤ X ├───────────╫────────■───╫──░──╫──╫─┤M├\n                           └───┘           ║            ║  ░  ║  ║ └╥┘\n syndrome_bit: 2/══════════════════════════╩════════════╩═════╬══╬══╬═\n                                           0            1     ║  ║  ║ \n                                                              ║  ║  ║ \n      readout: 3/═════════════════════════════════════════════╩══╩══╩═\n                                                              0  1  2 </pre>"
     },
     "metadata": {},
     "execution_count": 7
    }
   ],
   "source": [
    "qReg = QuantumRegister(3, 'code_qubit')\n",
    "aReg = QuantumRegister(2, 'ancilla_qubit')\n",
    "cReg = ClassicalRegister(2, 'syndrome_bit')\n",
    "readout = ClassicalRegister(3, 'readout')\n",
    "circuit = QuantumCircuit( cReg, readout, aReg, qReg )\n",
    "\n",
    "# Encoding\n",
    "circuit.h(qReg[0])\n",
    "circuit.cx(qReg[0], qReg[1])\n",
    "circuit.cx(qReg[0], qReg[2])\n",
    "\n",
    "# Manual errors\n",
    "#circuit.x(qReg[2])\n",
    "\n",
    "# Syndrome measurements Z1Z2\n",
    "circuit.cx(qReg[0], aReg[0])\n",
    "circuit.cx(qReg[1], aReg[0])\n",
    "circuit.measure(aReg[0], cReg[0])\n",
    "\n",
    "# Syndrome measurement Z2Z3\n",
    "circuit.cx(qReg[1], aReg[1])\n",
    "circuit.cx(qReg[2], aReg[1])\n",
    "circuit.measure(aReg[1], cReg[1])\n",
    "\n",
    "# Conditional corrections\n",
    "#circuit.x(qReg[0]).c_if(cReg, 1) # The value can be written in base 10, but is interpreted as binary (to allow e.g. 01)\n",
    "#circuit.x(qReg[1]).c_if(cReg, 3)\n",
    "#circuit.x(qReg[2]).c_if(cReg, 2)\n",
    "\n",
    "# Readout the state\n",
    "circuit.barrier(qReg)\n",
    "circuit.measure(qReg, readout)\n",
    "\n",
    "\n",
    "counts = execute(circuit, Aer.get_backend('qasm_simulator')).result().get_counts()\n",
    "print(counts)\n",
    "circuit.draw()\n"
   ]
  },
  {
   "cell_type": "code",
   "execution_count": 14,
   "metadata": {},
   "outputs": [],
   "source": [
    "from qiskit.providers.aer.noise import NoiseModel\n",
    "from qiskit.providers.aer.noise.errors import pauli_error, depolarizing_error\n",
    "\n",
    "def get_noise(p_meas,p_gate):\n",
    "\n",
    "    error_meas = pauli_error([('X',p_meas), ('I', 1 - p_meas)])\n",
    "    error_gate1 = depolarizing_error(p_gate, 1)\n",
    "    error_gate2 = error_gate1.tensor(error_gate1)\n",
    "\n",
    "    noise_model = NoiseModel()\n",
    "    noise_model.add_all_qubit_quantum_error(error_meas, \"measure\")\n",
    "    noise_model.add_all_qubit_quantum_error(error_gate1, [\"u1\", \"u2\", \"u3\"])\n",
    "    noise_model.add_all_qubit_quantum_error(error_gate2, [\"cx\"])\n",
    "\n",
    "    return noise_model"
   ]
  },
  {
   "cell_type": "code",
   "execution_count": 17,
   "metadata": {},
   "outputs": [
    {
     "output_type": "stream",
     "name": "stdout",
     "text": [
      "{'000 00': 42, '000 01': 33, '100 00': 31, '100 01': 25, '100 10': 34, '100 11': 21, '101 00': 28, '101 01': 32, '101 10': 35, '101 11': 30, '110 00': 23, '110 01': 30, '110 10': 34, '110 11': 20, '111 00': 43, '111 01': 39, '111 10': 24, '111 11': 34, '000 10': 33, '000 11': 36, '001 00': 30, '001 01': 31, '001 10': 29, '001 11': 35, '010 00': 30, '010 01': 27, '010 10': 35, '010 11': 24, '011 00': 25, '011 01': 29, '011 10': 31, '011 11': 47}\n"
     ]
    }
   ],
   "source": [
    "\n",
    "noise_model = get_noise(0.5, 0.5)\n",
    "job = execute( circuit, Aer.get_backend('qasm_simulator'), noise_model=noise_model, shots=1000 )\n",
    "raw_results = job.result().get_counts()\n",
    "print(raw_results)\n"
   ]
  },
  {
   "cell_type": "code",
   "execution_count": 28,
   "metadata": {},
   "outputs": [
    {
     "output_type": "execute_result",
     "data": {
      "text/plain": [
       "'1 1'"
      ]
     },
     "metadata": {},
     "execution_count": 28
    }
   ],
   "source": [
    "from qiskit.ignis.verification.topological_codes import RepetitionCode\n",
    "from qiskit.ignis.verification.topological_codes import GraphDecoder\n",
    "from qiskit.ignis.verification.topological_codes import lookuptable_decoding, postselection_decoding\n",
    "dec = GraphDecoder( RepetitionCode(3,1) )\n",
    "dec.matching('0 1  10')\n",
    "#dec = GraphDecoder( circuit )"
   ]
  },
  {
   "cell_type": "code",
   "execution_count": 32,
   "metadata": {},
   "outputs": [
    {
     "output_type": "error",
     "ename": "KeyError",
     "evalue": "0",
     "traceback": [
      "\u001b[0;31m---------------------------------------------------------------------------\u001b[0m",
      "\u001b[0;31mKeyError\u001b[0m                                  Traceback (most recent call last)",
      "\u001b[0;32m<ipython-input-32-208430630fee>\u001b[0m in \u001b[0;36m<module>\u001b[0;34m\u001b[0m\n\u001b[0;32m----> 1\u001b[0;31m \u001b[0mprint\u001b[0m\u001b[0;34m(\u001b[0m\u001b[0mcounts\u001b[0m\u001b[0;34m[\u001b[0m\u001b[0;36m0\u001b[0m\u001b[0;34m]\u001b[0m\u001b[0;34m)\u001b[0m\u001b[0;34m\u001b[0m\u001b[0;34m\u001b[0m\u001b[0m\n\u001b[0m",
      "\u001b[0;31mKeyError\u001b[0m: 0"
     ]
    }
   ],
   "source": [
    "print(counts[0])"
   ]
  }
 ],
 "metadata": {
  "kernelspec": {
   "display_name": "Python 3",
   "language": "python",
   "name": "python3"
  },
  "language_info": {
   "codemirror_mode": {
    "name": "ipython",
    "version": 3
   },
   "file_extension": ".py",
   "mimetype": "text/x-python",
   "name": "python",
   "nbconvert_exporter": "python",
   "pygments_lexer": "ipython3",
   "version": "3.8.5-final"
  }
 },
 "nbformat": 4,
 "nbformat_minor": 4
}