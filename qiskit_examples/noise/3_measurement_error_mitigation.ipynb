{
 "cells": [
  {
   "cell_type": "markdown",
   "metadata": {},
   "source": [
    "# Measurement Error Mitigation"
   ]
  },
  {
   "cell_type": "markdown",
   "metadata": {},
   "source": [
    "## Introduction\n",
    "\n",
    "The measurement calibration is used to mitigate measurement errors. \n",
    "The main idea is to prepare all $2^n$ basis input states and compute the probability of measuring counts in the other basis states. \n",
    "From these calibrations, it is possible to correct the average results of another experiment of interest. This notebook gives examples for how to use the ``ignis.mitigation.measurement`` module."
   ]
  },
  {
   "cell_type": "code",
   "execution_count": 1,
   "metadata": {
    "ExecuteTime": {
     "end_time": "2019-12-10T21:48:45.438505Z",
     "start_time": "2019-12-10T21:48:43.641392Z"
    }
   },
   "outputs": [],
   "source": [
    "# Import general libraries (needed for functions)\n",
    "import numpy as np\n",
    "import time\n",
    "\n",
    "# Import Qiskit classes\n",
    "import qiskit \n",
    "from qiskit import QuantumRegister, QuantumCircuit, ClassicalRegister, Aer\n",
    "from qiskit.providers.aer import noise\n",
    "from qiskit.tools.visualization import plot_histogram\n",
    "\n",
    "# Import measurement calibration functions\n",
    "from qiskit.ignis.mitigation.measurement import (complete_meas_cal, tensored_meas_cal,\n",
    "                                                 CompleteMeasFitter, TensoredMeasFitter)"
   ]
  },
  {
   "cell_type": "markdown",
   "metadata": {},
   "source": [
    "## 3 Qubit Example of the Calibration Matrices"
   ]
  },
  {
   "cell_type": "markdown",
   "metadata": {},
   "source": [
    "Assume that we would like to generate a calibration matrix for the 3 qubits Q2, Q3 and Q4 in a 5-qubit Quantum Register [Q0,Q1,Q2,Q3,Q4]. \n",
    "\n",
    "Since we have 3 qubits, there are $2^3=8$ possible quantum states."
   ]
  },
  {
   "cell_type": "markdown",
   "metadata": {},
   "source": [
    "## Generating Measurement Calibration Circuits\n",
    "\n",
    "First, we generate a list of measurement calibration circuits for the full Hilbert space. \n",
    "Each circuit creates a basis state. \n",
    "If there are $n=3$ qubits, then we get $2^3=8$ calibration circuits."
   ]
  },
  {
   "cell_type": "markdown",
   "metadata": {},
   "source": [
    "The following function **complete_meas_cal** returns a list **meas_calibs** of `QuantumCircuit` objects containing the calibration circuits, \n",
    "and a list **state_labels** of the calibration state labels.\n",
    "\n",
    "The input to this function can be given in one of the following three forms:\n",
    "\n",
    "- **qubit_list:** A list of qubits to perform the measurement correction on, or:\n",
    "- **qr (QuantumRegister):** A quantum register, or:\n",
    "- **cr (ClassicalRegister):** A classical register.\n",
    "\n",
    "In addition, one can provide a string **circlabel**, which is added at the beginning of the circuit names for unique identification.\n",
    "\n",
    "For example, in our case, the input is a 5-qubit `QuantumRegister` containing the qubits Q2,Q3,Q4:"
   ]
  },
  {
   "cell_type": "code",
   "execution_count": 2,
   "metadata": {
    "ExecuteTime": {
     "end_time": "2019-12-10T21:48:45.445285Z",
     "start_time": "2019-12-10T21:48:45.440921Z"
    }
   },
   "outputs": [],
   "source": [
    "# Generate the calibration circuits\n",
    "qr = qiskit.QuantumRegister(5)\n",
    "qubit_list = [2,3,4]\n",
    "meas_calibs, state_labels = complete_meas_cal(qubit_list=qubit_list, qr=qr, circlabel='mcal')"
   ]
  },
  {
   "cell_type": "markdown",
   "metadata": {},
   "source": [
    "Print the $2^3=8$ state labels (for the 3 qubits Q2,Q3,Q4):"
   ]
  },
  {
   "cell_type": "code",
   "execution_count": 3,
   "metadata": {
    "ExecuteTime": {
     "end_time": "2019-12-10T21:48:45.454762Z",
     "start_time": "2019-12-10T21:48:45.448344Z"
    }
   },
   "outputs": [
    {
     "data": {
      "text/plain": [
       "['000', '001', '010', '011', '100', '101', '110', '111']"
      ]
     },
     "execution_count": 3,
     "metadata": {},
     "output_type": "execute_result"
    }
   ],
   "source": [
    "state_labels"
   ]
  },
  {
   "cell_type": "markdown",
   "metadata": {},
   "source": [
    "## Computing the Calibration Matrix\n",
    "\n",
    "If we do not apply any noise, then the calibration matrix is expected to be the $8 \\times 8$ identity matrix."
   ]
  },
  {
   "cell_type": "code",
   "execution_count": 4,
   "metadata": {
    "ExecuteTime": {
     "end_time": "2019-12-10T21:48:45.564448Z",
     "start_time": "2019-12-10T21:48:45.456937Z"
    }
   },
   "outputs": [],
   "source": [
    "# Execute the calibration circuits without noise\n",
    "backend = qiskit.Aer.get_backend('qasm_simulator')\n",
    "job = qiskit.execute(meas_calibs, backend=backend, shots=1000)\n",
    "cal_results = job.result()"
   ]
  },
  {
   "cell_type": "code",
   "execution_count": 5,
   "metadata": {
    "ExecuteTime": {
     "end_time": "2019-12-10T21:48:45.572068Z",
     "start_time": "2019-12-10T21:48:45.566831Z"
    }
   },
   "outputs": [
    {
     "name": "stdout",
     "output_type": "stream",
     "text": [
      "[[1. 0. 0. 0. 0. 0. 0. 0.]\n",
      " [0. 1. 0. 0. 0. 0. 0. 0.]\n",
      " [0. 0. 1. 0. 0. 0. 0. 0.]\n",
      " [0. 0. 0. 1. 0. 0. 0. 0.]\n",
      " [0. 0. 0. 0. 1. 0. 0. 0.]\n",
      " [0. 0. 0. 0. 0. 1. 0. 0.]\n",
      " [0. 0. 0. 0. 0. 0. 1. 0.]\n",
      " [0. 0. 0. 0. 0. 0. 0. 1.]]\n"
     ]
    }
   ],
   "source": [
    "# The calibration matrix without noise is the identity matrix\n",
    "meas_fitter = CompleteMeasFitter(cal_results, state_labels, circlabel='mcal')\n",
    "print(meas_fitter.cal_matrix)"
   ]
  },
  {
   "cell_type": "markdown",
   "metadata": {},
   "source": [
    "Assume that we apply some noise model from Qiskit Aer to the 5 qubits, \n",
    "then the calibration matrix will have most of its mass on the main diagonal, with some additional 'noise'.\n",
    "\n",
    "Alternatively, we can execute the calibration circuits using an IBMQ provider."
   ]
  },
  {
   "cell_type": "code",
   "execution_count": 6,
   "metadata": {
    "ExecuteTime": {
     "end_time": "2019-12-10T21:48:45.578362Z",
     "start_time": "2019-12-10T21:48:45.574278Z"
    }
   },
   "outputs": [],
   "source": [
    "# Generate a noise model for the 5 qubits\n",
    "noise_model = noise.NoiseModel()\n",
    "for qi in range(5):\n",
    "    read_err = noise.errors.readout_error.ReadoutError([[0.9, 0.1],[0.25,0.75]])\n",
    "    noise_model.add_readout_error(read_err, [qi])"
   ]
  },
  {
   "cell_type": "code",
   "execution_count": 7,
   "metadata": {
    "ExecuteTime": {
     "end_time": "2019-12-10T21:48:45.703495Z",
     "start_time": "2019-12-10T21:48:45.580438Z"
    }
   },
   "outputs": [],
   "source": [
    "# Execute the calibration circuits\n",
    "backend = qiskit.Aer.get_backend('qasm_simulator')\n",
    "job = qiskit.execute(meas_calibs, backend=backend, shots=1000, noise_model=noise_model)\n",
    "cal_results = job.result()"
   ]
  },
  {
   "cell_type": "code",
   "execution_count": 8,
   "metadata": {
    "ExecuteTime": {
     "end_time": "2019-12-10T21:48:45.715380Z",
     "start_time": "2019-12-10T21:48:45.709472Z"
    },
    "scrolled": true
   },
   "outputs": [
    {
     "name": "stdout",
     "output_type": "stream",
     "text": [
      "[[0.728 0.207 0.214 0.047 0.205 0.052 0.051 0.01 ]\n",
      " [0.073 0.592 0.029 0.164 0.018 0.168 0.006 0.048]\n",
      " [0.087 0.019 0.613 0.173 0.029 0.005 0.188 0.05 ]\n",
      " [0.009 0.076 0.059 0.512 0.002 0.014 0.018 0.126]\n",
      " [0.082 0.024 0.024 0.006 0.601 0.159 0.169 0.052]\n",
      " [0.011 0.068 0.002 0.015 0.068 0.528 0.023 0.149]\n",
      " [0.009 0.004 0.055 0.021 0.067 0.021 0.493 0.137]\n",
      " [0.001 0.01  0.004 0.062 0.01  0.053 0.052 0.428]]\n"
     ]
    }
   ],
   "source": [
    "# Calculate the calibration matrix with the noise model\n",
    "meas_fitter = CompleteMeasFitter(cal_results, state_labels, qubit_list=qubit_list, circlabel='mcal')\n",
    "print(meas_fitter.cal_matrix)"
   ]
  },
  {
   "cell_type": "code",
   "execution_count": 9,
   "metadata": {
    "ExecuteTime": {
     "end_time": "2019-12-10T21:48:45.911350Z",
     "start_time": "2019-12-10T21:48:45.718844Z"
    },
    "tags": [
     "nbsphinx-thumbnail"
    ]
   },
   "outputs": [
    {
     "data": {
      "image/png": "[encoded data removed]",
      "text/plain": [
       "<Figure size 432x288 with 2 Axes>"
      ]
     },
     "metadata": {
      "needs_background": "light"
     },
     "output_type": "display_data"
    }
   ],
   "source": [
    "# Plot the calibration matrix\n",
    "meas_fitter.plot_calibration()"
   ]
  },
  {
   "cell_type": "markdown",
   "metadata": {},
   "source": [
    "## Analyzing the Results\n",
    "\n",
    "We would like to compute the total measurement fidelity, and the measurement fidelity for a specific qubit, for example, Q0.\n",
    "\n",
    "Since the on-diagonal elements of the calibration matrix are the probabilities of measuring state 'x' given preparation of state 'x', \n",
    "then the trace of this matrix is the average assignment fidelity.\n"
   ]
  },
  {
   "cell_type": "code",
   "execution_count": 10,
   "metadata": {
    "ExecuteTime": {
     "end_time": "2019-12-10T21:48:45.918657Z",
     "start_time": "2019-12-10T21:48:45.913417Z"
    }
   },
   "outputs": [
    {
     "name": "stdout",
     "output_type": "stream",
     "text": [
      "Average Measurement Fidelity: 0.561875\n",
      "Average Measurement Fidelity of Q0: 0.826500\n"
     ]
    }
   ],
   "source": [
    "# What is the measurement fidelity?\n",
    "print(\"Average Measurement Fidelity: %f\" % meas_fitter.readout_fidelity())\n",
    "\n",
    "# What is the measurement fidelity of Q0?\n",
    "print(\"Average Measurement Fidelity of Q0: %f\" % meas_fitter.readout_fidelity(\n",
    "    label_list = [['000','001','010','011'],['100','101','110','111']]))"
   ]
  },
  {
   "cell_type": "markdown",
   "metadata": {},
   "source": [
    "## Applying the Calibration\n",
    "\n",
    "We now perform another experiment and correct the measured results. \n",
    "\n",
    "## Correct Measurement Noise on a 3Q GHZ State\n",
    "\n",
    "As an example, we start with the 3-qubit GHZ state on the qubits Q2,Q3,Q4:\n",
    "\n",
    "$$ \\mid GHZ \\rangle = \\frac{\\mid{000} \\rangle + \\mid{111} \\rangle}{\\sqrt{2}}$$"
   ]
  },
  {
   "cell_type": "code",
   "execution_count": 11,
   "metadata": {
    "ExecuteTime": {
     "end_time": "2019-12-10T21:48:45.928489Z",
     "start_time": "2019-12-10T21:48:45.920726Z"
    }
   },
   "outputs": [
    {
     "data": {
      "text/plain": [
       "<qiskit.circuit.instructionset.InstructionSet at 0x7fa88ba4b370>"
      ]
     },
     "execution_count": 11,
     "metadata": {},
     "output_type": "execute_result"
    }
   ],
   "source": [
    "# Make a 3Q GHZ state\n",
    "cr = ClassicalRegister(3)\n",
    "ghz = QuantumCircuit(qr, cr)\n",
    "ghz.h(qr[2])\n",
    "ghz.cx(qr[2], qr[3])\n",
    "ghz.cx(qr[3], qr[4])\n",
    "ghz.measure(qr[2],cr[0])\n",
    "ghz.measure(qr[3],cr[1])\n",
    "ghz.measure(qr[4],cr[2])"
   ]
  },
  {
   "cell_type": "markdown",
   "metadata": {},
   "source": [
    "We now execute the calibration circuits (with the noise model above):"
   ]
  },
  {
   "cell_type": "code",
   "execution_count": 12,
   "metadata": {
    "ExecuteTime": {
     "end_time": "2019-12-10T21:48:46.069988Z",
     "start_time": "2019-12-10T21:48:45.930197Z"
    }
   },
   "outputs": [],
   "source": [
    "job = qiskit.execute([ghz], backend=backend, shots=5000, noise_model=noise_model)\n",
    "results = job.result()"
   ]
  },
  {
   "cell_type": "markdown",
   "metadata": {},
   "source": [
    "We now compute the results without any error mitigation and with the mitigation, namely after applying the calibration matrix to the results.\n",
    "\n",
    "There are two fitting methods for applying the calibration (if no method is defined, then 'least_squares' is used). \n",
    "- **'pseudo_inverse'**, which is a direct inversion of the calibration matrix, \n",
    "- **'least_squares'**, which constrains to have physical probabilities.\n",
    "\n",
    "The raw data to be corrected can be given in a number of forms:\n",
    "\n",
    "- Form1: A counts dictionary from results.get_counts,\n",
    "- Form2: A list of counts of length=len(state_labels),\n",
    "- Form3: A list of counts of length=M*len(state_labels) where M is an integer (e.g. for use with the tomography data),\n",
    "- Form4: A qiskit Result (e.g. results as above)."
   ]
  },
  {
   "cell_type": "code",
   "execution_count": 13,
   "metadata": {
    "ExecuteTime": {
     "end_time": "2019-12-10T21:48:46.085288Z",
     "start_time": "2019-12-10T21:48:46.072367Z"
    }
   },
   "outputs": [],
   "source": [
    "# Results without mitigation\n",
    "raw_counts = results.get_counts()\n",
    "\n",
    "# Get the filter object\n",
    "meas_filter = meas_fitter.filter\n",
    "\n",
    "# Results with mitigation\n",
    "mitigated_results = meas_filter.apply(results)\n",
    "mitigated_counts = mitigated_results.get_counts(0)"
   ]
  },
  {
   "cell_type": "markdown",
   "metadata": {},
   "source": [
    "We can now plot the results with and without error mitigation:"
   ]
  },
  {
   "cell_type": "code",
   "execution_count": 14,
   "metadata": {
    "ExecuteTime": {
     "end_time": "2019-12-10T21:48:46.320336Z",
     "start_time": "2019-12-10T21:48:46.087649Z"
    }
   },
   "outputs": [
    {
     "data": {
      "image/png": "[encoded data removed]",
      "text/plain": [
       "<Figure size 504x360 with 1 Axes>"
      ]
     },
     "execution_count": 14,
     "metadata": {},
     "output_type": "execute_result"
    }
   ],
   "source": [
    "from qiskit.tools.visualization import *\n",
    "plot_histogram([raw_counts, mitigated_counts], legend=['raw', 'mitigated'])"
   ]
  },
  {
   "cell_type": "markdown",
   "metadata": {},
   "source": [
    "### Applying to a reduced subset of qubits"
   ]
  },
  {
   "cell_type": "markdown",
   "metadata": {},
   "source": [
    "Consider now that we want to correct a 2Q Bell state, but we have the 3Q calibration matrix. We can reduce the matrix and build a new mitigation object."
   ]
  },
  {
   "cell_type": "code",
   "execution_count": 15,
   "metadata": {
    "ExecuteTime": {
     "end_time": "2019-12-10T21:48:46.329509Z",
     "start_time": "2019-12-10T21:48:46.322471Z"
    }
   },
   "outputs": [
    {
     "data": {
      "text/plain": [
       "<qiskit.circuit.instructionset.InstructionSet at 0x7fa88b9a80a0>"
      ]
     },
     "execution_count": 15,
     "metadata": {},
     "output_type": "execute_result"
    }
   ],
   "source": [
    "# Make a 2Q Bell state between Q2 and Q4\n",
    "cr = ClassicalRegister(2)\n",
    "bell = QuantumCircuit(qr, cr)\n",
    "bell.h(qr[2])\n",
    "bell.cx(qr[2], qr[4])\n",
    "bell.measure(qr[2],cr[0])\n",
    "bell.measure(qr[4],cr[1])"
   ]
  },
  {
   "cell_type": "code",
   "execution_count": 16,
   "metadata": {
    "ExecuteTime": {
     "end_time": "2019-12-10T21:48:46.363702Z",
     "start_time": "2019-12-10T21:48:46.331739Z"
    }
   },
   "outputs": [],
   "source": [
    "job = qiskit.execute([bell], backend=backend, shots=5000, noise_model=noise_model)\n",
    "results = job.result()"
   ]
  },
  {
   "cell_type": "code",
   "execution_count": 17,
   "metadata": {
    "ExecuteTime": {
     "end_time": "2019-12-10T21:48:46.368672Z",
     "start_time": "2019-12-10T21:48:46.365428Z"
    }
   },
   "outputs": [],
   "source": [
    "#build a fitter from the subset\n",
    "meas_fitter_sub = meas_fitter.subset_fitter(qubit_sublist=[2,4])"
   ]
  },
  {
   "cell_type": "code",
   "execution_count": 18,
   "metadata": {
    "ExecuteTime": {
     "end_time": "2019-12-10T21:48:46.375831Z",
     "start_time": "2019-12-10T21:48:46.371066Z"
    }
   },
   "outputs": [
    {
     "data": {
      "text/plain": [
       "array([[0.821 , 0.223 , 0.2365, 0.0585],\n",
       "       [0.085 , 0.672 , 0.022 , 0.178 ],\n",
       "       [0.085 , 0.0275, 0.665 , 0.1845],\n",
       "       [0.009 , 0.0775, 0.0765, 0.579 ]])"
      ]
     },
     "execution_count": 18,
     "metadata": {},
     "output_type": "execute_result"
    }
   ],
   "source": [
    "#The calibration matrix is now in the space Q2/Q4\n",
    "meas_fitter_sub.cal_matrix"
   ]
  },
  {
   "cell_type": "code",
   "execution_count": 19,
   "metadata": {
    "ExecuteTime": {
     "end_time": "2019-12-10T21:48:46.529639Z",
     "start_time": "2019-12-10T21:48:46.378317Z"
    }
   },
   "outputs": [
    {
     "data": {
      "image/png": "[encoded data removed]",
      "text/plain": [
       "<Figure size 504x360 with 1 Axes>"
      ]
     },
     "execution_count": 19,
     "metadata": {},
     "output_type": "execute_result"
    }
   ],
   "source": [
    "# Results without mitigation\n",
    "raw_counts = results.get_counts()\n",
    "\n",
    "# Get the filter object\n",
    "meas_filter_sub = meas_fitter_sub.filter\n",
    "\n",
    "# Results with mitigation\n",
    "mitigated_results = meas_filter_sub.apply(results)\n",
    "mitigated_counts = mitigated_results.get_counts(0)\n",
    "from qiskit.tools.visualization import *\n",
    "plot_histogram([raw_counts, mitigated_counts], legend=['raw', 'mitigated'])"
   ]
  },
  {
   "cell_type": "markdown",
   "metadata": {},
   "source": [
    "## Tensored mitigation\n",
    "\n",
    "The calibration can be simplified if the error is known to be local. By \"local error\" we mean that the error can be tensored to subsets of qubits. In this case, less than $2^n$ states are needed for the computation of the calibration matrix.\n",
    "\n",
    "Assume that the error acts locally on qubit 2 and the pair of qubits 3 and 4. Construct the calibration circuits by using the function `tensored_meas_cal`. Unlike before we need to explicitly divide the qubit list up into subset regions."
   ]
  },
  {
   "cell_type": "code",
   "execution_count": 20,
   "metadata": {
    "ExecuteTime": {
     "end_time": "2019-12-10T21:48:46.537248Z",
     "start_time": "2019-12-10T21:48:46.532112Z"
    }
   },
   "outputs": [],
   "source": [
    "# Generate the calibration circuits\n",
    "qr = qiskit.QuantumRegister(5)\n",
    "mit_pattern = [[2],[3,4]]\n",
    "meas_calibs, state_labels = tensored_meas_cal(mit_pattern=mit_pattern, qr=qr, circlabel='mcal')"
   ]
  },
  {
   "cell_type": "markdown",
   "metadata": {},
   "source": [
    "We now retrieve the names of the generated circuits. Note that in each label (of length 3), the least significant bit corresponds to qubit 2, the middle bit corresponds to qubit 3, and the most significant bit corresponds to qubit 4."
   ]
  },
  {
   "cell_type": "code",
   "execution_count": 21,
   "metadata": {
    "ExecuteTime": {
     "end_time": "2019-12-10T21:48:46.546122Z",
     "start_time": "2019-12-10T21:48:46.539698Z"
    }
   },
   "outputs": [
    {
     "name": "stdout",
     "output_type": "stream",
     "text": [
      "mcalcal_000\n",
      "mcalcal_010\n",
      "mcalcal_101\n",
      "mcalcal_111\n"
     ]
    }
   ],
   "source": [
    "for circ in meas_calibs:\n",
    "    print(circ.name)"
   ]
  },
  {
   "cell_type": "markdown",
   "metadata": {},
   "source": [
    "Let us elaborate on the circuit names. We see that there are only four circuits, instead of eight. The total number of required circuits is $2^m$ where $m$ is the number of qubits in the larget subset (here $m=2$).\n",
    "\n",
    "Each basis state of qubits 3 and 4 appears exactly once. Only two basis states are required for qubit 2, so these are split equally across the four experiments. For example, state '0' of qubit 2 appears in state labels '000' and '010'.\n",
    "\n",
    "We now execute the calibration circuits on an Aer simulator, using the same noise model as before. This noise is in fact local to qubits 3 and 4 separately, but assume that we don't know it, and that we only know that it is local for qubit 2."
   ]
  },
  {
   "cell_type": "code",
   "execution_count": 22,
   "metadata": {
    "ExecuteTime": {
     "end_time": "2019-12-10T21:48:46.553810Z",
     "start_time": "2019-12-10T21:48:46.548922Z"
    }
   },
   "outputs": [],
   "source": [
    "# Generate a noise model for the 5 qubits\n",
    "noise_model = noise.NoiseModel()\n",
    "for qi in range(5):\n",
    "    read_err = noise.errors.readout_error.ReadoutError([[0.9, 0.1],[0.25,0.75]])\n",
    "    noise_model.add_readout_error(read_err, [qi])"
   ]
  },
  {
   "cell_type": "code",
   "execution_count": 23,
   "metadata": {
    "ExecuteTime": {
     "end_time": "2019-12-10T21:48:46.731689Z",
     "start_time": "2019-12-10T21:48:46.560852Z"
    }
   },
   "outputs": [],
   "source": [
    "# Execute the calibration circuits\n",
    "backend = qiskit.Aer.get_backend('qasm_simulator')\n",
    "job = qiskit.execute(meas_calibs, backend=backend, shots=5000, noise_model=noise_model)\n",
    "cal_results = job.result()"
   ]
  },
  {
   "cell_type": "code",
   "execution_count": 24,
   "metadata": {
    "ExecuteTime": {
     "end_time": "2019-12-10T21:48:46.742193Z",
     "start_time": "2019-12-10T21:48:46.737348Z"
    }
   },
   "outputs": [],
   "source": [
    "meas_fitter = TensoredMeasFitter(cal_results, mit_pattern=mit_pattern)"
   ]
  },
  {
   "cell_type": "markdown",
   "metadata": {},
   "source": [
    "The fitter provides two calibration matrices. One matrix is for qubit 2, and the other matrix is for qubits 3 and 4."
   ]
  },
  {
   "cell_type": "code",
   "execution_count": 25,
   "metadata": {
    "ExecuteTime": {
     "end_time": "2019-12-10T21:48:46.749341Z",
     "start_time": "2019-12-10T21:48:46.744734Z"
    }
   },
   "outputs": [
    {
     "name": "stdout",
     "output_type": "stream",
     "text": [
      "[array([[0.9053, 0.2497],\n",
      "       [0.0947, 0.7503]]), array([[0.8106, 0.229 , 0.2236, 0.0674],\n",
      "       [0.0852, 0.6656, 0.026 , 0.1906],\n",
      "       [0.0946, 0.0262, 0.67  , 0.1714],\n",
      "       [0.0096, 0.0792, 0.0804, 0.5706]])]\n"
     ]
    }
   ],
   "source": [
    "print(meas_fitter.cal_matrices)"
   ]
  },
  {
   "cell_type": "markdown",
   "metadata": {},
   "source": [
    "We can look at the readout fidelities of the individual tensored components or qubits within a set:"
   ]
  },
  {
   "cell_type": "code",
   "execution_count": 26,
   "metadata": {
    "ExecuteTime": {
     "end_time": "2019-12-10T21:48:46.758432Z",
     "start_time": "2019-12-10T21:48:46.752543Z"
    }
   },
   "outputs": [
    {
     "name": "stdout",
     "output_type": "stream",
     "text": [
      "Readout fidelity of Q2: 0.827800\n",
      "Readout fidelity of Q3/4 space (e.g. mean assignment \n",
      "fidelity of 00,10,01 and 11): 0.679200\n",
      "Readout fidelity of Q3: 0.826200\n"
     ]
    }
   ],
   "source": [
    "#readout fidelity of Q2\n",
    "print('Readout fidelity of Q2: %f'%meas_fitter.readout_fidelity(0))\n",
    "\n",
    "#readout fidelity of Q3/Q4\n",
    "print('Readout fidelity of Q3/4 space (e.g. mean assignment '\n",
    "      '\\nfidelity of 00,10,01 and 11): %f'%meas_fitter.readout_fidelity(1))\n",
    "\n",
    "#readout fidelity of Q3\n",
    "print('Readout fidelity of Q3: %f'%meas_fitter.readout_fidelity(1,[['00','10'],['01','11']]))"
   ]
  },
  {
   "cell_type": "markdown",
   "metadata": {},
   "source": [
    "Plot the individual calibration matrices:"
   ]
  },
  {
   "cell_type": "code",
   "execution_count": 27,
   "metadata": {
    "ExecuteTime": {
     "end_time": "2019-12-10T21:48:47.035847Z",
     "start_time": "2019-12-10T21:48:46.760848Z"
    }
   },
   "outputs": [
    {
     "name": "stdout",
     "output_type": "stream",
     "text": [
      "Q2 Calibration Matrix\n"
     ]
    },
    {
     "data": {
      "image/png": "[encoded data removed]",
      "text/plain": [
       "<Figure size 432x288 with 2 Axes>"
      ]
     },
     "metadata": {
      "needs_background": "light"
     },
     "output_type": "display_data"
    },
    {
     "name": "stdout",
     "output_type": "stream",
     "text": [
      "Q3/Q4 Calibration Matrix\n"
     ]
    },
    {
     "data": {
      "image/png": "[encoded data removed]",
      "text/plain": [
       "<Figure size 432x288 with 2 Axes>"
      ]
     },
     "metadata": {
      "needs_background": "light"
     },
     "output_type": "display_data"
    }
   ],
   "source": [
    "# Plot the calibration matrix\n",
    "print('Q2 Calibration Matrix')\n",
    "meas_fitter.plot_calibration(0)\n",
    "print('Q3/Q4 Calibration Matrix')\n",
    "meas_fitter.plot_calibration(1)"
   ]
  },
  {
   "cell_type": "code",
   "execution_count": 28,
   "metadata": {
    "ExecuteTime": {
     "end_time": "2019-12-10T21:48:47.043630Z",
     "start_time": "2019-12-10T21:48:47.037645Z"
    }
   },
   "outputs": [
    {
     "data": {
      "text/plain": [
       "<qiskit.circuit.instructionset.InstructionSet at 0x7fa88b910fd0>"
      ]
     },
     "execution_count": 28,
     "metadata": {},
     "output_type": "execute_result"
    }
   ],
   "source": [
    "# Make a 3Q GHZ state\n",
    "cr = ClassicalRegister(3)\n",
    "ghz = QuantumCircuit(qr, cr)\n",
    "ghz.h(qr[2])\n",
    "ghz.cx(qr[2], qr[3])\n",
    "ghz.cx(qr[3], qr[4])\n",
    "ghz.measure(qr[2],cr[0])\n",
    "ghz.measure(qr[3],cr[1])\n",
    "ghz.measure(qr[4],cr[2])"
   ]
  },
  {
   "cell_type": "markdown",
   "metadata": {},
   "source": [
    "We now execute the calibration circuits (with the noise model above):"
   ]
  },
  {
   "cell_type": "code",
   "execution_count": 29,
   "metadata": {
    "ExecuteTime": {
     "end_time": "2019-12-10T21:48:47.084467Z",
     "start_time": "2019-12-10T21:48:47.045697Z"
    }
   },
   "outputs": [],
   "source": [
    "job = qiskit.execute([ghz], backend=backend, shots=5000, noise_model=noise_model)\n",
    "results = job.result()"
   ]
  },
  {
   "cell_type": "code",
   "execution_count": 30,
   "metadata": {
    "ExecuteTime": {
     "end_time": "2019-12-10T21:48:47.120453Z",
     "start_time": "2019-12-10T21:48:47.086219Z"
    }
   },
   "outputs": [],
   "source": [
    "# Results without mitigation\n",
    "raw_counts = results.get_counts()\n",
    "\n",
    "# Get the filter object\n",
    "meas_filter = meas_fitter.filter\n",
    "\n",
    "# Results with mitigation\n",
    "mitigated_results = meas_filter.apply(results)\n",
    "mitigated_counts = mitigated_results.get_counts(0)"
   ]
  },
  {
   "cell_type": "markdown",
   "metadata": {},
   "source": [
    "Plot the raw vs corrected state:"
   ]
  },
  {
   "cell_type": "code",
   "execution_count": 31,
   "metadata": {
    "ExecuteTime": {
     "end_time": "2019-12-10T21:48:47.374548Z",
     "start_time": "2019-12-10T21:48:47.122221Z"
    }
   },
   "outputs": [
    {
     "data": {
      "image/png": "[encoded data removed]",
      "text/plain": [
       "<Figure size 504x360 with 1 Axes>"
      ]
     },
     "execution_count": 31,
     "metadata": {},
     "output_type": "execute_result"
    }
   ],
   "source": [
    "meas_filter = meas_fitter.filter\n",
    "mitigated_results = meas_filter.apply(results)\n",
    "mitigated_counts = mitigated_results.get_counts(0)\n",
    "plot_histogram([raw_counts, mitigated_counts], legend=['raw', 'mitigated'])"
   ]
  },
  {
   "cell_type": "markdown",
   "metadata": {},
   "source": [
    "As a check we should get the same answer if we build the full correction matrix from a tensor product of the subspace calibration matrices:"
   ]
  },
  {
   "cell_type": "code",
   "execution_count": 32,
   "metadata": {
    "ExecuteTime": {
     "end_time": "2019-12-10T21:48:47.655680Z",
     "start_time": "2019-12-10T21:48:47.377175Z"
    }
   },
   "outputs": [
    {
     "data": {
      "image/png": "[encoded data removed]",
      "text/plain": [
       "<Figure size 504x360 with 1 Axes>"
      ]
     },
     "execution_count": 32,
     "metadata": {},
     "output_type": "execute_result"
    }
   ],
   "source": [
    "meas_calibs2, state_labels2 = complete_meas_cal([2,3,4])\n",
    "meas_fitter2 = CompleteMeasFitter(None, state_labels2)\n",
    "meas_fitter2.cal_matrix = np.kron(meas_fitter.cal_matrices[1],meas_fitter.cal_matrices[0])\n",
    "meas_filter2 = meas_fitter2.filter\n",
    "mitigated_results2 = meas_filter2.apply(results)\n",
    "mitigated_counts2 = mitigated_results2.get_counts(0)\n",
    "plot_histogram([raw_counts, mitigated_counts2], legend=['raw', 'mitigated'])"
   ]
  },
  {
   "cell_type": "markdown",
   "metadata": {},
   "source": [
    "## Running Aqua Algorithms with Measurement Error Mitigation\n",
    "To use measurement error mitigation when running quantum circuits as part of an Aqua algorithm, we need to include the respective measurement error fitting instance in the QuantumInstance. This object also holds the specifications for the chosen backend.\n",
    "\n",
    "In the following, we illustrate measurement error mitigation of Aqua algorithms on the example of searching the ground state of a Hamiltonian with VQE."
   ]
  },
  {
   "cell_type": "markdown",
   "metadata": {},
   "source": [
    "First, we need to import the libraries that provide backends as well as the classes that are needed to run the algorithm."
   ]
  },
  {
   "cell_type": "code",
   "execution_count": 33,
   "metadata": {},
   "outputs": [],
   "source": [
    "# Import qiskit functions and libraries\n",
    "from qiskit import Aer, IBMQ\n",
    "from qiskit.circuit.library import TwoLocal\n",
    "from qiskit.aqua import QuantumInstance\n",
    "from qiskit.aqua.algorithms import VQE\n",
    "from qiskit.aqua.components.optimizers import COBYLA\n",
    "from qiskit.aqua.operators import X, Y, Z, I, CX, T, H, S, PrimitiveOp\n",
    "from qiskit.providers.aer import noise\n",
    "\n",
    "# Import error mitigation functions\n",
    "from qiskit.ignis.mitigation.measurement import CompleteMeasFitter"
   ]
  },
  {
   "cell_type": "markdown",
   "metadata": {},
   "source": [
    "Then, we initialize the instances that are required to execute the algorithm."
   ]
  },
  {
   "cell_type": "code",
   "execution_count": 34,
   "metadata": {},
   "outputs": [],
   "source": [
    "# Initialize Hamiltonian\n",
    "h_op =  (-1.0523732 * I^I) + \\\n",
    "                (0.39793742 * I^Z) + \\\n",
    "                (-0.3979374 * Z^I) + \\\n",
    "                (-0.0112801 * Z^Z) + \\\n",
    "                (0.18093119 * X^X)\n",
    "# Initialize trial state\n",
    "var_form = TwoLocal(h_op.num_qubits, ['ry', 'rz'], 'cz', reps=3, entanglement='full')\n",
    "# Initialize optimizer\n",
    "optimizer = COBYLA(maxiter=350)\n",
    "# Initialize algorithm to find the ground state\n",
    "vqe = VQE(h_op, var_form, optimizer)"
   ]
  },
  {
   "cell_type": "markdown",
   "metadata": {},
   "source": [
    "Here, we choose the Aer `qasm_simulator` as backend and also add a custom noise model.\n",
    "The application of an actual quantum backend provided by IBMQ is outlined in the commented code."
   ]
  },
  {
   "cell_type": "code",
   "execution_count": 35,
   "metadata": {},
   "outputs": [],
   "source": [
    "# Generate a noise model\n",
    "noise_model = noise.NoiseModel()\n",
    "for qi in range(h_op.num_qubits):\n",
    "    read_err = noise.errors.readout_error.ReadoutError([[0.8, 0.2],[0.1,0.9]])\n",
    "    noise_model.add_readout_error(read_err, [qi])    \n",
    "    \n",
    "# Initialize the backend configuration using measurement error mitigation with a QuantumInstance \n",
    "qi_noise_model_qasm = QuantumInstance(backend=Aer.get_backend('qasm_simulator'), noise_model=noise_model, shots=1000,\n",
    "                                      measurement_error_mitigation_cls=CompleteMeasFitter,\n",
    "                                      measurement_error_mitigation_shots=1000)\n",
    "\n",
    "# Intialize your TOKEN and provider with \n",
    "# provider = IBMQ.get_provider(...)\n",
    "# qi_noise_model_ibmq = QuantumInstance(backend=provider = provider.get_backend(backend_name)), shots=8000,\n",
    "#                                       measurement_error_mitigation_cls=CompleteMeasFitter, measurement_error_mitigation_shots=8000)"
   ]
  },
  {
   "cell_type": "markdown",
   "metadata": {},
   "source": [
    "Finally, we can run the algorithm and check the results."
   ]
  },
  {
   "cell_type": "code",
   "execution_count": 36,
   "metadata": {},
   "outputs": [
    {
     "name": "stderr",
     "output_type": "stream",
     "text": [
      "/home/computertreker/git/qiskit/qiskit-tutorial/foo/lib/python3.8/site-packages/qiskit/aqua/operators/state_fns/dict_state_fn.py:207: DeprecationWarning: The Python built-in `round` is deprecated for complex scalars, and will raise a `TypeError` in a future release. Use `np.round` or `scalar.round` instead.\n",
      "  return round(sum([v * front.primitive.get(b, 0) for (b, v) in\n",
      "/home/computertreker/git/qiskit/qiskit-tutorial/foo/lib/python3.8/site-packages/qiskit/aqua/operators/state_fns/dict_state_fn.py:207: DeprecationWarning: The Python built-in `round` is deprecated for complex scalars, and will raise a `TypeError` in a future release. Use `np.round` or `scalar.round` instead.\n",
      "  return round(sum([v * front.primitive.get(b, 0) for (b, v) in\n",
      "/home/computertreker/git/qiskit/qiskit-tutorial/foo/lib/python3.8/site-packages/qiskit/aqua/operators/state_fns/dict_state_fn.py:207: DeprecationWarning: The Python built-in `round` is deprecated for complex scalars, and will raise a `TypeError` in a future release. Use `np.round` or `scalar.round` instead.\n",
      "  return round(sum([v * front.primitive.get(b, 0) for (b, v) in\n",
      "/home/computertreker/git/qiskit/qiskit-tutorial/foo/lib/python3.8/site-packages/qiskit/aqua/operators/state_fns/dict_state_fn.py:207: DeprecationWarning: The Python built-in `round` is deprecated for complex scalars, and will raise a `TypeError` in a future release. Use `np.round` or `scalar.round` instead.\n",
      "  return round(sum([v * front.primitive.get(b, 0) for (b, v) in\n",
      "/home/computertreker/git/qiskit/qiskit-tutorial/foo/lib/python3.8/site-packages/qiskit/aqua/operators/state_fns/dict_state_fn.py:207: DeprecationWarning: The Python built-in `round` is deprecated for complex scalars, and will raise a `TypeError` in a future release. Use `np.round` or `scalar.round` instead.\n",
      "  return round(sum([v * front.primitive.get(b, 0) for (b, v) in\n",
      "/home/computertreker/git/qiskit/qiskit-tutorial/foo/lib/python3.8/site-packages/qiskit/aqua/operators/state_fns/dict_state_fn.py:207: DeprecationWarning: The Python built-in `round` is deprecated for complex scalars, and will raise a `TypeError` in a future release. Use `np.round` or `scalar.round` instead.\n",
      "  return round(sum([v * front.primitive.get(b, 0) for (b, v) in\n",
      "/home/computertreker/git/qiskit/qiskit-tutorial/foo/lib/python3.8/site-packages/qiskit/aqua/operators/state_fns/dict_state_fn.py:207: DeprecationWarning: The Python built-in `round` is deprecated for complex scalars, and will raise a `TypeError` in a future release. Use `np.round` or `scalar.round` instead.\n",
      "  return round(sum([v * front.primitive.get(b, 0) for (b, v) in\n",
      "/home/computertreker/git/qiskit/qiskit-tutorial/foo/lib/python3.8/site-packages/qiskit/aqua/operators/state_fns/dict_state_fn.py:207: DeprecationWarning: The Python built-in `round` is deprecated for complex scalars, and will raise a `TypeError` in a future release. Use `np.round` or `scalar.round` instead.\n",
      "  return round(sum([v * front.primitive.get(b, 0) for (b, v) in\n",
      "/home/computertreker/git/qiskit/qiskit-tutorial/foo/lib/python3.8/site-packages/qiskit/aqua/operators/state_fns/dict_state_fn.py:207: DeprecationWarning: The Python built-in `round` is deprecated for complex scalars, and will raise a `TypeError` in a future release. Use `np.round` or `scalar.round` instead.\n",
      "  return round(sum([v * front.primitive.get(b, 0) for (b, v) in\n",
      "/home/computertreker/git/qiskit/qiskit-tutorial/foo/lib/python3.8/site-packages/qiskit/aqua/operators/state_fns/dict_state_fn.py:207: DeprecationWarning: The Python built-in `round` is deprecated for complex scalars, and will raise a `TypeError` in a future release. Use `np.round` or `scalar.round` instead.\n",
      "  return round(sum([v * front.primitive.get(b, 0) for (b, v) in\n",
      "/home/computertreker/git/qiskit/qiskit-tutorial/foo/lib/python3.8/site-packages/qiskit/aqua/operators/state_fns/dict_state_fn.py:207: DeprecationWarning: The Python built-in `round` is deprecated for complex scalars, and will raise a `TypeError` in a future release. Use `np.round` or `scalar.round` instead.\n",
      "  return round(sum([v * front.primitive.get(b, 0) for (b, v) in\n",
      "/home/computertreker/git/qiskit/qiskit-tutorial/foo/lib/python3.8/site-packages/qiskit/aqua/operators/state_fns/dict_state_fn.py:207: DeprecationWarning: The Python built-in `round` is deprecated for complex scalars, and will raise a `TypeError` in a future release. Use `np.round` or `scalar.round` instead.\n",
      "  return round(sum([v * front.primitive.get(b, 0) for (b, v) in\n",
      "/home/computertreker/git/qiskit/qiskit-tutorial/foo/lib/python3.8/site-packages/qiskit/aqua/operators/state_fns/dict_state_fn.py:207: DeprecationWarning: The Python built-in `round` is deprecated for complex scalars, and will raise a `TypeError` in a future release. Use `np.round` or `scalar.round` instead.\n",
      "  return round(sum([v * front.primitive.get(b, 0) for (b, v) in\n",
      "/home/computertreker/git/qiskit/qiskit-tutorial/foo/lib/python3.8/site-packages/qiskit/aqua/operators/state_fns/dict_state_fn.py:207: DeprecationWarning: The Python built-in `round` is deprecated for complex scalars, and will raise a `TypeError` in a future release. Use `np.round` or `scalar.round` instead.\n",
      "  return round(sum([v * front.primitive.get(b, 0) for (b, v) in\n",
      "/home/computertreker/git/qiskit/qiskit-tutorial/foo/lib/python3.8/site-packages/qiskit/aqua/operators/state_fns/dict_state_fn.py:207: DeprecationWarning: The Python built-in `round` is deprecated for complex scalars, and will raise a `TypeError` in a future release. Use `np.round` or `scalar.round` instead.\n",
      "  return round(sum([v * front.primitive.get(b, 0) for (b, v) in\n",
      "/home/computertreker/git/qiskit/qiskit-tutorial/foo/lib/python3.8/site-packages/qiskit/aqua/operators/state_fns/dict_state_fn.py:207: DeprecationWarning: The Python built-in `round` is deprecated for complex scalars, and will raise a `TypeError` in a future release. Use `np.round` or `scalar.round` instead.\n",
      "  return round(sum([v * front.primitive.get(b, 0) for (b, v) in\n",
      "/home/computertreker/git/qiskit/qiskit-tutorial/foo/lib/python3.8/site-packages/qiskit/aqua/operators/state_fns/dict_state_fn.py:207: DeprecationWarning: The Python built-in `round` is deprecated for complex scalars, and will raise a `TypeError` in a future release. Use `np.round` or `scalar.round` instead.\n",
      "  return round(sum([v * front.primitive.get(b, 0) for (b, v) in\n",
      "/home/computertreker/git/qiskit/qiskit-tutorial/foo/lib/python3.8/site-packages/qiskit/aqua/operators/state_fns/dict_state_fn.py:207: DeprecationWarning: The Python built-in `round` is deprecated for complex scalars, and will raise a `TypeError` in a future release. Use `np.round` or `scalar.round` instead.\n",
      "  return round(sum([v * front.primitive.get(b, 0) for (b, v) in\n",
      "/home/computertreker/git/qiskit/qiskit-tutorial/foo/lib/python3.8/site-packages/qiskit/aqua/operators/state_fns/dict_state_fn.py:207: DeprecationWarning: The Python built-in `round` is deprecated for complex scalars, and will raise a `TypeError` in a future release. Use `np.round` or `scalar.round` instead.\n",
      "  return round(sum([v * front.primitive.get(b, 0) for (b, v) in\n",
      "/home/computertreker/git/qiskit/qiskit-tutorial/foo/lib/python3.8/site-packages/qiskit/aqua/operators/state_fns/dict_state_fn.py:207: DeprecationWarning: The Python built-in `round` is deprecated for complex scalars, and will raise a `TypeError` in a future release. Use `np.round` or `scalar.round` instead.\n",
      "  return round(sum([v * front.primitive.get(b, 0) for (b, v) in\n",
      "/home/computertreker/git/qiskit/qiskit-tutorial/foo/lib/python3.8/site-packages/qiskit/aqua/operators/state_fns/dict_state_fn.py:207: DeprecationWarning: The Python built-in `round` is deprecated for complex scalars, and will raise a `TypeError` in a future release. Use `np.round` or `scalar.round` instead.\n",
      "  return round(sum([v * front.primitive.get(b, 0) for (b, v) in\n",
      "/home/computertreker/git/qiskit/qiskit-tutorial/foo/lib/python3.8/site-packages/qiskit/aqua/operators/state_fns/dict_state_fn.py:207: DeprecationWarning: The Python built-in `round` is deprecated for complex scalars, and will raise a `TypeError` in a future release. Use `np.round` or `scalar.round` instead.\n",
      "  return round(sum([v * front.primitive.get(b, 0) for (b, v) in\n",
      "/home/computertreker/git/qiskit/qiskit-tutorial/foo/lib/python3.8/site-packages/qiskit/aqua/operators/state_fns/dict_state_fn.py:207: DeprecationWarning: The Python built-in `round` is deprecated for complex scalars, and will raise a `TypeError` in a future release. Use `np.round` or `scalar.round` instead.\n",
      "  return round(sum([v * front.primitive.get(b, 0) for (b, v) in\n",
      "/home/computertreker/git/qiskit/qiskit-tutorial/foo/lib/python3.8/site-packages/qiskit/aqua/operators/state_fns/dict_state_fn.py:207: DeprecationWarning: The Python built-in `round` is deprecated for complex scalars, and will raise a `TypeError` in a future release. Use `np.round` or `scalar.round` instead.\n",
      "  return round(sum([v * front.primitive.get(b, 0) for (b, v) in\n",
      "/home/computertreker/git/qiskit/qiskit-tutorial/foo/lib/python3.8/site-packages/qiskit/aqua/operators/state_fns/dict_state_fn.py:207: DeprecationWarning: The Python built-in `round` is deprecated for complex scalars, and will raise a `TypeError` in a future release. Use `np.round` or `scalar.round` instead.\n",
      "  return round(sum([v * front.primitive.get(b, 0) for (b, v) in\n"
     ]
    },
    {
     "name": "stderr",
     "output_type": "stream",
     "text": [
      "/home/computertreker/git/qiskit/qiskit-tutorial/foo/lib/python3.8/site-packages/qiskit/aqua/operators/state_fns/dict_state_fn.py:207: DeprecationWarning: The Python built-in `round` is deprecated for complex scalars, and will raise a `TypeError` in a future release. Use `np.round` or `scalar.round` instead.\n",
      "  return round(sum([v * front.primitive.get(b, 0) for (b, v) in\n",
      "/home/computertreker/git/qiskit/qiskit-tutorial/foo/lib/python3.8/site-packages/qiskit/aqua/operators/state_fns/dict_state_fn.py:207: DeprecationWarning: The Python built-in `round` is deprecated for complex scalars, and will raise a `TypeError` in a future release. Use `np.round` or `scalar.round` instead.\n",
      "  return round(sum([v * front.primitive.get(b, 0) for (b, v) in\n",
      "/home/computertreker/git/qiskit/qiskit-tutorial/foo/lib/python3.8/site-packages/qiskit/aqua/operators/state_fns/dict_state_fn.py:207: DeprecationWarning: The Python built-in `round` is deprecated for complex scalars, and will raise a `TypeError` in a future release. Use `np.round` or `scalar.round` instead.\n",
      "  return round(sum([v * front.primitive.get(b, 0) for (b, v) in\n",
      "/home/computertreker/git/qiskit/qiskit-tutorial/foo/lib/python3.8/site-packages/qiskit/aqua/operators/state_fns/dict_state_fn.py:207: DeprecationWarning: The Python built-in `round` is deprecated for complex scalars, and will raise a `TypeError` in a future release. Use `np.round` or `scalar.round` instead.\n",
      "  return round(sum([v * front.primitive.get(b, 0) for (b, v) in\n",
      "/home/computertreker/git/qiskit/qiskit-tutorial/foo/lib/python3.8/site-packages/qiskit/aqua/operators/state_fns/dict_state_fn.py:207: DeprecationWarning: The Python built-in `round` is deprecated for complex scalars, and will raise a `TypeError` in a future release. Use `np.round` or `scalar.round` instead.\n",
      "  return round(sum([v * front.primitive.get(b, 0) for (b, v) in\n",
      "/home/computertreker/git/qiskit/qiskit-tutorial/foo/lib/python3.8/site-packages/qiskit/aqua/operators/state_fns/dict_state_fn.py:207: DeprecationWarning: The Python built-in `round` is deprecated for complex scalars, and will raise a `TypeError` in a future release. Use `np.round` or `scalar.round` instead.\n",
      "  return round(sum([v * front.primitive.get(b, 0) for (b, v) in\n",
      "/home/computertreker/git/qiskit/qiskit-tutorial/foo/lib/python3.8/site-packages/qiskit/aqua/operators/state_fns/dict_state_fn.py:207: DeprecationWarning: The Python built-in `round` is deprecated for complex scalars, and will raise a `TypeError` in a future release. Use `np.round` or `scalar.round` instead.\n",
      "  return round(sum([v * front.primitive.get(b, 0) for (b, v) in\n",
      "/home/computertreker/git/qiskit/qiskit-tutorial/foo/lib/python3.8/site-packages/qiskit/aqua/operators/state_fns/dict_state_fn.py:207: DeprecationWarning: The Python built-in `round` is deprecated for complex scalars, and will raise a `TypeError` in a future release. Use `np.round` or `scalar.round` instead.\n",
      "  return round(sum([v * front.primitive.get(b, 0) for (b, v) in\n",
      "/home/computertreker/git/qiskit/qiskit-tutorial/foo/lib/python3.8/site-packages/qiskit/aqua/operators/state_fns/dict_state_fn.py:207: DeprecationWarning: The Python built-in `round` is deprecated for complex scalars, and will raise a `TypeError` in a future release. Use `np.round` or `scalar.round` instead.\n",
      "  return round(sum([v * front.primitive.get(b, 0) for (b, v) in\n",
      "/home/computertreker/git/qiskit/qiskit-tutorial/foo/lib/python3.8/site-packages/qiskit/aqua/operators/state_fns/dict_state_fn.py:207: DeprecationWarning: The Python built-in `round` is deprecated for complex scalars, and will raise a `TypeError` in a future release. Use `np.round` or `scalar.round` instead.\n",
      "  return round(sum([v * front.primitive.get(b, 0) for (b, v) in\n",
      "/home/computertreker/git/qiskit/qiskit-tutorial/foo/lib/python3.8/site-packages/qiskit/aqua/operators/state_fns/dict_state_fn.py:207: DeprecationWarning: The Python built-in `round` is deprecated for complex scalars, and will raise a `TypeError` in a future release. Use `np.round` or `scalar.round` instead.\n",
      "  return round(sum([v * front.primitive.get(b, 0) for (b, v) in\n",
      "/home/computertreker/git/qiskit/qiskit-tutorial/foo/lib/python3.8/site-packages/qiskit/aqua/operators/state_fns/dict_state_fn.py:207: DeprecationWarning: The Python built-in `round` is deprecated for complex scalars, and will raise a `TypeError` in a future release. Use `np.round` or `scalar.round` instead.\n",
      "  return round(sum([v * front.primitive.get(b, 0) for (b, v) in\n",
      "/home/computertreker/git/qiskit/qiskit-tutorial/foo/lib/python3.8/site-packages/qiskit/aqua/operators/state_fns/dict_state_fn.py:207: DeprecationWarning: The Python built-in `round` is deprecated for complex scalars, and will raise a `TypeError` in a future release. Use `np.round` or `scalar.round` instead.\n",
      "  return round(sum([v * front.primitive.get(b, 0) for (b, v) in\n",
      "/home/computertreker/git/qiskit/qiskit-tutorial/foo/lib/python3.8/site-packages/qiskit/aqua/operators/state_fns/dict_state_fn.py:207: DeprecationWarning: The Python built-in `round` is deprecated for complex scalars, and will raise a `TypeError` in a future release. Use `np.round` or `scalar.round` instead.\n",
      "  return round(sum([v * front.primitive.get(b, 0) for (b, v) in\n",
      "/home/computertreker/git/qiskit/qiskit-tutorial/foo/lib/python3.8/site-packages/qiskit/aqua/operators/state_fns/dict_state_fn.py:207: DeprecationWarning: The Python built-in `round` is deprecated for complex scalars, and will raise a `TypeError` in a future release. Use `np.round` or `scalar.round` instead.\n",
      "  return round(sum([v * front.primitive.get(b, 0) for (b, v) in\n",
      "/home/computertreker/git/qiskit/qiskit-tutorial/foo/lib/python3.8/site-packages/qiskit/aqua/operators/state_fns/dict_state_fn.py:207: DeprecationWarning: The Python built-in `round` is deprecated for complex scalars, and will raise a `TypeError` in a future release. Use `np.round` or `scalar.round` instead.\n",
      "  return round(sum([v * front.primitive.get(b, 0) for (b, v) in\n",
      "/home/computertreker/git/qiskit/qiskit-tutorial/foo/lib/python3.8/site-packages/qiskit/aqua/operators/state_fns/dict_state_fn.py:207: DeprecationWarning: The Python built-in `round` is deprecated for complex scalars, and will raise a `TypeError` in a future release. Use `np.round` or `scalar.round` instead.\n",
      "  return round(sum([v * front.primitive.get(b, 0) for (b, v) in\n",
      "/home/computertreker/git/qiskit/qiskit-tutorial/foo/lib/python3.8/site-packages/qiskit/aqua/operators/state_fns/dict_state_fn.py:207: DeprecationWarning: The Python built-in `round` is deprecated for complex scalars, and will raise a `TypeError` in a future release. Use `np.round` or `scalar.round` instead.\n",
      "  return round(sum([v * front.primitive.get(b, 0) for (b, v) in\n",
      "/home/computertreker/git/qiskit/qiskit-tutorial/foo/lib/python3.8/site-packages/qiskit/aqua/operators/state_fns/dict_state_fn.py:207: DeprecationWarning: The Python built-in `round` is deprecated for complex scalars, and will raise a `TypeError` in a future release. Use `np.round` or `scalar.round` instead.\n",
      "  return round(sum([v * front.primitive.get(b, 0) for (b, v) in\n",
      "/home/computertreker/git/qiskit/qiskit-tutorial/foo/lib/python3.8/site-packages/qiskit/aqua/operators/state_fns/dict_state_fn.py:207: DeprecationWarning: The Python built-in `round` is deprecated for complex scalars, and will raise a `TypeError` in a future release. Use `np.round` or `scalar.round` instead.\n",
      "  return round(sum([v * front.primitive.get(b, 0) for (b, v) in\n",
      "/home/computertreker/git/qiskit/qiskit-tutorial/foo/lib/python3.8/site-packages/qiskit/aqua/operators/state_fns/dict_state_fn.py:207: DeprecationWarning: The Python built-in `round` is deprecated for complex scalars, and will raise a `TypeError` in a future release. Use `np.round` or `scalar.round` instead.\n",
      "  return round(sum([v * front.primitive.get(b, 0) for (b, v) in\n",
      "/home/computertreker/git/qiskit/qiskit-tutorial/foo/lib/python3.8/site-packages/qiskit/aqua/operators/state_fns/dict_state_fn.py:207: DeprecationWarning: The Python built-in `round` is deprecated for complex scalars, and will raise a `TypeError` in a future release. Use `np.round` or `scalar.round` instead.\n",
      "  return round(sum([v * front.primitive.get(b, 0) for (b, v) in\n",
      "/home/computertreker/git/qiskit/qiskit-tutorial/foo/lib/python3.8/site-packages/qiskit/aqua/operators/state_fns/dict_state_fn.py:207: DeprecationWarning: The Python built-in `round` is deprecated for complex scalars, and will raise a `TypeError` in a future release. Use `np.round` or `scalar.round` instead.\n",
      "  return round(sum([v * front.primitive.get(b, 0) for (b, v) in\n",
      "/home/computertreker/git/qiskit/qiskit-tutorial/foo/lib/python3.8/site-packages/qiskit/aqua/operators/state_fns/dict_state_fn.py:207: DeprecationWarning: The Python built-in `round` is deprecated for complex scalars, and will raise a `TypeError` in a future release. Use `np.round` or `scalar.round` instead.\n",
      "  return round(sum([v * front.primitive.get(b, 0) for (b, v) in\n",
      "/home/computertreker/git/qiskit/qiskit-tutorial/foo/lib/python3.8/site-packages/qiskit/aqua/operators/state_fns/dict_state_fn.py:207: DeprecationWarning: The Python built-in `round` is deprecated for complex scalars, and will raise a `TypeError` in a future release. Use `np.round` or `scalar.round` instead.\n",
      "  return round(sum([v * front.primitive.get(b, 0) for (b, v) in\n"
     ]
    },
    {
     "name": "stderr",
     "output_type": "stream",
     "text": [
      "/home/computertreker/git/qiskit/qiskit-tutorial/foo/lib/python3.8/site-packages/qiskit/aqua/operators/state_fns/dict_state_fn.py:207: DeprecationWarning: The Python built-in `round` is deprecated for complex scalars, and will raise a `TypeError` in a future release. Use `np.round` or `scalar.round` instead.\n",
      "  return round(sum([v * front.primitive.get(b, 0) for (b, v) in\n",
      "/home/computertreker/git/qiskit/qiskit-tutorial/foo/lib/python3.8/site-packages/qiskit/aqua/operators/state_fns/dict_state_fn.py:207: DeprecationWarning: The Python built-in `round` is deprecated for complex scalars, and will raise a `TypeError` in a future release. Use `np.round` or `scalar.round` instead.\n",
      "  return round(sum([v * front.primitive.get(b, 0) for (b, v) in\n",
      "/home/computertreker/git/qiskit/qiskit-tutorial/foo/lib/python3.8/site-packages/qiskit/aqua/operators/state_fns/dict_state_fn.py:207: DeprecationWarning: The Python built-in `round` is deprecated for complex scalars, and will raise a `TypeError` in a future release. Use `np.round` or `scalar.round` instead.\n",
      "  return round(sum([v * front.primitive.get(b, 0) for (b, v) in\n",
      "/home/computertreker/git/qiskit/qiskit-tutorial/foo/lib/python3.8/site-packages/qiskit/aqua/operators/state_fns/dict_state_fn.py:207: DeprecationWarning: The Python built-in `round` is deprecated for complex scalars, and will raise a `TypeError` in a future release. Use `np.round` or `scalar.round` instead.\n",
      "  return round(sum([v * front.primitive.get(b, 0) for (b, v) in\n",
      "/home/computertreker/git/qiskit/qiskit-tutorial/foo/lib/python3.8/site-packages/qiskit/aqua/operators/state_fns/dict_state_fn.py:207: DeprecationWarning: The Python built-in `round` is deprecated for complex scalars, and will raise a `TypeError` in a future release. Use `np.round` or `scalar.round` instead.\n",
      "  return round(sum([v * front.primitive.get(b, 0) for (b, v) in\n",
      "/home/computertreker/git/qiskit/qiskit-tutorial/foo/lib/python3.8/site-packages/qiskit/aqua/operators/state_fns/dict_state_fn.py:207: DeprecationWarning: The Python built-in `round` is deprecated for complex scalars, and will raise a `TypeError` in a future release. Use `np.round` or `scalar.round` instead.\n",
      "  return round(sum([v * front.primitive.get(b, 0) for (b, v) in\n",
      "/home/computertreker/git/qiskit/qiskit-tutorial/foo/lib/python3.8/site-packages/qiskit/aqua/operators/state_fns/dict_state_fn.py:207: DeprecationWarning: The Python built-in `round` is deprecated for complex scalars, and will raise a `TypeError` in a future release. Use `np.round` or `scalar.round` instead.\n",
      "  return round(sum([v * front.primitive.get(b, 0) for (b, v) in\n",
      "/home/computertreker/git/qiskit/qiskit-tutorial/foo/lib/python3.8/site-packages/qiskit/aqua/operators/state_fns/dict_state_fn.py:207: DeprecationWarning: The Python built-in `round` is deprecated for complex scalars, and will raise a `TypeError` in a future release. Use `np.round` or `scalar.round` instead.\n",
      "  return round(sum([v * front.primitive.get(b, 0) for (b, v) in\n",
      "/home/computertreker/git/qiskit/qiskit-tutorial/foo/lib/python3.8/site-packages/qiskit/aqua/operators/state_fns/dict_state_fn.py:207: DeprecationWarning: The Python built-in `round` is deprecated for complex scalars, and will raise a `TypeError` in a future release. Use `np.round` or `scalar.round` instead.\n",
      "  return round(sum([v * front.primitive.get(b, 0) for (b, v) in\n",
      "/home/computertreker/git/qiskit/qiskit-tutorial/foo/lib/python3.8/site-packages/qiskit/aqua/operators/state_fns/dict_state_fn.py:207: DeprecationWarning: The Python built-in `round` is deprecated for complex scalars, and will raise a `TypeError` in a future release. Use `np.round` or `scalar.round` instead.\n",
      "  return round(sum([v * front.primitive.get(b, 0) for (b, v) in\n",
      "/home/computertreker/git/qiskit/qiskit-tutorial/foo/lib/python3.8/site-packages/qiskit/aqua/operators/state_fns/dict_state_fn.py:207: DeprecationWarning: The Python built-in `round` is deprecated for complex scalars, and will raise a `TypeError` in a future release. Use `np.round` or `scalar.round` instead.\n",
      "  return round(sum([v * front.primitive.get(b, 0) for (b, v) in\n",
      "/home/computertreker/git/qiskit/qiskit-tutorial/foo/lib/python3.8/site-packages/qiskit/aqua/operators/state_fns/dict_state_fn.py:207: DeprecationWarning: The Python built-in `round` is deprecated for complex scalars, and will raise a `TypeError` in a future release. Use `np.round` or `scalar.round` instead.\n",
      "  return round(sum([v * front.primitive.get(b, 0) for (b, v) in\n",
      "/home/computertreker/git/qiskit/qiskit-tutorial/foo/lib/python3.8/site-packages/qiskit/aqua/operators/state_fns/dict_state_fn.py:207: DeprecationWarning: The Python built-in `round` is deprecated for complex scalars, and will raise a `TypeError` in a future release. Use `np.round` or `scalar.round` instead.\n",
      "  return round(sum([v * front.primitive.get(b, 0) for (b, v) in\n",
      "/home/computertreker/git/qiskit/qiskit-tutorial/foo/lib/python3.8/site-packages/qiskit/aqua/operators/state_fns/dict_state_fn.py:207: DeprecationWarning: The Python built-in `round` is deprecated for complex scalars, and will raise a `TypeError` in a future release. Use `np.round` or `scalar.round` instead.\n",
      "  return round(sum([v * front.primitive.get(b, 0) for (b, v) in\n",
      "/home/computertreker/git/qiskit/qiskit-tutorial/foo/lib/python3.8/site-packages/qiskit/aqua/operators/state_fns/dict_state_fn.py:207: DeprecationWarning: The Python built-in `round` is deprecated for complex scalars, and will raise a `TypeError` in a future release. Use `np.round` or `scalar.round` instead.\n",
      "  return round(sum([v * front.primitive.get(b, 0) for (b, v) in\n",
      "/home/computertreker/git/qiskit/qiskit-tutorial/foo/lib/python3.8/site-packages/qiskit/aqua/operators/state_fns/dict_state_fn.py:207: DeprecationWarning: The Python built-in `round` is deprecated for complex scalars, and will raise a `TypeError` in a future release. Use `np.round` or `scalar.round` instead.\n",
      "  return round(sum([v * front.primitive.get(b, 0) for (b, v) in\n",
      "/home/computertreker/git/qiskit/qiskit-tutorial/foo/lib/python3.8/site-packages/qiskit/aqua/operators/state_fns/dict_state_fn.py:207: DeprecationWarning: The Python built-in `round` is deprecated for complex scalars, and will raise a `TypeError` in a future release. Use `np.round` or `scalar.round` instead.\n",
      "  return round(sum([v * front.primitive.get(b, 0) for (b, v) in\n",
      "/home/computertreker/git/qiskit/qiskit-tutorial/foo/lib/python3.8/site-packages/qiskit/aqua/operators/state_fns/dict_state_fn.py:207: DeprecationWarning: The Python built-in `round` is deprecated for complex scalars, and will raise a `TypeError` in a future release. Use `np.round` or `scalar.round` instead.\n",
      "  return round(sum([v * front.primitive.get(b, 0) for (b, v) in\n",
      "/home/computertreker/git/qiskit/qiskit-tutorial/foo/lib/python3.8/site-packages/qiskit/aqua/operators/state_fns/dict_state_fn.py:207: DeprecationWarning: The Python built-in `round` is deprecated for complex scalars, and will raise a `TypeError` in a future release. Use `np.round` or `scalar.round` instead.\n",
      "  return round(sum([v * front.primitive.get(b, 0) for (b, v) in\n",
      "/home/computertreker/git/qiskit/qiskit-tutorial/foo/lib/python3.8/site-packages/qiskit/aqua/operators/state_fns/dict_state_fn.py:207: DeprecationWarning: The Python built-in `round` is deprecated for complex scalars, and will raise a `TypeError` in a future release. Use `np.round` or `scalar.round` instead.\n",
      "  return round(sum([v * front.primitive.get(b, 0) for (b, v) in\n",
      "/home/computertreker/git/qiskit/qiskit-tutorial/foo/lib/python3.8/site-packages/qiskit/aqua/operators/state_fns/dict_state_fn.py:207: DeprecationWarning: The Python built-in `round` is deprecated for complex scalars, and will raise a `TypeError` in a future release. Use `np.round` or `scalar.round` instead.\n",
      "  return round(sum([v * front.primitive.get(b, 0) for (b, v) in\n",
      "/home/computertreker/git/qiskit/qiskit-tutorial/foo/lib/python3.8/site-packages/qiskit/aqua/operators/state_fns/dict_state_fn.py:207: DeprecationWarning: The Python built-in `round` is deprecated for complex scalars, and will raise a `TypeError` in a future release. Use `np.round` or `scalar.round` instead.\n",
      "  return round(sum([v * front.primitive.get(b, 0) for (b, v) in\n",
      "/home/computertreker/git/qiskit/qiskit-tutorial/foo/lib/python3.8/site-packages/qiskit/aqua/operators/state_fns/dict_state_fn.py:207: DeprecationWarning: The Python built-in `round` is deprecated for complex scalars, and will raise a `TypeError` in a future release. Use `np.round` or `scalar.round` instead.\n",
      "  return round(sum([v * front.primitive.get(b, 0) for (b, v) in\n",
      "/home/computertreker/git/qiskit/qiskit-tutorial/foo/lib/python3.8/site-packages/qiskit/aqua/operators/state_fns/dict_state_fn.py:207: DeprecationWarning: The Python built-in `round` is deprecated for complex scalars, and will raise a `TypeError` in a future release. Use `np.round` or `scalar.round` instead.\n",
      "  return round(sum([v * front.primitive.get(b, 0) for (b, v) in\n",
      "/home/computertreker/git/qiskit/qiskit-tutorial/foo/lib/python3.8/site-packages/qiskit/aqua/operators/state_fns/dict_state_fn.py:207: DeprecationWarning: The Python built-in `round` is deprecated for complex scalars, and will raise a `TypeError` in a future release. Use `np.round` or `scalar.round` instead.\n",
      "  return round(sum([v * front.primitive.get(b, 0) for (b, v) in\n"
     ]
    },
    {
     "name": "stderr",
     "output_type": "stream",
     "text": [
      "/home/computertreker/git/qiskit/qiskit-tutorial/foo/lib/python3.8/site-packages/qiskit/aqua/operators/state_fns/dict_state_fn.py:207: DeprecationWarning: The Python built-in `round` is deprecated for complex scalars, and will raise a `TypeError` in a future release. Use `np.round` or `scalar.round` instead.\n",
      "  return round(sum([v * front.primitive.get(b, 0) for (b, v) in\n",
      "/home/computertreker/git/qiskit/qiskit-tutorial/foo/lib/python3.8/site-packages/qiskit/aqua/operators/state_fns/dict_state_fn.py:207: DeprecationWarning: The Python built-in `round` is deprecated for complex scalars, and will raise a `TypeError` in a future release. Use `np.round` or `scalar.round` instead.\n",
      "  return round(sum([v * front.primitive.get(b, 0) for (b, v) in\n",
      "/home/computertreker/git/qiskit/qiskit-tutorial/foo/lib/python3.8/site-packages/qiskit/aqua/operators/state_fns/dict_state_fn.py:207: DeprecationWarning: The Python built-in `round` is deprecated for complex scalars, and will raise a `TypeError` in a future release. Use `np.round` or `scalar.round` instead.\n",
      "  return round(sum([v * front.primitive.get(b, 0) for (b, v) in\n",
      "/home/computertreker/git/qiskit/qiskit-tutorial/foo/lib/python3.8/site-packages/qiskit/aqua/operators/state_fns/dict_state_fn.py:207: DeprecationWarning: The Python built-in `round` is deprecated for complex scalars, and will raise a `TypeError` in a future release. Use `np.round` or `scalar.round` instead.\n",
      "  return round(sum([v * front.primitive.get(b, 0) for (b, v) in\n",
      "/home/computertreker/git/qiskit/qiskit-tutorial/foo/lib/python3.8/site-packages/qiskit/aqua/operators/state_fns/dict_state_fn.py:207: DeprecationWarning: The Python built-in `round` is deprecated for complex scalars, and will raise a `TypeError` in a future release. Use `np.round` or `scalar.round` instead.\n",
      "  return round(sum([v * front.primitive.get(b, 0) for (b, v) in\n",
      "/home/computertreker/git/qiskit/qiskit-tutorial/foo/lib/python3.8/site-packages/qiskit/aqua/operators/state_fns/dict_state_fn.py:207: DeprecationWarning: The Python built-in `round` is deprecated for complex scalars, and will raise a `TypeError` in a future release. Use `np.round` or `scalar.round` instead.\n",
      "  return round(sum([v * front.primitive.get(b, 0) for (b, v) in\n",
      "/home/computertreker/git/qiskit/qiskit-tutorial/foo/lib/python3.8/site-packages/qiskit/aqua/operators/state_fns/dict_state_fn.py:207: DeprecationWarning: The Python built-in `round` is deprecated for complex scalars, and will raise a `TypeError` in a future release. Use `np.round` or `scalar.round` instead.\n",
      "  return round(sum([v * front.primitive.get(b, 0) for (b, v) in\n",
      "/home/computertreker/git/qiskit/qiskit-tutorial/foo/lib/python3.8/site-packages/qiskit/aqua/operators/state_fns/dict_state_fn.py:207: DeprecationWarning: The Python built-in `round` is deprecated for complex scalars, and will raise a `TypeError` in a future release. Use `np.round` or `scalar.round` instead.\n",
      "  return round(sum([v * front.primitive.get(b, 0) for (b, v) in\n",
      "/home/computertreker/git/qiskit/qiskit-tutorial/foo/lib/python3.8/site-packages/qiskit/aqua/operators/state_fns/dict_state_fn.py:207: DeprecationWarning: The Python built-in `round` is deprecated for complex scalars, and will raise a `TypeError` in a future release. Use `np.round` or `scalar.round` instead.\n",
      "  return round(sum([v * front.primitive.get(b, 0) for (b, v) in\n",
      "/home/computertreker/git/qiskit/qiskit-tutorial/foo/lib/python3.8/site-packages/qiskit/aqua/operators/state_fns/dict_state_fn.py:207: DeprecationWarning: The Python built-in `round` is deprecated for complex scalars, and will raise a `TypeError` in a future release. Use `np.round` or `scalar.round` instead.\n",
      "  return round(sum([v * front.primitive.get(b, 0) for (b, v) in\n",
      "/home/computertreker/git/qiskit/qiskit-tutorial/foo/lib/python3.8/site-packages/qiskit/aqua/operators/state_fns/dict_state_fn.py:207: DeprecationWarning: The Python built-in `round` is deprecated for complex scalars, and will raise a `TypeError` in a future release. Use `np.round` or `scalar.round` instead.\n",
      "  return round(sum([v * front.primitive.get(b, 0) for (b, v) in\n",
      "/home/computertreker/git/qiskit/qiskit-tutorial/foo/lib/python3.8/site-packages/qiskit/aqua/operators/state_fns/dict_state_fn.py:207: DeprecationWarning: The Python built-in `round` is deprecated for complex scalars, and will raise a `TypeError` in a future release. Use `np.round` or `scalar.round` instead.\n",
      "  return round(sum([v * front.primitive.get(b, 0) for (b, v) in\n",
      "/home/computertreker/git/qiskit/qiskit-tutorial/foo/lib/python3.8/site-packages/qiskit/aqua/operators/state_fns/dict_state_fn.py:207: DeprecationWarning: The Python built-in `round` is deprecated for complex scalars, and will raise a `TypeError` in a future release. Use `np.round` or `scalar.round` instead.\n",
      "  return round(sum([v * front.primitive.get(b, 0) for (b, v) in\n",
      "/home/computertreker/git/qiskit/qiskit-tutorial/foo/lib/python3.8/site-packages/qiskit/aqua/operators/state_fns/dict_state_fn.py:207: DeprecationWarning: The Python built-in `round` is deprecated for complex scalars, and will raise a `TypeError` in a future release. Use `np.round` or `scalar.round` instead.\n",
      "  return round(sum([v * front.primitive.get(b, 0) for (b, v) in\n",
      "/home/computertreker/git/qiskit/qiskit-tutorial/foo/lib/python3.8/site-packages/qiskit/aqua/operators/state_fns/dict_state_fn.py:207: DeprecationWarning: The Python built-in `round` is deprecated for complex scalars, and will raise a `TypeError` in a future release. Use `np.round` or `scalar.round` instead.\n",
      "  return round(sum([v * front.primitive.get(b, 0) for (b, v) in\n",
      "/home/computertreker/git/qiskit/qiskit-tutorial/foo/lib/python3.8/site-packages/qiskit/aqua/operators/state_fns/dict_state_fn.py:207: DeprecationWarning: The Python built-in `round` is deprecated for complex scalars, and will raise a `TypeError` in a future release. Use `np.round` or `scalar.round` instead.\n",
      "  return round(sum([v * front.primitive.get(b, 0) for (b, v) in\n",
      "/home/computertreker/git/qiskit/qiskit-tutorial/foo/lib/python3.8/site-packages/qiskit/aqua/operators/state_fns/dict_state_fn.py:207: DeprecationWarning: The Python built-in `round` is deprecated for complex scalars, and will raise a `TypeError` in a future release. Use `np.round` or `scalar.round` instead.\n",
      "  return round(sum([v * front.primitive.get(b, 0) for (b, v) in\n",
      "/home/computertreker/git/qiskit/qiskit-tutorial/foo/lib/python3.8/site-packages/qiskit/aqua/operators/state_fns/dict_state_fn.py:207: DeprecationWarning: The Python built-in `round` is deprecated for complex scalars, and will raise a `TypeError` in a future release. Use `np.round` or `scalar.round` instead.\n",
      "  return round(sum([v * front.primitive.get(b, 0) for (b, v) in\n",
      "/home/computertreker/git/qiskit/qiskit-tutorial/foo/lib/python3.8/site-packages/qiskit/aqua/operators/state_fns/dict_state_fn.py:207: DeprecationWarning: The Python built-in `round` is deprecated for complex scalars, and will raise a `TypeError` in a future release. Use `np.round` or `scalar.round` instead.\n",
      "  return round(sum([v * front.primitive.get(b, 0) for (b, v) in\n",
      "/home/computertreker/git/qiskit/qiskit-tutorial/foo/lib/python3.8/site-packages/qiskit/aqua/operators/state_fns/dict_state_fn.py:207: DeprecationWarning: The Python built-in `round` is deprecated for complex scalars, and will raise a `TypeError` in a future release. Use `np.round` or `scalar.round` instead.\n",
      "  return round(sum([v * front.primitive.get(b, 0) for (b, v) in\n",
      "/home/computertreker/git/qiskit/qiskit-tutorial/foo/lib/python3.8/site-packages/qiskit/aqua/operators/state_fns/dict_state_fn.py:207: DeprecationWarning: The Python built-in `round` is deprecated for complex scalars, and will raise a `TypeError` in a future release. Use `np.round` or `scalar.round` instead.\n",
      "  return round(sum([v * front.primitive.get(b, 0) for (b, v) in\n",
      "/home/computertreker/git/qiskit/qiskit-tutorial/foo/lib/python3.8/site-packages/qiskit/aqua/operators/state_fns/dict_state_fn.py:207: DeprecationWarning: The Python built-in `round` is deprecated for complex scalars, and will raise a `TypeError` in a future release. Use `np.round` or `scalar.round` instead.\n",
      "  return round(sum([v * front.primitive.get(b, 0) for (b, v) in\n",
      "/home/computertreker/git/qiskit/qiskit-tutorial/foo/lib/python3.8/site-packages/qiskit/aqua/operators/state_fns/dict_state_fn.py:207: DeprecationWarning: The Python built-in `round` is deprecated for complex scalars, and will raise a `TypeError` in a future release. Use `np.round` or `scalar.round` instead.\n",
      "  return round(sum([v * front.primitive.get(b, 0) for (b, v) in\n",
      "/home/computertreker/git/qiskit/qiskit-tutorial/foo/lib/python3.8/site-packages/qiskit/aqua/operators/state_fns/dict_state_fn.py:207: DeprecationWarning: The Python built-in `round` is deprecated for complex scalars, and will raise a `TypeError` in a future release. Use `np.round` or `scalar.round` instead.\n",
      "  return round(sum([v * front.primitive.get(b, 0) for (b, v) in\n",
      "/home/computertreker/git/qiskit/qiskit-tutorial/foo/lib/python3.8/site-packages/qiskit/aqua/operators/state_fns/dict_state_fn.py:207: DeprecationWarning: The Python built-in `round` is deprecated for complex scalars, and will raise a `TypeError` in a future release. Use `np.round` or `scalar.round` instead.\n",
      "  return round(sum([v * front.primitive.get(b, 0) for (b, v) in\n"
     ]
    },
    {
     "name": "stderr",
     "output_type": "stream",
     "text": [
      "/home/computertreker/git/qiskit/qiskit-tutorial/foo/lib/python3.8/site-packages/qiskit/aqua/operators/state_fns/dict_state_fn.py:207: DeprecationWarning: The Python built-in `round` is deprecated for complex scalars, and will raise a `TypeError` in a future release. Use `np.round` or `scalar.round` instead.\n",
      "  return round(sum([v * front.primitive.get(b, 0) for (b, v) in\n",
      "/home/computertreker/git/qiskit/qiskit-tutorial/foo/lib/python3.8/site-packages/qiskit/aqua/operators/state_fns/dict_state_fn.py:207: DeprecationWarning: The Python built-in `round` is deprecated for complex scalars, and will raise a `TypeError` in a future release. Use `np.round` or `scalar.round` instead.\n",
      "  return round(sum([v * front.primitive.get(b, 0) for (b, v) in\n",
      "/home/computertreker/git/qiskit/qiskit-tutorial/foo/lib/python3.8/site-packages/qiskit/aqua/operators/state_fns/dict_state_fn.py:207: DeprecationWarning: The Python built-in `round` is deprecated for complex scalars, and will raise a `TypeError` in a future release. Use `np.round` or `scalar.round` instead.\n",
      "  return round(sum([v * front.primitive.get(b, 0) for (b, v) in\n",
      "/home/computertreker/git/qiskit/qiskit-tutorial/foo/lib/python3.8/site-packages/qiskit/aqua/operators/state_fns/dict_state_fn.py:207: DeprecationWarning: The Python built-in `round` is deprecated for complex scalars, and will raise a `TypeError` in a future release. Use `np.round` or `scalar.round` instead.\n",
      "  return round(sum([v * front.primitive.get(b, 0) for (b, v) in\n",
      "/home/computertreker/git/qiskit/qiskit-tutorial/foo/lib/python3.8/site-packages/qiskit/aqua/operators/state_fns/dict_state_fn.py:207: DeprecationWarning: The Python built-in `round` is deprecated for complex scalars, and will raise a `TypeError` in a future release. Use `np.round` or `scalar.round` instead.\n",
      "  return round(sum([v * front.primitive.get(b, 0) for (b, v) in\n",
      "/home/computertreker/git/qiskit/qiskit-tutorial/foo/lib/python3.8/site-packages/qiskit/aqua/operators/state_fns/dict_state_fn.py:207: DeprecationWarning: The Python built-in `round` is deprecated for complex scalars, and will raise a `TypeError` in a future release. Use `np.round` or `scalar.round` instead.\n",
      "  return round(sum([v * front.primitive.get(b, 0) for (b, v) in\n",
      "/home/computertreker/git/qiskit/qiskit-tutorial/foo/lib/python3.8/site-packages/qiskit/aqua/operators/state_fns/dict_state_fn.py:207: DeprecationWarning: The Python built-in `round` is deprecated for complex scalars, and will raise a `TypeError` in a future release. Use `np.round` or `scalar.round` instead.\n",
      "  return round(sum([v * front.primitive.get(b, 0) for (b, v) in\n",
      "/home/computertreker/git/qiskit/qiskit-tutorial/foo/lib/python3.8/site-packages/qiskit/aqua/operators/state_fns/dict_state_fn.py:207: DeprecationWarning: The Python built-in `round` is deprecated for complex scalars, and will raise a `TypeError` in a future release. Use `np.round` or `scalar.round` instead.\n",
      "  return round(sum([v * front.primitive.get(b, 0) for (b, v) in\n",
      "/home/computertreker/git/qiskit/qiskit-tutorial/foo/lib/python3.8/site-packages/qiskit/aqua/operators/state_fns/dict_state_fn.py:207: DeprecationWarning: The Python built-in `round` is deprecated for complex scalars, and will raise a `TypeError` in a future release. Use `np.round` or `scalar.round` instead.\n",
      "  return round(sum([v * front.primitive.get(b, 0) for (b, v) in\n",
      "/home/computertreker/git/qiskit/qiskit-tutorial/foo/lib/python3.8/site-packages/qiskit/aqua/operators/state_fns/dict_state_fn.py:207: DeprecationWarning: The Python built-in `round` is deprecated for complex scalars, and will raise a `TypeError` in a future release. Use `np.round` or `scalar.round` instead.\n",
      "  return round(sum([v * front.primitive.get(b, 0) for (b, v) in\n",
      "/home/computertreker/git/qiskit/qiskit-tutorial/foo/lib/python3.8/site-packages/qiskit/aqua/operators/state_fns/dict_state_fn.py:207: DeprecationWarning: The Python built-in `round` is deprecated for complex scalars, and will raise a `TypeError` in a future release. Use `np.round` or `scalar.round` instead.\n",
      "  return round(sum([v * front.primitive.get(b, 0) for (b, v) in\n",
      "/home/computertreker/git/qiskit/qiskit-tutorial/foo/lib/python3.8/site-packages/qiskit/aqua/operators/state_fns/dict_state_fn.py:207: DeprecationWarning: The Python built-in `round` is deprecated for complex scalars, and will raise a `TypeError` in a future release. Use `np.round` or `scalar.round` instead.\n",
      "  return round(sum([v * front.primitive.get(b, 0) for (b, v) in\n",
      "/home/computertreker/git/qiskit/qiskit-tutorial/foo/lib/python3.8/site-packages/qiskit/aqua/operators/state_fns/dict_state_fn.py:207: DeprecationWarning: The Python built-in `round` is deprecated for complex scalars, and will raise a `TypeError` in a future release. Use `np.round` or `scalar.round` instead.\n",
      "  return round(sum([v * front.primitive.get(b, 0) for (b, v) in\n",
      "/home/computertreker/git/qiskit/qiskit-tutorial/foo/lib/python3.8/site-packages/qiskit/aqua/operators/state_fns/dict_state_fn.py:207: DeprecationWarning: The Python built-in `round` is deprecated for complex scalars, and will raise a `TypeError` in a future release. Use `np.round` or `scalar.round` instead.\n",
      "  return round(sum([v * front.primitive.get(b, 0) for (b, v) in\n",
      "/home/computertreker/git/qiskit/qiskit-tutorial/foo/lib/python3.8/site-packages/qiskit/aqua/operators/state_fns/dict_state_fn.py:207: DeprecationWarning: The Python built-in `round` is deprecated for complex scalars, and will raise a `TypeError` in a future release. Use `np.round` or `scalar.round` instead.\n",
      "  return round(sum([v * front.primitive.get(b, 0) for (b, v) in\n",
      "/home/computertreker/git/qiskit/qiskit-tutorial/foo/lib/python3.8/site-packages/qiskit/aqua/operators/state_fns/dict_state_fn.py:207: DeprecationWarning: The Python built-in `round` is deprecated for complex scalars, and will raise a `TypeError` in a future release. Use `np.round` or `scalar.round` instead.\n",
      "  return round(sum([v * front.primitive.get(b, 0) for (b, v) in\n",
      "/home/computertreker/git/qiskit/qiskit-tutorial/foo/lib/python3.8/site-packages/qiskit/aqua/operators/state_fns/dict_state_fn.py:207: DeprecationWarning: The Python built-in `round` is deprecated for complex scalars, and will raise a `TypeError` in a future release. Use `np.round` or `scalar.round` instead.\n",
      "  return round(sum([v * front.primitive.get(b, 0) for (b, v) in\n",
      "/home/computertreker/git/qiskit/qiskit-tutorial/foo/lib/python3.8/site-packages/qiskit/aqua/operators/state_fns/dict_state_fn.py:207: DeprecationWarning: The Python built-in `round` is deprecated for complex scalars, and will raise a `TypeError` in a future release. Use `np.round` or `scalar.round` instead.\n",
      "  return round(sum([v * front.primitive.get(b, 0) for (b, v) in\n",
      "/home/computertreker/git/qiskit/qiskit-tutorial/foo/lib/python3.8/site-packages/qiskit/aqua/operators/state_fns/dict_state_fn.py:207: DeprecationWarning: The Python built-in `round` is deprecated for complex scalars, and will raise a `TypeError` in a future release. Use `np.round` or `scalar.round` instead.\n",
      "  return round(sum([v * front.primitive.get(b, 0) for (b, v) in\n",
      "/home/computertreker/git/qiskit/qiskit-tutorial/foo/lib/python3.8/site-packages/qiskit/aqua/operators/state_fns/dict_state_fn.py:207: DeprecationWarning: The Python built-in `round` is deprecated for complex scalars, and will raise a `TypeError` in a future release. Use `np.round` or `scalar.round` instead.\n",
      "  return round(sum([v * front.primitive.get(b, 0) for (b, v) in\n",
      "/home/computertreker/git/qiskit/qiskit-tutorial/foo/lib/python3.8/site-packages/qiskit/aqua/operators/state_fns/dict_state_fn.py:207: DeprecationWarning: The Python built-in `round` is deprecated for complex scalars, and will raise a `TypeError` in a future release. Use `np.round` or `scalar.round` instead.\n",
      "  return round(sum([v * front.primitive.get(b, 0) for (b, v) in\n",
      "/home/computertreker/git/qiskit/qiskit-tutorial/foo/lib/python3.8/site-packages/qiskit/aqua/operators/state_fns/dict_state_fn.py:207: DeprecationWarning: The Python built-in `round` is deprecated for complex scalars, and will raise a `TypeError` in a future release. Use `np.round` or `scalar.round` instead.\n",
      "  return round(sum([v * front.primitive.get(b, 0) for (b, v) in\n",
      "/home/computertreker/git/qiskit/qiskit-tutorial/foo/lib/python3.8/site-packages/qiskit/aqua/operators/state_fns/dict_state_fn.py:207: DeprecationWarning: The Python built-in `round` is deprecated for complex scalars, and will raise a `TypeError` in a future release. Use `np.round` or `scalar.round` instead.\n",
      "  return round(sum([v * front.primitive.get(b, 0) for (b, v) in\n",
      "/home/computertreker/git/qiskit/qiskit-tutorial/foo/lib/python3.8/site-packages/qiskit/aqua/operators/state_fns/dict_state_fn.py:207: DeprecationWarning: The Python built-in `round` is deprecated for complex scalars, and will raise a `TypeError` in a future release. Use `np.round` or `scalar.round` instead.\n",
      "  return round(sum([v * front.primitive.get(b, 0) for (b, v) in\n",
      "/home/computertreker/git/qiskit/qiskit-tutorial/foo/lib/python3.8/site-packages/qiskit/aqua/operators/state_fns/dict_state_fn.py:207: DeprecationWarning: The Python built-in `round` is deprecated for complex scalars, and will raise a `TypeError` in a future release. Use `np.round` or `scalar.round` instead.\n",
      "  return round(sum([v * front.primitive.get(b, 0) for (b, v) in\n"
     ]
    },
    {
     "name": "stderr",
     "output_type": "stream",
     "text": [
      "/home/computertreker/git/qiskit/qiskit-tutorial/foo/lib/python3.8/site-packages/qiskit/aqua/operators/state_fns/dict_state_fn.py:207: DeprecationWarning: The Python built-in `round` is deprecated for complex scalars, and will raise a `TypeError` in a future release. Use `np.round` or `scalar.round` instead.\n",
      "  return round(sum([v * front.primitive.get(b, 0) for (b, v) in\n",
      "/home/computertreker/git/qiskit/qiskit-tutorial/foo/lib/python3.8/site-packages/qiskit/aqua/operators/state_fns/dict_state_fn.py:207: DeprecationWarning: The Python built-in `round` is deprecated for complex scalars, and will raise a `TypeError` in a future release. Use `np.round` or `scalar.round` instead.\n",
      "  return round(sum([v * front.primitive.get(b, 0) for (b, v) in\n",
      "/home/computertreker/git/qiskit/qiskit-tutorial/foo/lib/python3.8/site-packages/qiskit/aqua/operators/state_fns/dict_state_fn.py:207: DeprecationWarning: The Python built-in `round` is deprecated for complex scalars, and will raise a `TypeError` in a future release. Use `np.round` or `scalar.round` instead.\n",
      "  return round(sum([v * front.primitive.get(b, 0) for (b, v) in\n",
      "/home/computertreker/git/qiskit/qiskit-tutorial/foo/lib/python3.8/site-packages/qiskit/aqua/operators/state_fns/dict_state_fn.py:207: DeprecationWarning: The Python built-in `round` is deprecated for complex scalars, and will raise a `TypeError` in a future release. Use `np.round` or `scalar.round` instead.\n",
      "  return round(sum([v * front.primitive.get(b, 0) for (b, v) in\n",
      "/home/computertreker/git/qiskit/qiskit-tutorial/foo/lib/python3.8/site-packages/qiskit/aqua/operators/state_fns/dict_state_fn.py:207: DeprecationWarning: The Python built-in `round` is deprecated for complex scalars, and will raise a `TypeError` in a future release. Use `np.round` or `scalar.round` instead.\n",
      "  return round(sum([v * front.primitive.get(b, 0) for (b, v) in\n",
      "/home/computertreker/git/qiskit/qiskit-tutorial/foo/lib/python3.8/site-packages/qiskit/aqua/operators/state_fns/dict_state_fn.py:207: DeprecationWarning: The Python built-in `round` is deprecated for complex scalars, and will raise a `TypeError` in a future release. Use `np.round` or `scalar.round` instead.\n",
      "  return round(sum([v * front.primitive.get(b, 0) for (b, v) in\n",
      "/home/computertreker/git/qiskit/qiskit-tutorial/foo/lib/python3.8/site-packages/qiskit/aqua/operators/state_fns/dict_state_fn.py:207: DeprecationWarning: The Python built-in `round` is deprecated for complex scalars, and will raise a `TypeError` in a future release. Use `np.round` or `scalar.round` instead.\n",
      "  return round(sum([v * front.primitive.get(b, 0) for (b, v) in\n",
      "/home/computertreker/git/qiskit/qiskit-tutorial/foo/lib/python3.8/site-packages/qiskit/aqua/operators/state_fns/dict_state_fn.py:207: DeprecationWarning: The Python built-in `round` is deprecated for complex scalars, and will raise a `TypeError` in a future release. Use `np.round` or `scalar.round` instead.\n",
      "  return round(sum([v * front.primitive.get(b, 0) for (b, v) in\n",
      "/home/computertreker/git/qiskit/qiskit-tutorial/foo/lib/python3.8/site-packages/qiskit/aqua/operators/state_fns/dict_state_fn.py:207: DeprecationWarning: The Python built-in `round` is deprecated for complex scalars, and will raise a `TypeError` in a future release. Use `np.round` or `scalar.round` instead.\n",
      "  return round(sum([v * front.primitive.get(b, 0) for (b, v) in\n",
      "/home/computertreker/git/qiskit/qiskit-tutorial/foo/lib/python3.8/site-packages/qiskit/aqua/operators/state_fns/dict_state_fn.py:207: DeprecationWarning: The Python built-in `round` is deprecated for complex scalars, and will raise a `TypeError` in a future release. Use `np.round` or `scalar.round` instead.\n",
      "  return round(sum([v * front.primitive.get(b, 0) for (b, v) in\n",
      "/home/computertreker/git/qiskit/qiskit-tutorial/foo/lib/python3.8/site-packages/qiskit/aqua/operators/state_fns/dict_state_fn.py:207: DeprecationWarning: The Python built-in `round` is deprecated for complex scalars, and will raise a `TypeError` in a future release. Use `np.round` or `scalar.round` instead.\n",
      "  return round(sum([v * front.primitive.get(b, 0) for (b, v) in\n",
      "/home/computertreker/git/qiskit/qiskit-tutorial/foo/lib/python3.8/site-packages/qiskit/aqua/operators/state_fns/dict_state_fn.py:207: DeprecationWarning: The Python built-in `round` is deprecated for complex scalars, and will raise a `TypeError` in a future release. Use `np.round` or `scalar.round` instead.\n",
      "  return round(sum([v * front.primitive.get(b, 0) for (b, v) in\n",
      "/home/computertreker/git/qiskit/qiskit-tutorial/foo/lib/python3.8/site-packages/qiskit/aqua/operators/state_fns/dict_state_fn.py:207: DeprecationWarning: The Python built-in `round` is deprecated for complex scalars, and will raise a `TypeError` in a future release. Use `np.round` or `scalar.round` instead.\n",
      "  return round(sum([v * front.primitive.get(b, 0) for (b, v) in\n",
      "/home/computertreker/git/qiskit/qiskit-tutorial/foo/lib/python3.8/site-packages/qiskit/aqua/operators/state_fns/dict_state_fn.py:207: DeprecationWarning: The Python built-in `round` is deprecated for complex scalars, and will raise a `TypeError` in a future release. Use `np.round` or `scalar.round` instead.\n",
      "  return round(sum([v * front.primitive.get(b, 0) for (b, v) in\n",
      "/home/computertreker/git/qiskit/qiskit-tutorial/foo/lib/python3.8/site-packages/qiskit/aqua/operators/state_fns/dict_state_fn.py:207: DeprecationWarning: The Python built-in `round` is deprecated for complex scalars, and will raise a `TypeError` in a future release. Use `np.round` or `scalar.round` instead.\n",
      "  return round(sum([v * front.primitive.get(b, 0) for (b, v) in\n",
      "/home/computertreker/git/qiskit/qiskit-tutorial/foo/lib/python3.8/site-packages/qiskit/aqua/operators/state_fns/dict_state_fn.py:207: DeprecationWarning: The Python built-in `round` is deprecated for complex scalars, and will raise a `TypeError` in a future release. Use `np.round` or `scalar.round` instead.\n",
      "  return round(sum([v * front.primitive.get(b, 0) for (b, v) in\n",
      "/home/computertreker/git/qiskit/qiskit-tutorial/foo/lib/python3.8/site-packages/qiskit/aqua/operators/state_fns/dict_state_fn.py:207: DeprecationWarning: The Python built-in `round` is deprecated for complex scalars, and will raise a `TypeError` in a future release. Use `np.round` or `scalar.round` instead.\n",
      "  return round(sum([v * front.primitive.get(b, 0) for (b, v) in\n",
      "/home/computertreker/git/qiskit/qiskit-tutorial/foo/lib/python3.8/site-packages/qiskit/aqua/operators/state_fns/dict_state_fn.py:207: DeprecationWarning: The Python built-in `round` is deprecated for complex scalars, and will raise a `TypeError` in a future release. Use `np.round` or `scalar.round` instead.\n",
      "  return round(sum([v * front.primitive.get(b, 0) for (b, v) in\n",
      "/home/computertreker/git/qiskit/qiskit-tutorial/foo/lib/python3.8/site-packages/qiskit/aqua/operators/state_fns/dict_state_fn.py:207: DeprecationWarning: The Python built-in `round` is deprecated for complex scalars, and will raise a `TypeError` in a future release. Use `np.round` or `scalar.round` instead.\n",
      "  return round(sum([v * front.primitive.get(b, 0) for (b, v) in\n",
      "/home/computertreker/git/qiskit/qiskit-tutorial/foo/lib/python3.8/site-packages/qiskit/aqua/operators/state_fns/dict_state_fn.py:207: DeprecationWarning: The Python built-in `round` is deprecated for complex scalars, and will raise a `TypeError` in a future release. Use `np.round` or `scalar.round` instead.\n",
      "  return round(sum([v * front.primitive.get(b, 0) for (b, v) in\n",
      "/home/computertreker/git/qiskit/qiskit-tutorial/foo/lib/python3.8/site-packages/qiskit/aqua/operators/state_fns/dict_state_fn.py:207: DeprecationWarning: The Python built-in `round` is deprecated for complex scalars, and will raise a `TypeError` in a future release. Use `np.round` or `scalar.round` instead.\n",
      "  return round(sum([v * front.primitive.get(b, 0) for (b, v) in\n",
      "/home/computertreker/git/qiskit/qiskit-tutorial/foo/lib/python3.8/site-packages/qiskit/aqua/operators/state_fns/dict_state_fn.py:207: DeprecationWarning: The Python built-in `round` is deprecated for complex scalars, and will raise a `TypeError` in a future release. Use `np.round` or `scalar.round` instead.\n",
      "  return round(sum([v * front.primitive.get(b, 0) for (b, v) in\n",
      "/home/computertreker/git/qiskit/qiskit-tutorial/foo/lib/python3.8/site-packages/qiskit/aqua/operators/state_fns/dict_state_fn.py:207: DeprecationWarning: The Python built-in `round` is deprecated for complex scalars, and will raise a `TypeError` in a future release. Use `np.round` or `scalar.round` instead.\n",
      "  return round(sum([v * front.primitive.get(b, 0) for (b, v) in\n",
      "/home/computertreker/git/qiskit/qiskit-tutorial/foo/lib/python3.8/site-packages/qiskit/aqua/operators/state_fns/dict_state_fn.py:207: DeprecationWarning: The Python built-in `round` is deprecated for complex scalars, and will raise a `TypeError` in a future release. Use `np.round` or `scalar.round` instead.\n",
      "  return round(sum([v * front.primitive.get(b, 0) for (b, v) in\n",
      "/home/computertreker/git/qiskit/qiskit-tutorial/foo/lib/python3.8/site-packages/qiskit/aqua/operators/state_fns/dict_state_fn.py:207: DeprecationWarning: The Python built-in `round` is deprecated for complex scalars, and will raise a `TypeError` in a future release. Use `np.round` or `scalar.round` instead.\n",
      "  return round(sum([v * front.primitive.get(b, 0) for (b, v) in\n"
     ]
    },
    {
     "name": "stderr",
     "output_type": "stream",
     "text": [
      "/home/computertreker/git/qiskit/qiskit-tutorial/foo/lib/python3.8/site-packages/qiskit/aqua/operators/state_fns/dict_state_fn.py:207: DeprecationWarning: The Python built-in `round` is deprecated for complex scalars, and will raise a `TypeError` in a future release. Use `np.round` or `scalar.round` instead.\n",
      "  return round(sum([v * front.primitive.get(b, 0) for (b, v) in\n",
      "/home/computertreker/git/qiskit/qiskit-tutorial/foo/lib/python3.8/site-packages/qiskit/aqua/operators/state_fns/dict_state_fn.py:207: DeprecationWarning: The Python built-in `round` is deprecated for complex scalars, and will raise a `TypeError` in a future release. Use `np.round` or `scalar.round` instead.\n",
      "  return round(sum([v * front.primitive.get(b, 0) for (b, v) in\n",
      "/home/computertreker/git/qiskit/qiskit-tutorial/foo/lib/python3.8/site-packages/qiskit/aqua/operators/state_fns/dict_state_fn.py:207: DeprecationWarning: The Python built-in `round` is deprecated for complex scalars, and will raise a `TypeError` in a future release. Use `np.round` or `scalar.round` instead.\n",
      "  return round(sum([v * front.primitive.get(b, 0) for (b, v) in\n",
      "/home/computertreker/git/qiskit/qiskit-tutorial/foo/lib/python3.8/site-packages/qiskit/aqua/operators/state_fns/dict_state_fn.py:207: DeprecationWarning: The Python built-in `round` is deprecated for complex scalars, and will raise a `TypeError` in a future release. Use `np.round` or `scalar.round` instead.\n",
      "  return round(sum([v * front.primitive.get(b, 0) for (b, v) in\n",
      "/home/computertreker/git/qiskit/qiskit-tutorial/foo/lib/python3.8/site-packages/qiskit/aqua/operators/state_fns/dict_state_fn.py:207: DeprecationWarning: The Python built-in `round` is deprecated for complex scalars, and will raise a `TypeError` in a future release. Use `np.round` or `scalar.round` instead.\n",
      "  return round(sum([v * front.primitive.get(b, 0) for (b, v) in\n",
      "/home/computertreker/git/qiskit/qiskit-tutorial/foo/lib/python3.8/site-packages/qiskit/aqua/operators/state_fns/dict_state_fn.py:207: DeprecationWarning: The Python built-in `round` is deprecated for complex scalars, and will raise a `TypeError` in a future release. Use `np.round` or `scalar.round` instead.\n",
      "  return round(sum([v * front.primitive.get(b, 0) for (b, v) in\n",
      "/home/computertreker/git/qiskit/qiskit-tutorial/foo/lib/python3.8/site-packages/qiskit/aqua/operators/state_fns/dict_state_fn.py:207: DeprecationWarning: The Python built-in `round` is deprecated for complex scalars, and will raise a `TypeError` in a future release. Use `np.round` or `scalar.round` instead.\n",
      "  return round(sum([v * front.primitive.get(b, 0) for (b, v) in\n",
      "/home/computertreker/git/qiskit/qiskit-tutorial/foo/lib/python3.8/site-packages/qiskit/aqua/operators/state_fns/dict_state_fn.py:207: DeprecationWarning: The Python built-in `round` is deprecated for complex scalars, and will raise a `TypeError` in a future release. Use `np.round` or `scalar.round` instead.\n",
      "  return round(sum([v * front.primitive.get(b, 0) for (b, v) in\n",
      "/home/computertreker/git/qiskit/qiskit-tutorial/foo/lib/python3.8/site-packages/qiskit/aqua/operators/state_fns/dict_state_fn.py:207: DeprecationWarning: The Python built-in `round` is deprecated for complex scalars, and will raise a `TypeError` in a future release. Use `np.round` or `scalar.round` instead.\n",
      "  return round(sum([v * front.primitive.get(b, 0) for (b, v) in\n",
      "/home/computertreker/git/qiskit/qiskit-tutorial/foo/lib/python3.8/site-packages/qiskit/aqua/operators/state_fns/dict_state_fn.py:207: DeprecationWarning: The Python built-in `round` is deprecated for complex scalars, and will raise a `TypeError` in a future release. Use `np.round` or `scalar.round` instead.\n",
      "  return round(sum([v * front.primitive.get(b, 0) for (b, v) in\n",
      "/home/computertreker/git/qiskit/qiskit-tutorial/foo/lib/python3.8/site-packages/qiskit/aqua/operators/state_fns/dict_state_fn.py:207: DeprecationWarning: The Python built-in `round` is deprecated for complex scalars, and will raise a `TypeError` in a future release. Use `np.round` or `scalar.round` instead.\n",
      "  return round(sum([v * front.primitive.get(b, 0) for (b, v) in\n",
      "/home/computertreker/git/qiskit/qiskit-tutorial/foo/lib/python3.8/site-packages/qiskit/aqua/operators/state_fns/dict_state_fn.py:207: DeprecationWarning: The Python built-in `round` is deprecated for complex scalars, and will raise a `TypeError` in a future release. Use `np.round` or `scalar.round` instead.\n",
      "  return round(sum([v * front.primitive.get(b, 0) for (b, v) in\n",
      "/home/computertreker/git/qiskit/qiskit-tutorial/foo/lib/python3.8/site-packages/qiskit/aqua/operators/state_fns/dict_state_fn.py:207: DeprecationWarning: The Python built-in `round` is deprecated for complex scalars, and will raise a `TypeError` in a future release. Use `np.round` or `scalar.round` instead.\n",
      "  return round(sum([v * front.primitive.get(b, 0) for (b, v) in\n",
      "/home/computertreker/git/qiskit/qiskit-tutorial/foo/lib/python3.8/site-packages/qiskit/aqua/operators/state_fns/dict_state_fn.py:207: DeprecationWarning: The Python built-in `round` is deprecated for complex scalars, and will raise a `TypeError` in a future release. Use `np.round` or `scalar.round` instead.\n",
      "  return round(sum([v * front.primitive.get(b, 0) for (b, v) in\n",
      "/home/computertreker/git/qiskit/qiskit-tutorial/foo/lib/python3.8/site-packages/qiskit/aqua/operators/state_fns/dict_state_fn.py:207: DeprecationWarning: The Python built-in `round` is deprecated for complex scalars, and will raise a `TypeError` in a future release. Use `np.round` or `scalar.round` instead.\n",
      "  return round(sum([v * front.primitive.get(b, 0) for (b, v) in\n",
      "/home/computertreker/git/qiskit/qiskit-tutorial/foo/lib/python3.8/site-packages/qiskit/aqua/operators/state_fns/dict_state_fn.py:207: DeprecationWarning: The Python built-in `round` is deprecated for complex scalars, and will raise a `TypeError` in a future release. Use `np.round` or `scalar.round` instead.\n",
      "  return round(sum([v * front.primitive.get(b, 0) for (b, v) in\n",
      "/home/computertreker/git/qiskit/qiskit-tutorial/foo/lib/python3.8/site-packages/qiskit/aqua/operators/state_fns/dict_state_fn.py:207: DeprecationWarning: The Python built-in `round` is deprecated for complex scalars, and will raise a `TypeError` in a future release. Use `np.round` or `scalar.round` instead.\n",
      "  return round(sum([v * front.primitive.get(b, 0) for (b, v) in\n",
      "/home/computertreker/git/qiskit/qiskit-tutorial/foo/lib/python3.8/site-packages/qiskit/aqua/operators/state_fns/dict_state_fn.py:207: DeprecationWarning: The Python built-in `round` is deprecated for complex scalars, and will raise a `TypeError` in a future release. Use `np.round` or `scalar.round` instead.\n",
      "  return round(sum([v * front.primitive.get(b, 0) for (b, v) in\n",
      "/home/computertreker/git/qiskit/qiskit-tutorial/foo/lib/python3.8/site-packages/qiskit/aqua/operators/state_fns/dict_state_fn.py:207: DeprecationWarning: The Python built-in `round` is deprecated for complex scalars, and will raise a `TypeError` in a future release. Use `np.round` or `scalar.round` instead.\n",
      "  return round(sum([v * front.primitive.get(b, 0) for (b, v) in\n",
      "/home/computertreker/git/qiskit/qiskit-tutorial/foo/lib/python3.8/site-packages/qiskit/aqua/operators/state_fns/dict_state_fn.py:207: DeprecationWarning: The Python built-in `round` is deprecated for complex scalars, and will raise a `TypeError` in a future release. Use `np.round` or `scalar.round` instead.\n",
      "  return round(sum([v * front.primitive.get(b, 0) for (b, v) in\n",
      "/home/computertreker/git/qiskit/qiskit-tutorial/foo/lib/python3.8/site-packages/qiskit/aqua/operators/state_fns/dict_state_fn.py:207: DeprecationWarning: The Python built-in `round` is deprecated for complex scalars, and will raise a `TypeError` in a future release. Use `np.round` or `scalar.round` instead.\n",
      "  return round(sum([v * front.primitive.get(b, 0) for (b, v) in\n",
      "/home/computertreker/git/qiskit/qiskit-tutorial/foo/lib/python3.8/site-packages/qiskit/aqua/operators/state_fns/dict_state_fn.py:207: DeprecationWarning: The Python built-in `round` is deprecated for complex scalars, and will raise a `TypeError` in a future release. Use `np.round` or `scalar.round` instead.\n",
      "  return round(sum([v * front.primitive.get(b, 0) for (b, v) in\n",
      "/home/computertreker/git/qiskit/qiskit-tutorial/foo/lib/python3.8/site-packages/qiskit/aqua/operators/state_fns/dict_state_fn.py:207: DeprecationWarning: The Python built-in `round` is deprecated for complex scalars, and will raise a `TypeError` in a future release. Use `np.round` or `scalar.round` instead.\n",
      "  return round(sum([v * front.primitive.get(b, 0) for (b, v) in\n",
      "/home/computertreker/git/qiskit/qiskit-tutorial/foo/lib/python3.8/site-packages/qiskit/aqua/operators/state_fns/dict_state_fn.py:207: DeprecationWarning: The Python built-in `round` is deprecated for complex scalars, and will raise a `TypeError` in a future release. Use `np.round` or `scalar.round` instead.\n",
      "  return round(sum([v * front.primitive.get(b, 0) for (b, v) in\n",
      "/home/computertreker/git/qiskit/qiskit-tutorial/foo/lib/python3.8/site-packages/qiskit/aqua/operators/state_fns/dict_state_fn.py:207: DeprecationWarning: The Python built-in `round` is deprecated for complex scalars, and will raise a `TypeError` in a future release. Use `np.round` or `scalar.round` instead.\n",
      "  return round(sum([v * front.primitive.get(b, 0) for (b, v) in\n"
     ]
    },
    {
     "name": "stderr",
     "output_type": "stream",
     "text": [
      "/home/computertreker/git/qiskit/qiskit-tutorial/foo/lib/python3.8/site-packages/qiskit/aqua/operators/state_fns/dict_state_fn.py:207: DeprecationWarning: The Python built-in `round` is deprecated for complex scalars, and will raise a `TypeError` in a future release. Use `np.round` or `scalar.round` instead.\n",
      "  return round(sum([v * front.primitive.get(b, 0) for (b, v) in\n",
      "/home/computertreker/git/qiskit/qiskit-tutorial/foo/lib/python3.8/site-packages/qiskit/aqua/operators/state_fns/dict_state_fn.py:207: DeprecationWarning: The Python built-in `round` is deprecated for complex scalars, and will raise a `TypeError` in a future release. Use `np.round` or `scalar.round` instead.\n",
      "  return round(sum([v * front.primitive.get(b, 0) for (b, v) in\n",
      "/home/computertreker/git/qiskit/qiskit-tutorial/foo/lib/python3.8/site-packages/qiskit/aqua/operators/state_fns/dict_state_fn.py:207: DeprecationWarning: The Python built-in `round` is deprecated for complex scalars, and will raise a `TypeError` in a future release. Use `np.round` or `scalar.round` instead.\n",
      "  return round(sum([v * front.primitive.get(b, 0) for (b, v) in\n",
      "/home/computertreker/git/qiskit/qiskit-tutorial/foo/lib/python3.8/site-packages/qiskit/aqua/operators/state_fns/dict_state_fn.py:207: DeprecationWarning: The Python built-in `round` is deprecated for complex scalars, and will raise a `TypeError` in a future release. Use `np.round` or `scalar.round` instead.\n",
      "  return round(sum([v * front.primitive.get(b, 0) for (b, v) in\n",
      "/home/computertreker/git/qiskit/qiskit-tutorial/foo/lib/python3.8/site-packages/qiskit/aqua/operators/state_fns/dict_state_fn.py:207: DeprecationWarning: The Python built-in `round` is deprecated for complex scalars, and will raise a `TypeError` in a future release. Use `np.round` or `scalar.round` instead.\n",
      "  return round(sum([v * front.primitive.get(b, 0) for (b, v) in\n",
      "/home/computertreker/git/qiskit/qiskit-tutorial/foo/lib/python3.8/site-packages/qiskit/aqua/operators/state_fns/dict_state_fn.py:207: DeprecationWarning: The Python built-in `round` is deprecated for complex scalars, and will raise a `TypeError` in a future release. Use `np.round` or `scalar.round` instead.\n",
      "  return round(sum([v * front.primitive.get(b, 0) for (b, v) in\n",
      "/home/computertreker/git/qiskit/qiskit-tutorial/foo/lib/python3.8/site-packages/qiskit/aqua/operators/state_fns/dict_state_fn.py:207: DeprecationWarning: The Python built-in `round` is deprecated for complex scalars, and will raise a `TypeError` in a future release. Use `np.round` or `scalar.round` instead.\n",
      "  return round(sum([v * front.primitive.get(b, 0) for (b, v) in\n",
      "/home/computertreker/git/qiskit/qiskit-tutorial/foo/lib/python3.8/site-packages/qiskit/aqua/operators/state_fns/dict_state_fn.py:207: DeprecationWarning: The Python built-in `round` is deprecated for complex scalars, and will raise a `TypeError` in a future release. Use `np.round` or `scalar.round` instead.\n",
      "  return round(sum([v * front.primitive.get(b, 0) for (b, v) in\n",
      "/home/computertreker/git/qiskit/qiskit-tutorial/foo/lib/python3.8/site-packages/qiskit/aqua/operators/state_fns/dict_state_fn.py:207: DeprecationWarning: The Python built-in `round` is deprecated for complex scalars, and will raise a `TypeError` in a future release. Use `np.round` or `scalar.round` instead.\n",
      "  return round(sum([v * front.primitive.get(b, 0) for (b, v) in\n",
      "/home/computertreker/git/qiskit/qiskit-tutorial/foo/lib/python3.8/site-packages/qiskit/aqua/operators/state_fns/dict_state_fn.py:207: DeprecationWarning: The Python built-in `round` is deprecated for complex scalars, and will raise a `TypeError` in a future release. Use `np.round` or `scalar.round` instead.\n",
      "  return round(sum([v * front.primitive.get(b, 0) for (b, v) in\n",
      "/home/computertreker/git/qiskit/qiskit-tutorial/foo/lib/python3.8/site-packages/qiskit/aqua/operators/state_fns/dict_state_fn.py:207: DeprecationWarning: The Python built-in `round` is deprecated for complex scalars, and will raise a `TypeError` in a future release. Use `np.round` or `scalar.round` instead.\n",
      "  return round(sum([v * front.primitive.get(b, 0) for (b, v) in\n",
      "/home/computertreker/git/qiskit/qiskit-tutorial/foo/lib/python3.8/site-packages/qiskit/aqua/operators/state_fns/dict_state_fn.py:207: DeprecationWarning: The Python built-in `round` is deprecated for complex scalars, and will raise a `TypeError` in a future release. Use `np.round` or `scalar.round` instead.\n",
      "  return round(sum([v * front.primitive.get(b, 0) for (b, v) in\n",
      "/home/computertreker/git/qiskit/qiskit-tutorial/foo/lib/python3.8/site-packages/qiskit/aqua/operators/state_fns/dict_state_fn.py:207: DeprecationWarning: The Python built-in `round` is deprecated for complex scalars, and will raise a `TypeError` in a future release. Use `np.round` or `scalar.round` instead.\n",
      "  return round(sum([v * front.primitive.get(b, 0) for (b, v) in\n",
      "/home/computertreker/git/qiskit/qiskit-tutorial/foo/lib/python3.8/site-packages/qiskit/aqua/operators/state_fns/dict_state_fn.py:207: DeprecationWarning: The Python built-in `round` is deprecated for complex scalars, and will raise a `TypeError` in a future release. Use `np.round` or `scalar.round` instead.\n",
      "  return round(sum([v * front.primitive.get(b, 0) for (b, v) in\n",
      "/home/computertreker/git/qiskit/qiskit-tutorial/foo/lib/python3.8/site-packages/qiskit/aqua/operators/state_fns/dict_state_fn.py:207: DeprecationWarning: The Python built-in `round` is deprecated for complex scalars, and will raise a `TypeError` in a future release. Use `np.round` or `scalar.round` instead.\n",
      "  return round(sum([v * front.primitive.get(b, 0) for (b, v) in\n",
      "/home/computertreker/git/qiskit/qiskit-tutorial/foo/lib/python3.8/site-packages/qiskit/aqua/operators/state_fns/dict_state_fn.py:207: DeprecationWarning: The Python built-in `round` is deprecated for complex scalars, and will raise a `TypeError` in a future release. Use `np.round` or `scalar.round` instead.\n",
      "  return round(sum([v * front.primitive.get(b, 0) for (b, v) in\n",
      "/home/computertreker/git/qiskit/qiskit-tutorial/foo/lib/python3.8/site-packages/qiskit/aqua/operators/state_fns/dict_state_fn.py:207: DeprecationWarning: The Python built-in `round` is deprecated for complex scalars, and will raise a `TypeError` in a future release. Use `np.round` or `scalar.round` instead.\n",
      "  return round(sum([v * front.primitive.get(b, 0) for (b, v) in\n",
      "/home/computertreker/git/qiskit/qiskit-tutorial/foo/lib/python3.8/site-packages/qiskit/aqua/operators/state_fns/dict_state_fn.py:207: DeprecationWarning: The Python built-in `round` is deprecated for complex scalars, and will raise a `TypeError` in a future release. Use `np.round` or `scalar.round` instead.\n",
      "  return round(sum([v * front.primitive.get(b, 0) for (b, v) in\n",
      "/home/computertreker/git/qiskit/qiskit-tutorial/foo/lib/python3.8/site-packages/qiskit/aqua/operators/state_fns/dict_state_fn.py:207: DeprecationWarning: The Python built-in `round` is deprecated for complex scalars, and will raise a `TypeError` in a future release. Use `np.round` or `scalar.round` instead.\n",
      "  return round(sum([v * front.primitive.get(b, 0) for (b, v) in\n",
      "/home/computertreker/git/qiskit/qiskit-tutorial/foo/lib/python3.8/site-packages/qiskit/aqua/operators/state_fns/dict_state_fn.py:207: DeprecationWarning: The Python built-in `round` is deprecated for complex scalars, and will raise a `TypeError` in a future release. Use `np.round` or `scalar.round` instead.\n",
      "  return round(sum([v * front.primitive.get(b, 0) for (b, v) in\n",
      "/home/computertreker/git/qiskit/qiskit-tutorial/foo/lib/python3.8/site-packages/qiskit/aqua/operators/state_fns/dict_state_fn.py:207: DeprecationWarning: The Python built-in `round` is deprecated for complex scalars, and will raise a `TypeError` in a future release. Use `np.round` or `scalar.round` instead.\n",
      "  return round(sum([v * front.primitive.get(b, 0) for (b, v) in\n",
      "/home/computertreker/git/qiskit/qiskit-tutorial/foo/lib/python3.8/site-packages/qiskit/aqua/operators/state_fns/dict_state_fn.py:207: DeprecationWarning: The Python built-in `round` is deprecated for complex scalars, and will raise a `TypeError` in a future release. Use `np.round` or `scalar.round` instead.\n",
      "  return round(sum([v * front.primitive.get(b, 0) for (b, v) in\n",
      "/home/computertreker/git/qiskit/qiskit-tutorial/foo/lib/python3.8/site-packages/qiskit/aqua/operators/state_fns/dict_state_fn.py:207: DeprecationWarning: The Python built-in `round` is deprecated for complex scalars, and will raise a `TypeError` in a future release. Use `np.round` or `scalar.round` instead.\n",
      "  return round(sum([v * front.primitive.get(b, 0) for (b, v) in\n",
      "/home/computertreker/git/qiskit/qiskit-tutorial/foo/lib/python3.8/site-packages/qiskit/aqua/operators/state_fns/dict_state_fn.py:207: DeprecationWarning: The Python built-in `round` is deprecated for complex scalars, and will raise a `TypeError` in a future release. Use `np.round` or `scalar.round` instead.\n",
      "  return round(sum([v * front.primitive.get(b, 0) for (b, v) in\n",
      "/home/computertreker/git/qiskit/qiskit-tutorial/foo/lib/python3.8/site-packages/qiskit/aqua/operators/state_fns/dict_state_fn.py:207: DeprecationWarning: The Python built-in `round` is deprecated for complex scalars, and will raise a `TypeError` in a future release. Use `np.round` or `scalar.round` instead.\n",
      "  return round(sum([v * front.primitive.get(b, 0) for (b, v) in\n"
     ]
    },
    {
     "name": "stderr",
     "output_type": "stream",
     "text": [
      "/home/computertreker/git/qiskit/qiskit-tutorial/foo/lib/python3.8/site-packages/qiskit/aqua/operators/state_fns/dict_state_fn.py:207: DeprecationWarning: The Python built-in `round` is deprecated for complex scalars, and will raise a `TypeError` in a future release. Use `np.round` or `scalar.round` instead.\n",
      "  return round(sum([v * front.primitive.get(b, 0) for (b, v) in\n",
      "/home/computertreker/git/qiskit/qiskit-tutorial/foo/lib/python3.8/site-packages/qiskit/aqua/operators/state_fns/dict_state_fn.py:207: DeprecationWarning: The Python built-in `round` is deprecated for complex scalars, and will raise a `TypeError` in a future release. Use `np.round` or `scalar.round` instead.\n",
      "  return round(sum([v * front.primitive.get(b, 0) for (b, v) in\n",
      "/home/computertreker/git/qiskit/qiskit-tutorial/foo/lib/python3.8/site-packages/qiskit/aqua/operators/state_fns/dict_state_fn.py:207: DeprecationWarning: The Python built-in `round` is deprecated for complex scalars, and will raise a `TypeError` in a future release. Use `np.round` or `scalar.round` instead.\n",
      "  return round(sum([v * front.primitive.get(b, 0) for (b, v) in\n",
      "/home/computertreker/git/qiskit/qiskit-tutorial/foo/lib/python3.8/site-packages/qiskit/aqua/operators/state_fns/dict_state_fn.py:207: DeprecationWarning: The Python built-in `round` is deprecated for complex scalars, and will raise a `TypeError` in a future release. Use `np.round` or `scalar.round` instead.\n",
      "  return round(sum([v * front.primitive.get(b, 0) for (b, v) in\n",
      "/home/computertreker/git/qiskit/qiskit-tutorial/foo/lib/python3.8/site-packages/qiskit/aqua/operators/state_fns/dict_state_fn.py:207: DeprecationWarning: The Python built-in `round` is deprecated for complex scalars, and will raise a `TypeError` in a future release. Use `np.round` or `scalar.round` instead.\n",
      "  return round(sum([v * front.primitive.get(b, 0) for (b, v) in\n",
      "/home/computertreker/git/qiskit/qiskit-tutorial/foo/lib/python3.8/site-packages/qiskit/aqua/operators/state_fns/dict_state_fn.py:207: DeprecationWarning: The Python built-in `round` is deprecated for complex scalars, and will raise a `TypeError` in a future release. Use `np.round` or `scalar.round` instead.\n",
      "  return round(sum([v * front.primitive.get(b, 0) for (b, v) in\n",
      "/home/computertreker/git/qiskit/qiskit-tutorial/foo/lib/python3.8/site-packages/qiskit/aqua/operators/state_fns/dict_state_fn.py:207: DeprecationWarning: The Python built-in `round` is deprecated for complex scalars, and will raise a `TypeError` in a future release. Use `np.round` or `scalar.round` instead.\n",
      "  return round(sum([v * front.primitive.get(b, 0) for (b, v) in\n",
      "/home/computertreker/git/qiskit/qiskit-tutorial/foo/lib/python3.8/site-packages/qiskit/aqua/operators/state_fns/dict_state_fn.py:207: DeprecationWarning: The Python built-in `round` is deprecated for complex scalars, and will raise a `TypeError` in a future release. Use `np.round` or `scalar.round` instead.\n",
      "  return round(sum([v * front.primitive.get(b, 0) for (b, v) in\n",
      "/home/computertreker/git/qiskit/qiskit-tutorial/foo/lib/python3.8/site-packages/qiskit/aqua/operators/state_fns/dict_state_fn.py:207: DeprecationWarning: The Python built-in `round` is deprecated for complex scalars, and will raise a `TypeError` in a future release. Use `np.round` or `scalar.round` instead.\n",
      "  return round(sum([v * front.primitive.get(b, 0) for (b, v) in\n",
      "/home/computertreker/git/qiskit/qiskit-tutorial/foo/lib/python3.8/site-packages/qiskit/aqua/operators/state_fns/dict_state_fn.py:207: DeprecationWarning: The Python built-in `round` is deprecated for complex scalars, and will raise a `TypeError` in a future release. Use `np.round` or `scalar.round` instead.\n",
      "  return round(sum([v * front.primitive.get(b, 0) for (b, v) in\n",
      "/home/computertreker/git/qiskit/qiskit-tutorial/foo/lib/python3.8/site-packages/qiskit/aqua/operators/state_fns/dict_state_fn.py:207: DeprecationWarning: The Python built-in `round` is deprecated for complex scalars, and will raise a `TypeError` in a future release. Use `np.round` or `scalar.round` instead.\n",
      "  return round(sum([v * front.primitive.get(b, 0) for (b, v) in\n",
      "/home/computertreker/git/qiskit/qiskit-tutorial/foo/lib/python3.8/site-packages/qiskit/aqua/operators/state_fns/dict_state_fn.py:207: DeprecationWarning: The Python built-in `round` is deprecated for complex scalars, and will raise a `TypeError` in a future release. Use `np.round` or `scalar.round` instead.\n",
      "  return round(sum([v * front.primitive.get(b, 0) for (b, v) in\n",
      "/home/computertreker/git/qiskit/qiskit-tutorial/foo/lib/python3.8/site-packages/qiskit/aqua/operators/state_fns/dict_state_fn.py:207: DeprecationWarning: The Python built-in `round` is deprecated for complex scalars, and will raise a `TypeError` in a future release. Use `np.round` or `scalar.round` instead.\n",
      "  return round(sum([v * front.primitive.get(b, 0) for (b, v) in\n",
      "/home/computertreker/git/qiskit/qiskit-tutorial/foo/lib/python3.8/site-packages/qiskit/aqua/operators/state_fns/dict_state_fn.py:207: DeprecationWarning: The Python built-in `round` is deprecated for complex scalars, and will raise a `TypeError` in a future release. Use `np.round` or `scalar.round` instead.\n",
      "  return round(sum([v * front.primitive.get(b, 0) for (b, v) in\n",
      "/home/computertreker/git/qiskit/qiskit-tutorial/foo/lib/python3.8/site-packages/qiskit/aqua/operators/state_fns/dict_state_fn.py:207: DeprecationWarning: The Python built-in `round` is deprecated for complex scalars, and will raise a `TypeError` in a future release. Use `np.round` or `scalar.round` instead.\n",
      "  return round(sum([v * front.primitive.get(b, 0) for (b, v) in\n",
      "/home/computertreker/git/qiskit/qiskit-tutorial/foo/lib/python3.8/site-packages/qiskit/aqua/operators/state_fns/dict_state_fn.py:207: DeprecationWarning: The Python built-in `round` is deprecated for complex scalars, and will raise a `TypeError` in a future release. Use `np.round` or `scalar.round` instead.\n",
      "  return round(sum([v * front.primitive.get(b, 0) for (b, v) in\n",
      "/home/computertreker/git/qiskit/qiskit-tutorial/foo/lib/python3.8/site-packages/qiskit/aqua/operators/state_fns/dict_state_fn.py:207: DeprecationWarning: The Python built-in `round` is deprecated for complex scalars, and will raise a `TypeError` in a future release. Use `np.round` or `scalar.round` instead.\n",
      "  return round(sum([v * front.primitive.get(b, 0) for (b, v) in\n",
      "/home/computertreker/git/qiskit/qiskit-tutorial/foo/lib/python3.8/site-packages/qiskit/aqua/operators/state_fns/dict_state_fn.py:207: DeprecationWarning: The Python built-in `round` is deprecated for complex scalars, and will raise a `TypeError` in a future release. Use `np.round` or `scalar.round` instead.\n",
      "  return round(sum([v * front.primitive.get(b, 0) for (b, v) in\n",
      "/home/computertreker/git/qiskit/qiskit-tutorial/foo/lib/python3.8/site-packages/qiskit/aqua/operators/state_fns/dict_state_fn.py:207: DeprecationWarning: The Python built-in `round` is deprecated for complex scalars, and will raise a `TypeError` in a future release. Use `np.round` or `scalar.round` instead.\n",
      "  return round(sum([v * front.primitive.get(b, 0) for (b, v) in\n",
      "/home/computertreker/git/qiskit/qiskit-tutorial/foo/lib/python3.8/site-packages/qiskit/aqua/operators/state_fns/dict_state_fn.py:207: DeprecationWarning: The Python built-in `round` is deprecated for complex scalars, and will raise a `TypeError` in a future release. Use `np.round` or `scalar.round` instead.\n",
      "  return round(sum([v * front.primitive.get(b, 0) for (b, v) in\n",
      "/home/computertreker/git/qiskit/qiskit-tutorial/foo/lib/python3.8/site-packages/qiskit/aqua/operators/state_fns/dict_state_fn.py:207: DeprecationWarning: The Python built-in `round` is deprecated for complex scalars, and will raise a `TypeError` in a future release. Use `np.round` or `scalar.round` instead.\n",
      "  return round(sum([v * front.primitive.get(b, 0) for (b, v) in\n",
      "/home/computertreker/git/qiskit/qiskit-tutorial/foo/lib/python3.8/site-packages/qiskit/aqua/operators/state_fns/dict_state_fn.py:207: DeprecationWarning: The Python built-in `round` is deprecated for complex scalars, and will raise a `TypeError` in a future release. Use `np.round` or `scalar.round` instead.\n",
      "  return round(sum([v * front.primitive.get(b, 0) for (b, v) in\n",
      "/home/computertreker/git/qiskit/qiskit-tutorial/foo/lib/python3.8/site-packages/qiskit/aqua/operators/state_fns/dict_state_fn.py:207: DeprecationWarning: The Python built-in `round` is deprecated for complex scalars, and will raise a `TypeError` in a future release. Use `np.round` or `scalar.round` instead.\n",
      "  return round(sum([v * front.primitive.get(b, 0) for (b, v) in\n",
      "/home/computertreker/git/qiskit/qiskit-tutorial/foo/lib/python3.8/site-packages/qiskit/aqua/operators/state_fns/dict_state_fn.py:207: DeprecationWarning: The Python built-in `round` is deprecated for complex scalars, and will raise a `TypeError` in a future release. Use `np.round` or `scalar.round` instead.\n",
      "  return round(sum([v * front.primitive.get(b, 0) for (b, v) in\n",
      "/home/computertreker/git/qiskit/qiskit-tutorial/foo/lib/python3.8/site-packages/qiskit/aqua/operators/state_fns/dict_state_fn.py:207: DeprecationWarning: The Python built-in `round` is deprecated for complex scalars, and will raise a `TypeError` in a future release. Use `np.round` or `scalar.round` instead.\n",
      "  return round(sum([v * front.primitive.get(b, 0) for (b, v) in\n"
     ]
    },
    {
     "name": "stderr",
     "output_type": "stream",
     "text": [
      "/home/computertreker/git/qiskit/qiskit-tutorial/foo/lib/python3.8/site-packages/qiskit/aqua/operators/state_fns/dict_state_fn.py:207: DeprecationWarning: The Python built-in `round` is deprecated for complex scalars, and will raise a `TypeError` in a future release. Use `np.round` or `scalar.round` instead.\n",
      "  return round(sum([v * front.primitive.get(b, 0) for (b, v) in\n",
      "/home/computertreker/git/qiskit/qiskit-tutorial/foo/lib/python3.8/site-packages/qiskit/aqua/operators/state_fns/dict_state_fn.py:207: DeprecationWarning: The Python built-in `round` is deprecated for complex scalars, and will raise a `TypeError` in a future release. Use `np.round` or `scalar.round` instead.\n",
      "  return round(sum([v * front.primitive.get(b, 0) for (b, v) in\n",
      "/home/computertreker/git/qiskit/qiskit-tutorial/foo/lib/python3.8/site-packages/qiskit/aqua/operators/state_fns/dict_state_fn.py:207: DeprecationWarning: The Python built-in `round` is deprecated for complex scalars, and will raise a `TypeError` in a future release. Use `np.round` or `scalar.round` instead.\n",
      "  return round(sum([v * front.primitive.get(b, 0) for (b, v) in\n",
      "/home/computertreker/git/qiskit/qiskit-tutorial/foo/lib/python3.8/site-packages/qiskit/aqua/operators/state_fns/dict_state_fn.py:207: DeprecationWarning: The Python built-in `round` is deprecated for complex scalars, and will raise a `TypeError` in a future release. Use `np.round` or `scalar.round` instead.\n",
      "  return round(sum([v * front.primitive.get(b, 0) for (b, v) in\n",
      "/home/computertreker/git/qiskit/qiskit-tutorial/foo/lib/python3.8/site-packages/qiskit/aqua/operators/state_fns/dict_state_fn.py:207: DeprecationWarning: The Python built-in `round` is deprecated for complex scalars, and will raise a `TypeError` in a future release. Use `np.round` or `scalar.round` instead.\n",
      "  return round(sum([v * front.primitive.get(b, 0) for (b, v) in\n",
      "/home/computertreker/git/qiskit/qiskit-tutorial/foo/lib/python3.8/site-packages/qiskit/aqua/operators/state_fns/dict_state_fn.py:207: DeprecationWarning: The Python built-in `round` is deprecated for complex scalars, and will raise a `TypeError` in a future release. Use `np.round` or `scalar.round` instead.\n",
      "  return round(sum([v * front.primitive.get(b, 0) for (b, v) in\n",
      "/home/computertreker/git/qiskit/qiskit-tutorial/foo/lib/python3.8/site-packages/qiskit/aqua/operators/state_fns/dict_state_fn.py:207: DeprecationWarning: The Python built-in `round` is deprecated for complex scalars, and will raise a `TypeError` in a future release. Use `np.round` or `scalar.round` instead.\n",
      "  return round(sum([v * front.primitive.get(b, 0) for (b, v) in\n",
      "/home/computertreker/git/qiskit/qiskit-tutorial/foo/lib/python3.8/site-packages/qiskit/aqua/operators/state_fns/dict_state_fn.py:207: DeprecationWarning: The Python built-in `round` is deprecated for complex scalars, and will raise a `TypeError` in a future release. Use `np.round` or `scalar.round` instead.\n",
      "  return round(sum([v * front.primitive.get(b, 0) for (b, v) in\n",
      "/home/computertreker/git/qiskit/qiskit-tutorial/foo/lib/python3.8/site-packages/qiskit/aqua/operators/state_fns/dict_state_fn.py:207: DeprecationWarning: The Python built-in `round` is deprecated for complex scalars, and will raise a `TypeError` in a future release. Use `np.round` or `scalar.round` instead.\n",
      "  return round(sum([v * front.primitive.get(b, 0) for (b, v) in\n",
      "/home/computertreker/git/qiskit/qiskit-tutorial/foo/lib/python3.8/site-packages/qiskit/aqua/operators/state_fns/dict_state_fn.py:207: DeprecationWarning: The Python built-in `round` is deprecated for complex scalars, and will raise a `TypeError` in a future release. Use `np.round` or `scalar.round` instead.\n",
      "  return round(sum([v * front.primitive.get(b, 0) for (b, v) in\n",
      "/home/computertreker/git/qiskit/qiskit-tutorial/foo/lib/python3.8/site-packages/qiskit/aqua/operators/state_fns/dict_state_fn.py:207: DeprecationWarning: The Python built-in `round` is deprecated for complex scalars, and will raise a `TypeError` in a future release. Use `np.round` or `scalar.round` instead.\n",
      "  return round(sum([v * front.primitive.get(b, 0) for (b, v) in\n",
      "/home/computertreker/git/qiskit/qiskit-tutorial/foo/lib/python3.8/site-packages/qiskit/aqua/operators/state_fns/dict_state_fn.py:207: DeprecationWarning: The Python built-in `round` is deprecated for complex scalars, and will raise a `TypeError` in a future release. Use `np.round` or `scalar.round` instead.\n",
      "  return round(sum([v * front.primitive.get(b, 0) for (b, v) in\n",
      "/home/computertreker/git/qiskit/qiskit-tutorial/foo/lib/python3.8/site-packages/qiskit/aqua/operators/state_fns/dict_state_fn.py:207: DeprecationWarning: The Python built-in `round` is deprecated for complex scalars, and will raise a `TypeError` in a future release. Use `np.round` or `scalar.round` instead.\n",
      "  return round(sum([v * front.primitive.get(b, 0) for (b, v) in\n",
      "/home/computertreker/git/qiskit/qiskit-tutorial/foo/lib/python3.8/site-packages/qiskit/aqua/operators/state_fns/dict_state_fn.py:207: DeprecationWarning: The Python built-in `round` is deprecated for complex scalars, and will raise a `TypeError` in a future release. Use `np.round` or `scalar.round` instead.\n",
      "  return round(sum([v * front.primitive.get(b, 0) for (b, v) in\n",
      "/home/computertreker/git/qiskit/qiskit-tutorial/foo/lib/python3.8/site-packages/qiskit/aqua/operators/state_fns/dict_state_fn.py:207: DeprecationWarning: The Python built-in `round` is deprecated for complex scalars, and will raise a `TypeError` in a future release. Use `np.round` or `scalar.round` instead.\n",
      "  return round(sum([v * front.primitive.get(b, 0) for (b, v) in\n",
      "/home/computertreker/git/qiskit/qiskit-tutorial/foo/lib/python3.8/site-packages/qiskit/aqua/operators/state_fns/dict_state_fn.py:207: DeprecationWarning: The Python built-in `round` is deprecated for complex scalars, and will raise a `TypeError` in a future release. Use `np.round` or `scalar.round` instead.\n",
      "  return round(sum([v * front.primitive.get(b, 0) for (b, v) in\n",
      "/home/computertreker/git/qiskit/qiskit-tutorial/foo/lib/python3.8/site-packages/qiskit/aqua/operators/state_fns/dict_state_fn.py:207: DeprecationWarning: The Python built-in `round` is deprecated for complex scalars, and will raise a `TypeError` in a future release. Use `np.round` or `scalar.round` instead.\n",
      "  return round(sum([v * front.primitive.get(b, 0) for (b, v) in\n",
      "/home/computertreker/git/qiskit/qiskit-tutorial/foo/lib/python3.8/site-packages/qiskit/aqua/operators/state_fns/dict_state_fn.py:207: DeprecationWarning: The Python built-in `round` is deprecated for complex scalars, and will raise a `TypeError` in a future release. Use `np.round` or `scalar.round` instead.\n",
      "  return round(sum([v * front.primitive.get(b, 0) for (b, v) in\n",
      "/home/computertreker/git/qiskit/qiskit-tutorial/foo/lib/python3.8/site-packages/qiskit/aqua/operators/state_fns/dict_state_fn.py:207: DeprecationWarning: The Python built-in `round` is deprecated for complex scalars, and will raise a `TypeError` in a future release. Use `np.round` or `scalar.round` instead.\n",
      "  return round(sum([v * front.primitive.get(b, 0) for (b, v) in\n",
      "/home/computertreker/git/qiskit/qiskit-tutorial/foo/lib/python3.8/site-packages/qiskit/aqua/operators/state_fns/dict_state_fn.py:207: DeprecationWarning: The Python built-in `round` is deprecated for complex scalars, and will raise a `TypeError` in a future release. Use `np.round` or `scalar.round` instead.\n",
      "  return round(sum([v * front.primitive.get(b, 0) for (b, v) in\n",
      "/home/computertreker/git/qiskit/qiskit-tutorial/foo/lib/python3.8/site-packages/qiskit/aqua/operators/state_fns/dict_state_fn.py:207: DeprecationWarning: The Python built-in `round` is deprecated for complex scalars, and will raise a `TypeError` in a future release. Use `np.round` or `scalar.round` instead.\n",
      "  return round(sum([v * front.primitive.get(b, 0) for (b, v) in\n",
      "/home/computertreker/git/qiskit/qiskit-tutorial/foo/lib/python3.8/site-packages/qiskit/aqua/operators/state_fns/dict_state_fn.py:207: DeprecationWarning: The Python built-in `round` is deprecated for complex scalars, and will raise a `TypeError` in a future release. Use `np.round` or `scalar.round` instead.\n",
      "  return round(sum([v * front.primitive.get(b, 0) for (b, v) in\n",
      "/home/computertreker/git/qiskit/qiskit-tutorial/foo/lib/python3.8/site-packages/qiskit/aqua/operators/state_fns/dict_state_fn.py:207: DeprecationWarning: The Python built-in `round` is deprecated for complex scalars, and will raise a `TypeError` in a future release. Use `np.round` or `scalar.round` instead.\n",
      "  return round(sum([v * front.primitive.get(b, 0) for (b, v) in\n",
      "/home/computertreker/git/qiskit/qiskit-tutorial/foo/lib/python3.8/site-packages/qiskit/aqua/operators/state_fns/dict_state_fn.py:207: DeprecationWarning: The Python built-in `round` is deprecated for complex scalars, and will raise a `TypeError` in a future release. Use `np.round` or `scalar.round` instead.\n",
      "  return round(sum([v * front.primitive.get(b, 0) for (b, v) in\n",
      "/home/computertreker/git/qiskit/qiskit-tutorial/foo/lib/python3.8/site-packages/qiskit/aqua/operators/state_fns/dict_state_fn.py:207: DeprecationWarning: The Python built-in `round` is deprecated for complex scalars, and will raise a `TypeError` in a future release. Use `np.round` or `scalar.round` instead.\n",
      "  return round(sum([v * front.primitive.get(b, 0) for (b, v) in\n"
     ]
    },
    {
     "name": "stderr",
     "output_type": "stream",
     "text": [
      "/home/computertreker/git/qiskit/qiskit-tutorial/foo/lib/python3.8/site-packages/qiskit/aqua/operators/state_fns/dict_state_fn.py:207: DeprecationWarning: The Python built-in `round` is deprecated for complex scalars, and will raise a `TypeError` in a future release. Use `np.round` or `scalar.round` instead.\n",
      "  return round(sum([v * front.primitive.get(b, 0) for (b, v) in\n",
      "/home/computertreker/git/qiskit/qiskit-tutorial/foo/lib/python3.8/site-packages/qiskit/aqua/operators/state_fns/dict_state_fn.py:207: DeprecationWarning: The Python built-in `round` is deprecated for complex scalars, and will raise a `TypeError` in a future release. Use `np.round` or `scalar.round` instead.\n",
      "  return round(sum([v * front.primitive.get(b, 0) for (b, v) in\n",
      "/home/computertreker/git/qiskit/qiskit-tutorial/foo/lib/python3.8/site-packages/qiskit/aqua/operators/state_fns/dict_state_fn.py:207: DeprecationWarning: The Python built-in `round` is deprecated for complex scalars, and will raise a `TypeError` in a future release. Use `np.round` or `scalar.round` instead.\n",
      "  return round(sum([v * front.primitive.get(b, 0) for (b, v) in\n",
      "/home/computertreker/git/qiskit/qiskit-tutorial/foo/lib/python3.8/site-packages/qiskit/aqua/operators/state_fns/dict_state_fn.py:207: DeprecationWarning: The Python built-in `round` is deprecated for complex scalars, and will raise a `TypeError` in a future release. Use `np.round` or `scalar.round` instead.\n",
      "  return round(sum([v * front.primitive.get(b, 0) for (b, v) in\n",
      "/home/computertreker/git/qiskit/qiskit-tutorial/foo/lib/python3.8/site-packages/qiskit/aqua/operators/state_fns/dict_state_fn.py:207: DeprecationWarning: The Python built-in `round` is deprecated for complex scalars, and will raise a `TypeError` in a future release. Use `np.round` or `scalar.round` instead.\n",
      "  return round(sum([v * front.primitive.get(b, 0) for (b, v) in\n",
      "/home/computertreker/git/qiskit/qiskit-tutorial/foo/lib/python3.8/site-packages/qiskit/aqua/operators/state_fns/dict_state_fn.py:207: DeprecationWarning: The Python built-in `round` is deprecated for complex scalars, and will raise a `TypeError` in a future release. Use `np.round` or `scalar.round` instead.\n",
      "  return round(sum([v * front.primitive.get(b, 0) for (b, v) in\n",
      "/home/computertreker/git/qiskit/qiskit-tutorial/foo/lib/python3.8/site-packages/qiskit/aqua/operators/state_fns/dict_state_fn.py:207: DeprecationWarning: The Python built-in `round` is deprecated for complex scalars, and will raise a `TypeError` in a future release. Use `np.round` or `scalar.round` instead.\n",
      "  return round(sum([v * front.primitive.get(b, 0) for (b, v) in\n",
      "/home/computertreker/git/qiskit/qiskit-tutorial/foo/lib/python3.8/site-packages/qiskit/aqua/operators/state_fns/dict_state_fn.py:207: DeprecationWarning: The Python built-in `round` is deprecated for complex scalars, and will raise a `TypeError` in a future release. Use `np.round` or `scalar.round` instead.\n",
      "  return round(sum([v * front.primitive.get(b, 0) for (b, v) in\n",
      "/home/computertreker/git/qiskit/qiskit-tutorial/foo/lib/python3.8/site-packages/qiskit/aqua/operators/state_fns/dict_state_fn.py:207: DeprecationWarning: The Python built-in `round` is deprecated for complex scalars, and will raise a `TypeError` in a future release. Use `np.round` or `scalar.round` instead.\n",
      "  return round(sum([v * front.primitive.get(b, 0) for (b, v) in\n",
      "/home/computertreker/git/qiskit/qiskit-tutorial/foo/lib/python3.8/site-packages/qiskit/aqua/operators/state_fns/dict_state_fn.py:207: DeprecationWarning: The Python built-in `round` is deprecated for complex scalars, and will raise a `TypeError` in a future release. Use `np.round` or `scalar.round` instead.\n",
      "  return round(sum([v * front.primitive.get(b, 0) for (b, v) in\n",
      "/home/computertreker/git/qiskit/qiskit-tutorial/foo/lib/python3.8/site-packages/qiskit/aqua/operators/state_fns/dict_state_fn.py:207: DeprecationWarning: The Python built-in `round` is deprecated for complex scalars, and will raise a `TypeError` in a future release. Use `np.round` or `scalar.round` instead.\n",
      "  return round(sum([v * front.primitive.get(b, 0) for (b, v) in\n",
      "/home/computertreker/git/qiskit/qiskit-tutorial/foo/lib/python3.8/site-packages/qiskit/aqua/operators/state_fns/dict_state_fn.py:207: DeprecationWarning: The Python built-in `round` is deprecated for complex scalars, and will raise a `TypeError` in a future release. Use `np.round` or `scalar.round` instead.\n",
      "  return round(sum([v * front.primitive.get(b, 0) for (b, v) in\n",
      "/home/computertreker/git/qiskit/qiskit-tutorial/foo/lib/python3.8/site-packages/qiskit/aqua/operators/state_fns/dict_state_fn.py:207: DeprecationWarning: The Python built-in `round` is deprecated for complex scalars, and will raise a `TypeError` in a future release. Use `np.round` or `scalar.round` instead.\n",
      "  return round(sum([v * front.primitive.get(b, 0) for (b, v) in\n",
      "/home/computertreker/git/qiskit/qiskit-tutorial/foo/lib/python3.8/site-packages/qiskit/aqua/operators/state_fns/dict_state_fn.py:207: DeprecationWarning: The Python built-in `round` is deprecated for complex scalars, and will raise a `TypeError` in a future release. Use `np.round` or `scalar.round` instead.\n",
      "  return round(sum([v * front.primitive.get(b, 0) for (b, v) in\n",
      "/home/computertreker/git/qiskit/qiskit-tutorial/foo/lib/python3.8/site-packages/qiskit/aqua/operators/state_fns/dict_state_fn.py:207: DeprecationWarning: The Python built-in `round` is deprecated for complex scalars, and will raise a `TypeError` in a future release. Use `np.round` or `scalar.round` instead.\n",
      "  return round(sum([v * front.primitive.get(b, 0) for (b, v) in\n",
      "/home/computertreker/git/qiskit/qiskit-tutorial/foo/lib/python3.8/site-packages/qiskit/aqua/operators/state_fns/dict_state_fn.py:207: DeprecationWarning: The Python built-in `round` is deprecated for complex scalars, and will raise a `TypeError` in a future release. Use `np.round` or `scalar.round` instead.\n",
      "  return round(sum([v * front.primitive.get(b, 0) for (b, v) in\n",
      "/home/computertreker/git/qiskit/qiskit-tutorial/foo/lib/python3.8/site-packages/qiskit/aqua/operators/state_fns/dict_state_fn.py:207: DeprecationWarning: The Python built-in `round` is deprecated for complex scalars, and will raise a `TypeError` in a future release. Use `np.round` or `scalar.round` instead.\n",
      "  return round(sum([v * front.primitive.get(b, 0) for (b, v) in\n",
      "/home/computertreker/git/qiskit/qiskit-tutorial/foo/lib/python3.8/site-packages/qiskit/aqua/operators/state_fns/dict_state_fn.py:207: DeprecationWarning: The Python built-in `round` is deprecated for complex scalars, and will raise a `TypeError` in a future release. Use `np.round` or `scalar.round` instead.\n",
      "  return round(sum([v * front.primitive.get(b, 0) for (b, v) in\n",
      "/home/computertreker/git/qiskit/qiskit-tutorial/foo/lib/python3.8/site-packages/qiskit/aqua/operators/state_fns/dict_state_fn.py:207: DeprecationWarning: The Python built-in `round` is deprecated for complex scalars, and will raise a `TypeError` in a future release. Use `np.round` or `scalar.round` instead.\n",
      "  return round(sum([v * front.primitive.get(b, 0) for (b, v) in\n",
      "/home/computertreker/git/qiskit/qiskit-tutorial/foo/lib/python3.8/site-packages/qiskit/aqua/operators/state_fns/dict_state_fn.py:207: DeprecationWarning: The Python built-in `round` is deprecated for complex scalars, and will raise a `TypeError` in a future release. Use `np.round` or `scalar.round` instead.\n",
      "  return round(sum([v * front.primitive.get(b, 0) for (b, v) in\n",
      "/home/computertreker/git/qiskit/qiskit-tutorial/foo/lib/python3.8/site-packages/qiskit/aqua/operators/state_fns/dict_state_fn.py:207: DeprecationWarning: The Python built-in `round` is deprecated for complex scalars, and will raise a `TypeError` in a future release. Use `np.round` or `scalar.round` instead.\n",
      "  return round(sum([v * front.primitive.get(b, 0) for (b, v) in\n",
      "/home/computertreker/git/qiskit/qiskit-tutorial/foo/lib/python3.8/site-packages/qiskit/aqua/operators/state_fns/dict_state_fn.py:207: DeprecationWarning: The Python built-in `round` is deprecated for complex scalars, and will raise a `TypeError` in a future release. Use `np.round` or `scalar.round` instead.\n",
      "  return round(sum([v * front.primitive.get(b, 0) for (b, v) in\n",
      "/home/computertreker/git/qiskit/qiskit-tutorial/foo/lib/python3.8/site-packages/qiskit/aqua/operators/state_fns/dict_state_fn.py:207: DeprecationWarning: The Python built-in `round` is deprecated for complex scalars, and will raise a `TypeError` in a future release. Use `np.round` or `scalar.round` instead.\n",
      "  return round(sum([v * front.primitive.get(b, 0) for (b, v) in\n",
      "/home/computertreker/git/qiskit/qiskit-tutorial/foo/lib/python3.8/site-packages/qiskit/aqua/operators/state_fns/dict_state_fn.py:207: DeprecationWarning: The Python built-in `round` is deprecated for complex scalars, and will raise a `TypeError` in a future release. Use `np.round` or `scalar.round` instead.\n",
      "  return round(sum([v * front.primitive.get(b, 0) for (b, v) in\n",
      "/home/computertreker/git/qiskit/qiskit-tutorial/foo/lib/python3.8/site-packages/qiskit/aqua/operators/state_fns/dict_state_fn.py:207: DeprecationWarning: The Python built-in `round` is deprecated for complex scalars, and will raise a `TypeError` in a future release. Use `np.round` or `scalar.round` instead.\n",
      "  return round(sum([v * front.primitive.get(b, 0) for (b, v) in\n"
     ]
    },
    {
     "name": "stderr",
     "output_type": "stream",
     "text": [
      "/home/computertreker/git/qiskit/qiskit-tutorial/foo/lib/python3.8/site-packages/qiskit/aqua/operators/state_fns/dict_state_fn.py:207: DeprecationWarning: The Python built-in `round` is deprecated for complex scalars, and will raise a `TypeError` in a future release. Use `np.round` or `scalar.round` instead.\n",
      "  return round(sum([v * front.primitive.get(b, 0) for (b, v) in\n",
      "/home/computertreker/git/qiskit/qiskit-tutorial/foo/lib/python3.8/site-packages/qiskit/aqua/operators/state_fns/dict_state_fn.py:207: DeprecationWarning: The Python built-in `round` is deprecated for complex scalars, and will raise a `TypeError` in a future release. Use `np.round` or `scalar.round` instead.\n",
      "  return round(sum([v * front.primitive.get(b, 0) for (b, v) in\n",
      "/home/computertreker/git/qiskit/qiskit-tutorial/foo/lib/python3.8/site-packages/qiskit/aqua/operators/state_fns/dict_state_fn.py:207: DeprecationWarning: The Python built-in `round` is deprecated for complex scalars, and will raise a `TypeError` in a future release. Use `np.round` or `scalar.round` instead.\n",
      "  return round(sum([v * front.primitive.get(b, 0) for (b, v) in\n",
      "/home/computertreker/git/qiskit/qiskit-tutorial/foo/lib/python3.8/site-packages/qiskit/aqua/operators/state_fns/dict_state_fn.py:207: DeprecationWarning: The Python built-in `round` is deprecated for complex scalars, and will raise a `TypeError` in a future release. Use `np.round` or `scalar.round` instead.\n",
      "  return round(sum([v * front.primitive.get(b, 0) for (b, v) in\n",
      "/home/computertreker/git/qiskit/qiskit-tutorial/foo/lib/python3.8/site-packages/qiskit/aqua/operators/state_fns/dict_state_fn.py:207: DeprecationWarning: The Python built-in `round` is deprecated for complex scalars, and will raise a `TypeError` in a future release. Use `np.round` or `scalar.round` instead.\n",
      "  return round(sum([v * front.primitive.get(b, 0) for (b, v) in\n",
      "/home/computertreker/git/qiskit/qiskit-tutorial/foo/lib/python3.8/site-packages/qiskit/aqua/operators/state_fns/dict_state_fn.py:207: DeprecationWarning: The Python built-in `round` is deprecated for complex scalars, and will raise a `TypeError` in a future release. Use `np.round` or `scalar.round` instead.\n",
      "  return round(sum([v * front.primitive.get(b, 0) for (b, v) in\n",
      "/home/computertreker/git/qiskit/qiskit-tutorial/foo/lib/python3.8/site-packages/qiskit/aqua/operators/state_fns/dict_state_fn.py:207: DeprecationWarning: The Python built-in `round` is deprecated for complex scalars, and will raise a `TypeError` in a future release. Use `np.round` or `scalar.round` instead.\n",
      "  return round(sum([v * front.primitive.get(b, 0) for (b, v) in\n",
      "/home/computertreker/git/qiskit/qiskit-tutorial/foo/lib/python3.8/site-packages/qiskit/aqua/operators/state_fns/dict_state_fn.py:207: DeprecationWarning: The Python built-in `round` is deprecated for complex scalars, and will raise a `TypeError` in a future release. Use `np.round` or `scalar.round` instead.\n",
      "  return round(sum([v * front.primitive.get(b, 0) for (b, v) in\n",
      "/home/computertreker/git/qiskit/qiskit-tutorial/foo/lib/python3.8/site-packages/qiskit/aqua/operators/state_fns/dict_state_fn.py:207: DeprecationWarning: The Python built-in `round` is deprecated for complex scalars, and will raise a `TypeError` in a future release. Use `np.round` or `scalar.round` instead.\n",
      "  return round(sum([v * front.primitive.get(b, 0) for (b, v) in\n",
      "/home/computertreker/git/qiskit/qiskit-tutorial/foo/lib/python3.8/site-packages/qiskit/aqua/operators/state_fns/dict_state_fn.py:207: DeprecationWarning: The Python built-in `round` is deprecated for complex scalars, and will raise a `TypeError` in a future release. Use `np.round` or `scalar.round` instead.\n",
      "  return round(sum([v * front.primitive.get(b, 0) for (b, v) in\n",
      "/home/computertreker/git/qiskit/qiskit-tutorial/foo/lib/python3.8/site-packages/qiskit/aqua/operators/state_fns/dict_state_fn.py:207: DeprecationWarning: The Python built-in `round` is deprecated for complex scalars, and will raise a `TypeError` in a future release. Use `np.round` or `scalar.round` instead.\n",
      "  return round(sum([v * front.primitive.get(b, 0) for (b, v) in\n",
      "/home/computertreker/git/qiskit/qiskit-tutorial/foo/lib/python3.8/site-packages/qiskit/aqua/operators/state_fns/dict_state_fn.py:207: DeprecationWarning: The Python built-in `round` is deprecated for complex scalars, and will raise a `TypeError` in a future release. Use `np.round` or `scalar.round` instead.\n",
      "  return round(sum([v * front.primitive.get(b, 0) for (b, v) in\n",
      "/home/computertreker/git/qiskit/qiskit-tutorial/foo/lib/python3.8/site-packages/qiskit/aqua/operators/state_fns/dict_state_fn.py:207: DeprecationWarning: The Python built-in `round` is deprecated for complex scalars, and will raise a `TypeError` in a future release. Use `np.round` or `scalar.round` instead.\n",
      "  return round(sum([v * front.primitive.get(b, 0) for (b, v) in\n",
      "/home/computertreker/git/qiskit/qiskit-tutorial/foo/lib/python3.8/site-packages/qiskit/aqua/operators/state_fns/dict_state_fn.py:207: DeprecationWarning: The Python built-in `round` is deprecated for complex scalars, and will raise a `TypeError` in a future release. Use `np.round` or `scalar.round` instead.\n",
      "  return round(sum([v * front.primitive.get(b, 0) for (b, v) in\n",
      "/home/computertreker/git/qiskit/qiskit-tutorial/foo/lib/python3.8/site-packages/qiskit/aqua/operators/state_fns/dict_state_fn.py:207: DeprecationWarning: The Python built-in `round` is deprecated for complex scalars, and will raise a `TypeError` in a future release. Use `np.round` or `scalar.round` instead.\n",
      "  return round(sum([v * front.primitive.get(b, 0) for (b, v) in\n",
      "/home/computertreker/git/qiskit/qiskit-tutorial/foo/lib/python3.8/site-packages/qiskit/aqua/operators/state_fns/dict_state_fn.py:207: DeprecationWarning: The Python built-in `round` is deprecated for complex scalars, and will raise a `TypeError` in a future release. Use `np.round` or `scalar.round` instead.\n",
      "  return round(sum([v * front.primitive.get(b, 0) for (b, v) in\n",
      "/home/computertreker/git/qiskit/qiskit-tutorial/foo/lib/python3.8/site-packages/qiskit/aqua/operators/state_fns/dict_state_fn.py:207: DeprecationWarning: The Python built-in `round` is deprecated for complex scalars, and will raise a `TypeError` in a future release. Use `np.round` or `scalar.round` instead.\n",
      "  return round(sum([v * front.primitive.get(b, 0) for (b, v) in\n",
      "/home/computertreker/git/qiskit/qiskit-tutorial/foo/lib/python3.8/site-packages/qiskit/aqua/operators/state_fns/dict_state_fn.py:207: DeprecationWarning: The Python built-in `round` is deprecated for complex scalars, and will raise a `TypeError` in a future release. Use `np.round` or `scalar.round` instead.\n",
      "  return round(sum([v * front.primitive.get(b, 0) for (b, v) in\n",
      "/home/computertreker/git/qiskit/qiskit-tutorial/foo/lib/python3.8/site-packages/qiskit/aqua/operators/state_fns/dict_state_fn.py:207: DeprecationWarning: The Python built-in `round` is deprecated for complex scalars, and will raise a `TypeError` in a future release. Use `np.round` or `scalar.round` instead.\n",
      "  return round(sum([v * front.primitive.get(b, 0) for (b, v) in\n",
      "/home/computertreker/git/qiskit/qiskit-tutorial/foo/lib/python3.8/site-packages/qiskit/aqua/operators/state_fns/dict_state_fn.py:207: DeprecationWarning: The Python built-in `round` is deprecated for complex scalars, and will raise a `TypeError` in a future release. Use `np.round` or `scalar.round` instead.\n",
      "  return round(sum([v * front.primitive.get(b, 0) for (b, v) in\n",
      "/home/computertreker/git/qiskit/qiskit-tutorial/foo/lib/python3.8/site-packages/qiskit/aqua/operators/state_fns/dict_state_fn.py:207: DeprecationWarning: The Python built-in `round` is deprecated for complex scalars, and will raise a `TypeError` in a future release. Use `np.round` or `scalar.round` instead.\n",
      "  return round(sum([v * front.primitive.get(b, 0) for (b, v) in\n",
      "/home/computertreker/git/qiskit/qiskit-tutorial/foo/lib/python3.8/site-packages/qiskit/aqua/operators/state_fns/dict_state_fn.py:207: DeprecationWarning: The Python built-in `round` is deprecated for complex scalars, and will raise a `TypeError` in a future release. Use `np.round` or `scalar.round` instead.\n",
      "  return round(sum([v * front.primitive.get(b, 0) for (b, v) in\n",
      "/home/computertreker/git/qiskit/qiskit-tutorial/foo/lib/python3.8/site-packages/qiskit/aqua/operators/state_fns/dict_state_fn.py:207: DeprecationWarning: The Python built-in `round` is deprecated for complex scalars, and will raise a `TypeError` in a future release. Use `np.round` or `scalar.round` instead.\n",
      "  return round(sum([v * front.primitive.get(b, 0) for (b, v) in\n",
      "/home/computertreker/git/qiskit/qiskit-tutorial/foo/lib/python3.8/site-packages/qiskit/aqua/operators/state_fns/dict_state_fn.py:207: DeprecationWarning: The Python built-in `round` is deprecated for complex scalars, and will raise a `TypeError` in a future release. Use `np.round` or `scalar.round` instead.\n",
      "  return round(sum([v * front.primitive.get(b, 0) for (b, v) in\n",
      "/home/computertreker/git/qiskit/qiskit-tutorial/foo/lib/python3.8/site-packages/qiskit/aqua/operators/state_fns/dict_state_fn.py:207: DeprecationWarning: The Python built-in `round` is deprecated for complex scalars, and will raise a `TypeError` in a future release. Use `np.round` or `scalar.round` instead.\n",
      "  return round(sum([v * front.primitive.get(b, 0) for (b, v) in\n"
     ]
    },
    {
     "name": "stderr",
     "output_type": "stream",
     "text": [
      "/home/computertreker/git/qiskit/qiskit-tutorial/foo/lib/python3.8/site-packages/qiskit/aqua/operators/state_fns/dict_state_fn.py:207: DeprecationWarning: The Python built-in `round` is deprecated for complex scalars, and will raise a `TypeError` in a future release. Use `np.round` or `scalar.round` instead.\n",
      "  return round(sum([v * front.primitive.get(b, 0) for (b, v) in\n",
      "/home/computertreker/git/qiskit/qiskit-tutorial/foo/lib/python3.8/site-packages/qiskit/aqua/operators/state_fns/dict_state_fn.py:207: DeprecationWarning: The Python built-in `round` is deprecated for complex scalars, and will raise a `TypeError` in a future release. Use `np.round` or `scalar.round` instead.\n",
      "  return round(sum([v * front.primitive.get(b, 0) for (b, v) in\n",
      "/home/computertreker/git/qiskit/qiskit-tutorial/foo/lib/python3.8/site-packages/qiskit/aqua/operators/state_fns/dict_state_fn.py:207: DeprecationWarning: The Python built-in `round` is deprecated for complex scalars, and will raise a `TypeError` in a future release. Use `np.round` or `scalar.round` instead.\n",
      "  return round(sum([v * front.primitive.get(b, 0) for (b, v) in\n",
      "/home/computertreker/git/qiskit/qiskit-tutorial/foo/lib/python3.8/site-packages/qiskit/aqua/operators/state_fns/dict_state_fn.py:207: DeprecationWarning: The Python built-in `round` is deprecated for complex scalars, and will raise a `TypeError` in a future release. Use `np.round` or `scalar.round` instead.\n",
      "  return round(sum([v * front.primitive.get(b, 0) for (b, v) in\n",
      "/home/computertreker/git/qiskit/qiskit-tutorial/foo/lib/python3.8/site-packages/qiskit/aqua/operators/state_fns/dict_state_fn.py:207: DeprecationWarning: The Python built-in `round` is deprecated for complex scalars, and will raise a `TypeError` in a future release. Use `np.round` or `scalar.round` instead.\n",
      "  return round(sum([v * front.primitive.get(b, 0) for (b, v) in\n",
      "/home/computertreker/git/qiskit/qiskit-tutorial/foo/lib/python3.8/site-packages/qiskit/aqua/operators/state_fns/dict_state_fn.py:207: DeprecationWarning: The Python built-in `round` is deprecated for complex scalars, and will raise a `TypeError` in a future release. Use `np.round` or `scalar.round` instead.\n",
      "  return round(sum([v * front.primitive.get(b, 0) for (b, v) in\n",
      "/home/computertreker/git/qiskit/qiskit-tutorial/foo/lib/python3.8/site-packages/qiskit/aqua/operators/state_fns/dict_state_fn.py:207: DeprecationWarning: The Python built-in `round` is deprecated for complex scalars, and will raise a `TypeError` in a future release. Use `np.round` or `scalar.round` instead.\n",
      "  return round(sum([v * front.primitive.get(b, 0) for (b, v) in\n",
      "/home/computertreker/git/qiskit/qiskit-tutorial/foo/lib/python3.8/site-packages/qiskit/aqua/operators/state_fns/dict_state_fn.py:207: DeprecationWarning: The Python built-in `round` is deprecated for complex scalars, and will raise a `TypeError` in a future release. Use `np.round` or `scalar.round` instead.\n",
      "  return round(sum([v * front.primitive.get(b, 0) for (b, v) in\n",
      "/home/computertreker/git/qiskit/qiskit-tutorial/foo/lib/python3.8/site-packages/qiskit/aqua/operators/state_fns/dict_state_fn.py:207: DeprecationWarning: The Python built-in `round` is deprecated for complex scalars, and will raise a `TypeError` in a future release. Use `np.round` or `scalar.round` instead.\n",
      "  return round(sum([v * front.primitive.get(b, 0) for (b, v) in\n",
      "/home/computertreker/git/qiskit/qiskit-tutorial/foo/lib/python3.8/site-packages/qiskit/aqua/operators/state_fns/dict_state_fn.py:207: DeprecationWarning: The Python built-in `round` is deprecated for complex scalars, and will raise a `TypeError` in a future release. Use `np.round` or `scalar.round` instead.\n",
      "  return round(sum([v * front.primitive.get(b, 0) for (b, v) in\n",
      "/home/computertreker/git/qiskit/qiskit-tutorial/foo/lib/python3.8/site-packages/qiskit/aqua/operators/state_fns/dict_state_fn.py:207: DeprecationWarning: The Python built-in `round` is deprecated for complex scalars, and will raise a `TypeError` in a future release. Use `np.round` or `scalar.round` instead.\n",
      "  return round(sum([v * front.primitive.get(b, 0) for (b, v) in\n",
      "/home/computertreker/git/qiskit/qiskit-tutorial/foo/lib/python3.8/site-packages/qiskit/aqua/operators/state_fns/dict_state_fn.py:207: DeprecationWarning: The Python built-in `round` is deprecated for complex scalars, and will raise a `TypeError` in a future release. Use `np.round` or `scalar.round` instead.\n",
      "  return round(sum([v * front.primitive.get(b, 0) for (b, v) in\n",
      "/home/computertreker/git/qiskit/qiskit-tutorial/foo/lib/python3.8/site-packages/qiskit/aqua/operators/state_fns/dict_state_fn.py:207: DeprecationWarning: The Python built-in `round` is deprecated for complex scalars, and will raise a `TypeError` in a future release. Use `np.round` or `scalar.round` instead.\n",
      "  return round(sum([v * front.primitive.get(b, 0) for (b, v) in\n",
      "/home/computertreker/git/qiskit/qiskit-tutorial/foo/lib/python3.8/site-packages/qiskit/aqua/operators/state_fns/dict_state_fn.py:207: DeprecationWarning: The Python built-in `round` is deprecated for complex scalars, and will raise a `TypeError` in a future release. Use `np.round` or `scalar.round` instead.\n",
      "  return round(sum([v * front.primitive.get(b, 0) for (b, v) in\n",
      "/home/computertreker/git/qiskit/qiskit-tutorial/foo/lib/python3.8/site-packages/qiskit/aqua/operators/state_fns/dict_state_fn.py:207: DeprecationWarning: The Python built-in `round` is deprecated for complex scalars, and will raise a `TypeError` in a future release. Use `np.round` or `scalar.round` instead.\n",
      "  return round(sum([v * front.primitive.get(b, 0) for (b, v) in\n",
      "/home/computertreker/git/qiskit/qiskit-tutorial/foo/lib/python3.8/site-packages/qiskit/aqua/operators/state_fns/dict_state_fn.py:207: DeprecationWarning: The Python built-in `round` is deprecated for complex scalars, and will raise a `TypeError` in a future release. Use `np.round` or `scalar.round` instead.\n",
      "  return round(sum([v * front.primitive.get(b, 0) for (b, v) in\n",
      "/home/computertreker/git/qiskit/qiskit-tutorial/foo/lib/python3.8/site-packages/qiskit/aqua/operators/state_fns/dict_state_fn.py:207: DeprecationWarning: The Python built-in `round` is deprecated for complex scalars, and will raise a `TypeError` in a future release. Use `np.round` or `scalar.round` instead.\n",
      "  return round(sum([v * front.primitive.get(b, 0) for (b, v) in\n",
      "/home/computertreker/git/qiskit/qiskit-tutorial/foo/lib/python3.8/site-packages/qiskit/aqua/operators/state_fns/dict_state_fn.py:207: DeprecationWarning: The Python built-in `round` is deprecated for complex scalars, and will raise a `TypeError` in a future release. Use `np.round` or `scalar.round` instead.\n",
      "  return round(sum([v * front.primitive.get(b, 0) for (b, v) in\n",
      "/home/computertreker/git/qiskit/qiskit-tutorial/foo/lib/python3.8/site-packages/qiskit/aqua/operators/state_fns/dict_state_fn.py:207: DeprecationWarning: The Python built-in `round` is deprecated for complex scalars, and will raise a `TypeError` in a future release. Use `np.round` or `scalar.round` instead.\n",
      "  return round(sum([v * front.primitive.get(b, 0) for (b, v) in\n",
      "/home/computertreker/git/qiskit/qiskit-tutorial/foo/lib/python3.8/site-packages/qiskit/aqua/operators/state_fns/dict_state_fn.py:207: DeprecationWarning: The Python built-in `round` is deprecated for complex scalars, and will raise a `TypeError` in a future release. Use `np.round` or `scalar.round` instead.\n",
      "  return round(sum([v * front.primitive.get(b, 0) for (b, v) in\n",
      "/home/computertreker/git/qiskit/qiskit-tutorial/foo/lib/python3.8/site-packages/qiskit/aqua/operators/state_fns/dict_state_fn.py:207: DeprecationWarning: The Python built-in `round` is deprecated for complex scalars, and will raise a `TypeError` in a future release. Use `np.round` or `scalar.round` instead.\n",
      "  return round(sum([v * front.primitive.get(b, 0) for (b, v) in\n",
      "/home/computertreker/git/qiskit/qiskit-tutorial/foo/lib/python3.8/site-packages/qiskit/aqua/operators/state_fns/dict_state_fn.py:207: DeprecationWarning: The Python built-in `round` is deprecated for complex scalars, and will raise a `TypeError` in a future release. Use `np.round` or `scalar.round` instead.\n",
      "  return round(sum([v * front.primitive.get(b, 0) for (b, v) in\n",
      "/home/computertreker/git/qiskit/qiskit-tutorial/foo/lib/python3.8/site-packages/qiskit/aqua/operators/state_fns/dict_state_fn.py:207: DeprecationWarning: The Python built-in `round` is deprecated for complex scalars, and will raise a `TypeError` in a future release. Use `np.round` or `scalar.round` instead.\n",
      "  return round(sum([v * front.primitive.get(b, 0) for (b, v) in\n",
      "/home/computertreker/git/qiskit/qiskit-tutorial/foo/lib/python3.8/site-packages/qiskit/aqua/operators/state_fns/dict_state_fn.py:207: DeprecationWarning: The Python built-in `round` is deprecated for complex scalars, and will raise a `TypeError` in a future release. Use `np.round` or `scalar.round` instead.\n",
      "  return round(sum([v * front.primitive.get(b, 0) for (b, v) in\n",
      "/home/computertreker/git/qiskit/qiskit-tutorial/foo/lib/python3.8/site-packages/qiskit/aqua/operators/state_fns/dict_state_fn.py:207: DeprecationWarning: The Python built-in `round` is deprecated for complex scalars, and will raise a `TypeError` in a future release. Use `np.round` or `scalar.round` instead.\n",
      "  return round(sum([v * front.primitive.get(b, 0) for (b, v) in\n"
     ]
    },
    {
     "name": "stderr",
     "output_type": "stream",
     "text": [
      "/home/computertreker/git/qiskit/qiskit-tutorial/foo/lib/python3.8/site-packages/qiskit/aqua/operators/state_fns/dict_state_fn.py:207: DeprecationWarning: The Python built-in `round` is deprecated for complex scalars, and will raise a `TypeError` in a future release. Use `np.round` or `scalar.round` instead.\n",
      "  return round(sum([v * front.primitive.get(b, 0) for (b, v) in\n",
      "/home/computertreker/git/qiskit/qiskit-tutorial/foo/lib/python3.8/site-packages/qiskit/aqua/operators/state_fns/dict_state_fn.py:207: DeprecationWarning: The Python built-in `round` is deprecated for complex scalars, and will raise a `TypeError` in a future release. Use `np.round` or `scalar.round` instead.\n",
      "  return round(sum([v * front.primitive.get(b, 0) for (b, v) in\n",
      "/home/computertreker/git/qiskit/qiskit-tutorial/foo/lib/python3.8/site-packages/qiskit/aqua/operators/state_fns/dict_state_fn.py:207: DeprecationWarning: The Python built-in `round` is deprecated for complex scalars, and will raise a `TypeError` in a future release. Use `np.round` or `scalar.round` instead.\n",
      "  return round(sum([v * front.primitive.get(b, 0) for (b, v) in\n",
      "/home/computertreker/git/qiskit/qiskit-tutorial/foo/lib/python3.8/site-packages/qiskit/aqua/operators/state_fns/dict_state_fn.py:207: DeprecationWarning: The Python built-in `round` is deprecated for complex scalars, and will raise a `TypeError` in a future release. Use `np.round` or `scalar.round` instead.\n",
      "  return round(sum([v * front.primitive.get(b, 0) for (b, v) in\n",
      "/home/computertreker/git/qiskit/qiskit-tutorial/foo/lib/python3.8/site-packages/qiskit/aqua/operators/state_fns/dict_state_fn.py:207: DeprecationWarning: The Python built-in `round` is deprecated for complex scalars, and will raise a `TypeError` in a future release. Use `np.round` or `scalar.round` instead.\n",
      "  return round(sum([v * front.primitive.get(b, 0) for (b, v) in\n",
      "/home/computertreker/git/qiskit/qiskit-tutorial/foo/lib/python3.8/site-packages/qiskit/aqua/operators/state_fns/dict_state_fn.py:207: DeprecationWarning: The Python built-in `round` is deprecated for complex scalars, and will raise a `TypeError` in a future release. Use `np.round` or `scalar.round` instead.\n",
      "  return round(sum([v * front.primitive.get(b, 0) for (b, v) in\n",
      "/home/computertreker/git/qiskit/qiskit-tutorial/foo/lib/python3.8/site-packages/qiskit/aqua/operators/state_fns/dict_state_fn.py:207: DeprecationWarning: The Python built-in `round` is deprecated for complex scalars, and will raise a `TypeError` in a future release. Use `np.round` or `scalar.round` instead.\n",
      "  return round(sum([v * front.primitive.get(b, 0) for (b, v) in\n",
      "/home/computertreker/git/qiskit/qiskit-tutorial/foo/lib/python3.8/site-packages/qiskit/aqua/operators/state_fns/dict_state_fn.py:207: DeprecationWarning: The Python built-in `round` is deprecated for complex scalars, and will raise a `TypeError` in a future release. Use `np.round` or `scalar.round` instead.\n",
      "  return round(sum([v * front.primitive.get(b, 0) for (b, v) in\n",
      "/home/computertreker/git/qiskit/qiskit-tutorial/foo/lib/python3.8/site-packages/qiskit/aqua/operators/state_fns/dict_state_fn.py:207: DeprecationWarning: The Python built-in `round` is deprecated for complex scalars, and will raise a `TypeError` in a future release. Use `np.round` or `scalar.round` instead.\n",
      "  return round(sum([v * front.primitive.get(b, 0) for (b, v) in\n",
      "/home/computertreker/git/qiskit/qiskit-tutorial/foo/lib/python3.8/site-packages/qiskit/aqua/operators/state_fns/dict_state_fn.py:207: DeprecationWarning: The Python built-in `round` is deprecated for complex scalars, and will raise a `TypeError` in a future release. Use `np.round` or `scalar.round` instead.\n",
      "  return round(sum([v * front.primitive.get(b, 0) for (b, v) in\n",
      "/home/computertreker/git/qiskit/qiskit-tutorial/foo/lib/python3.8/site-packages/qiskit/aqua/operators/state_fns/dict_state_fn.py:207: DeprecationWarning: The Python built-in `round` is deprecated for complex scalars, and will raise a `TypeError` in a future release. Use `np.round` or `scalar.round` instead.\n",
      "  return round(sum([v * front.primitive.get(b, 0) for (b, v) in\n",
      "/home/computertreker/git/qiskit/qiskit-tutorial/foo/lib/python3.8/site-packages/qiskit/aqua/operators/state_fns/dict_state_fn.py:207: DeprecationWarning: The Python built-in `round` is deprecated for complex scalars, and will raise a `TypeError` in a future release. Use `np.round` or `scalar.round` instead.\n",
      "  return round(sum([v * front.primitive.get(b, 0) for (b, v) in\n",
      "/home/computertreker/git/qiskit/qiskit-tutorial/foo/lib/python3.8/site-packages/qiskit/aqua/operators/state_fns/dict_state_fn.py:207: DeprecationWarning: The Python built-in `round` is deprecated for complex scalars, and will raise a `TypeError` in a future release. Use `np.round` or `scalar.round` instead.\n",
      "  return round(sum([v * front.primitive.get(b, 0) for (b, v) in\n",
      "/home/computertreker/git/qiskit/qiskit-tutorial/foo/lib/python3.8/site-packages/qiskit/aqua/operators/state_fns/dict_state_fn.py:207: DeprecationWarning: The Python built-in `round` is deprecated for complex scalars, and will raise a `TypeError` in a future release. Use `np.round` or `scalar.round` instead.\n",
      "  return round(sum([v * front.primitive.get(b, 0) for (b, v) in\n",
      "/home/computertreker/git/qiskit/qiskit-tutorial/foo/lib/python3.8/site-packages/qiskit/aqua/operators/state_fns/dict_state_fn.py:207: DeprecationWarning: The Python built-in `round` is deprecated for complex scalars, and will raise a `TypeError` in a future release. Use `np.round` or `scalar.round` instead.\n",
      "  return round(sum([v * front.primitive.get(b, 0) for (b, v) in\n",
      "/home/computertreker/git/qiskit/qiskit-tutorial/foo/lib/python3.8/site-packages/qiskit/aqua/operators/state_fns/dict_state_fn.py:207: DeprecationWarning: The Python built-in `round` is deprecated for complex scalars, and will raise a `TypeError` in a future release. Use `np.round` or `scalar.round` instead.\n",
      "  return round(sum([v * front.primitive.get(b, 0) for (b, v) in\n",
      "/home/computertreker/git/qiskit/qiskit-tutorial/foo/lib/python3.8/site-packages/qiskit/aqua/operators/state_fns/dict_state_fn.py:207: DeprecationWarning: The Python built-in `round` is deprecated for complex scalars, and will raise a `TypeError` in a future release. Use `np.round` or `scalar.round` instead.\n",
      "  return round(sum([v * front.primitive.get(b, 0) for (b, v) in\n",
      "/home/computertreker/git/qiskit/qiskit-tutorial/foo/lib/python3.8/site-packages/qiskit/aqua/operators/state_fns/dict_state_fn.py:207: DeprecationWarning: The Python built-in `round` is deprecated for complex scalars, and will raise a `TypeError` in a future release. Use `np.round` or `scalar.round` instead.\n",
      "  return round(sum([v * front.primitive.get(b, 0) for (b, v) in\n",
      "/home/computertreker/git/qiskit/qiskit-tutorial/foo/lib/python3.8/site-packages/qiskit/aqua/operators/state_fns/dict_state_fn.py:207: DeprecationWarning: The Python built-in `round` is deprecated for complex scalars, and will raise a `TypeError` in a future release. Use `np.round` or `scalar.round` instead.\n",
      "  return round(sum([v * front.primitive.get(b, 0) for (b, v) in\n",
      "/home/computertreker/git/qiskit/qiskit-tutorial/foo/lib/python3.8/site-packages/qiskit/aqua/operators/state_fns/dict_state_fn.py:207: DeprecationWarning: The Python built-in `round` is deprecated for complex scalars, and will raise a `TypeError` in a future release. Use `np.round` or `scalar.round` instead.\n",
      "  return round(sum([v * front.primitive.get(b, 0) for (b, v) in\n",
      "/home/computertreker/git/qiskit/qiskit-tutorial/foo/lib/python3.8/site-packages/qiskit/aqua/operators/state_fns/dict_state_fn.py:207: DeprecationWarning: The Python built-in `round` is deprecated for complex scalars, and will raise a `TypeError` in a future release. Use `np.round` or `scalar.round` instead.\n",
      "  return round(sum([v * front.primitive.get(b, 0) for (b, v) in\n",
      "/home/computertreker/git/qiskit/qiskit-tutorial/foo/lib/python3.8/site-packages/qiskit/aqua/operators/state_fns/dict_state_fn.py:207: DeprecationWarning: The Python built-in `round` is deprecated for complex scalars, and will raise a `TypeError` in a future release. Use `np.round` or `scalar.round` instead.\n",
      "  return round(sum([v * front.primitive.get(b, 0) for (b, v) in\n",
      "/home/computertreker/git/qiskit/qiskit-tutorial/foo/lib/python3.8/site-packages/qiskit/aqua/operators/state_fns/dict_state_fn.py:207: DeprecationWarning: The Python built-in `round` is deprecated for complex scalars, and will raise a `TypeError` in a future release. Use `np.round` or `scalar.round` instead.\n",
      "  return round(sum([v * front.primitive.get(b, 0) for (b, v) in\n",
      "/home/computertreker/git/qiskit/qiskit-tutorial/foo/lib/python3.8/site-packages/qiskit/aqua/operators/state_fns/dict_state_fn.py:207: DeprecationWarning: The Python built-in `round` is deprecated for complex scalars, and will raise a `TypeError` in a future release. Use `np.round` or `scalar.round` instead.\n",
      "  return round(sum([v * front.primitive.get(b, 0) for (b, v) in\n",
      "/home/computertreker/git/qiskit/qiskit-tutorial/foo/lib/python3.8/site-packages/qiskit/aqua/operators/state_fns/dict_state_fn.py:207: DeprecationWarning: The Python built-in `round` is deprecated for complex scalars, and will raise a `TypeError` in a future release. Use `np.round` or `scalar.round` instead.\n",
      "  return round(sum([v * front.primitive.get(b, 0) for (b, v) in\n"
     ]
    },
    {
     "name": "stderr",
     "output_type": "stream",
     "text": [
      "/home/computertreker/git/qiskit/qiskit-tutorial/foo/lib/python3.8/site-packages/qiskit/aqua/operators/state_fns/dict_state_fn.py:207: DeprecationWarning: The Python built-in `round` is deprecated for complex scalars, and will raise a `TypeError` in a future release. Use `np.round` or `scalar.round` instead.\n",
      "  return round(sum([v * front.primitive.get(b, 0) for (b, v) in\n",
      "/home/computertreker/git/qiskit/qiskit-tutorial/foo/lib/python3.8/site-packages/qiskit/aqua/operators/state_fns/dict_state_fn.py:207: DeprecationWarning: The Python built-in `round` is deprecated for complex scalars, and will raise a `TypeError` in a future release. Use `np.round` or `scalar.round` instead.\n",
      "  return round(sum([v * front.primitive.get(b, 0) for (b, v) in\n",
      "/home/computertreker/git/qiskit/qiskit-tutorial/foo/lib/python3.8/site-packages/qiskit/aqua/operators/state_fns/dict_state_fn.py:207: DeprecationWarning: The Python built-in `round` is deprecated for complex scalars, and will raise a `TypeError` in a future release. Use `np.round` or `scalar.round` instead.\n",
      "  return round(sum([v * front.primitive.get(b, 0) for (b, v) in\n",
      "/home/computertreker/git/qiskit/qiskit-tutorial/foo/lib/python3.8/site-packages/qiskit/aqua/operators/state_fns/dict_state_fn.py:207: DeprecationWarning: The Python built-in `round` is deprecated for complex scalars, and will raise a `TypeError` in a future release. Use `np.round` or `scalar.round` instead.\n",
      "  return round(sum([v * front.primitive.get(b, 0) for (b, v) in\n",
      "/home/computertreker/git/qiskit/qiskit-tutorial/foo/lib/python3.8/site-packages/qiskit/aqua/operators/state_fns/dict_state_fn.py:207: DeprecationWarning: The Python built-in `round` is deprecated for complex scalars, and will raise a `TypeError` in a future release. Use `np.round` or `scalar.round` instead.\n",
      "  return round(sum([v * front.primitive.get(b, 0) for (b, v) in\n",
      "/home/computertreker/git/qiskit/qiskit-tutorial/foo/lib/python3.8/site-packages/qiskit/aqua/operators/state_fns/dict_state_fn.py:207: DeprecationWarning: The Python built-in `round` is deprecated for complex scalars, and will raise a `TypeError` in a future release. Use `np.round` or `scalar.round` instead.\n",
      "  return round(sum([v * front.primitive.get(b, 0) for (b, v) in\n",
      "/home/computertreker/git/qiskit/qiskit-tutorial/foo/lib/python3.8/site-packages/qiskit/aqua/operators/state_fns/dict_state_fn.py:207: DeprecationWarning: The Python built-in `round` is deprecated for complex scalars, and will raise a `TypeError` in a future release. Use `np.round` or `scalar.round` instead.\n",
      "  return round(sum([v * front.primitive.get(b, 0) for (b, v) in\n",
      "/home/computertreker/git/qiskit/qiskit-tutorial/foo/lib/python3.8/site-packages/qiskit/aqua/operators/state_fns/dict_state_fn.py:207: DeprecationWarning: The Python built-in `round` is deprecated for complex scalars, and will raise a `TypeError` in a future release. Use `np.round` or `scalar.round` instead.\n",
      "  return round(sum([v * front.primitive.get(b, 0) for (b, v) in\n",
      "/home/computertreker/git/qiskit/qiskit-tutorial/foo/lib/python3.8/site-packages/qiskit/aqua/operators/state_fns/dict_state_fn.py:207: DeprecationWarning: The Python built-in `round` is deprecated for complex scalars, and will raise a `TypeError` in a future release. Use `np.round` or `scalar.round` instead.\n",
      "  return round(sum([v * front.primitive.get(b, 0) for (b, v) in\n",
      "/home/computertreker/git/qiskit/qiskit-tutorial/foo/lib/python3.8/site-packages/qiskit/aqua/operators/state_fns/dict_state_fn.py:207: DeprecationWarning: The Python built-in `round` is deprecated for complex scalars, and will raise a `TypeError` in a future release. Use `np.round` or `scalar.round` instead.\n",
      "  return round(sum([v * front.primitive.get(b, 0) for (b, v) in\n",
      "/home/computertreker/git/qiskit/qiskit-tutorial/foo/lib/python3.8/site-packages/qiskit/aqua/operators/state_fns/dict_state_fn.py:207: DeprecationWarning: The Python built-in `round` is deprecated for complex scalars, and will raise a `TypeError` in a future release. Use `np.round` or `scalar.round` instead.\n",
      "  return round(sum([v * front.primitive.get(b, 0) for (b, v) in\n",
      "/home/computertreker/git/qiskit/qiskit-tutorial/foo/lib/python3.8/site-packages/qiskit/aqua/operators/state_fns/dict_state_fn.py:207: DeprecationWarning: The Python built-in `round` is deprecated for complex scalars, and will raise a `TypeError` in a future release. Use `np.round` or `scalar.round` instead.\n",
      "  return round(sum([v * front.primitive.get(b, 0) for (b, v) in\n",
      "/home/computertreker/git/qiskit/qiskit-tutorial/foo/lib/python3.8/site-packages/qiskit/aqua/operators/state_fns/dict_state_fn.py:207: DeprecationWarning: The Python built-in `round` is deprecated for complex scalars, and will raise a `TypeError` in a future release. Use `np.round` or `scalar.round` instead.\n",
      "  return round(sum([v * front.primitive.get(b, 0) for (b, v) in\n",
      "/home/computertreker/git/qiskit/qiskit-tutorial/foo/lib/python3.8/site-packages/qiskit/aqua/operators/state_fns/dict_state_fn.py:207: DeprecationWarning: The Python built-in `round` is deprecated for complex scalars, and will raise a `TypeError` in a future release. Use `np.round` or `scalar.round` instead.\n",
      "  return round(sum([v * front.primitive.get(b, 0) for (b, v) in\n",
      "/home/computertreker/git/qiskit/qiskit-tutorial/foo/lib/python3.8/site-packages/qiskit/aqua/operators/state_fns/dict_state_fn.py:207: DeprecationWarning: The Python built-in `round` is deprecated for complex scalars, and will raise a `TypeError` in a future release. Use `np.round` or `scalar.round` instead.\n",
      "  return round(sum([v * front.primitive.get(b, 0) for (b, v) in\n",
      "/home/computertreker/git/qiskit/qiskit-tutorial/foo/lib/python3.8/site-packages/qiskit/aqua/operators/state_fns/dict_state_fn.py:207: DeprecationWarning: The Python built-in `round` is deprecated for complex scalars, and will raise a `TypeError` in a future release. Use `np.round` or `scalar.round` instead.\n",
      "  return round(sum([v * front.primitive.get(b, 0) for (b, v) in\n",
      "/home/computertreker/git/qiskit/qiskit-tutorial/foo/lib/python3.8/site-packages/qiskit/aqua/operators/state_fns/dict_state_fn.py:207: DeprecationWarning: The Python built-in `round` is deprecated for complex scalars, and will raise a `TypeError` in a future release. Use `np.round` or `scalar.round` instead.\n",
      "  return round(sum([v * front.primitive.get(b, 0) for (b, v) in\n",
      "/home/computertreker/git/qiskit/qiskit-tutorial/foo/lib/python3.8/site-packages/qiskit/aqua/operators/state_fns/dict_state_fn.py:207: DeprecationWarning: The Python built-in `round` is deprecated for complex scalars, and will raise a `TypeError` in a future release. Use `np.round` or `scalar.round` instead.\n",
      "  return round(sum([v * front.primitive.get(b, 0) for (b, v) in\n",
      "/home/computertreker/git/qiskit/qiskit-tutorial/foo/lib/python3.8/site-packages/qiskit/aqua/operators/state_fns/dict_state_fn.py:207: DeprecationWarning: The Python built-in `round` is deprecated for complex scalars, and will raise a `TypeError` in a future release. Use `np.round` or `scalar.round` instead.\n",
      "  return round(sum([v * front.primitive.get(b, 0) for (b, v) in\n",
      "/home/computertreker/git/qiskit/qiskit-tutorial/foo/lib/python3.8/site-packages/qiskit/aqua/operators/state_fns/dict_state_fn.py:207: DeprecationWarning: The Python built-in `round` is deprecated for complex scalars, and will raise a `TypeError` in a future release. Use `np.round` or `scalar.round` instead.\n",
      "  return round(sum([v * front.primitive.get(b, 0) for (b, v) in\n",
      "/home/computertreker/git/qiskit/qiskit-tutorial/foo/lib/python3.8/site-packages/qiskit/aqua/operators/state_fns/dict_state_fn.py:207: DeprecationWarning: The Python built-in `round` is deprecated for complex scalars, and will raise a `TypeError` in a future release. Use `np.round` or `scalar.round` instead.\n",
      "  return round(sum([v * front.primitive.get(b, 0) for (b, v) in\n",
      "/home/computertreker/git/qiskit/qiskit-tutorial/foo/lib/python3.8/site-packages/qiskit/aqua/operators/state_fns/dict_state_fn.py:207: DeprecationWarning: The Python built-in `round` is deprecated for complex scalars, and will raise a `TypeError` in a future release. Use `np.round` or `scalar.round` instead.\n",
      "  return round(sum([v * front.primitive.get(b, 0) for (b, v) in\n",
      "/home/computertreker/git/qiskit/qiskit-tutorial/foo/lib/python3.8/site-packages/qiskit/aqua/operators/state_fns/dict_state_fn.py:207: DeprecationWarning: The Python built-in `round` is deprecated for complex scalars, and will raise a `TypeError` in a future release. Use `np.round` or `scalar.round` instead.\n",
      "  return round(sum([v * front.primitive.get(b, 0) for (b, v) in\n",
      "/home/computertreker/git/qiskit/qiskit-tutorial/foo/lib/python3.8/site-packages/qiskit/aqua/operators/state_fns/dict_state_fn.py:207: DeprecationWarning: The Python built-in `round` is deprecated for complex scalars, and will raise a `TypeError` in a future release. Use `np.round` or `scalar.round` instead.\n",
      "  return round(sum([v * front.primitive.get(b, 0) for (b, v) in\n",
      "/home/computertreker/git/qiskit/qiskit-tutorial/foo/lib/python3.8/site-packages/qiskit/aqua/operators/state_fns/dict_state_fn.py:207: DeprecationWarning: The Python built-in `round` is deprecated for complex scalars, and will raise a `TypeError` in a future release. Use `np.round` or `scalar.round` instead.\n",
      "  return round(sum([v * front.primitive.get(b, 0) for (b, v) in\n"
     ]
    },
    {
     "name": "stderr",
     "output_type": "stream",
     "text": [
      "/home/computertreker/git/qiskit/qiskit-tutorial/foo/lib/python3.8/site-packages/qiskit/aqua/operators/state_fns/dict_state_fn.py:207: DeprecationWarning: The Python built-in `round` is deprecated for complex scalars, and will raise a `TypeError` in a future release. Use `np.round` or `scalar.round` instead.\n",
      "  return round(sum([v * front.primitive.get(b, 0) for (b, v) in\n",
      "/home/computertreker/git/qiskit/qiskit-tutorial/foo/lib/python3.8/site-packages/qiskit/aqua/operators/state_fns/dict_state_fn.py:207: DeprecationWarning: The Python built-in `round` is deprecated for complex scalars, and will raise a `TypeError` in a future release. Use `np.round` or `scalar.round` instead.\n",
      "  return round(sum([v * front.primitive.get(b, 0) for (b, v) in\n",
      "/home/computertreker/git/qiskit/qiskit-tutorial/foo/lib/python3.8/site-packages/qiskit/aqua/operators/state_fns/dict_state_fn.py:207: DeprecationWarning: The Python built-in `round` is deprecated for complex scalars, and will raise a `TypeError` in a future release. Use `np.round` or `scalar.round` instead.\n",
      "  return round(sum([v * front.primitive.get(b, 0) for (b, v) in\n",
      "/home/computertreker/git/qiskit/qiskit-tutorial/foo/lib/python3.8/site-packages/qiskit/aqua/operators/state_fns/dict_state_fn.py:207: DeprecationWarning: The Python built-in `round` is deprecated for complex scalars, and will raise a `TypeError` in a future release. Use `np.round` or `scalar.round` instead.\n",
      "  return round(sum([v * front.primitive.get(b, 0) for (b, v) in\n",
      "/home/computertreker/git/qiskit/qiskit-tutorial/foo/lib/python3.8/site-packages/qiskit/aqua/operators/state_fns/dict_state_fn.py:207: DeprecationWarning: The Python built-in `round` is deprecated for complex scalars, and will raise a `TypeError` in a future release. Use `np.round` or `scalar.round` instead.\n",
      "  return round(sum([v * front.primitive.get(b, 0) for (b, v) in\n",
      "/home/computertreker/git/qiskit/qiskit-tutorial/foo/lib/python3.8/site-packages/qiskit/aqua/operators/state_fns/dict_state_fn.py:207: DeprecationWarning: The Python built-in `round` is deprecated for complex scalars, and will raise a `TypeError` in a future release. Use `np.round` or `scalar.round` instead.\n",
      "  return round(sum([v * front.primitive.get(b, 0) for (b, v) in\n",
      "/home/computertreker/git/qiskit/qiskit-tutorial/foo/lib/python3.8/site-packages/qiskit/aqua/operators/state_fns/dict_state_fn.py:207: DeprecationWarning: The Python built-in `round` is deprecated for complex scalars, and will raise a `TypeError` in a future release. Use `np.round` or `scalar.round` instead.\n",
      "  return round(sum([v * front.primitive.get(b, 0) for (b, v) in\n",
      "/home/computertreker/git/qiskit/qiskit-tutorial/foo/lib/python3.8/site-packages/qiskit/aqua/operators/state_fns/dict_state_fn.py:207: DeprecationWarning: The Python built-in `round` is deprecated for complex scalars, and will raise a `TypeError` in a future release. Use `np.round` or `scalar.round` instead.\n",
      "  return round(sum([v * front.primitive.get(b, 0) for (b, v) in\n",
      "/home/computertreker/git/qiskit/qiskit-tutorial/foo/lib/python3.8/site-packages/qiskit/aqua/operators/state_fns/dict_state_fn.py:207: DeprecationWarning: The Python built-in `round` is deprecated for complex scalars, and will raise a `TypeError` in a future release. Use `np.round` or `scalar.round` instead.\n",
      "  return round(sum([v * front.primitive.get(b, 0) for (b, v) in\n",
      "/home/computertreker/git/qiskit/qiskit-tutorial/foo/lib/python3.8/site-packages/qiskit/aqua/operators/state_fns/dict_state_fn.py:207: DeprecationWarning: The Python built-in `round` is deprecated for complex scalars, and will raise a `TypeError` in a future release. Use `np.round` or `scalar.round` instead.\n",
      "  return round(sum([v * front.primitive.get(b, 0) for (b, v) in\n",
      "/home/computertreker/git/qiskit/qiskit-tutorial/foo/lib/python3.8/site-packages/qiskit/aqua/operators/state_fns/dict_state_fn.py:207: DeprecationWarning: The Python built-in `round` is deprecated for complex scalars, and will raise a `TypeError` in a future release. Use `np.round` or `scalar.round` instead.\n",
      "  return round(sum([v * front.primitive.get(b, 0) for (b, v) in\n",
      "/home/computertreker/git/qiskit/qiskit-tutorial/foo/lib/python3.8/site-packages/qiskit/aqua/operators/state_fns/dict_state_fn.py:207: DeprecationWarning: The Python built-in `round` is deprecated for complex scalars, and will raise a `TypeError` in a future release. Use `np.round` or `scalar.round` instead.\n",
      "  return round(sum([v * front.primitive.get(b, 0) for (b, v) in\n",
      "/home/computertreker/git/qiskit/qiskit-tutorial/foo/lib/python3.8/site-packages/qiskit/aqua/operators/state_fns/dict_state_fn.py:207: DeprecationWarning: The Python built-in `round` is deprecated for complex scalars, and will raise a `TypeError` in a future release. Use `np.round` or `scalar.round` instead.\n",
      "  return round(sum([v * front.primitive.get(b, 0) for (b, v) in\n",
      "/home/computertreker/git/qiskit/qiskit-tutorial/foo/lib/python3.8/site-packages/qiskit/aqua/operators/state_fns/dict_state_fn.py:207: DeprecationWarning: The Python built-in `round` is deprecated for complex scalars, and will raise a `TypeError` in a future release. Use `np.round` or `scalar.round` instead.\n",
      "  return round(sum([v * front.primitive.get(b, 0) for (b, v) in\n",
      "/home/computertreker/git/qiskit/qiskit-tutorial/foo/lib/python3.8/site-packages/qiskit/aqua/operators/state_fns/dict_state_fn.py:207: DeprecationWarning: The Python built-in `round` is deprecated for complex scalars, and will raise a `TypeError` in a future release. Use `np.round` or `scalar.round` instead.\n",
      "  return round(sum([v * front.primitive.get(b, 0) for (b, v) in\n",
      "/home/computertreker/git/qiskit/qiskit-tutorial/foo/lib/python3.8/site-packages/qiskit/aqua/operators/state_fns/dict_state_fn.py:207: DeprecationWarning: The Python built-in `round` is deprecated for complex scalars, and will raise a `TypeError` in a future release. Use `np.round` or `scalar.round` instead.\n",
      "  return round(sum([v * front.primitive.get(b, 0) for (b, v) in\n",
      "/home/computertreker/git/qiskit/qiskit-tutorial/foo/lib/python3.8/site-packages/qiskit/aqua/operators/state_fns/dict_state_fn.py:207: DeprecationWarning: The Python built-in `round` is deprecated for complex scalars, and will raise a `TypeError` in a future release. Use `np.round` or `scalar.round` instead.\n",
      "  return round(sum([v * front.primitive.get(b, 0) for (b, v) in\n",
      "/home/computertreker/git/qiskit/qiskit-tutorial/foo/lib/python3.8/site-packages/qiskit/aqua/operators/state_fns/dict_state_fn.py:207: DeprecationWarning: The Python built-in `round` is deprecated for complex scalars, and will raise a `TypeError` in a future release. Use `np.round` or `scalar.round` instead.\n",
      "  return round(sum([v * front.primitive.get(b, 0) for (b, v) in\n",
      "/home/computertreker/git/qiskit/qiskit-tutorial/foo/lib/python3.8/site-packages/qiskit/aqua/operators/state_fns/dict_state_fn.py:207: DeprecationWarning: The Python built-in `round` is deprecated for complex scalars, and will raise a `TypeError` in a future release. Use `np.round` or `scalar.round` instead.\n",
      "  return round(sum([v * front.primitive.get(b, 0) for (b, v) in\n",
      "/home/computertreker/git/qiskit/qiskit-tutorial/foo/lib/python3.8/site-packages/qiskit/aqua/operators/state_fns/dict_state_fn.py:207: DeprecationWarning: The Python built-in `round` is deprecated for complex scalars, and will raise a `TypeError` in a future release. Use `np.round` or `scalar.round` instead.\n",
      "  return round(sum([v * front.primitive.get(b, 0) for (b, v) in\n",
      "/home/computertreker/git/qiskit/qiskit-tutorial/foo/lib/python3.8/site-packages/qiskit/aqua/operators/state_fns/dict_state_fn.py:207: DeprecationWarning: The Python built-in `round` is deprecated for complex scalars, and will raise a `TypeError` in a future release. Use `np.round` or `scalar.round` instead.\n",
      "  return round(sum([v * front.primitive.get(b, 0) for (b, v) in\n",
      "/home/computertreker/git/qiskit/qiskit-tutorial/foo/lib/python3.8/site-packages/qiskit/aqua/operators/state_fns/dict_state_fn.py:207: DeprecationWarning: The Python built-in `round` is deprecated for complex scalars, and will raise a `TypeError` in a future release. Use `np.round` or `scalar.round` instead.\n",
      "  return round(sum([v * front.primitive.get(b, 0) for (b, v) in\n",
      "/home/computertreker/git/qiskit/qiskit-tutorial/foo/lib/python3.8/site-packages/qiskit/aqua/operators/state_fns/dict_state_fn.py:207: DeprecationWarning: The Python built-in `round` is deprecated for complex scalars, and will raise a `TypeError` in a future release. Use `np.round` or `scalar.round` instead.\n",
      "  return round(sum([v * front.primitive.get(b, 0) for (b, v) in\n",
      "/home/computertreker/git/qiskit/qiskit-tutorial/foo/lib/python3.8/site-packages/qiskit/aqua/operators/state_fns/dict_state_fn.py:207: DeprecationWarning: The Python built-in `round` is deprecated for complex scalars, and will raise a `TypeError` in a future release. Use `np.round` or `scalar.round` instead.\n",
      "  return round(sum([v * front.primitive.get(b, 0) for (b, v) in\n",
      "/home/computertreker/git/qiskit/qiskit-tutorial/foo/lib/python3.8/site-packages/qiskit/aqua/operators/state_fns/dict_state_fn.py:207: DeprecationWarning: The Python built-in `round` is deprecated for complex scalars, and will raise a `TypeError` in a future release. Use `np.round` or `scalar.round` instead.\n",
      "  return round(sum([v * front.primitive.get(b, 0) for (b, v) in\n"
     ]
    },
    {
     "name": "stderr",
     "output_type": "stream",
     "text": [
      "/home/computertreker/git/qiskit/qiskit-tutorial/foo/lib/python3.8/site-packages/qiskit/aqua/operators/state_fns/dict_state_fn.py:207: DeprecationWarning: The Python built-in `round` is deprecated for complex scalars, and will raise a `TypeError` in a future release. Use `np.round` or `scalar.round` instead.\n",
      "  return round(sum([v * front.primitive.get(b, 0) for (b, v) in\n",
      "/home/computertreker/git/qiskit/qiskit-tutorial/foo/lib/python3.8/site-packages/qiskit/aqua/operators/state_fns/dict_state_fn.py:207: DeprecationWarning: The Python built-in `round` is deprecated for complex scalars, and will raise a `TypeError` in a future release. Use `np.round` or `scalar.round` instead.\n",
      "  return round(sum([v * front.primitive.get(b, 0) for (b, v) in\n",
      "/home/computertreker/git/qiskit/qiskit-tutorial/foo/lib/python3.8/site-packages/qiskit/aqua/operators/state_fns/dict_state_fn.py:207: DeprecationWarning: The Python built-in `round` is deprecated for complex scalars, and will raise a `TypeError` in a future release. Use `np.round` or `scalar.round` instead.\n",
      "  return round(sum([v * front.primitive.get(b, 0) for (b, v) in\n",
      "/home/computertreker/git/qiskit/qiskit-tutorial/foo/lib/python3.8/site-packages/qiskit/aqua/operators/state_fns/dict_state_fn.py:207: DeprecationWarning: The Python built-in `round` is deprecated for complex scalars, and will raise a `TypeError` in a future release. Use `np.round` or `scalar.round` instead.\n",
      "  return round(sum([v * front.primitive.get(b, 0) for (b, v) in\n",
      "/home/computertreker/git/qiskit/qiskit-tutorial/foo/lib/python3.8/site-packages/qiskit/aqua/operators/state_fns/dict_state_fn.py:207: DeprecationWarning: The Python built-in `round` is deprecated for complex scalars, and will raise a `TypeError` in a future release. Use `np.round` or `scalar.round` instead.\n",
      "  return round(sum([v * front.primitive.get(b, 0) for (b, v) in\n",
      "/home/computertreker/git/qiskit/qiskit-tutorial/foo/lib/python3.8/site-packages/qiskit/aqua/operators/state_fns/dict_state_fn.py:207: DeprecationWarning: The Python built-in `round` is deprecated for complex scalars, and will raise a `TypeError` in a future release. Use `np.round` or `scalar.round` instead.\n",
      "  return round(sum([v * front.primitive.get(b, 0) for (b, v) in\n",
      "/home/computertreker/git/qiskit/qiskit-tutorial/foo/lib/python3.8/site-packages/qiskit/aqua/operators/state_fns/dict_state_fn.py:207: DeprecationWarning: The Python built-in `round` is deprecated for complex scalars, and will raise a `TypeError` in a future release. Use `np.round` or `scalar.round` instead.\n",
      "  return round(sum([v * front.primitive.get(b, 0) for (b, v) in\n",
      "/home/computertreker/git/qiskit/qiskit-tutorial/foo/lib/python3.8/site-packages/qiskit/aqua/operators/state_fns/dict_state_fn.py:207: DeprecationWarning: The Python built-in `round` is deprecated for complex scalars, and will raise a `TypeError` in a future release. Use `np.round` or `scalar.round` instead.\n",
      "  return round(sum([v * front.primitive.get(b, 0) for (b, v) in\n",
      "/home/computertreker/git/qiskit/qiskit-tutorial/foo/lib/python3.8/site-packages/qiskit/aqua/operators/state_fns/dict_state_fn.py:207: DeprecationWarning: The Python built-in `round` is deprecated for complex scalars, and will raise a `TypeError` in a future release. Use `np.round` or `scalar.round` instead.\n",
      "  return round(sum([v * front.primitive.get(b, 0) for (b, v) in\n",
      "/home/computertreker/git/qiskit/qiskit-tutorial/foo/lib/python3.8/site-packages/qiskit/aqua/operators/state_fns/dict_state_fn.py:207: DeprecationWarning: The Python built-in `round` is deprecated for complex scalars, and will raise a `TypeError` in a future release. Use `np.round` or `scalar.round` instead.\n",
      "  return round(sum([v * front.primitive.get(b, 0) for (b, v) in\n",
      "/home/computertreker/git/qiskit/qiskit-tutorial/foo/lib/python3.8/site-packages/qiskit/aqua/operators/state_fns/dict_state_fn.py:207: DeprecationWarning: The Python built-in `round` is deprecated for complex scalars, and will raise a `TypeError` in a future release. Use `np.round` or `scalar.round` instead.\n",
      "  return round(sum([v * front.primitive.get(b, 0) for (b, v) in\n",
      "/home/computertreker/git/qiskit/qiskit-tutorial/foo/lib/python3.8/site-packages/qiskit/aqua/operators/state_fns/dict_state_fn.py:207: DeprecationWarning: The Python built-in `round` is deprecated for complex scalars, and will raise a `TypeError` in a future release. Use `np.round` or `scalar.round` instead.\n",
      "  return round(sum([v * front.primitive.get(b, 0) for (b, v) in\n",
      "/home/computertreker/git/qiskit/qiskit-tutorial/foo/lib/python3.8/site-packages/qiskit/aqua/operators/state_fns/dict_state_fn.py:207: DeprecationWarning: The Python built-in `round` is deprecated for complex scalars, and will raise a `TypeError` in a future release. Use `np.round` or `scalar.round` instead.\n",
      "  return round(sum([v * front.primitive.get(b, 0) for (b, v) in\n",
      "/home/computertreker/git/qiskit/qiskit-tutorial/foo/lib/python3.8/site-packages/qiskit/aqua/operators/state_fns/dict_state_fn.py:207: DeprecationWarning: The Python built-in `round` is deprecated for complex scalars, and will raise a `TypeError` in a future release. Use `np.round` or `scalar.round` instead.\n",
      "  return round(sum([v * front.primitive.get(b, 0) for (b, v) in\n",
      "/home/computertreker/git/qiskit/qiskit-tutorial/foo/lib/python3.8/site-packages/qiskit/aqua/operators/state_fns/dict_state_fn.py:207: DeprecationWarning: The Python built-in `round` is deprecated for complex scalars, and will raise a `TypeError` in a future release. Use `np.round` or `scalar.round` instead.\n",
      "  return round(sum([v * front.primitive.get(b, 0) for (b, v) in\n",
      "/home/computertreker/git/qiskit/qiskit-tutorial/foo/lib/python3.8/site-packages/qiskit/aqua/operators/state_fns/dict_state_fn.py:207: DeprecationWarning: The Python built-in `round` is deprecated for complex scalars, and will raise a `TypeError` in a future release. Use `np.round` or `scalar.round` instead.\n",
      "  return round(sum([v * front.primitive.get(b, 0) for (b, v) in\n",
      "/home/computertreker/git/qiskit/qiskit-tutorial/foo/lib/python3.8/site-packages/qiskit/aqua/operators/state_fns/dict_state_fn.py:207: DeprecationWarning: The Python built-in `round` is deprecated for complex scalars, and will raise a `TypeError` in a future release. Use `np.round` or `scalar.round` instead.\n",
      "  return round(sum([v * front.primitive.get(b, 0) for (b, v) in\n",
      "/home/computertreker/git/qiskit/qiskit-tutorial/foo/lib/python3.8/site-packages/qiskit/aqua/operators/state_fns/dict_state_fn.py:207: DeprecationWarning: The Python built-in `round` is deprecated for complex scalars, and will raise a `TypeError` in a future release. Use `np.round` or `scalar.round` instead.\n",
      "  return round(sum([v * front.primitive.get(b, 0) for (b, v) in\n",
      "/home/computertreker/git/qiskit/qiskit-tutorial/foo/lib/python3.8/site-packages/qiskit/aqua/operators/state_fns/dict_state_fn.py:207: DeprecationWarning: The Python built-in `round` is deprecated for complex scalars, and will raise a `TypeError` in a future release. Use `np.round` or `scalar.round` instead.\n",
      "  return round(sum([v * front.primitive.get(b, 0) for (b, v) in\n",
      "/home/computertreker/git/qiskit/qiskit-tutorial/foo/lib/python3.8/site-packages/qiskit/aqua/operators/state_fns/dict_state_fn.py:207: DeprecationWarning: The Python built-in `round` is deprecated for complex scalars, and will raise a `TypeError` in a future release. Use `np.round` or `scalar.round` instead.\n",
      "  return round(sum([v * front.primitive.get(b, 0) for (b, v) in\n",
      "/home/computertreker/git/qiskit/qiskit-tutorial/foo/lib/python3.8/site-packages/qiskit/aqua/operators/state_fns/dict_state_fn.py:207: DeprecationWarning: The Python built-in `round` is deprecated for complex scalars, and will raise a `TypeError` in a future release. Use `np.round` or `scalar.round` instead.\n",
      "  return round(sum([v * front.primitive.get(b, 0) for (b, v) in\n",
      "/home/computertreker/git/qiskit/qiskit-tutorial/foo/lib/python3.8/site-packages/qiskit/aqua/operators/state_fns/dict_state_fn.py:207: DeprecationWarning: The Python built-in `round` is deprecated for complex scalars, and will raise a `TypeError` in a future release. Use `np.round` or `scalar.round` instead.\n",
      "  return round(sum([v * front.primitive.get(b, 0) for (b, v) in\n",
      "/home/computertreker/git/qiskit/qiskit-tutorial/foo/lib/python3.8/site-packages/qiskit/aqua/operators/state_fns/dict_state_fn.py:207: DeprecationWarning: The Python built-in `round` is deprecated for complex scalars, and will raise a `TypeError` in a future release. Use `np.round` or `scalar.round` instead.\n",
      "  return round(sum([v * front.primitive.get(b, 0) for (b, v) in\n",
      "/home/computertreker/git/qiskit/qiskit-tutorial/foo/lib/python3.8/site-packages/qiskit/aqua/operators/state_fns/dict_state_fn.py:207: DeprecationWarning: The Python built-in `round` is deprecated for complex scalars, and will raise a `TypeError` in a future release. Use `np.round` or `scalar.round` instead.\n",
      "  return round(sum([v * front.primitive.get(b, 0) for (b, v) in\n",
      "/home/computertreker/git/qiskit/qiskit-tutorial/foo/lib/python3.8/site-packages/qiskit/aqua/operators/state_fns/dict_state_fn.py:207: DeprecationWarning: The Python built-in `round` is deprecated for complex scalars, and will raise a `TypeError` in a future release. Use `np.round` or `scalar.round` instead.\n",
      "  return round(sum([v * front.primitive.get(b, 0) for (b, v) in\n"
     ]
    },
    {
     "name": "stderr",
     "output_type": "stream",
     "text": [
      "/home/computertreker/git/qiskit/qiskit-tutorial/foo/lib/python3.8/site-packages/qiskit/aqua/operators/state_fns/dict_state_fn.py:207: DeprecationWarning: The Python built-in `round` is deprecated for complex scalars, and will raise a `TypeError` in a future release. Use `np.round` or `scalar.round` instead.\n",
      "  return round(sum([v * front.primitive.get(b, 0) for (b, v) in\n",
      "/home/computertreker/git/qiskit/qiskit-tutorial/foo/lib/python3.8/site-packages/qiskit/aqua/operators/state_fns/dict_state_fn.py:207: DeprecationWarning: The Python built-in `round` is deprecated for complex scalars, and will raise a `TypeError` in a future release. Use `np.round` or `scalar.round` instead.\n",
      "  return round(sum([v * front.primitive.get(b, 0) for (b, v) in\n",
      "/home/computertreker/git/qiskit/qiskit-tutorial/foo/lib/python3.8/site-packages/qiskit/aqua/operators/state_fns/dict_state_fn.py:207: DeprecationWarning: The Python built-in `round` is deprecated for complex scalars, and will raise a `TypeError` in a future release. Use `np.round` or `scalar.round` instead.\n",
      "  return round(sum([v * front.primitive.get(b, 0) for (b, v) in\n",
      "/home/computertreker/git/qiskit/qiskit-tutorial/foo/lib/python3.8/site-packages/qiskit/aqua/operators/state_fns/dict_state_fn.py:207: DeprecationWarning: The Python built-in `round` is deprecated for complex scalars, and will raise a `TypeError` in a future release. Use `np.round` or `scalar.round` instead.\n",
      "  return round(sum([v * front.primitive.get(b, 0) for (b, v) in\n",
      "/home/computertreker/git/qiskit/qiskit-tutorial/foo/lib/python3.8/site-packages/qiskit/aqua/operators/state_fns/dict_state_fn.py:207: DeprecationWarning: The Python built-in `round` is deprecated for complex scalars, and will raise a `TypeError` in a future release. Use `np.round` or `scalar.round` instead.\n",
      "  return round(sum([v * front.primitive.get(b, 0) for (b, v) in\n",
      "/home/computertreker/git/qiskit/qiskit-tutorial/foo/lib/python3.8/site-packages/qiskit/aqua/operators/state_fns/dict_state_fn.py:207: DeprecationWarning: The Python built-in `round` is deprecated for complex scalars, and will raise a `TypeError` in a future release. Use `np.round` or `scalar.round` instead.\n",
      "  return round(sum([v * front.primitive.get(b, 0) for (b, v) in\n",
      "/home/computertreker/git/qiskit/qiskit-tutorial/foo/lib/python3.8/site-packages/qiskit/aqua/operators/state_fns/dict_state_fn.py:207: DeprecationWarning: The Python built-in `round` is deprecated for complex scalars, and will raise a `TypeError` in a future release. Use `np.round` or `scalar.round` instead.\n",
      "  return round(sum([v * front.primitive.get(b, 0) for (b, v) in\n",
      "/home/computertreker/git/qiskit/qiskit-tutorial/foo/lib/python3.8/site-packages/qiskit/aqua/operators/state_fns/dict_state_fn.py:207: DeprecationWarning: The Python built-in `round` is deprecated for complex scalars, and will raise a `TypeError` in a future release. Use `np.round` or `scalar.round` instead.\n",
      "  return round(sum([v * front.primitive.get(b, 0) for (b, v) in\n",
      "/home/computertreker/git/qiskit/qiskit-tutorial/foo/lib/python3.8/site-packages/qiskit/aqua/operators/state_fns/dict_state_fn.py:207: DeprecationWarning: The Python built-in `round` is deprecated for complex scalars, and will raise a `TypeError` in a future release. Use `np.round` or `scalar.round` instead.\n",
      "  return round(sum([v * front.primitive.get(b, 0) for (b, v) in\n",
      "/home/computertreker/git/qiskit/qiskit-tutorial/foo/lib/python3.8/site-packages/qiskit/aqua/operators/state_fns/dict_state_fn.py:207: DeprecationWarning: The Python built-in `round` is deprecated for complex scalars, and will raise a `TypeError` in a future release. Use `np.round` or `scalar.round` instead.\n",
      "  return round(sum([v * front.primitive.get(b, 0) for (b, v) in\n",
      "/home/computertreker/git/qiskit/qiskit-tutorial/foo/lib/python3.8/site-packages/qiskit/aqua/operators/state_fns/dict_state_fn.py:207: DeprecationWarning: The Python built-in `round` is deprecated for complex scalars, and will raise a `TypeError` in a future release. Use `np.round` or `scalar.round` instead.\n",
      "  return round(sum([v * front.primitive.get(b, 0) for (b, v) in\n",
      "/home/computertreker/git/qiskit/qiskit-tutorial/foo/lib/python3.8/site-packages/qiskit/aqua/operators/state_fns/dict_state_fn.py:207: DeprecationWarning: The Python built-in `round` is deprecated for complex scalars, and will raise a `TypeError` in a future release. Use `np.round` or `scalar.round` instead.\n",
      "  return round(sum([v * front.primitive.get(b, 0) for (b, v) in\n",
      "/home/computertreker/git/qiskit/qiskit-tutorial/foo/lib/python3.8/site-packages/qiskit/aqua/operators/state_fns/dict_state_fn.py:207: DeprecationWarning: The Python built-in `round` is deprecated for complex scalars, and will raise a `TypeError` in a future release. Use `np.round` or `scalar.round` instead.\n",
      "  return round(sum([v * front.primitive.get(b, 0) for (b, v) in\n",
      "/home/computertreker/git/qiskit/qiskit-tutorial/foo/lib/python3.8/site-packages/qiskit/aqua/operators/state_fns/dict_state_fn.py:207: DeprecationWarning: The Python built-in `round` is deprecated for complex scalars, and will raise a `TypeError` in a future release. Use `np.round` or `scalar.round` instead.\n",
      "  return round(sum([v * front.primitive.get(b, 0) for (b, v) in\n",
      "/home/computertreker/git/qiskit/qiskit-tutorial/foo/lib/python3.8/site-packages/qiskit/aqua/operators/state_fns/dict_state_fn.py:207: DeprecationWarning: The Python built-in `round` is deprecated for complex scalars, and will raise a `TypeError` in a future release. Use `np.round` or `scalar.round` instead.\n",
      "  return round(sum([v * front.primitive.get(b, 0) for (b, v) in\n",
      "/home/computertreker/git/qiskit/qiskit-tutorial/foo/lib/python3.8/site-packages/qiskit/aqua/operators/state_fns/dict_state_fn.py:207: DeprecationWarning: The Python built-in `round` is deprecated for complex scalars, and will raise a `TypeError` in a future release. Use `np.round` or `scalar.round` instead.\n",
      "  return round(sum([v * front.primitive.get(b, 0) for (b, v) in\n",
      "/home/computertreker/git/qiskit/qiskit-tutorial/foo/lib/python3.8/site-packages/qiskit/aqua/operators/state_fns/dict_state_fn.py:207: DeprecationWarning: The Python built-in `round` is deprecated for complex scalars, and will raise a `TypeError` in a future release. Use `np.round` or `scalar.round` instead.\n",
      "  return round(sum([v * front.primitive.get(b, 0) for (b, v) in\n",
      "/home/computertreker/git/qiskit/qiskit-tutorial/foo/lib/python3.8/site-packages/qiskit/aqua/operators/state_fns/dict_state_fn.py:207: DeprecationWarning: The Python built-in `round` is deprecated for complex scalars, and will raise a `TypeError` in a future release. Use `np.round` or `scalar.round` instead.\n",
      "  return round(sum([v * front.primitive.get(b, 0) for (b, v) in\n",
      "/home/computertreker/git/qiskit/qiskit-tutorial/foo/lib/python3.8/site-packages/qiskit/aqua/operators/state_fns/dict_state_fn.py:207: DeprecationWarning: The Python built-in `round` is deprecated for complex scalars, and will raise a `TypeError` in a future release. Use `np.round` or `scalar.round` instead.\n",
      "  return round(sum([v * front.primitive.get(b, 0) for (b, v) in\n",
      "/home/computertreker/git/qiskit/qiskit-tutorial/foo/lib/python3.8/site-packages/qiskit/aqua/operators/state_fns/dict_state_fn.py:207: DeprecationWarning: The Python built-in `round` is deprecated for complex scalars, and will raise a `TypeError` in a future release. Use `np.round` or `scalar.round` instead.\n",
      "  return round(sum([v * front.primitive.get(b, 0) for (b, v) in\n",
      "/home/computertreker/git/qiskit/qiskit-tutorial/foo/lib/python3.8/site-packages/qiskit/aqua/operators/state_fns/dict_state_fn.py:207: DeprecationWarning: The Python built-in `round` is deprecated for complex scalars, and will raise a `TypeError` in a future release. Use `np.round` or `scalar.round` instead.\n",
      "  return round(sum([v * front.primitive.get(b, 0) for (b, v) in\n",
      "/home/computertreker/git/qiskit/qiskit-tutorial/foo/lib/python3.8/site-packages/qiskit/aqua/operators/state_fns/dict_state_fn.py:207: DeprecationWarning: The Python built-in `round` is deprecated for complex scalars, and will raise a `TypeError` in a future release. Use `np.round` or `scalar.round` instead.\n",
      "  return round(sum([v * front.primitive.get(b, 0) for (b, v) in\n",
      "/home/computertreker/git/qiskit/qiskit-tutorial/foo/lib/python3.8/site-packages/qiskit/aqua/operators/state_fns/dict_state_fn.py:207: DeprecationWarning: The Python built-in `round` is deprecated for complex scalars, and will raise a `TypeError` in a future release. Use `np.round` or `scalar.round` instead.\n",
      "  return round(sum([v * front.primitive.get(b, 0) for (b, v) in\n",
      "/home/computertreker/git/qiskit/qiskit-tutorial/foo/lib/python3.8/site-packages/qiskit/aqua/operators/state_fns/dict_state_fn.py:207: DeprecationWarning: The Python built-in `round` is deprecated for complex scalars, and will raise a `TypeError` in a future release. Use `np.round` or `scalar.round` instead.\n",
      "  return round(sum([v * front.primitive.get(b, 0) for (b, v) in\n",
      "/home/computertreker/git/qiskit/qiskit-tutorial/foo/lib/python3.8/site-packages/qiskit/aqua/operators/state_fns/dict_state_fn.py:207: DeprecationWarning: The Python built-in `round` is deprecated for complex scalars, and will raise a `TypeError` in a future release. Use `np.round` or `scalar.round` instead.\n",
      "  return round(sum([v * front.primitive.get(b, 0) for (b, v) in\n"
     ]
    },
    {
     "name": "stderr",
     "output_type": "stream",
     "text": [
      "/home/computertreker/git/qiskit/qiskit-tutorial/foo/lib/python3.8/site-packages/qiskit/aqua/operators/state_fns/dict_state_fn.py:207: DeprecationWarning: The Python built-in `round` is deprecated for complex scalars, and will raise a `TypeError` in a future release. Use `np.round` or `scalar.round` instead.\n",
      "  return round(sum([v * front.primitive.get(b, 0) for (b, v) in\n",
      "/home/computertreker/git/qiskit/qiskit-tutorial/foo/lib/python3.8/site-packages/qiskit/aqua/operators/state_fns/dict_state_fn.py:207: DeprecationWarning: The Python built-in `round` is deprecated for complex scalars, and will raise a `TypeError` in a future release. Use `np.round` or `scalar.round` instead.\n",
      "  return round(sum([v * front.primitive.get(b, 0) for (b, v) in\n",
      "/home/computertreker/git/qiskit/qiskit-tutorial/foo/lib/python3.8/site-packages/qiskit/aqua/operators/state_fns/dict_state_fn.py:207: DeprecationWarning: The Python built-in `round` is deprecated for complex scalars, and will raise a `TypeError` in a future release. Use `np.round` or `scalar.round` instead.\n",
      "  return round(sum([v * front.primitive.get(b, 0) for (b, v) in\n",
      "/home/computertreker/git/qiskit/qiskit-tutorial/foo/lib/python3.8/site-packages/qiskit/aqua/operators/state_fns/dict_state_fn.py:207: DeprecationWarning: The Python built-in `round` is deprecated for complex scalars, and will raise a `TypeError` in a future release. Use `np.round` or `scalar.round` instead.\n",
      "  return round(sum([v * front.primitive.get(b, 0) for (b, v) in\n",
      "/home/computertreker/git/qiskit/qiskit-tutorial/foo/lib/python3.8/site-packages/qiskit/aqua/operators/state_fns/dict_state_fn.py:207: DeprecationWarning: The Python built-in `round` is deprecated for complex scalars, and will raise a `TypeError` in a future release. Use `np.round` or `scalar.round` instead.\n",
      "  return round(sum([v * front.primitive.get(b, 0) for (b, v) in\n",
      "/home/computertreker/git/qiskit/qiskit-tutorial/foo/lib/python3.8/site-packages/qiskit/aqua/operators/state_fns/dict_state_fn.py:207: DeprecationWarning: The Python built-in `round` is deprecated for complex scalars, and will raise a `TypeError` in a future release. Use `np.round` or `scalar.round` instead.\n",
      "  return round(sum([v * front.primitive.get(b, 0) for (b, v) in\n",
      "/home/computertreker/git/qiskit/qiskit-tutorial/foo/lib/python3.8/site-packages/qiskit/aqua/operators/state_fns/dict_state_fn.py:207: DeprecationWarning: The Python built-in `round` is deprecated for complex scalars, and will raise a `TypeError` in a future release. Use `np.round` or `scalar.round` instead.\n",
      "  return round(sum([v * front.primitive.get(b, 0) for (b, v) in\n",
      "/home/computertreker/git/qiskit/qiskit-tutorial/foo/lib/python3.8/site-packages/qiskit/aqua/operators/state_fns/dict_state_fn.py:207: DeprecationWarning: The Python built-in `round` is deprecated for complex scalars, and will raise a `TypeError` in a future release. Use `np.round` or `scalar.round` instead.\n",
      "  return round(sum([v * front.primitive.get(b, 0) for (b, v) in\n",
      "/home/computertreker/git/qiskit/qiskit-tutorial/foo/lib/python3.8/site-packages/qiskit/aqua/operators/state_fns/dict_state_fn.py:207: DeprecationWarning: The Python built-in `round` is deprecated for complex scalars, and will raise a `TypeError` in a future release. Use `np.round` or `scalar.round` instead.\n",
      "  return round(sum([v * front.primitive.get(b, 0) for (b, v) in\n",
      "/home/computertreker/git/qiskit/qiskit-tutorial/foo/lib/python3.8/site-packages/qiskit/aqua/operators/state_fns/dict_state_fn.py:207: DeprecationWarning: The Python built-in `round` is deprecated for complex scalars, and will raise a `TypeError` in a future release. Use `np.round` or `scalar.round` instead.\n",
      "  return round(sum([v * front.primitive.get(b, 0) for (b, v) in\n",
      "/home/computertreker/git/qiskit/qiskit-tutorial/foo/lib/python3.8/site-packages/qiskit/aqua/operators/state_fns/dict_state_fn.py:207: DeprecationWarning: The Python built-in `round` is deprecated for complex scalars, and will raise a `TypeError` in a future release. Use `np.round` or `scalar.round` instead.\n",
      "  return round(sum([v * front.primitive.get(b, 0) for (b, v) in\n",
      "/home/computertreker/git/qiskit/qiskit-tutorial/foo/lib/python3.8/site-packages/qiskit/aqua/operators/state_fns/dict_state_fn.py:207: DeprecationWarning: The Python built-in `round` is deprecated for complex scalars, and will raise a `TypeError` in a future release. Use `np.round` or `scalar.round` instead.\n",
      "  return round(sum([v * front.primitive.get(b, 0) for (b, v) in\n",
      "/home/computertreker/git/qiskit/qiskit-tutorial/foo/lib/python3.8/site-packages/qiskit/aqua/operators/state_fns/dict_state_fn.py:207: DeprecationWarning: The Python built-in `round` is deprecated for complex scalars, and will raise a `TypeError` in a future release. Use `np.round` or `scalar.round` instead.\n",
      "  return round(sum([v * front.primitive.get(b, 0) for (b, v) in\n",
      "/home/computertreker/git/qiskit/qiskit-tutorial/foo/lib/python3.8/site-packages/qiskit/aqua/operators/state_fns/dict_state_fn.py:207: DeprecationWarning: The Python built-in `round` is deprecated for complex scalars, and will raise a `TypeError` in a future release. Use `np.round` or `scalar.round` instead.\n",
      "  return round(sum([v * front.primitive.get(b, 0) for (b, v) in\n",
      "/home/computertreker/git/qiskit/qiskit-tutorial/foo/lib/python3.8/site-packages/qiskit/aqua/operators/state_fns/dict_state_fn.py:207: DeprecationWarning: The Python built-in `round` is deprecated for complex scalars, and will raise a `TypeError` in a future release. Use `np.round` or `scalar.round` instead.\n",
      "  return round(sum([v * front.primitive.get(b, 0) for (b, v) in\n",
      "/home/computertreker/git/qiskit/qiskit-tutorial/foo/lib/python3.8/site-packages/qiskit/aqua/operators/state_fns/dict_state_fn.py:207: DeprecationWarning: The Python built-in `round` is deprecated for complex scalars, and will raise a `TypeError` in a future release. Use `np.round` or `scalar.round` instead.\n",
      "  return round(sum([v * front.primitive.get(b, 0) for (b, v) in\n",
      "/home/computertreker/git/qiskit/qiskit-tutorial/foo/lib/python3.8/site-packages/qiskit/aqua/operators/state_fns/dict_state_fn.py:207: DeprecationWarning: The Python built-in `round` is deprecated for complex scalars, and will raise a `TypeError` in a future release. Use `np.round` or `scalar.round` instead.\n",
      "  return round(sum([v * front.primitive.get(b, 0) for (b, v) in\n",
      "/home/computertreker/git/qiskit/qiskit-tutorial/foo/lib/python3.8/site-packages/qiskit/aqua/operators/state_fns/dict_state_fn.py:207: DeprecationWarning: The Python built-in `round` is deprecated for complex scalars, and will raise a `TypeError` in a future release. Use `np.round` or `scalar.round` instead.\n",
      "  return round(sum([v * front.primitive.get(b, 0) for (b, v) in\n",
      "/home/computertreker/git/qiskit/qiskit-tutorial/foo/lib/python3.8/site-packages/qiskit/aqua/operators/state_fns/dict_state_fn.py:207: DeprecationWarning: The Python built-in `round` is deprecated for complex scalars, and will raise a `TypeError` in a future release. Use `np.round` or `scalar.round` instead.\n",
      "  return round(sum([v * front.primitive.get(b, 0) for (b, v) in\n",
      "/home/computertreker/git/qiskit/qiskit-tutorial/foo/lib/python3.8/site-packages/qiskit/aqua/operators/state_fns/dict_state_fn.py:207: DeprecationWarning: The Python built-in `round` is deprecated for complex scalars, and will raise a `TypeError` in a future release. Use `np.round` or `scalar.round` instead.\n",
      "  return round(sum([v * front.primitive.get(b, 0) for (b, v) in\n",
      "/home/computertreker/git/qiskit/qiskit-tutorial/foo/lib/python3.8/site-packages/qiskit/aqua/operators/state_fns/dict_state_fn.py:207: DeprecationWarning: The Python built-in `round` is deprecated for complex scalars, and will raise a `TypeError` in a future release. Use `np.round` or `scalar.round` instead.\n",
      "  return round(sum([v * front.primitive.get(b, 0) for (b, v) in\n",
      "/home/computertreker/git/qiskit/qiskit-tutorial/foo/lib/python3.8/site-packages/qiskit/aqua/operators/state_fns/dict_state_fn.py:207: DeprecationWarning: The Python built-in `round` is deprecated for complex scalars, and will raise a `TypeError` in a future release. Use `np.round` or `scalar.round` instead.\n",
      "  return round(sum([v * front.primitive.get(b, 0) for (b, v) in\n",
      "/home/computertreker/git/qiskit/qiskit-tutorial/foo/lib/python3.8/site-packages/qiskit/aqua/operators/state_fns/dict_state_fn.py:207: DeprecationWarning: The Python built-in `round` is deprecated for complex scalars, and will raise a `TypeError` in a future release. Use `np.round` or `scalar.round` instead.\n",
      "  return round(sum([v * front.primitive.get(b, 0) for (b, v) in\n",
      "/home/computertreker/git/qiskit/qiskit-tutorial/foo/lib/python3.8/site-packages/qiskit/aqua/operators/state_fns/dict_state_fn.py:207: DeprecationWarning: The Python built-in `round` is deprecated for complex scalars, and will raise a `TypeError` in a future release. Use `np.round` or `scalar.round` instead.\n",
      "  return round(sum([v * front.primitive.get(b, 0) for (b, v) in\n",
      "/home/computertreker/git/qiskit/qiskit-tutorial/foo/lib/python3.8/site-packages/qiskit/aqua/operators/state_fns/dict_state_fn.py:207: DeprecationWarning: The Python built-in `round` is deprecated for complex scalars, and will raise a `TypeError` in a future release. Use `np.round` or `scalar.round` instead.\n",
      "  return round(sum([v * front.primitive.get(b, 0) for (b, v) in\n"
     ]
    },
    {
     "name": "stderr",
     "output_type": "stream",
     "text": [
      "/home/computertreker/git/qiskit/qiskit-tutorial/foo/lib/python3.8/site-packages/qiskit/aqua/operators/state_fns/dict_state_fn.py:207: DeprecationWarning: The Python built-in `round` is deprecated for complex scalars, and will raise a `TypeError` in a future release. Use `np.round` or `scalar.round` instead.\n",
      "  return round(sum([v * front.primitive.get(b, 0) for (b, v) in\n",
      "/home/computertreker/git/qiskit/qiskit-tutorial/foo/lib/python3.8/site-packages/qiskit/aqua/operators/state_fns/dict_state_fn.py:207: DeprecationWarning: The Python built-in `round` is deprecated for complex scalars, and will raise a `TypeError` in a future release. Use `np.round` or `scalar.round` instead.\n",
      "  return round(sum([v * front.primitive.get(b, 0) for (b, v) in\n",
      "/home/computertreker/git/qiskit/qiskit-tutorial/foo/lib/python3.8/site-packages/qiskit/aqua/operators/state_fns/dict_state_fn.py:207: DeprecationWarning: The Python built-in `round` is deprecated for complex scalars, and will raise a `TypeError` in a future release. Use `np.round` or `scalar.round` instead.\n",
      "  return round(sum([v * front.primitive.get(b, 0) for (b, v) in\n",
      "/home/computertreker/git/qiskit/qiskit-tutorial/foo/lib/python3.8/site-packages/qiskit/aqua/operators/state_fns/dict_state_fn.py:207: DeprecationWarning: The Python built-in `round` is deprecated for complex scalars, and will raise a `TypeError` in a future release. Use `np.round` or `scalar.round` instead.\n",
      "  return round(sum([v * front.primitive.get(b, 0) for (b, v) in\n",
      "/home/computertreker/git/qiskit/qiskit-tutorial/foo/lib/python3.8/site-packages/qiskit/aqua/operators/state_fns/dict_state_fn.py:207: DeprecationWarning: The Python built-in `round` is deprecated for complex scalars, and will raise a `TypeError` in a future release. Use `np.round` or `scalar.round` instead.\n",
      "  return round(sum([v * front.primitive.get(b, 0) for (b, v) in\n",
      "/home/computertreker/git/qiskit/qiskit-tutorial/foo/lib/python3.8/site-packages/qiskit/aqua/operators/state_fns/dict_state_fn.py:207: DeprecationWarning: The Python built-in `round` is deprecated for complex scalars, and will raise a `TypeError` in a future release. Use `np.round` or `scalar.round` instead.\n",
      "  return round(sum([v * front.primitive.get(b, 0) for (b, v) in\n",
      "/home/computertreker/git/qiskit/qiskit-tutorial/foo/lib/python3.8/site-packages/qiskit/aqua/operators/state_fns/dict_state_fn.py:207: DeprecationWarning: The Python built-in `round` is deprecated for complex scalars, and will raise a `TypeError` in a future release. Use `np.round` or `scalar.round` instead.\n",
      "  return round(sum([v * front.primitive.get(b, 0) for (b, v) in\n",
      "/home/computertreker/git/qiskit/qiskit-tutorial/foo/lib/python3.8/site-packages/qiskit/aqua/operators/state_fns/dict_state_fn.py:207: DeprecationWarning: The Python built-in `round` is deprecated for complex scalars, and will raise a `TypeError` in a future release. Use `np.round` or `scalar.round` instead.\n",
      "  return round(sum([v * front.primitive.get(b, 0) for (b, v) in\n",
      "/home/computertreker/git/qiskit/qiskit-tutorial/foo/lib/python3.8/site-packages/qiskit/aqua/operators/state_fns/dict_state_fn.py:207: DeprecationWarning: The Python built-in `round` is deprecated for complex scalars, and will raise a `TypeError` in a future release. Use `np.round` or `scalar.round` instead.\n",
      "  return round(sum([v * front.primitive.get(b, 0) for (b, v) in\n",
      "/home/computertreker/git/qiskit/qiskit-tutorial/foo/lib/python3.8/site-packages/qiskit/aqua/operators/state_fns/dict_state_fn.py:207: DeprecationWarning: The Python built-in `round` is deprecated for complex scalars, and will raise a `TypeError` in a future release. Use `np.round` or `scalar.round` instead.\n",
      "  return round(sum([v * front.primitive.get(b, 0) for (b, v) in\n",
      "/home/computertreker/git/qiskit/qiskit-tutorial/foo/lib/python3.8/site-packages/qiskit/aqua/operators/state_fns/dict_state_fn.py:207: DeprecationWarning: The Python built-in `round` is deprecated for complex scalars, and will raise a `TypeError` in a future release. Use `np.round` or `scalar.round` instead.\n",
      "  return round(sum([v * front.primitive.get(b, 0) for (b, v) in\n",
      "/home/computertreker/git/qiskit/qiskit-tutorial/foo/lib/python3.8/site-packages/qiskit/aqua/operators/state_fns/dict_state_fn.py:207: DeprecationWarning: The Python built-in `round` is deprecated for complex scalars, and will raise a `TypeError` in a future release. Use `np.round` or `scalar.round` instead.\n",
      "  return round(sum([v * front.primitive.get(b, 0) for (b, v) in\n",
      "/home/computertreker/git/qiskit/qiskit-tutorial/foo/lib/python3.8/site-packages/qiskit/aqua/operators/state_fns/dict_state_fn.py:207: DeprecationWarning: The Python built-in `round` is deprecated for complex scalars, and will raise a `TypeError` in a future release. Use `np.round` or `scalar.round` instead.\n",
      "  return round(sum([v * front.primitive.get(b, 0) for (b, v) in\n",
      "/home/computertreker/git/qiskit/qiskit-tutorial/foo/lib/python3.8/site-packages/qiskit/aqua/operators/state_fns/dict_state_fn.py:207: DeprecationWarning: The Python built-in `round` is deprecated for complex scalars, and will raise a `TypeError` in a future release. Use `np.round` or `scalar.round` instead.\n",
      "  return round(sum([v * front.primitive.get(b, 0) for (b, v) in\n",
      "/home/computertreker/git/qiskit/qiskit-tutorial/foo/lib/python3.8/site-packages/qiskit/aqua/operators/state_fns/dict_state_fn.py:207: DeprecationWarning: The Python built-in `round` is deprecated for complex scalars, and will raise a `TypeError` in a future release. Use `np.round` or `scalar.round` instead.\n",
      "  return round(sum([v * front.primitive.get(b, 0) for (b, v) in\n",
      "/home/computertreker/git/qiskit/qiskit-tutorial/foo/lib/python3.8/site-packages/qiskit/aqua/operators/state_fns/dict_state_fn.py:207: DeprecationWarning: The Python built-in `round` is deprecated for complex scalars, and will raise a `TypeError` in a future release. Use `np.round` or `scalar.round` instead.\n",
      "  return round(sum([v * front.primitive.get(b, 0) for (b, v) in\n",
      "/home/computertreker/git/qiskit/qiskit-tutorial/foo/lib/python3.8/site-packages/qiskit/aqua/operators/state_fns/dict_state_fn.py:207: DeprecationWarning: The Python built-in `round` is deprecated for complex scalars, and will raise a `TypeError` in a future release. Use `np.round` or `scalar.round` instead.\n",
      "  return round(sum([v * front.primitive.get(b, 0) for (b, v) in\n",
      "/home/computertreker/git/qiskit/qiskit-tutorial/foo/lib/python3.8/site-packages/qiskit/aqua/operators/state_fns/dict_state_fn.py:207: DeprecationWarning: The Python built-in `round` is deprecated for complex scalars, and will raise a `TypeError` in a future release. Use `np.round` or `scalar.round` instead.\n",
      "  return round(sum([v * front.primitive.get(b, 0) for (b, v) in\n",
      "/home/computertreker/git/qiskit/qiskit-tutorial/foo/lib/python3.8/site-packages/qiskit/aqua/operators/state_fns/dict_state_fn.py:207: DeprecationWarning: The Python built-in `round` is deprecated for complex scalars, and will raise a `TypeError` in a future release. Use `np.round` or `scalar.round` instead.\n",
      "  return round(sum([v * front.primitive.get(b, 0) for (b, v) in\n",
      "/home/computertreker/git/qiskit/qiskit-tutorial/foo/lib/python3.8/site-packages/qiskit/aqua/operators/state_fns/dict_state_fn.py:207: DeprecationWarning: The Python built-in `round` is deprecated for complex scalars, and will raise a `TypeError` in a future release. Use `np.round` or `scalar.round` instead.\n",
      "  return round(sum([v * front.primitive.get(b, 0) for (b, v) in\n",
      "/home/computertreker/git/qiskit/qiskit-tutorial/foo/lib/python3.8/site-packages/qiskit/aqua/operators/state_fns/dict_state_fn.py:207: DeprecationWarning: The Python built-in `round` is deprecated for complex scalars, and will raise a `TypeError` in a future release. Use `np.round` or `scalar.round` instead.\n",
      "  return round(sum([v * front.primitive.get(b, 0) for (b, v) in\n",
      "/home/computertreker/git/qiskit/qiskit-tutorial/foo/lib/python3.8/site-packages/qiskit/aqua/operators/state_fns/dict_state_fn.py:207: DeprecationWarning: The Python built-in `round` is deprecated for complex scalars, and will raise a `TypeError` in a future release. Use `np.round` or `scalar.round` instead.\n",
      "  return round(sum([v * front.primitive.get(b, 0) for (b, v) in\n",
      "/home/computertreker/git/qiskit/qiskit-tutorial/foo/lib/python3.8/site-packages/qiskit/aqua/operators/state_fns/dict_state_fn.py:207: DeprecationWarning: The Python built-in `round` is deprecated for complex scalars, and will raise a `TypeError` in a future release. Use `np.round` or `scalar.round` instead.\n",
      "  return round(sum([v * front.primitive.get(b, 0) for (b, v) in\n",
      "/home/computertreker/git/qiskit/qiskit-tutorial/foo/lib/python3.8/site-packages/qiskit/aqua/operators/state_fns/dict_state_fn.py:207: DeprecationWarning: The Python built-in `round` is deprecated for complex scalars, and will raise a `TypeError` in a future release. Use `np.round` or `scalar.round` instead.\n",
      "  return round(sum([v * front.primitive.get(b, 0) for (b, v) in\n",
      "/home/computertreker/git/qiskit/qiskit-tutorial/foo/lib/python3.8/site-packages/qiskit/aqua/operators/state_fns/dict_state_fn.py:207: DeprecationWarning: The Python built-in `round` is deprecated for complex scalars, and will raise a `TypeError` in a future release. Use `np.round` or `scalar.round` instead.\n",
      "  return round(sum([v * front.primitive.get(b, 0) for (b, v) in\n"
     ]
    },
    {
     "name": "stderr",
     "output_type": "stream",
     "text": [
      "/home/computertreker/git/qiskit/qiskit-tutorial/foo/lib/python3.8/site-packages/qiskit/aqua/operators/state_fns/dict_state_fn.py:207: DeprecationWarning: The Python built-in `round` is deprecated for complex scalars, and will raise a `TypeError` in a future release. Use `np.round` or `scalar.round` instead.\n",
      "  return round(sum([v * front.primitive.get(b, 0) for (b, v) in\n",
      "/home/computertreker/git/qiskit/qiskit-tutorial/foo/lib/python3.8/site-packages/qiskit/aqua/operators/state_fns/dict_state_fn.py:207: DeprecationWarning: The Python built-in `round` is deprecated for complex scalars, and will raise a `TypeError` in a future release. Use `np.round` or `scalar.round` instead.\n",
      "  return round(sum([v * front.primitive.get(b, 0) for (b, v) in\n",
      "/home/computertreker/git/qiskit/qiskit-tutorial/foo/lib/python3.8/site-packages/qiskit/aqua/operators/state_fns/dict_state_fn.py:207: DeprecationWarning: The Python built-in `round` is deprecated for complex scalars, and will raise a `TypeError` in a future release. Use `np.round` or `scalar.round` instead.\n",
      "  return round(sum([v * front.primitive.get(b, 0) for (b, v) in\n",
      "/home/computertreker/git/qiskit/qiskit-tutorial/foo/lib/python3.8/site-packages/qiskit/aqua/operators/state_fns/dict_state_fn.py:207: DeprecationWarning: The Python built-in `round` is deprecated for complex scalars, and will raise a `TypeError` in a future release. Use `np.round` or `scalar.round` instead.\n",
      "  return round(sum([v * front.primitive.get(b, 0) for (b, v) in\n",
      "/home/computertreker/git/qiskit/qiskit-tutorial/foo/lib/python3.8/site-packages/qiskit/aqua/operators/state_fns/dict_state_fn.py:207: DeprecationWarning: The Python built-in `round` is deprecated for complex scalars, and will raise a `TypeError` in a future release. Use `np.round` or `scalar.round` instead.\n",
      "  return round(sum([v * front.primitive.get(b, 0) for (b, v) in\n",
      "/home/computertreker/git/qiskit/qiskit-tutorial/foo/lib/python3.8/site-packages/qiskit/aqua/operators/state_fns/dict_state_fn.py:207: DeprecationWarning: The Python built-in `round` is deprecated for complex scalars, and will raise a `TypeError` in a future release. Use `np.round` or `scalar.round` instead.\n",
      "  return round(sum([v * front.primitive.get(b, 0) for (b, v) in\n",
      "/home/computertreker/git/qiskit/qiskit-tutorial/foo/lib/python3.8/site-packages/qiskit/aqua/operators/state_fns/dict_state_fn.py:207: DeprecationWarning: The Python built-in `round` is deprecated for complex scalars, and will raise a `TypeError` in a future release. Use `np.round` or `scalar.round` instead.\n",
      "  return round(sum([v * front.primitive.get(b, 0) for (b, v) in\n",
      "/home/computertreker/git/qiskit/qiskit-tutorial/foo/lib/python3.8/site-packages/qiskit/aqua/operators/state_fns/dict_state_fn.py:207: DeprecationWarning: The Python built-in `round` is deprecated for complex scalars, and will raise a `TypeError` in a future release. Use `np.round` or `scalar.round` instead.\n",
      "  return round(sum([v * front.primitive.get(b, 0) for (b, v) in\n",
      "/home/computertreker/git/qiskit/qiskit-tutorial/foo/lib/python3.8/site-packages/qiskit/aqua/operators/state_fns/dict_state_fn.py:207: DeprecationWarning: The Python built-in `round` is deprecated for complex scalars, and will raise a `TypeError` in a future release. Use `np.round` or `scalar.round` instead.\n",
      "  return round(sum([v * front.primitive.get(b, 0) for (b, v) in\n",
      "/home/computertreker/git/qiskit/qiskit-tutorial/foo/lib/python3.8/site-packages/qiskit/aqua/operators/state_fns/dict_state_fn.py:207: DeprecationWarning: The Python built-in `round` is deprecated for complex scalars, and will raise a `TypeError` in a future release. Use `np.round` or `scalar.round` instead.\n",
      "  return round(sum([v * front.primitive.get(b, 0) for (b, v) in\n",
      "/home/computertreker/git/qiskit/qiskit-tutorial/foo/lib/python3.8/site-packages/qiskit/aqua/operators/state_fns/dict_state_fn.py:207: DeprecationWarning: The Python built-in `round` is deprecated for complex scalars, and will raise a `TypeError` in a future release. Use `np.round` or `scalar.round` instead.\n",
      "  return round(sum([v * front.primitive.get(b, 0) for (b, v) in\n",
      "/home/computertreker/git/qiskit/qiskit-tutorial/foo/lib/python3.8/site-packages/qiskit/aqua/operators/state_fns/dict_state_fn.py:207: DeprecationWarning: The Python built-in `round` is deprecated for complex scalars, and will raise a `TypeError` in a future release. Use `np.round` or `scalar.round` instead.\n",
      "  return round(sum([v * front.primitive.get(b, 0) for (b, v) in\n",
      "/home/computertreker/git/qiskit/qiskit-tutorial/foo/lib/python3.8/site-packages/qiskit/aqua/operators/state_fns/dict_state_fn.py:207: DeprecationWarning: The Python built-in `round` is deprecated for complex scalars, and will raise a `TypeError` in a future release. Use `np.round` or `scalar.round` instead.\n",
      "  return round(sum([v * front.primitive.get(b, 0) for (b, v) in\n",
      "/home/computertreker/git/qiskit/qiskit-tutorial/foo/lib/python3.8/site-packages/qiskit/aqua/operators/state_fns/dict_state_fn.py:207: DeprecationWarning: The Python built-in `round` is deprecated for complex scalars, and will raise a `TypeError` in a future release. Use `np.round` or `scalar.round` instead.\n",
      "  return round(sum([v * front.primitive.get(b, 0) for (b, v) in\n",
      "/home/computertreker/git/qiskit/qiskit-tutorial/foo/lib/python3.8/site-packages/qiskit/aqua/operators/state_fns/dict_state_fn.py:207: DeprecationWarning: The Python built-in `round` is deprecated for complex scalars, and will raise a `TypeError` in a future release. Use `np.round` or `scalar.round` instead.\n",
      "  return round(sum([v * front.primitive.get(b, 0) for (b, v) in\n",
      "/home/computertreker/git/qiskit/qiskit-tutorial/foo/lib/python3.8/site-packages/qiskit/aqua/operators/state_fns/dict_state_fn.py:207: DeprecationWarning: The Python built-in `round` is deprecated for complex scalars, and will raise a `TypeError` in a future release. Use `np.round` or `scalar.round` instead.\n",
      "  return round(sum([v * front.primitive.get(b, 0) for (b, v) in\n",
      "/home/computertreker/git/qiskit/qiskit-tutorial/foo/lib/python3.8/site-packages/qiskit/aqua/operators/state_fns/dict_state_fn.py:207: DeprecationWarning: The Python built-in `round` is deprecated for complex scalars, and will raise a `TypeError` in a future release. Use `np.round` or `scalar.round` instead.\n",
      "  return round(sum([v * front.primitive.get(b, 0) for (b, v) in\n",
      "/home/computertreker/git/qiskit/qiskit-tutorial/foo/lib/python3.8/site-packages/qiskit/aqua/operators/state_fns/dict_state_fn.py:207: DeprecationWarning: The Python built-in `round` is deprecated for complex scalars, and will raise a `TypeError` in a future release. Use `np.round` or `scalar.round` instead.\n",
      "  return round(sum([v * front.primitive.get(b, 0) for (b, v) in\n",
      "/home/computertreker/git/qiskit/qiskit-tutorial/foo/lib/python3.8/site-packages/qiskit/aqua/operators/state_fns/dict_state_fn.py:207: DeprecationWarning: The Python built-in `round` is deprecated for complex scalars, and will raise a `TypeError` in a future release. Use `np.round` or `scalar.round` instead.\n",
      "  return round(sum([v * front.primitive.get(b, 0) for (b, v) in\n",
      "/home/computertreker/git/qiskit/qiskit-tutorial/foo/lib/python3.8/site-packages/qiskit/aqua/operators/state_fns/dict_state_fn.py:207: DeprecationWarning: The Python built-in `round` is deprecated for complex scalars, and will raise a `TypeError` in a future release. Use `np.round` or `scalar.round` instead.\n",
      "  return round(sum([v * front.primitive.get(b, 0) for (b, v) in\n",
      "/home/computertreker/git/qiskit/qiskit-tutorial/foo/lib/python3.8/site-packages/qiskit/aqua/operators/state_fns/dict_state_fn.py:207: DeprecationWarning: The Python built-in `round` is deprecated for complex scalars, and will raise a `TypeError` in a future release. Use `np.round` or `scalar.round` instead.\n",
      "  return round(sum([v * front.primitive.get(b, 0) for (b, v) in\n",
      "/home/computertreker/git/qiskit/qiskit-tutorial/foo/lib/python3.8/site-packages/qiskit/aqua/operators/state_fns/dict_state_fn.py:207: DeprecationWarning: The Python built-in `round` is deprecated for complex scalars, and will raise a `TypeError` in a future release. Use `np.round` or `scalar.round` instead.\n",
      "  return round(sum([v * front.primitive.get(b, 0) for (b, v) in\n",
      "/home/computertreker/git/qiskit/qiskit-tutorial/foo/lib/python3.8/site-packages/qiskit/aqua/operators/state_fns/dict_state_fn.py:207: DeprecationWarning: The Python built-in `round` is deprecated for complex scalars, and will raise a `TypeError` in a future release. Use `np.round` or `scalar.round` instead.\n",
      "  return round(sum([v * front.primitive.get(b, 0) for (b, v) in\n",
      "/home/computertreker/git/qiskit/qiskit-tutorial/foo/lib/python3.8/site-packages/qiskit/aqua/operators/state_fns/dict_state_fn.py:207: DeprecationWarning: The Python built-in `round` is deprecated for complex scalars, and will raise a `TypeError` in a future release. Use `np.round` or `scalar.round` instead.\n",
      "  return round(sum([v * front.primitive.get(b, 0) for (b, v) in\n",
      "/home/computertreker/git/qiskit/qiskit-tutorial/foo/lib/python3.8/site-packages/qiskit/aqua/operators/state_fns/dict_state_fn.py:207: DeprecationWarning: The Python built-in `round` is deprecated for complex scalars, and will raise a `TypeError` in a future release. Use `np.round` or `scalar.round` instead.\n",
      "  return round(sum([v * front.primitive.get(b, 0) for (b, v) in\n"
     ]
    },
    {
     "name": "stderr",
     "output_type": "stream",
     "text": [
      "/home/computertreker/git/qiskit/qiskit-tutorial/foo/lib/python3.8/site-packages/qiskit/aqua/operators/state_fns/dict_state_fn.py:207: DeprecationWarning: The Python built-in `round` is deprecated for complex scalars, and will raise a `TypeError` in a future release. Use `np.round` or `scalar.round` instead.\n",
      "  return round(sum([v * front.primitive.get(b, 0) for (b, v) in\n",
      "/home/computertreker/git/qiskit/qiskit-tutorial/foo/lib/python3.8/site-packages/qiskit/aqua/operators/state_fns/dict_state_fn.py:207: DeprecationWarning: The Python built-in `round` is deprecated for complex scalars, and will raise a `TypeError` in a future release. Use `np.round` or `scalar.round` instead.\n",
      "  return round(sum([v * front.primitive.get(b, 0) for (b, v) in\n",
      "/home/computertreker/git/qiskit/qiskit-tutorial/foo/lib/python3.8/site-packages/qiskit/aqua/operators/state_fns/dict_state_fn.py:207: DeprecationWarning: The Python built-in `round` is deprecated for complex scalars, and will raise a `TypeError` in a future release. Use `np.round` or `scalar.round` instead.\n",
      "  return round(sum([v * front.primitive.get(b, 0) for (b, v) in\n",
      "/home/computertreker/git/qiskit/qiskit-tutorial/foo/lib/python3.8/site-packages/qiskit/aqua/operators/state_fns/dict_state_fn.py:207: DeprecationWarning: The Python built-in `round` is deprecated for complex scalars, and will raise a `TypeError` in a future release. Use `np.round` or `scalar.round` instead.\n",
      "  return round(sum([v * front.primitive.get(b, 0) for (b, v) in\n",
      "/home/computertreker/git/qiskit/qiskit-tutorial/foo/lib/python3.8/site-packages/qiskit/aqua/operators/state_fns/dict_state_fn.py:207: DeprecationWarning: The Python built-in `round` is deprecated for complex scalars, and will raise a `TypeError` in a future release. Use `np.round` or `scalar.round` instead.\n",
      "  return round(sum([v * front.primitive.get(b, 0) for (b, v) in\n",
      "/home/computertreker/git/qiskit/qiskit-tutorial/foo/lib/python3.8/site-packages/qiskit/aqua/operators/state_fns/dict_state_fn.py:207: DeprecationWarning: The Python built-in `round` is deprecated for complex scalars, and will raise a `TypeError` in a future release. Use `np.round` or `scalar.round` instead.\n",
      "  return round(sum([v * front.primitive.get(b, 0) for (b, v) in\n",
      "/home/computertreker/git/qiskit/qiskit-tutorial/foo/lib/python3.8/site-packages/qiskit/aqua/operators/state_fns/dict_state_fn.py:207: DeprecationWarning: The Python built-in `round` is deprecated for complex scalars, and will raise a `TypeError` in a future release. Use `np.round` or `scalar.round` instead.\n",
      "  return round(sum([v * front.primitive.get(b, 0) for (b, v) in\n",
      "/home/computertreker/git/qiskit/qiskit-tutorial/foo/lib/python3.8/site-packages/qiskit/aqua/operators/state_fns/dict_state_fn.py:207: DeprecationWarning: The Python built-in `round` is deprecated for complex scalars, and will raise a `TypeError` in a future release. Use `np.round` or `scalar.round` instead.\n",
      "  return round(sum([v * front.primitive.get(b, 0) for (b, v) in\n",
      "/home/computertreker/git/qiskit/qiskit-tutorial/foo/lib/python3.8/site-packages/qiskit/aqua/operators/state_fns/dict_state_fn.py:207: DeprecationWarning: The Python built-in `round` is deprecated for complex scalars, and will raise a `TypeError` in a future release. Use `np.round` or `scalar.round` instead.\n",
      "  return round(sum([v * front.primitive.get(b, 0) for (b, v) in\n",
      "/home/computertreker/git/qiskit/qiskit-tutorial/foo/lib/python3.8/site-packages/qiskit/aqua/operators/state_fns/dict_state_fn.py:207: DeprecationWarning: The Python built-in `round` is deprecated for complex scalars, and will raise a `TypeError` in a future release. Use `np.round` or `scalar.round` instead.\n",
      "  return round(sum([v * front.primitive.get(b, 0) for (b, v) in\n",
      "/home/computertreker/git/qiskit/qiskit-tutorial/foo/lib/python3.8/site-packages/qiskit/aqua/operators/state_fns/dict_state_fn.py:207: DeprecationWarning: The Python built-in `round` is deprecated for complex scalars, and will raise a `TypeError` in a future release. Use `np.round` or `scalar.round` instead.\n",
      "  return round(sum([v * front.primitive.get(b, 0) for (b, v) in\n",
      "/home/computertreker/git/qiskit/qiskit-tutorial/foo/lib/python3.8/site-packages/qiskit/aqua/operators/state_fns/dict_state_fn.py:207: DeprecationWarning: The Python built-in `round` is deprecated for complex scalars, and will raise a `TypeError` in a future release. Use `np.round` or `scalar.round` instead.\n",
      "  return round(sum([v * front.primitive.get(b, 0) for (b, v) in\n",
      "/home/computertreker/git/qiskit/qiskit-tutorial/foo/lib/python3.8/site-packages/qiskit/aqua/operators/state_fns/dict_state_fn.py:207: DeprecationWarning: The Python built-in `round` is deprecated for complex scalars, and will raise a `TypeError` in a future release. Use `np.round` or `scalar.round` instead.\n",
      "  return round(sum([v * front.primitive.get(b, 0) for (b, v) in\n",
      "/home/computertreker/git/qiskit/qiskit-tutorial/foo/lib/python3.8/site-packages/qiskit/aqua/operators/state_fns/dict_state_fn.py:207: DeprecationWarning: The Python built-in `round` is deprecated for complex scalars, and will raise a `TypeError` in a future release. Use `np.round` or `scalar.round` instead.\n",
      "  return round(sum([v * front.primitive.get(b, 0) for (b, v) in\n",
      "/home/computertreker/git/qiskit/qiskit-tutorial/foo/lib/python3.8/site-packages/qiskit/aqua/operators/state_fns/dict_state_fn.py:207: DeprecationWarning: The Python built-in `round` is deprecated for complex scalars, and will raise a `TypeError` in a future release. Use `np.round` or `scalar.round` instead.\n",
      "  return round(sum([v * front.primitive.get(b, 0) for (b, v) in\n",
      "/home/computertreker/git/qiskit/qiskit-tutorial/foo/lib/python3.8/site-packages/qiskit/aqua/operators/state_fns/dict_state_fn.py:207: DeprecationWarning: The Python built-in `round` is deprecated for complex scalars, and will raise a `TypeError` in a future release. Use `np.round` or `scalar.round` instead.\n",
      "  return round(sum([v * front.primitive.get(b, 0) for (b, v) in\n",
      "/home/computertreker/git/qiskit/qiskit-tutorial/foo/lib/python3.8/site-packages/qiskit/aqua/operators/state_fns/dict_state_fn.py:207: DeprecationWarning: The Python built-in `round` is deprecated for complex scalars, and will raise a `TypeError` in a future release. Use `np.round` or `scalar.round` instead.\n",
      "  return round(sum([v * front.primitive.get(b, 0) for (b, v) in\n",
      "/home/computertreker/git/qiskit/qiskit-tutorial/foo/lib/python3.8/site-packages/qiskit/aqua/operators/state_fns/dict_state_fn.py:207: DeprecationWarning: The Python built-in `round` is deprecated for complex scalars, and will raise a `TypeError` in a future release. Use `np.round` or `scalar.round` instead.\n",
      "  return round(sum([v * front.primitive.get(b, 0) for (b, v) in\n",
      "/home/computertreker/git/qiskit/qiskit-tutorial/foo/lib/python3.8/site-packages/qiskit/aqua/operators/state_fns/dict_state_fn.py:207: DeprecationWarning: The Python built-in `round` is deprecated for complex scalars, and will raise a `TypeError` in a future release. Use `np.round` or `scalar.round` instead.\n",
      "  return round(sum([v * front.primitive.get(b, 0) for (b, v) in\n",
      "/home/computertreker/git/qiskit/qiskit-tutorial/foo/lib/python3.8/site-packages/qiskit/aqua/operators/state_fns/dict_state_fn.py:207: DeprecationWarning: The Python built-in `round` is deprecated for complex scalars, and will raise a `TypeError` in a future release. Use `np.round` or `scalar.round` instead.\n",
      "  return round(sum([v * front.primitive.get(b, 0) for (b, v) in\n",
      "/home/computertreker/git/qiskit/qiskit-tutorial/foo/lib/python3.8/site-packages/qiskit/aqua/operators/state_fns/dict_state_fn.py:207: DeprecationWarning: The Python built-in `round` is deprecated for complex scalars, and will raise a `TypeError` in a future release. Use `np.round` or `scalar.round` instead.\n",
      "  return round(sum([v * front.primitive.get(b, 0) for (b, v) in\n",
      "/home/computertreker/git/qiskit/qiskit-tutorial/foo/lib/python3.8/site-packages/qiskit/aqua/operators/state_fns/dict_state_fn.py:207: DeprecationWarning: The Python built-in `round` is deprecated for complex scalars, and will raise a `TypeError` in a future release. Use `np.round` or `scalar.round` instead.\n",
      "  return round(sum([v * front.primitive.get(b, 0) for (b, v) in\n",
      "/home/computertreker/git/qiskit/qiskit-tutorial/foo/lib/python3.8/site-packages/qiskit/aqua/operators/state_fns/dict_state_fn.py:207: DeprecationWarning: The Python built-in `round` is deprecated for complex scalars, and will raise a `TypeError` in a future release. Use `np.round` or `scalar.round` instead.\n",
      "  return round(sum([v * front.primitive.get(b, 0) for (b, v) in\n",
      "/home/computertreker/git/qiskit/qiskit-tutorial/foo/lib/python3.8/site-packages/qiskit/aqua/operators/state_fns/dict_state_fn.py:207: DeprecationWarning: The Python built-in `round` is deprecated for complex scalars, and will raise a `TypeError` in a future release. Use `np.round` or `scalar.round` instead.\n",
      "  return round(sum([v * front.primitive.get(b, 0) for (b, v) in\n",
      "/home/computertreker/git/qiskit/qiskit-tutorial/foo/lib/python3.8/site-packages/qiskit/aqua/operators/state_fns/dict_state_fn.py:207: DeprecationWarning: The Python built-in `round` is deprecated for complex scalars, and will raise a `TypeError` in a future release. Use `np.round` or `scalar.round` instead.\n",
      "  return round(sum([v * front.primitive.get(b, 0) for (b, v) in\n"
     ]
    },
    {
     "name": "stderr",
     "output_type": "stream",
     "text": [
      "/home/computertreker/git/qiskit/qiskit-tutorial/foo/lib/python3.8/site-packages/qiskit/aqua/operators/state_fns/dict_state_fn.py:207: DeprecationWarning: The Python built-in `round` is deprecated for complex scalars, and will raise a `TypeError` in a future release. Use `np.round` or `scalar.round` instead.\n",
      "  return round(sum([v * front.primitive.get(b, 0) for (b, v) in\n",
      "/home/computertreker/git/qiskit/qiskit-tutorial/foo/lib/python3.8/site-packages/qiskit/aqua/operators/state_fns/dict_state_fn.py:207: DeprecationWarning: The Python built-in `round` is deprecated for complex scalars, and will raise a `TypeError` in a future release. Use `np.round` or `scalar.round` instead.\n",
      "  return round(sum([v * front.primitive.get(b, 0) for (b, v) in\n",
      "/home/computertreker/git/qiskit/qiskit-tutorial/foo/lib/python3.8/site-packages/qiskit/aqua/operators/state_fns/dict_state_fn.py:207: DeprecationWarning: The Python built-in `round` is deprecated for complex scalars, and will raise a `TypeError` in a future release. Use `np.round` or `scalar.round` instead.\n",
      "  return round(sum([v * front.primitive.get(b, 0) for (b, v) in\n",
      "/home/computertreker/git/qiskit/qiskit-tutorial/foo/lib/python3.8/site-packages/qiskit/aqua/operators/state_fns/dict_state_fn.py:207: DeprecationWarning: The Python built-in `round` is deprecated for complex scalars, and will raise a `TypeError` in a future release. Use `np.round` or `scalar.round` instead.\n",
      "  return round(sum([v * front.primitive.get(b, 0) for (b, v) in\n",
      "/home/computertreker/git/qiskit/qiskit-tutorial/foo/lib/python3.8/site-packages/qiskit/aqua/operators/state_fns/dict_state_fn.py:207: DeprecationWarning: The Python built-in `round` is deprecated for complex scalars, and will raise a `TypeError` in a future release. Use `np.round` or `scalar.round` instead.\n",
      "  return round(sum([v * front.primitive.get(b, 0) for (b, v) in\n",
      "/home/computertreker/git/qiskit/qiskit-tutorial/foo/lib/python3.8/site-packages/qiskit/aqua/operators/state_fns/dict_state_fn.py:207: DeprecationWarning: The Python built-in `round` is deprecated for complex scalars, and will raise a `TypeError` in a future release. Use `np.round` or `scalar.round` instead.\n",
      "  return round(sum([v * front.primitive.get(b, 0) for (b, v) in\n",
      "/home/computertreker/git/qiskit/qiskit-tutorial/foo/lib/python3.8/site-packages/qiskit/aqua/operators/state_fns/dict_state_fn.py:207: DeprecationWarning: The Python built-in `round` is deprecated for complex scalars, and will raise a `TypeError` in a future release. Use `np.round` or `scalar.round` instead.\n",
      "  return round(sum([v * front.primitive.get(b, 0) for (b, v) in\n",
      "/home/computertreker/git/qiskit/qiskit-tutorial/foo/lib/python3.8/site-packages/qiskit/aqua/operators/state_fns/dict_state_fn.py:207: DeprecationWarning: The Python built-in `round` is deprecated for complex scalars, and will raise a `TypeError` in a future release. Use `np.round` or `scalar.round` instead.\n",
      "  return round(sum([v * front.primitive.get(b, 0) for (b, v) in\n",
      "/home/computertreker/git/qiskit/qiskit-tutorial/foo/lib/python3.8/site-packages/qiskit/aqua/operators/state_fns/dict_state_fn.py:207: DeprecationWarning: The Python built-in `round` is deprecated for complex scalars, and will raise a `TypeError` in a future release. Use `np.round` or `scalar.round` instead.\n",
      "  return round(sum([v * front.primitive.get(b, 0) for (b, v) in\n",
      "/home/computertreker/git/qiskit/qiskit-tutorial/foo/lib/python3.8/site-packages/qiskit/aqua/operators/state_fns/dict_state_fn.py:207: DeprecationWarning: The Python built-in `round` is deprecated for complex scalars, and will raise a `TypeError` in a future release. Use `np.round` or `scalar.round` instead.\n",
      "  return round(sum([v * front.primitive.get(b, 0) for (b, v) in\n",
      "/home/computertreker/git/qiskit/qiskit-tutorial/foo/lib/python3.8/site-packages/qiskit/aqua/operators/state_fns/dict_state_fn.py:207: DeprecationWarning: The Python built-in `round` is deprecated for complex scalars, and will raise a `TypeError` in a future release. Use `np.round` or `scalar.round` instead.\n",
      "  return round(sum([v * front.primitive.get(b, 0) for (b, v) in\n",
      "/home/computertreker/git/qiskit/qiskit-tutorial/foo/lib/python3.8/site-packages/qiskit/aqua/operators/state_fns/dict_state_fn.py:207: DeprecationWarning: The Python built-in `round` is deprecated for complex scalars, and will raise a `TypeError` in a future release. Use `np.round` or `scalar.round` instead.\n",
      "  return round(sum([v * front.primitive.get(b, 0) for (b, v) in\n",
      "/home/computertreker/git/qiskit/qiskit-tutorial/foo/lib/python3.8/site-packages/qiskit/aqua/operators/state_fns/dict_state_fn.py:207: DeprecationWarning: The Python built-in `round` is deprecated for complex scalars, and will raise a `TypeError` in a future release. Use `np.round` or `scalar.round` instead.\n",
      "  return round(sum([v * front.primitive.get(b, 0) for (b, v) in\n",
      "/home/computertreker/git/qiskit/qiskit-tutorial/foo/lib/python3.8/site-packages/qiskit/aqua/operators/state_fns/dict_state_fn.py:207: DeprecationWarning: The Python built-in `round` is deprecated for complex scalars, and will raise a `TypeError` in a future release. Use `np.round` or `scalar.round` instead.\n",
      "  return round(sum([v * front.primitive.get(b, 0) for (b, v) in\n",
      "/home/computertreker/git/qiskit/qiskit-tutorial/foo/lib/python3.8/site-packages/qiskit/aqua/operators/state_fns/dict_state_fn.py:207: DeprecationWarning: The Python built-in `round` is deprecated for complex scalars, and will raise a `TypeError` in a future release. Use `np.round` or `scalar.round` instead.\n",
      "  return round(sum([v * front.primitive.get(b, 0) for (b, v) in\n",
      "/home/computertreker/git/qiskit/qiskit-tutorial/foo/lib/python3.8/site-packages/qiskit/aqua/operators/state_fns/dict_state_fn.py:207: DeprecationWarning: The Python built-in `round` is deprecated for complex scalars, and will raise a `TypeError` in a future release. Use `np.round` or `scalar.round` instead.\n",
      "  return round(sum([v * front.primitive.get(b, 0) for (b, v) in\n",
      "/home/computertreker/git/qiskit/qiskit-tutorial/foo/lib/python3.8/site-packages/qiskit/aqua/operators/state_fns/dict_state_fn.py:207: DeprecationWarning: The Python built-in `round` is deprecated for complex scalars, and will raise a `TypeError` in a future release. Use `np.round` or `scalar.round` instead.\n",
      "  return round(sum([v * front.primitive.get(b, 0) for (b, v) in\n",
      "/home/computertreker/git/qiskit/qiskit-tutorial/foo/lib/python3.8/site-packages/qiskit/aqua/operators/state_fns/dict_state_fn.py:207: DeprecationWarning: The Python built-in `round` is deprecated for complex scalars, and will raise a `TypeError` in a future release. Use `np.round` or `scalar.round` instead.\n",
      "  return round(sum([v * front.primitive.get(b, 0) for (b, v) in\n",
      "/home/computertreker/git/qiskit/qiskit-tutorial/foo/lib/python3.8/site-packages/qiskit/aqua/operators/state_fns/dict_state_fn.py:207: DeprecationWarning: The Python built-in `round` is deprecated for complex scalars, and will raise a `TypeError` in a future release. Use `np.round` or `scalar.round` instead.\n",
      "  return round(sum([v * front.primitive.get(b, 0) for (b, v) in\n",
      "/home/computertreker/git/qiskit/qiskit-tutorial/foo/lib/python3.8/site-packages/qiskit/aqua/operators/state_fns/dict_state_fn.py:207: DeprecationWarning: The Python built-in `round` is deprecated for complex scalars, and will raise a `TypeError` in a future release. Use `np.round` or `scalar.round` instead.\n",
      "  return round(sum([v * front.primitive.get(b, 0) for (b, v) in\n",
      "/home/computertreker/git/qiskit/qiskit-tutorial/foo/lib/python3.8/site-packages/qiskit/aqua/operators/state_fns/dict_state_fn.py:207: DeprecationWarning: The Python built-in `round` is deprecated for complex scalars, and will raise a `TypeError` in a future release. Use `np.round` or `scalar.round` instead.\n",
      "  return round(sum([v * front.primitive.get(b, 0) for (b, v) in\n",
      "/home/computertreker/git/qiskit/qiskit-tutorial/foo/lib/python3.8/site-packages/qiskit/aqua/operators/state_fns/dict_state_fn.py:207: DeprecationWarning: The Python built-in `round` is deprecated for complex scalars, and will raise a `TypeError` in a future release. Use `np.round` or `scalar.round` instead.\n",
      "  return round(sum([v * front.primitive.get(b, 0) for (b, v) in\n",
      "/home/computertreker/git/qiskit/qiskit-tutorial/foo/lib/python3.8/site-packages/qiskit/aqua/operators/state_fns/dict_state_fn.py:207: DeprecationWarning: The Python built-in `round` is deprecated for complex scalars, and will raise a `TypeError` in a future release. Use `np.round` or `scalar.round` instead.\n",
      "  return round(sum([v * front.primitive.get(b, 0) for (b, v) in\n",
      "/home/computertreker/git/qiskit/qiskit-tutorial/foo/lib/python3.8/site-packages/qiskit/aqua/operators/state_fns/dict_state_fn.py:207: DeprecationWarning: The Python built-in `round` is deprecated for complex scalars, and will raise a `TypeError` in a future release. Use `np.round` or `scalar.round` instead.\n",
      "  return round(sum([v * front.primitive.get(b, 0) for (b, v) in\n",
      "/home/computertreker/git/qiskit/qiskit-tutorial/foo/lib/python3.8/site-packages/qiskit/aqua/operators/state_fns/dict_state_fn.py:207: DeprecationWarning: The Python built-in `round` is deprecated for complex scalars, and will raise a `TypeError` in a future release. Use `np.round` or `scalar.round` instead.\n",
      "  return round(sum([v * front.primitive.get(b, 0) for (b, v) in\n"
     ]
    },
    {
     "name": "stderr",
     "output_type": "stream",
     "text": [
      "/home/computertreker/git/qiskit/qiskit-tutorial/foo/lib/python3.8/site-packages/qiskit/aqua/operators/state_fns/dict_state_fn.py:207: DeprecationWarning: The Python built-in `round` is deprecated for complex scalars, and will raise a `TypeError` in a future release. Use `np.round` or `scalar.round` instead.\n",
      "  return round(sum([v * front.primitive.get(b, 0) for (b, v) in\n",
      "/home/computertreker/git/qiskit/qiskit-tutorial/foo/lib/python3.8/site-packages/qiskit/aqua/operators/state_fns/dict_state_fn.py:207: DeprecationWarning: The Python built-in `round` is deprecated for complex scalars, and will raise a `TypeError` in a future release. Use `np.round` or `scalar.round` instead.\n",
      "  return round(sum([v * front.primitive.get(b, 0) for (b, v) in\n",
      "/home/computertreker/git/qiskit/qiskit-tutorial/foo/lib/python3.8/site-packages/qiskit/aqua/operators/state_fns/dict_state_fn.py:207: DeprecationWarning: The Python built-in `round` is deprecated for complex scalars, and will raise a `TypeError` in a future release. Use `np.round` or `scalar.round` instead.\n",
      "  return round(sum([v * front.primitive.get(b, 0) for (b, v) in\n",
      "/home/computertreker/git/qiskit/qiskit-tutorial/foo/lib/python3.8/site-packages/qiskit/aqua/operators/state_fns/dict_state_fn.py:207: DeprecationWarning: The Python built-in `round` is deprecated for complex scalars, and will raise a `TypeError` in a future release. Use `np.round` or `scalar.round` instead.\n",
      "  return round(sum([v * front.primitive.get(b, 0) for (b, v) in\n",
      "/home/computertreker/git/qiskit/qiskit-tutorial/foo/lib/python3.8/site-packages/qiskit/aqua/operators/state_fns/dict_state_fn.py:207: DeprecationWarning: The Python built-in `round` is deprecated for complex scalars, and will raise a `TypeError` in a future release. Use `np.round` or `scalar.round` instead.\n",
      "  return round(sum([v * front.primitive.get(b, 0) for (b, v) in\n",
      "/home/computertreker/git/qiskit/qiskit-tutorial/foo/lib/python3.8/site-packages/qiskit/aqua/operators/state_fns/dict_state_fn.py:207: DeprecationWarning: The Python built-in `round` is deprecated for complex scalars, and will raise a `TypeError` in a future release. Use `np.round` or `scalar.round` instead.\n",
      "  return round(sum([v * front.primitive.get(b, 0) for (b, v) in\n",
      "/home/computertreker/git/qiskit/qiskit-tutorial/foo/lib/python3.8/site-packages/qiskit/aqua/operators/state_fns/dict_state_fn.py:207: DeprecationWarning: The Python built-in `round` is deprecated for complex scalars, and will raise a `TypeError` in a future release. Use `np.round` or `scalar.round` instead.\n",
      "  return round(sum([v * front.primitive.get(b, 0) for (b, v) in\n",
      "/home/computertreker/git/qiskit/qiskit-tutorial/foo/lib/python3.8/site-packages/qiskit/aqua/operators/state_fns/dict_state_fn.py:207: DeprecationWarning: The Python built-in `round` is deprecated for complex scalars, and will raise a `TypeError` in a future release. Use `np.round` or `scalar.round` instead.\n",
      "  return round(sum([v * front.primitive.get(b, 0) for (b, v) in\n",
      "/home/computertreker/git/qiskit/qiskit-tutorial/foo/lib/python3.8/site-packages/qiskit/aqua/operators/state_fns/dict_state_fn.py:207: DeprecationWarning: The Python built-in `round` is deprecated for complex scalars, and will raise a `TypeError` in a future release. Use `np.round` or `scalar.round` instead.\n",
      "  return round(sum([v * front.primitive.get(b, 0) for (b, v) in\n",
      "/home/computertreker/git/qiskit/qiskit-tutorial/foo/lib/python3.8/site-packages/qiskit/aqua/operators/state_fns/dict_state_fn.py:207: DeprecationWarning: The Python built-in `round` is deprecated for complex scalars, and will raise a `TypeError` in a future release. Use `np.round` or `scalar.round` instead.\n",
      "  return round(sum([v * front.primitive.get(b, 0) for (b, v) in\n",
      "/home/computertreker/git/qiskit/qiskit-tutorial/foo/lib/python3.8/site-packages/qiskit/aqua/operators/state_fns/dict_state_fn.py:207: DeprecationWarning: The Python built-in `round` is deprecated for complex scalars, and will raise a `TypeError` in a future release. Use `np.round` or `scalar.round` instead.\n",
      "  return round(sum([v * front.primitive.get(b, 0) for (b, v) in\n",
      "/home/computertreker/git/qiskit/qiskit-tutorial/foo/lib/python3.8/site-packages/qiskit/aqua/operators/state_fns/dict_state_fn.py:207: DeprecationWarning: The Python built-in `round` is deprecated for complex scalars, and will raise a `TypeError` in a future release. Use `np.round` or `scalar.round` instead.\n",
      "  return round(sum([v * front.primitive.get(b, 0) for (b, v) in\n",
      "/home/computertreker/git/qiskit/qiskit-tutorial/foo/lib/python3.8/site-packages/qiskit/aqua/operators/state_fns/dict_state_fn.py:207: DeprecationWarning: The Python built-in `round` is deprecated for complex scalars, and will raise a `TypeError` in a future release. Use `np.round` or `scalar.round` instead.\n",
      "  return round(sum([v * front.primitive.get(b, 0) for (b, v) in\n",
      "/home/computertreker/git/qiskit/qiskit-tutorial/foo/lib/python3.8/site-packages/qiskit/aqua/operators/state_fns/dict_state_fn.py:207: DeprecationWarning: The Python built-in `round` is deprecated for complex scalars, and will raise a `TypeError` in a future release. Use `np.round` or `scalar.round` instead.\n",
      "  return round(sum([v * front.primitive.get(b, 0) for (b, v) in\n",
      "/home/computertreker/git/qiskit/qiskit-tutorial/foo/lib/python3.8/site-packages/qiskit/aqua/operators/state_fns/dict_state_fn.py:207: DeprecationWarning: The Python built-in `round` is deprecated for complex scalars, and will raise a `TypeError` in a future release. Use `np.round` or `scalar.round` instead.\n",
      "  return round(sum([v * front.primitive.get(b, 0) for (b, v) in\n",
      "/home/computertreker/git/qiskit/qiskit-tutorial/foo/lib/python3.8/site-packages/qiskit/aqua/operators/state_fns/dict_state_fn.py:207: DeprecationWarning: The Python built-in `round` is deprecated for complex scalars, and will raise a `TypeError` in a future release. Use `np.round` or `scalar.round` instead.\n",
      "  return round(sum([v * front.primitive.get(b, 0) for (b, v) in\n",
      "/home/computertreker/git/qiskit/qiskit-tutorial/foo/lib/python3.8/site-packages/qiskit/aqua/operators/state_fns/dict_state_fn.py:207: DeprecationWarning: The Python built-in `round` is deprecated for complex scalars, and will raise a `TypeError` in a future release. Use `np.round` or `scalar.round` instead.\n",
      "  return round(sum([v * front.primitive.get(b, 0) for (b, v) in\n",
      "/home/computertreker/git/qiskit/qiskit-tutorial/foo/lib/python3.8/site-packages/qiskit/aqua/operators/state_fns/dict_state_fn.py:207: DeprecationWarning: The Python built-in `round` is deprecated for complex scalars, and will raise a `TypeError` in a future release. Use `np.round` or `scalar.round` instead.\n",
      "  return round(sum([v * front.primitive.get(b, 0) for (b, v) in\n",
      "/home/computertreker/git/qiskit/qiskit-tutorial/foo/lib/python3.8/site-packages/qiskit/aqua/operators/state_fns/dict_state_fn.py:207: DeprecationWarning: The Python built-in `round` is deprecated for complex scalars, and will raise a `TypeError` in a future release. Use `np.round` or `scalar.round` instead.\n",
      "  return round(sum([v * front.primitive.get(b, 0) for (b, v) in\n",
      "/home/computertreker/git/qiskit/qiskit-tutorial/foo/lib/python3.8/site-packages/qiskit/aqua/operators/state_fns/dict_state_fn.py:207: DeprecationWarning: The Python built-in `round` is deprecated for complex scalars, and will raise a `TypeError` in a future release. Use `np.round` or `scalar.round` instead.\n",
      "  return round(sum([v * front.primitive.get(b, 0) for (b, v) in\n",
      "/home/computertreker/git/qiskit/qiskit-tutorial/foo/lib/python3.8/site-packages/qiskit/aqua/operators/state_fns/dict_state_fn.py:207: DeprecationWarning: The Python built-in `round` is deprecated for complex scalars, and will raise a `TypeError` in a future release. Use `np.round` or `scalar.round` instead.\n",
      "  return round(sum([v * front.primitive.get(b, 0) for (b, v) in\n",
      "/home/computertreker/git/qiskit/qiskit-tutorial/foo/lib/python3.8/site-packages/qiskit/aqua/operators/state_fns/dict_state_fn.py:207: DeprecationWarning: The Python built-in `round` is deprecated for complex scalars, and will raise a `TypeError` in a future release. Use `np.round` or `scalar.round` instead.\n",
      "  return round(sum([v * front.primitive.get(b, 0) for (b, v) in\n",
      "/home/computertreker/git/qiskit/qiskit-tutorial/foo/lib/python3.8/site-packages/qiskit/aqua/operators/state_fns/dict_state_fn.py:207: DeprecationWarning: The Python built-in `round` is deprecated for complex scalars, and will raise a `TypeError` in a future release. Use `np.round` or `scalar.round` instead.\n",
      "  return round(sum([v * front.primitive.get(b, 0) for (b, v) in\n",
      "/home/computertreker/git/qiskit/qiskit-tutorial/foo/lib/python3.8/site-packages/qiskit/aqua/operators/state_fns/dict_state_fn.py:207: DeprecationWarning: The Python built-in `round` is deprecated for complex scalars, and will raise a `TypeError` in a future release. Use `np.round` or `scalar.round` instead.\n",
      "  return round(sum([v * front.primitive.get(b, 0) for (b, v) in\n",
      "/home/computertreker/git/qiskit/qiskit-tutorial/foo/lib/python3.8/site-packages/qiskit/aqua/operators/state_fns/dict_state_fn.py:207: DeprecationWarning: The Python built-in `round` is deprecated for complex scalars, and will raise a `TypeError` in a future release. Use `np.round` or `scalar.round` instead.\n",
      "  return round(sum([v * front.primitive.get(b, 0) for (b, v) in\n"
     ]
    },
    {
     "name": "stderr",
     "output_type": "stream",
     "text": [
      "/home/computertreker/git/qiskit/qiskit-tutorial/foo/lib/python3.8/site-packages/qiskit/aqua/operators/state_fns/dict_state_fn.py:207: DeprecationWarning: The Python built-in `round` is deprecated for complex scalars, and will raise a `TypeError` in a future release. Use `np.round` or `scalar.round` instead.\n",
      "  return round(sum([v * front.primitive.get(b, 0) for (b, v) in\n",
      "/home/computertreker/git/qiskit/qiskit-tutorial/foo/lib/python3.8/site-packages/qiskit/aqua/operators/state_fns/dict_state_fn.py:207: DeprecationWarning: The Python built-in `round` is deprecated for complex scalars, and will raise a `TypeError` in a future release. Use `np.round` or `scalar.round` instead.\n",
      "  return round(sum([v * front.primitive.get(b, 0) for (b, v) in\n",
      "/home/computertreker/git/qiskit/qiskit-tutorial/foo/lib/python3.8/site-packages/qiskit/aqua/operators/state_fns/dict_state_fn.py:207: DeprecationWarning: The Python built-in `round` is deprecated for complex scalars, and will raise a `TypeError` in a future release. Use `np.round` or `scalar.round` instead.\n",
      "  return round(sum([v * front.primitive.get(b, 0) for (b, v) in\n",
      "/home/computertreker/git/qiskit/qiskit-tutorial/foo/lib/python3.8/site-packages/qiskit/aqua/operators/state_fns/dict_state_fn.py:207: DeprecationWarning: The Python built-in `round` is deprecated for complex scalars, and will raise a `TypeError` in a future release. Use `np.round` or `scalar.round` instead.\n",
      "  return round(sum([v * front.primitive.get(b, 0) for (b, v) in\n",
      "/home/computertreker/git/qiskit/qiskit-tutorial/foo/lib/python3.8/site-packages/qiskit/aqua/operators/state_fns/dict_state_fn.py:207: DeprecationWarning: The Python built-in `round` is deprecated for complex scalars, and will raise a `TypeError` in a future release. Use `np.round` or `scalar.round` instead.\n",
      "  return round(sum([v * front.primitive.get(b, 0) for (b, v) in\n",
      "/home/computertreker/git/qiskit/qiskit-tutorial/foo/lib/python3.8/site-packages/qiskit/aqua/operators/state_fns/dict_state_fn.py:207: DeprecationWarning: The Python built-in `round` is deprecated for complex scalars, and will raise a `TypeError` in a future release. Use `np.round` or `scalar.round` instead.\n",
      "  return round(sum([v * front.primitive.get(b, 0) for (b, v) in\n",
      "/home/computertreker/git/qiskit/qiskit-tutorial/foo/lib/python3.8/site-packages/qiskit/aqua/operators/state_fns/dict_state_fn.py:207: DeprecationWarning: The Python built-in `round` is deprecated for complex scalars, and will raise a `TypeError` in a future release. Use `np.round` or `scalar.round` instead.\n",
      "  return round(sum([v * front.primitive.get(b, 0) for (b, v) in\n",
      "/home/computertreker/git/qiskit/qiskit-tutorial/foo/lib/python3.8/site-packages/qiskit/aqua/operators/state_fns/dict_state_fn.py:207: DeprecationWarning: The Python built-in `round` is deprecated for complex scalars, and will raise a `TypeError` in a future release. Use `np.round` or `scalar.round` instead.\n",
      "  return round(sum([v * front.primitive.get(b, 0) for (b, v) in\n",
      "/home/computertreker/git/qiskit/qiskit-tutorial/foo/lib/python3.8/site-packages/qiskit/aqua/operators/state_fns/dict_state_fn.py:207: DeprecationWarning: The Python built-in `round` is deprecated for complex scalars, and will raise a `TypeError` in a future release. Use `np.round` or `scalar.round` instead.\n",
      "  return round(sum([v * front.primitive.get(b, 0) for (b, v) in\n",
      "/home/computertreker/git/qiskit/qiskit-tutorial/foo/lib/python3.8/site-packages/qiskit/aqua/operators/state_fns/dict_state_fn.py:207: DeprecationWarning: The Python built-in `round` is deprecated for complex scalars, and will raise a `TypeError` in a future release. Use `np.round` or `scalar.round` instead.\n",
      "  return round(sum([v * front.primitive.get(b, 0) for (b, v) in\n",
      "/home/computertreker/git/qiskit/qiskit-tutorial/foo/lib/python3.8/site-packages/qiskit/aqua/operators/state_fns/dict_state_fn.py:207: DeprecationWarning: The Python built-in `round` is deprecated for complex scalars, and will raise a `TypeError` in a future release. Use `np.round` or `scalar.round` instead.\n",
      "  return round(sum([v * front.primitive.get(b, 0) for (b, v) in\n",
      "/home/computertreker/git/qiskit/qiskit-tutorial/foo/lib/python3.8/site-packages/qiskit/aqua/operators/state_fns/dict_state_fn.py:207: DeprecationWarning: The Python built-in `round` is deprecated for complex scalars, and will raise a `TypeError` in a future release. Use `np.round` or `scalar.round` instead.\n",
      "  return round(sum([v * front.primitive.get(b, 0) for (b, v) in\n",
      "/home/computertreker/git/qiskit/qiskit-tutorial/foo/lib/python3.8/site-packages/qiskit/aqua/operators/state_fns/dict_state_fn.py:207: DeprecationWarning: The Python built-in `round` is deprecated for complex scalars, and will raise a `TypeError` in a future release. Use `np.round` or `scalar.round` instead.\n",
      "  return round(sum([v * front.primitive.get(b, 0) for (b, v) in\n",
      "/home/computertreker/git/qiskit/qiskit-tutorial/foo/lib/python3.8/site-packages/qiskit/aqua/operators/state_fns/dict_state_fn.py:207: DeprecationWarning: The Python built-in `round` is deprecated for complex scalars, and will raise a `TypeError` in a future release. Use `np.round` or `scalar.round` instead.\n",
      "  return round(sum([v * front.primitive.get(b, 0) for (b, v) in\n",
      "/home/computertreker/git/qiskit/qiskit-tutorial/foo/lib/python3.8/site-packages/qiskit/aqua/operators/state_fns/dict_state_fn.py:207: DeprecationWarning: The Python built-in `round` is deprecated for complex scalars, and will raise a `TypeError` in a future release. Use `np.round` or `scalar.round` instead.\n",
      "  return round(sum([v * front.primitive.get(b, 0) for (b, v) in\n",
      "/home/computertreker/git/qiskit/qiskit-tutorial/foo/lib/python3.8/site-packages/qiskit/aqua/operators/state_fns/dict_state_fn.py:207: DeprecationWarning: The Python built-in `round` is deprecated for complex scalars, and will raise a `TypeError` in a future release. Use `np.round` or `scalar.round` instead.\n",
      "  return round(sum([v * front.primitive.get(b, 0) for (b, v) in\n",
      "/home/computertreker/git/qiskit/qiskit-tutorial/foo/lib/python3.8/site-packages/qiskit/aqua/operators/state_fns/dict_state_fn.py:207: DeprecationWarning: The Python built-in `round` is deprecated for complex scalars, and will raise a `TypeError` in a future release. Use `np.round` or `scalar.round` instead.\n",
      "  return round(sum([v * front.primitive.get(b, 0) for (b, v) in\n",
      "/home/computertreker/git/qiskit/qiskit-tutorial/foo/lib/python3.8/site-packages/qiskit/aqua/operators/state_fns/dict_state_fn.py:207: DeprecationWarning: The Python built-in `round` is deprecated for complex scalars, and will raise a `TypeError` in a future release. Use `np.round` or `scalar.round` instead.\n",
      "  return round(sum([v * front.primitive.get(b, 0) for (b, v) in\n",
      "/home/computertreker/git/qiskit/qiskit-tutorial/foo/lib/python3.8/site-packages/qiskit/aqua/operators/state_fns/dict_state_fn.py:207: DeprecationWarning: The Python built-in `round` is deprecated for complex scalars, and will raise a `TypeError` in a future release. Use `np.round` or `scalar.round` instead.\n",
      "  return round(sum([v * front.primitive.get(b, 0) for (b, v) in\n",
      "/home/computertreker/git/qiskit/qiskit-tutorial/foo/lib/python3.8/site-packages/qiskit/aqua/operators/state_fns/dict_state_fn.py:207: DeprecationWarning: The Python built-in `round` is deprecated for complex scalars, and will raise a `TypeError` in a future release. Use `np.round` or `scalar.round` instead.\n",
      "  return round(sum([v * front.primitive.get(b, 0) for (b, v) in\n",
      "/home/computertreker/git/qiskit/qiskit-tutorial/foo/lib/python3.8/site-packages/qiskit/aqua/operators/state_fns/dict_state_fn.py:207: DeprecationWarning: The Python built-in `round` is deprecated for complex scalars, and will raise a `TypeError` in a future release. Use `np.round` or `scalar.round` instead.\n",
      "  return round(sum([v * front.primitive.get(b, 0) for (b, v) in\n",
      "/home/computertreker/git/qiskit/qiskit-tutorial/foo/lib/python3.8/site-packages/qiskit/aqua/operators/state_fns/dict_state_fn.py:207: DeprecationWarning: The Python built-in `round` is deprecated for complex scalars, and will raise a `TypeError` in a future release. Use `np.round` or `scalar.round` instead.\n",
      "  return round(sum([v * front.primitive.get(b, 0) for (b, v) in\n",
      "/home/computertreker/git/qiskit/qiskit-tutorial/foo/lib/python3.8/site-packages/qiskit/aqua/operators/state_fns/dict_state_fn.py:207: DeprecationWarning: The Python built-in `round` is deprecated for complex scalars, and will raise a `TypeError` in a future release. Use `np.round` or `scalar.round` instead.\n",
      "  return round(sum([v * front.primitive.get(b, 0) for (b, v) in\n",
      "/home/computertreker/git/qiskit/qiskit-tutorial/foo/lib/python3.8/site-packages/qiskit/aqua/operators/state_fns/dict_state_fn.py:207: DeprecationWarning: The Python built-in `round` is deprecated for complex scalars, and will raise a `TypeError` in a future release. Use `np.round` or `scalar.round` instead.\n",
      "  return round(sum([v * front.primitive.get(b, 0) for (b, v) in\n",
      "/home/computertreker/git/qiskit/qiskit-tutorial/foo/lib/python3.8/site-packages/qiskit/aqua/operators/state_fns/dict_state_fn.py:207: DeprecationWarning: The Python built-in `round` is deprecated for complex scalars, and will raise a `TypeError` in a future release. Use `np.round` or `scalar.round` instead.\n",
      "  return round(sum([v * front.primitive.get(b, 0) for (b, v) in\n"
     ]
    },
    {
     "name": "stderr",
     "output_type": "stream",
     "text": [
      "/home/computertreker/git/qiskit/qiskit-tutorial/foo/lib/python3.8/site-packages/qiskit/aqua/operators/state_fns/dict_state_fn.py:207: DeprecationWarning: The Python built-in `round` is deprecated for complex scalars, and will raise a `TypeError` in a future release. Use `np.round` or `scalar.round` instead.\n",
      "  return round(sum([v * front.primitive.get(b, 0) for (b, v) in\n",
      "/home/computertreker/git/qiskit/qiskit-tutorial/foo/lib/python3.8/site-packages/qiskit/aqua/operators/state_fns/dict_state_fn.py:207: DeprecationWarning: The Python built-in `round` is deprecated for complex scalars, and will raise a `TypeError` in a future release. Use `np.round` or `scalar.round` instead.\n",
      "  return round(sum([v * front.primitive.get(b, 0) for (b, v) in\n",
      "/home/computertreker/git/qiskit/qiskit-tutorial/foo/lib/python3.8/site-packages/qiskit/aqua/operators/state_fns/dict_state_fn.py:207: DeprecationWarning: The Python built-in `round` is deprecated for complex scalars, and will raise a `TypeError` in a future release. Use `np.round` or `scalar.round` instead.\n",
      "  return round(sum([v * front.primitive.get(b, 0) for (b, v) in\n",
      "/home/computertreker/git/qiskit/qiskit-tutorial/foo/lib/python3.8/site-packages/qiskit/aqua/operators/state_fns/dict_state_fn.py:207: DeprecationWarning: The Python built-in `round` is deprecated for complex scalars, and will raise a `TypeError` in a future release. Use `np.round` or `scalar.round` instead.\n",
      "  return round(sum([v * front.primitive.get(b, 0) for (b, v) in\n",
      "/home/computertreker/git/qiskit/qiskit-tutorial/foo/lib/python3.8/site-packages/qiskit/aqua/operators/state_fns/dict_state_fn.py:207: DeprecationWarning: The Python built-in `round` is deprecated for complex scalars, and will raise a `TypeError` in a future release. Use `np.round` or `scalar.round` instead.\n",
      "  return round(sum([v * front.primitive.get(b, 0) for (b, v) in\n",
      "/home/computertreker/git/qiskit/qiskit-tutorial/foo/lib/python3.8/site-packages/qiskit/aqua/operators/state_fns/dict_state_fn.py:207: DeprecationWarning: The Python built-in `round` is deprecated for complex scalars, and will raise a `TypeError` in a future release. Use `np.round` or `scalar.round` instead.\n",
      "  return round(sum([v * front.primitive.get(b, 0) for (b, v) in\n",
      "/home/computertreker/git/qiskit/qiskit-tutorial/foo/lib/python3.8/site-packages/qiskit/aqua/operators/state_fns/dict_state_fn.py:207: DeprecationWarning: The Python built-in `round` is deprecated for complex scalars, and will raise a `TypeError` in a future release. Use `np.round` or `scalar.round` instead.\n",
      "  return round(sum([v * front.primitive.get(b, 0) for (b, v) in\n",
      "/home/computertreker/git/qiskit/qiskit-tutorial/foo/lib/python3.8/site-packages/qiskit/aqua/operators/state_fns/dict_state_fn.py:207: DeprecationWarning: The Python built-in `round` is deprecated for complex scalars, and will raise a `TypeError` in a future release. Use `np.round` or `scalar.round` instead.\n",
      "  return round(sum([v * front.primitive.get(b, 0) for (b, v) in\n",
      "/home/computertreker/git/qiskit/qiskit-tutorial/foo/lib/python3.8/site-packages/qiskit/aqua/operators/state_fns/dict_state_fn.py:207: DeprecationWarning: The Python built-in `round` is deprecated for complex scalars, and will raise a `TypeError` in a future release. Use `np.round` or `scalar.round` instead.\n",
      "  return round(sum([v * front.primitive.get(b, 0) for (b, v) in\n",
      "/home/computertreker/git/qiskit/qiskit-tutorial/foo/lib/python3.8/site-packages/qiskit/aqua/operators/state_fns/dict_state_fn.py:207: DeprecationWarning: The Python built-in `round` is deprecated for complex scalars, and will raise a `TypeError` in a future release. Use `np.round` or `scalar.round` instead.\n",
      "  return round(sum([v * front.primitive.get(b, 0) for (b, v) in\n",
      "/home/computertreker/git/qiskit/qiskit-tutorial/foo/lib/python3.8/site-packages/qiskit/aqua/operators/state_fns/dict_state_fn.py:207: DeprecationWarning: The Python built-in `round` is deprecated for complex scalars, and will raise a `TypeError` in a future release. Use `np.round` or `scalar.round` instead.\n",
      "  return round(sum([v * front.primitive.get(b, 0) for (b, v) in\n",
      "/home/computertreker/git/qiskit/qiskit-tutorial/foo/lib/python3.8/site-packages/qiskit/aqua/operators/state_fns/dict_state_fn.py:207: DeprecationWarning: The Python built-in `round` is deprecated for complex scalars, and will raise a `TypeError` in a future release. Use `np.round` or `scalar.round` instead.\n",
      "  return round(sum([v * front.primitive.get(b, 0) for (b, v) in\n",
      "/home/computertreker/git/qiskit/qiskit-tutorial/foo/lib/python3.8/site-packages/qiskit/aqua/operators/state_fns/dict_state_fn.py:207: DeprecationWarning: The Python built-in `round` is deprecated for complex scalars, and will raise a `TypeError` in a future release. Use `np.round` or `scalar.round` instead.\n",
      "  return round(sum([v * front.primitive.get(b, 0) for (b, v) in\n",
      "/home/computertreker/git/qiskit/qiskit-tutorial/foo/lib/python3.8/site-packages/qiskit/aqua/operators/state_fns/dict_state_fn.py:207: DeprecationWarning: The Python built-in `round` is deprecated for complex scalars, and will raise a `TypeError` in a future release. Use `np.round` or `scalar.round` instead.\n",
      "  return round(sum([v * front.primitive.get(b, 0) for (b, v) in\n",
      "/home/computertreker/git/qiskit/qiskit-tutorial/foo/lib/python3.8/site-packages/qiskit/aqua/operators/state_fns/dict_state_fn.py:207: DeprecationWarning: The Python built-in `round` is deprecated for complex scalars, and will raise a `TypeError` in a future release. Use `np.round` or `scalar.round` instead.\n",
      "  return round(sum([v * front.primitive.get(b, 0) for (b, v) in\n",
      "/home/computertreker/git/qiskit/qiskit-tutorial/foo/lib/python3.8/site-packages/qiskit/aqua/operators/state_fns/dict_state_fn.py:207: DeprecationWarning: The Python built-in `round` is deprecated for complex scalars, and will raise a `TypeError` in a future release. Use `np.round` or `scalar.round` instead.\n",
      "  return round(sum([v * front.primitive.get(b, 0) for (b, v) in\n",
      "/home/computertreker/git/qiskit/qiskit-tutorial/foo/lib/python3.8/site-packages/qiskit/aqua/operators/state_fns/dict_state_fn.py:207: DeprecationWarning: The Python built-in `round` is deprecated for complex scalars, and will raise a `TypeError` in a future release. Use `np.round` or `scalar.round` instead.\n",
      "  return round(sum([v * front.primitive.get(b, 0) for (b, v) in\n",
      "/home/computertreker/git/qiskit/qiskit-tutorial/foo/lib/python3.8/site-packages/qiskit/aqua/operators/state_fns/dict_state_fn.py:207: DeprecationWarning: The Python built-in `round` is deprecated for complex scalars, and will raise a `TypeError` in a future release. Use `np.round` or `scalar.round` instead.\n",
      "  return round(sum([v * front.primitive.get(b, 0) for (b, v) in\n",
      "/home/computertreker/git/qiskit/qiskit-tutorial/foo/lib/python3.8/site-packages/qiskit/aqua/operators/state_fns/dict_state_fn.py:207: DeprecationWarning: The Python built-in `round` is deprecated for complex scalars, and will raise a `TypeError` in a future release. Use `np.round` or `scalar.round` instead.\n",
      "  return round(sum([v * front.primitive.get(b, 0) for (b, v) in\n",
      "/home/computertreker/git/qiskit/qiskit-tutorial/foo/lib/python3.8/site-packages/qiskit/aqua/operators/state_fns/dict_state_fn.py:207: DeprecationWarning: The Python built-in `round` is deprecated for complex scalars, and will raise a `TypeError` in a future release. Use `np.round` or `scalar.round` instead.\n",
      "  return round(sum([v * front.primitive.get(b, 0) for (b, v) in\n",
      "/home/computertreker/git/qiskit/qiskit-tutorial/foo/lib/python3.8/site-packages/qiskit/aqua/operators/state_fns/dict_state_fn.py:207: DeprecationWarning: The Python built-in `round` is deprecated for complex scalars, and will raise a `TypeError` in a future release. Use `np.round` or `scalar.round` instead.\n",
      "  return round(sum([v * front.primitive.get(b, 0) for (b, v) in\n",
      "/home/computertreker/git/qiskit/qiskit-tutorial/foo/lib/python3.8/site-packages/qiskit/aqua/operators/state_fns/dict_state_fn.py:207: DeprecationWarning: The Python built-in `round` is deprecated for complex scalars, and will raise a `TypeError` in a future release. Use `np.round` or `scalar.round` instead.\n",
      "  return round(sum([v * front.primitive.get(b, 0) for (b, v) in\n",
      "/home/computertreker/git/qiskit/qiskit-tutorial/foo/lib/python3.8/site-packages/qiskit/aqua/operators/state_fns/dict_state_fn.py:207: DeprecationWarning: The Python built-in `round` is deprecated for complex scalars, and will raise a `TypeError` in a future release. Use `np.round` or `scalar.round` instead.\n",
      "  return round(sum([v * front.primitive.get(b, 0) for (b, v) in\n",
      "/home/computertreker/git/qiskit/qiskit-tutorial/foo/lib/python3.8/site-packages/qiskit/aqua/operators/state_fns/dict_state_fn.py:207: DeprecationWarning: The Python built-in `round` is deprecated for complex scalars, and will raise a `TypeError` in a future release. Use `np.round` or `scalar.round` instead.\n",
      "  return round(sum([v * front.primitive.get(b, 0) for (b, v) in\n",
      "/home/computertreker/git/qiskit/qiskit-tutorial/foo/lib/python3.8/site-packages/qiskit/aqua/operators/state_fns/dict_state_fn.py:207: DeprecationWarning: The Python built-in `round` is deprecated for complex scalars, and will raise a `TypeError` in a future release. Use `np.round` or `scalar.round` instead.\n",
      "  return round(sum([v * front.primitive.get(b, 0) for (b, v) in\n"
     ]
    },
    {
     "name": "stderr",
     "output_type": "stream",
     "text": [
      "/home/computertreker/git/qiskit/qiskit-tutorial/foo/lib/python3.8/site-packages/qiskit/aqua/operators/state_fns/dict_state_fn.py:207: DeprecationWarning: The Python built-in `round` is deprecated for complex scalars, and will raise a `TypeError` in a future release. Use `np.round` or `scalar.round` instead.\n",
      "  return round(sum([v * front.primitive.get(b, 0) for (b, v) in\n",
      "/home/computertreker/git/qiskit/qiskit-tutorial/foo/lib/python3.8/site-packages/qiskit/aqua/operators/state_fns/dict_state_fn.py:207: DeprecationWarning: The Python built-in `round` is deprecated for complex scalars, and will raise a `TypeError` in a future release. Use `np.round` or `scalar.round` instead.\n",
      "  return round(sum([v * front.primitive.get(b, 0) for (b, v) in\n",
      "/home/computertreker/git/qiskit/qiskit-tutorial/foo/lib/python3.8/site-packages/qiskit/aqua/operators/state_fns/dict_state_fn.py:207: DeprecationWarning: The Python built-in `round` is deprecated for complex scalars, and will raise a `TypeError` in a future release. Use `np.round` or `scalar.round` instead.\n",
      "  return round(sum([v * front.primitive.get(b, 0) for (b, v) in\n",
      "/home/computertreker/git/qiskit/qiskit-tutorial/foo/lib/python3.8/site-packages/qiskit/aqua/operators/state_fns/dict_state_fn.py:207: DeprecationWarning: The Python built-in `round` is deprecated for complex scalars, and will raise a `TypeError` in a future release. Use `np.round` or `scalar.round` instead.\n",
      "  return round(sum([v * front.primitive.get(b, 0) for (b, v) in\n",
      "/home/computertreker/git/qiskit/qiskit-tutorial/foo/lib/python3.8/site-packages/qiskit/aqua/operators/state_fns/dict_state_fn.py:207: DeprecationWarning: The Python built-in `round` is deprecated for complex scalars, and will raise a `TypeError` in a future release. Use `np.round` or `scalar.round` instead.\n",
      "  return round(sum([v * front.primitive.get(b, 0) for (b, v) in\n",
      "/home/computertreker/git/qiskit/qiskit-tutorial/foo/lib/python3.8/site-packages/qiskit/aqua/operators/state_fns/dict_state_fn.py:207: DeprecationWarning: The Python built-in `round` is deprecated for complex scalars, and will raise a `TypeError` in a future release. Use `np.round` or `scalar.round` instead.\n",
      "  return round(sum([v * front.primitive.get(b, 0) for (b, v) in\n",
      "/home/computertreker/git/qiskit/qiskit-tutorial/foo/lib/python3.8/site-packages/qiskit/aqua/operators/state_fns/dict_state_fn.py:207: DeprecationWarning: The Python built-in `round` is deprecated for complex scalars, and will raise a `TypeError` in a future release. Use `np.round` or `scalar.round` instead.\n",
      "  return round(sum([v * front.primitive.get(b, 0) for (b, v) in\n",
      "/home/computertreker/git/qiskit/qiskit-tutorial/foo/lib/python3.8/site-packages/qiskit/aqua/operators/state_fns/dict_state_fn.py:207: DeprecationWarning: The Python built-in `round` is deprecated for complex scalars, and will raise a `TypeError` in a future release. Use `np.round` or `scalar.round` instead.\n",
      "  return round(sum([v * front.primitive.get(b, 0) for (b, v) in\n",
      "/home/computertreker/git/qiskit/qiskit-tutorial/foo/lib/python3.8/site-packages/qiskit/aqua/operators/state_fns/dict_state_fn.py:207: DeprecationWarning: The Python built-in `round` is deprecated for complex scalars, and will raise a `TypeError` in a future release. Use `np.round` or `scalar.round` instead.\n",
      "  return round(sum([v * front.primitive.get(b, 0) for (b, v) in\n",
      "/home/computertreker/git/qiskit/qiskit-tutorial/foo/lib/python3.8/site-packages/qiskit/aqua/operators/state_fns/dict_state_fn.py:207: DeprecationWarning: The Python built-in `round` is deprecated for complex scalars, and will raise a `TypeError` in a future release. Use `np.round` or `scalar.round` instead.\n",
      "  return round(sum([v * front.primitive.get(b, 0) for (b, v) in\n",
      "/home/computertreker/git/qiskit/qiskit-tutorial/foo/lib/python3.8/site-packages/qiskit/aqua/operators/state_fns/dict_state_fn.py:207: DeprecationWarning: The Python built-in `round` is deprecated for complex scalars, and will raise a `TypeError` in a future release. Use `np.round` or `scalar.round` instead.\n",
      "  return round(sum([v * front.primitive.get(b, 0) for (b, v) in\n",
      "/home/computertreker/git/qiskit/qiskit-tutorial/foo/lib/python3.8/site-packages/qiskit/aqua/operators/state_fns/dict_state_fn.py:207: DeprecationWarning: The Python built-in `round` is deprecated for complex scalars, and will raise a `TypeError` in a future release. Use `np.round` or `scalar.round` instead.\n",
      "  return round(sum([v * front.primitive.get(b, 0) for (b, v) in\n",
      "/home/computertreker/git/qiskit/qiskit-tutorial/foo/lib/python3.8/site-packages/qiskit/aqua/operators/state_fns/dict_state_fn.py:207: DeprecationWarning: The Python built-in `round` is deprecated for complex scalars, and will raise a `TypeError` in a future release. Use `np.round` or `scalar.round` instead.\n",
      "  return round(sum([v * front.primitive.get(b, 0) for (b, v) in\n",
      "/home/computertreker/git/qiskit/qiskit-tutorial/foo/lib/python3.8/site-packages/qiskit/aqua/operators/state_fns/dict_state_fn.py:207: DeprecationWarning: The Python built-in `round` is deprecated for complex scalars, and will raise a `TypeError` in a future release. Use `np.round` or `scalar.round` instead.\n",
      "  return round(sum([v * front.primitive.get(b, 0) for (b, v) in\n",
      "/home/computertreker/git/qiskit/qiskit-tutorial/foo/lib/python3.8/site-packages/qiskit/aqua/operators/state_fns/dict_state_fn.py:207: DeprecationWarning: The Python built-in `round` is deprecated for complex scalars, and will raise a `TypeError` in a future release. Use `np.round` or `scalar.round` instead.\n",
      "  return round(sum([v * front.primitive.get(b, 0) for (b, v) in\n",
      "/home/computertreker/git/qiskit/qiskit-tutorial/foo/lib/python3.8/site-packages/qiskit/aqua/operators/state_fns/dict_state_fn.py:207: DeprecationWarning: The Python built-in `round` is deprecated for complex scalars, and will raise a `TypeError` in a future release. Use `np.round` or `scalar.round` instead.\n",
      "  return round(sum([v * front.primitive.get(b, 0) for (b, v) in\n",
      "/home/computertreker/git/qiskit/qiskit-tutorial/foo/lib/python3.8/site-packages/qiskit/aqua/operators/state_fns/dict_state_fn.py:207: DeprecationWarning: The Python built-in `round` is deprecated for complex scalars, and will raise a `TypeError` in a future release. Use `np.round` or `scalar.round` instead.\n",
      "  return round(sum([v * front.primitive.get(b, 0) for (b, v) in\n",
      "/home/computertreker/git/qiskit/qiskit-tutorial/foo/lib/python3.8/site-packages/qiskit/aqua/operators/state_fns/dict_state_fn.py:207: DeprecationWarning: The Python built-in `round` is deprecated for complex scalars, and will raise a `TypeError` in a future release. Use `np.round` or `scalar.round` instead.\n",
      "  return round(sum([v * front.primitive.get(b, 0) for (b, v) in\n",
      "/home/computertreker/git/qiskit/qiskit-tutorial/foo/lib/python3.8/site-packages/qiskit/aqua/operators/state_fns/dict_state_fn.py:207: DeprecationWarning: The Python built-in `round` is deprecated for complex scalars, and will raise a `TypeError` in a future release. Use `np.round` or `scalar.round` instead.\n",
      "  return round(sum([v * front.primitive.get(b, 0) for (b, v) in\n",
      "/home/computertreker/git/qiskit/qiskit-tutorial/foo/lib/python3.8/site-packages/qiskit/aqua/operators/state_fns/dict_state_fn.py:207: DeprecationWarning: The Python built-in `round` is deprecated for complex scalars, and will raise a `TypeError` in a future release. Use `np.round` or `scalar.round` instead.\n",
      "  return round(sum([v * front.primitive.get(b, 0) for (b, v) in\n",
      "/home/computertreker/git/qiskit/qiskit-tutorial/foo/lib/python3.8/site-packages/qiskit/aqua/operators/state_fns/dict_state_fn.py:207: DeprecationWarning: The Python built-in `round` is deprecated for complex scalars, and will raise a `TypeError` in a future release. Use `np.round` or `scalar.round` instead.\n",
      "  return round(sum([v * front.primitive.get(b, 0) for (b, v) in\n",
      "/home/computertreker/git/qiskit/qiskit-tutorial/foo/lib/python3.8/site-packages/qiskit/aqua/operators/state_fns/dict_state_fn.py:207: DeprecationWarning: The Python built-in `round` is deprecated for complex scalars, and will raise a `TypeError` in a future release. Use `np.round` or `scalar.round` instead.\n",
      "  return round(sum([v * front.primitive.get(b, 0) for (b, v) in\n",
      "/home/computertreker/git/qiskit/qiskit-tutorial/foo/lib/python3.8/site-packages/qiskit/aqua/operators/state_fns/dict_state_fn.py:207: DeprecationWarning: The Python built-in `round` is deprecated for complex scalars, and will raise a `TypeError` in a future release. Use `np.round` or `scalar.round` instead.\n",
      "  return round(sum([v * front.primitive.get(b, 0) for (b, v) in\n",
      "/home/computertreker/git/qiskit/qiskit-tutorial/foo/lib/python3.8/site-packages/qiskit/aqua/operators/state_fns/dict_state_fn.py:207: DeprecationWarning: The Python built-in `round` is deprecated for complex scalars, and will raise a `TypeError` in a future release. Use `np.round` or `scalar.round` instead.\n",
      "  return round(sum([v * front.primitive.get(b, 0) for (b, v) in\n",
      "/home/computertreker/git/qiskit/qiskit-tutorial/foo/lib/python3.8/site-packages/qiskit/aqua/operators/state_fns/dict_state_fn.py:207: DeprecationWarning: The Python built-in `round` is deprecated for complex scalars, and will raise a `TypeError` in a future release. Use `np.round` or `scalar.round` instead.\n",
      "  return round(sum([v * front.primitive.get(b, 0) for (b, v) in\n"
     ]
    },
    {
     "name": "stderr",
     "output_type": "stream",
     "text": [
      "/home/computertreker/git/qiskit/qiskit-tutorial/foo/lib/python3.8/site-packages/qiskit/aqua/operators/state_fns/dict_state_fn.py:207: DeprecationWarning: The Python built-in `round` is deprecated for complex scalars, and will raise a `TypeError` in a future release. Use `np.round` or `scalar.round` instead.\n",
      "  return round(sum([v * front.primitive.get(b, 0) for (b, v) in\n",
      "/home/computertreker/git/qiskit/qiskit-tutorial/foo/lib/python3.8/site-packages/qiskit/aqua/operators/state_fns/dict_state_fn.py:207: DeprecationWarning: The Python built-in `round` is deprecated for complex scalars, and will raise a `TypeError` in a future release. Use `np.round` or `scalar.round` instead.\n",
      "  return round(sum([v * front.primitive.get(b, 0) for (b, v) in\n",
      "/home/computertreker/git/qiskit/qiskit-tutorial/foo/lib/python3.8/site-packages/qiskit/aqua/operators/state_fns/dict_state_fn.py:207: DeprecationWarning: The Python built-in `round` is deprecated for complex scalars, and will raise a `TypeError` in a future release. Use `np.round` or `scalar.round` instead.\n",
      "  return round(sum([v * front.primitive.get(b, 0) for (b, v) in\n",
      "/home/computertreker/git/qiskit/qiskit-tutorial/foo/lib/python3.8/site-packages/qiskit/aqua/operators/state_fns/dict_state_fn.py:207: DeprecationWarning: The Python built-in `round` is deprecated for complex scalars, and will raise a `TypeError` in a future release. Use `np.round` or `scalar.round` instead.\n",
      "  return round(sum([v * front.primitive.get(b, 0) for (b, v) in\n",
      "/home/computertreker/git/qiskit/qiskit-tutorial/foo/lib/python3.8/site-packages/qiskit/aqua/operators/state_fns/dict_state_fn.py:207: DeprecationWarning: The Python built-in `round` is deprecated for complex scalars, and will raise a `TypeError` in a future release. Use `np.round` or `scalar.round` instead.\n",
      "  return round(sum([v * front.primitive.get(b, 0) for (b, v) in\n",
      "/home/computertreker/git/qiskit/qiskit-tutorial/foo/lib/python3.8/site-packages/qiskit/aqua/operators/state_fns/dict_state_fn.py:207: DeprecationWarning: The Python built-in `round` is deprecated for complex scalars, and will raise a `TypeError` in a future release. Use `np.round` or `scalar.round` instead.\n",
      "  return round(sum([v * front.primitive.get(b, 0) for (b, v) in\n",
      "/home/computertreker/git/qiskit/qiskit-tutorial/foo/lib/python3.8/site-packages/qiskit/aqua/operators/state_fns/dict_state_fn.py:207: DeprecationWarning: The Python built-in `round` is deprecated for complex scalars, and will raise a `TypeError` in a future release. Use `np.round` or `scalar.round` instead.\n",
      "  return round(sum([v * front.primitive.get(b, 0) for (b, v) in\n",
      "/home/computertreker/git/qiskit/qiskit-tutorial/foo/lib/python3.8/site-packages/qiskit/aqua/operators/state_fns/dict_state_fn.py:207: DeprecationWarning: The Python built-in `round` is deprecated for complex scalars, and will raise a `TypeError` in a future release. Use `np.round` or `scalar.round` instead.\n",
      "  return round(sum([v * front.primitive.get(b, 0) for (b, v) in\n",
      "/home/computertreker/git/qiskit/qiskit-tutorial/foo/lib/python3.8/site-packages/qiskit/aqua/operators/state_fns/dict_state_fn.py:207: DeprecationWarning: The Python built-in `round` is deprecated for complex scalars, and will raise a `TypeError` in a future release. Use `np.round` or `scalar.round` instead.\n",
      "  return round(sum([v * front.primitive.get(b, 0) for (b, v) in\n",
      "/home/computertreker/git/qiskit/qiskit-tutorial/foo/lib/python3.8/site-packages/qiskit/aqua/operators/state_fns/dict_state_fn.py:207: DeprecationWarning: The Python built-in `round` is deprecated for complex scalars, and will raise a `TypeError` in a future release. Use `np.round` or `scalar.round` instead.\n",
      "  return round(sum([v * front.primitive.get(b, 0) for (b, v) in\n",
      "/home/computertreker/git/qiskit/qiskit-tutorial/foo/lib/python3.8/site-packages/qiskit/aqua/operators/state_fns/dict_state_fn.py:207: DeprecationWarning: The Python built-in `round` is deprecated for complex scalars, and will raise a `TypeError` in a future release. Use `np.round` or `scalar.round` instead.\n",
      "  return round(sum([v * front.primitive.get(b, 0) for (b, v) in\n",
      "/home/computertreker/git/qiskit/qiskit-tutorial/foo/lib/python3.8/site-packages/qiskit/aqua/operators/state_fns/dict_state_fn.py:207: DeprecationWarning: The Python built-in `round` is deprecated for complex scalars, and will raise a `TypeError` in a future release. Use `np.round` or `scalar.round` instead.\n",
      "  return round(sum([v * front.primitive.get(b, 0) for (b, v) in\n",
      "/home/computertreker/git/qiskit/qiskit-tutorial/foo/lib/python3.8/site-packages/qiskit/aqua/operators/state_fns/dict_state_fn.py:207: DeprecationWarning: The Python built-in `round` is deprecated for complex scalars, and will raise a `TypeError` in a future release. Use `np.round` or `scalar.round` instead.\n",
      "  return round(sum([v * front.primitive.get(b, 0) for (b, v) in\n",
      "/home/computertreker/git/qiskit/qiskit-tutorial/foo/lib/python3.8/site-packages/qiskit/aqua/operators/state_fns/dict_state_fn.py:207: DeprecationWarning: The Python built-in `round` is deprecated for complex scalars, and will raise a `TypeError` in a future release. Use `np.round` or `scalar.round` instead.\n",
      "  return round(sum([v * front.primitive.get(b, 0) for (b, v) in\n",
      "/home/computertreker/git/qiskit/qiskit-tutorial/foo/lib/python3.8/site-packages/qiskit/aqua/operators/state_fns/dict_state_fn.py:207: DeprecationWarning: The Python built-in `round` is deprecated for complex scalars, and will raise a `TypeError` in a future release. Use `np.round` or `scalar.round` instead.\n",
      "  return round(sum([v * front.primitive.get(b, 0) for (b, v) in\n",
      "/home/computertreker/git/qiskit/qiskit-tutorial/foo/lib/python3.8/site-packages/qiskit/aqua/operators/state_fns/dict_state_fn.py:207: DeprecationWarning: The Python built-in `round` is deprecated for complex scalars, and will raise a `TypeError` in a future release. Use `np.round` or `scalar.round` instead.\n",
      "  return round(sum([v * front.primitive.get(b, 0) for (b, v) in\n",
      "/home/computertreker/git/qiskit/qiskit-tutorial/foo/lib/python3.8/site-packages/qiskit/aqua/operators/state_fns/dict_state_fn.py:207: DeprecationWarning: The Python built-in `round` is deprecated for complex scalars, and will raise a `TypeError` in a future release. Use `np.round` or `scalar.round` instead.\n",
      "  return round(sum([v * front.primitive.get(b, 0) for (b, v) in\n",
      "/home/computertreker/git/qiskit/qiskit-tutorial/foo/lib/python3.8/site-packages/qiskit/aqua/operators/state_fns/dict_state_fn.py:207: DeprecationWarning: The Python built-in `round` is deprecated for complex scalars, and will raise a `TypeError` in a future release. Use `np.round` or `scalar.round` instead.\n",
      "  return round(sum([v * front.primitive.get(b, 0) for (b, v) in\n",
      "/home/computertreker/git/qiskit/qiskit-tutorial/foo/lib/python3.8/site-packages/qiskit/aqua/operators/state_fns/dict_state_fn.py:207: DeprecationWarning: The Python built-in `round` is deprecated for complex scalars, and will raise a `TypeError` in a future release. Use `np.round` or `scalar.round` instead.\n",
      "  return round(sum([v * front.primitive.get(b, 0) for (b, v) in\n",
      "/home/computertreker/git/qiskit/qiskit-tutorial/foo/lib/python3.8/site-packages/qiskit/aqua/operators/state_fns/dict_state_fn.py:207: DeprecationWarning: The Python built-in `round` is deprecated for complex scalars, and will raise a `TypeError` in a future release. Use `np.round` or `scalar.round` instead.\n",
      "  return round(sum([v * front.primitive.get(b, 0) for (b, v) in\n",
      "/home/computertreker/git/qiskit/qiskit-tutorial/foo/lib/python3.8/site-packages/qiskit/aqua/operators/state_fns/dict_state_fn.py:207: DeprecationWarning: The Python built-in `round` is deprecated for complex scalars, and will raise a `TypeError` in a future release. Use `np.round` or `scalar.round` instead.\n",
      "  return round(sum([v * front.primitive.get(b, 0) for (b, v) in\n",
      "/home/computertreker/git/qiskit/qiskit-tutorial/foo/lib/python3.8/site-packages/qiskit/aqua/operators/state_fns/dict_state_fn.py:207: DeprecationWarning: The Python built-in `round` is deprecated for complex scalars, and will raise a `TypeError` in a future release. Use `np.round` or `scalar.round` instead.\n",
      "  return round(sum([v * front.primitive.get(b, 0) for (b, v) in\n",
      "/home/computertreker/git/qiskit/qiskit-tutorial/foo/lib/python3.8/site-packages/qiskit/aqua/operators/state_fns/dict_state_fn.py:207: DeprecationWarning: The Python built-in `round` is deprecated for complex scalars, and will raise a `TypeError` in a future release. Use `np.round` or `scalar.round` instead.\n",
      "  return round(sum([v * front.primitive.get(b, 0) for (b, v) in\n",
      "/home/computertreker/git/qiskit/qiskit-tutorial/foo/lib/python3.8/site-packages/qiskit/aqua/operators/state_fns/dict_state_fn.py:207: DeprecationWarning: The Python built-in `round` is deprecated for complex scalars, and will raise a `TypeError` in a future release. Use `np.round` or `scalar.round` instead.\n",
      "  return round(sum([v * front.primitive.get(b, 0) for (b, v) in\n",
      "/home/computertreker/git/qiskit/qiskit-tutorial/foo/lib/python3.8/site-packages/qiskit/aqua/operators/state_fns/dict_state_fn.py:207: DeprecationWarning: The Python built-in `round` is deprecated for complex scalars, and will raise a `TypeError` in a future release. Use `np.round` or `scalar.round` instead.\n",
      "  return round(sum([v * front.primitive.get(b, 0) for (b, v) in\n"
     ]
    },
    {
     "name": "stderr",
     "output_type": "stream",
     "text": [
      "/home/computertreker/git/qiskit/qiskit-tutorial/foo/lib/python3.8/site-packages/qiskit/aqua/operators/state_fns/dict_state_fn.py:207: DeprecationWarning: The Python built-in `round` is deprecated for complex scalars, and will raise a `TypeError` in a future release. Use `np.round` or `scalar.round` instead.\n",
      "  return round(sum([v * front.primitive.get(b, 0) for (b, v) in\n",
      "/home/computertreker/git/qiskit/qiskit-tutorial/foo/lib/python3.8/site-packages/qiskit/aqua/operators/state_fns/dict_state_fn.py:207: DeprecationWarning: The Python built-in `round` is deprecated for complex scalars, and will raise a `TypeError` in a future release. Use `np.round` or `scalar.round` instead.\n",
      "  return round(sum([v * front.primitive.get(b, 0) for (b, v) in\n",
      "/home/computertreker/git/qiskit/qiskit-tutorial/foo/lib/python3.8/site-packages/qiskit/aqua/operators/state_fns/dict_state_fn.py:207: DeprecationWarning: The Python built-in `round` is deprecated for complex scalars, and will raise a `TypeError` in a future release. Use `np.round` or `scalar.round` instead.\n",
      "  return round(sum([v * front.primitive.get(b, 0) for (b, v) in\n",
      "/home/computertreker/git/qiskit/qiskit-tutorial/foo/lib/python3.8/site-packages/qiskit/aqua/operators/state_fns/dict_state_fn.py:207: DeprecationWarning: The Python built-in `round` is deprecated for complex scalars, and will raise a `TypeError` in a future release. Use `np.round` or `scalar.round` instead.\n",
      "  return round(sum([v * front.primitive.get(b, 0) for (b, v) in\n",
      "/home/computertreker/git/qiskit/qiskit-tutorial/foo/lib/python3.8/site-packages/qiskit/aqua/operators/state_fns/dict_state_fn.py:207: DeprecationWarning: The Python built-in `round` is deprecated for complex scalars, and will raise a `TypeError` in a future release. Use `np.round` or `scalar.round` instead.\n",
      "  return round(sum([v * front.primitive.get(b, 0) for (b, v) in\n",
      "/home/computertreker/git/qiskit/qiskit-tutorial/foo/lib/python3.8/site-packages/qiskit/aqua/operators/state_fns/dict_state_fn.py:207: DeprecationWarning: The Python built-in `round` is deprecated for complex scalars, and will raise a `TypeError` in a future release. Use `np.round` or `scalar.round` instead.\n",
      "  return round(sum([v * front.primitive.get(b, 0) for (b, v) in\n",
      "/home/computertreker/git/qiskit/qiskit-tutorial/foo/lib/python3.8/site-packages/qiskit/aqua/operators/state_fns/dict_state_fn.py:207: DeprecationWarning: The Python built-in `round` is deprecated for complex scalars, and will raise a `TypeError` in a future release. Use `np.round` or `scalar.round` instead.\n",
      "  return round(sum([v * front.primitive.get(b, 0) for (b, v) in\n",
      "/home/computertreker/git/qiskit/qiskit-tutorial/foo/lib/python3.8/site-packages/qiskit/aqua/operators/state_fns/dict_state_fn.py:207: DeprecationWarning: The Python built-in `round` is deprecated for complex scalars, and will raise a `TypeError` in a future release. Use `np.round` or `scalar.round` instead.\n",
      "  return round(sum([v * front.primitive.get(b, 0) for (b, v) in\n",
      "/home/computertreker/git/qiskit/qiskit-tutorial/foo/lib/python3.8/site-packages/qiskit/aqua/operators/state_fns/dict_state_fn.py:207: DeprecationWarning: The Python built-in `round` is deprecated for complex scalars, and will raise a `TypeError` in a future release. Use `np.round` or `scalar.round` instead.\n",
      "  return round(sum([v * front.primitive.get(b, 0) for (b, v) in\n",
      "/home/computertreker/git/qiskit/qiskit-tutorial/foo/lib/python3.8/site-packages/qiskit/aqua/operators/state_fns/dict_state_fn.py:207: DeprecationWarning: The Python built-in `round` is deprecated for complex scalars, and will raise a `TypeError` in a future release. Use `np.round` or `scalar.round` instead.\n",
      "  return round(sum([v * front.primitive.get(b, 0) for (b, v) in\n",
      "/home/computertreker/git/qiskit/qiskit-tutorial/foo/lib/python3.8/site-packages/qiskit/aqua/operators/state_fns/dict_state_fn.py:207: DeprecationWarning: The Python built-in `round` is deprecated for complex scalars, and will raise a `TypeError` in a future release. Use `np.round` or `scalar.round` instead.\n",
      "  return round(sum([v * front.primitive.get(b, 0) for (b, v) in\n",
      "/home/computertreker/git/qiskit/qiskit-tutorial/foo/lib/python3.8/site-packages/qiskit/aqua/operators/state_fns/dict_state_fn.py:207: DeprecationWarning: The Python built-in `round` is deprecated for complex scalars, and will raise a `TypeError` in a future release. Use `np.round` or `scalar.round` instead.\n",
      "  return round(sum([v * front.primitive.get(b, 0) for (b, v) in\n",
      "/home/computertreker/git/qiskit/qiskit-tutorial/foo/lib/python3.8/site-packages/qiskit/aqua/operators/state_fns/dict_state_fn.py:207: DeprecationWarning: The Python built-in `round` is deprecated for complex scalars, and will raise a `TypeError` in a future release. Use `np.round` or `scalar.round` instead.\n",
      "  return round(sum([v * front.primitive.get(b, 0) for (b, v) in\n",
      "/home/computertreker/git/qiskit/qiskit-tutorial/foo/lib/python3.8/site-packages/qiskit/aqua/operators/state_fns/dict_state_fn.py:207: DeprecationWarning: The Python built-in `round` is deprecated for complex scalars, and will raise a `TypeError` in a future release. Use `np.round` or `scalar.round` instead.\n",
      "  return round(sum([v * front.primitive.get(b, 0) for (b, v) in\n",
      "/home/computertreker/git/qiskit/qiskit-tutorial/foo/lib/python3.8/site-packages/qiskit/aqua/operators/state_fns/dict_state_fn.py:207: DeprecationWarning: The Python built-in `round` is deprecated for complex scalars, and will raise a `TypeError` in a future release. Use `np.round` or `scalar.round` instead.\n",
      "  return round(sum([v * front.primitive.get(b, 0) for (b, v) in\n",
      "/home/computertreker/git/qiskit/qiskit-tutorial/foo/lib/python3.8/site-packages/qiskit/aqua/operators/state_fns/dict_state_fn.py:207: DeprecationWarning: The Python built-in `round` is deprecated for complex scalars, and will raise a `TypeError` in a future release. Use `np.round` or `scalar.round` instead.\n",
      "  return round(sum([v * front.primitive.get(b, 0) for (b, v) in\n",
      "/home/computertreker/git/qiskit/qiskit-tutorial/foo/lib/python3.8/site-packages/qiskit/aqua/operators/state_fns/dict_state_fn.py:207: DeprecationWarning: The Python built-in `round` is deprecated for complex scalars, and will raise a `TypeError` in a future release. Use `np.round` or `scalar.round` instead.\n",
      "  return round(sum([v * front.primitive.get(b, 0) for (b, v) in\n",
      "/home/computertreker/git/qiskit/qiskit-tutorial/foo/lib/python3.8/site-packages/qiskit/aqua/operators/state_fns/dict_state_fn.py:207: DeprecationWarning: The Python built-in `round` is deprecated for complex scalars, and will raise a `TypeError` in a future release. Use `np.round` or `scalar.round` instead.\n",
      "  return round(sum([v * front.primitive.get(b, 0) for (b, v) in\n",
      "/home/computertreker/git/qiskit/qiskit-tutorial/foo/lib/python3.8/site-packages/qiskit/aqua/operators/state_fns/dict_state_fn.py:207: DeprecationWarning: The Python built-in `round` is deprecated for complex scalars, and will raise a `TypeError` in a future release. Use `np.round` or `scalar.round` instead.\n",
      "  return round(sum([v * front.primitive.get(b, 0) for (b, v) in\n",
      "/home/computertreker/git/qiskit/qiskit-tutorial/foo/lib/python3.8/site-packages/qiskit/aqua/operators/state_fns/dict_state_fn.py:207: DeprecationWarning: The Python built-in `round` is deprecated for complex scalars, and will raise a `TypeError` in a future release. Use `np.round` or `scalar.round` instead.\n",
      "  return round(sum([v * front.primitive.get(b, 0) for (b, v) in\n",
      "/home/computertreker/git/qiskit/qiskit-tutorial/foo/lib/python3.8/site-packages/qiskit/aqua/operators/state_fns/dict_state_fn.py:207: DeprecationWarning: The Python built-in `round` is deprecated for complex scalars, and will raise a `TypeError` in a future release. Use `np.round` or `scalar.round` instead.\n",
      "  return round(sum([v * front.primitive.get(b, 0) for (b, v) in\n",
      "/home/computertreker/git/qiskit/qiskit-tutorial/foo/lib/python3.8/site-packages/qiskit/aqua/operators/state_fns/dict_state_fn.py:207: DeprecationWarning: The Python built-in `round` is deprecated for complex scalars, and will raise a `TypeError` in a future release. Use `np.round` or `scalar.round` instead.\n",
      "  return round(sum([v * front.primitive.get(b, 0) for (b, v) in\n",
      "/home/computertreker/git/qiskit/qiskit-tutorial/foo/lib/python3.8/site-packages/qiskit/aqua/operators/state_fns/dict_state_fn.py:207: DeprecationWarning: The Python built-in `round` is deprecated for complex scalars, and will raise a `TypeError` in a future release. Use `np.round` or `scalar.round` instead.\n",
      "  return round(sum([v * front.primitive.get(b, 0) for (b, v) in\n",
      "/home/computertreker/git/qiskit/qiskit-tutorial/foo/lib/python3.8/site-packages/qiskit/aqua/operators/state_fns/dict_state_fn.py:207: DeprecationWarning: The Python built-in `round` is deprecated for complex scalars, and will raise a `TypeError` in a future release. Use `np.round` or `scalar.round` instead.\n",
      "  return round(sum([v * front.primitive.get(b, 0) for (b, v) in\n",
      "/home/computertreker/git/qiskit/qiskit-tutorial/foo/lib/python3.8/site-packages/qiskit/aqua/operators/state_fns/dict_state_fn.py:207: DeprecationWarning: The Python built-in `round` is deprecated for complex scalars, and will raise a `TypeError` in a future release. Use `np.round` or `scalar.round` instead.\n",
      "  return round(sum([v * front.primitive.get(b, 0) for (b, v) in\n"
     ]
    },
    {
     "name": "stderr",
     "output_type": "stream",
     "text": [
      "/home/computertreker/git/qiskit/qiskit-tutorial/foo/lib/python3.8/site-packages/qiskit/aqua/operators/state_fns/dict_state_fn.py:207: DeprecationWarning: The Python built-in `round` is deprecated for complex scalars, and will raise a `TypeError` in a future release. Use `np.round` or `scalar.round` instead.\n",
      "  return round(sum([v * front.primitive.get(b, 0) for (b, v) in\n",
      "/home/computertreker/git/qiskit/qiskit-tutorial/foo/lib/python3.8/site-packages/qiskit/aqua/operators/state_fns/dict_state_fn.py:207: DeprecationWarning: The Python built-in `round` is deprecated for complex scalars, and will raise a `TypeError` in a future release. Use `np.round` or `scalar.round` instead.\n",
      "  return round(sum([v * front.primitive.get(b, 0) for (b, v) in\n",
      "/home/computertreker/git/qiskit/qiskit-tutorial/foo/lib/python3.8/site-packages/qiskit/aqua/operators/state_fns/dict_state_fn.py:207: DeprecationWarning: The Python built-in `round` is deprecated for complex scalars, and will raise a `TypeError` in a future release. Use `np.round` or `scalar.round` instead.\n",
      "  return round(sum([v * front.primitive.get(b, 0) for (b, v) in\n",
      "/home/computertreker/git/qiskit/qiskit-tutorial/foo/lib/python3.8/site-packages/qiskit/aqua/operators/state_fns/dict_state_fn.py:207: DeprecationWarning: The Python built-in `round` is deprecated for complex scalars, and will raise a `TypeError` in a future release. Use `np.round` or `scalar.round` instead.\n",
      "  return round(sum([v * front.primitive.get(b, 0) for (b, v) in\n",
      "/home/computertreker/git/qiskit/qiskit-tutorial/foo/lib/python3.8/site-packages/qiskit/aqua/operators/state_fns/dict_state_fn.py:207: DeprecationWarning: The Python built-in `round` is deprecated for complex scalars, and will raise a `TypeError` in a future release. Use `np.round` or `scalar.round` instead.\n",
      "  return round(sum([v * front.primitive.get(b, 0) for (b, v) in\n",
      "/home/computertreker/git/qiskit/qiskit-tutorial/foo/lib/python3.8/site-packages/qiskit/aqua/operators/state_fns/dict_state_fn.py:207: DeprecationWarning: The Python built-in `round` is deprecated for complex scalars, and will raise a `TypeError` in a future release. Use `np.round` or `scalar.round` instead.\n",
      "  return round(sum([v * front.primitive.get(b, 0) for (b, v) in\n",
      "/home/computertreker/git/qiskit/qiskit-tutorial/foo/lib/python3.8/site-packages/qiskit/aqua/operators/state_fns/dict_state_fn.py:207: DeprecationWarning: The Python built-in `round` is deprecated for complex scalars, and will raise a `TypeError` in a future release. Use `np.round` or `scalar.round` instead.\n",
      "  return round(sum([v * front.primitive.get(b, 0) for (b, v) in\n",
      "/home/computertreker/git/qiskit/qiskit-tutorial/foo/lib/python3.8/site-packages/qiskit/aqua/operators/state_fns/dict_state_fn.py:207: DeprecationWarning: The Python built-in `round` is deprecated for complex scalars, and will raise a `TypeError` in a future release. Use `np.round` or `scalar.round` instead.\n",
      "  return round(sum([v * front.primitive.get(b, 0) for (b, v) in\n",
      "/home/computertreker/git/qiskit/qiskit-tutorial/foo/lib/python3.8/site-packages/qiskit/aqua/operators/state_fns/dict_state_fn.py:207: DeprecationWarning: The Python built-in `round` is deprecated for complex scalars, and will raise a `TypeError` in a future release. Use `np.round` or `scalar.round` instead.\n",
      "  return round(sum([v * front.primitive.get(b, 0) for (b, v) in\n",
      "/home/computertreker/git/qiskit/qiskit-tutorial/foo/lib/python3.8/site-packages/qiskit/aqua/operators/state_fns/dict_state_fn.py:207: DeprecationWarning: The Python built-in `round` is deprecated for complex scalars, and will raise a `TypeError` in a future release. Use `np.round` or `scalar.round` instead.\n",
      "  return round(sum([v * front.primitive.get(b, 0) for (b, v) in\n",
      "/home/computertreker/git/qiskit/qiskit-tutorial/foo/lib/python3.8/site-packages/qiskit/aqua/operators/state_fns/dict_state_fn.py:207: DeprecationWarning: The Python built-in `round` is deprecated for complex scalars, and will raise a `TypeError` in a future release. Use `np.round` or `scalar.round` instead.\n",
      "  return round(sum([v * front.primitive.get(b, 0) for (b, v) in\n",
      "/home/computertreker/git/qiskit/qiskit-tutorial/foo/lib/python3.8/site-packages/qiskit/aqua/operators/state_fns/dict_state_fn.py:207: DeprecationWarning: The Python built-in `round` is deprecated for complex scalars, and will raise a `TypeError` in a future release. Use `np.round` or `scalar.round` instead.\n",
      "  return round(sum([v * front.primitive.get(b, 0) for (b, v) in\n",
      "/home/computertreker/git/qiskit/qiskit-tutorial/foo/lib/python3.8/site-packages/qiskit/aqua/operators/state_fns/dict_state_fn.py:207: DeprecationWarning: The Python built-in `round` is deprecated for complex scalars, and will raise a `TypeError` in a future release. Use `np.round` or `scalar.round` instead.\n",
      "  return round(sum([v * front.primitive.get(b, 0) for (b, v) in\n",
      "/home/computertreker/git/qiskit/qiskit-tutorial/foo/lib/python3.8/site-packages/qiskit/aqua/operators/state_fns/dict_state_fn.py:207: DeprecationWarning: The Python built-in `round` is deprecated for complex scalars, and will raise a `TypeError` in a future release. Use `np.round` or `scalar.round` instead.\n",
      "  return round(sum([v * front.primitive.get(b, 0) for (b, v) in\n",
      "/home/computertreker/git/qiskit/qiskit-tutorial/foo/lib/python3.8/site-packages/qiskit/aqua/operators/state_fns/dict_state_fn.py:207: DeprecationWarning: The Python built-in `round` is deprecated for complex scalars, and will raise a `TypeError` in a future release. Use `np.round` or `scalar.round` instead.\n",
      "  return round(sum([v * front.primitive.get(b, 0) for (b, v) in\n",
      "/home/computertreker/git/qiskit/qiskit-tutorial/foo/lib/python3.8/site-packages/qiskit/aqua/operators/state_fns/dict_state_fn.py:207: DeprecationWarning: The Python built-in `round` is deprecated for complex scalars, and will raise a `TypeError` in a future release. Use `np.round` or `scalar.round` instead.\n",
      "  return round(sum([v * front.primitive.get(b, 0) for (b, v) in\n",
      "/home/computertreker/git/qiskit/qiskit-tutorial/foo/lib/python3.8/site-packages/qiskit/aqua/operators/state_fns/dict_state_fn.py:207: DeprecationWarning: The Python built-in `round` is deprecated for complex scalars, and will raise a `TypeError` in a future release. Use `np.round` or `scalar.round` instead.\n",
      "  return round(sum([v * front.primitive.get(b, 0) for (b, v) in\n",
      "/home/computertreker/git/qiskit/qiskit-tutorial/foo/lib/python3.8/site-packages/qiskit/aqua/operators/state_fns/dict_state_fn.py:207: DeprecationWarning: The Python built-in `round` is deprecated for complex scalars, and will raise a `TypeError` in a future release. Use `np.round` or `scalar.round` instead.\n",
      "  return round(sum([v * front.primitive.get(b, 0) for (b, v) in\n",
      "/home/computertreker/git/qiskit/qiskit-tutorial/foo/lib/python3.8/site-packages/qiskit/aqua/operators/state_fns/dict_state_fn.py:207: DeprecationWarning: The Python built-in `round` is deprecated for complex scalars, and will raise a `TypeError` in a future release. Use `np.round` or `scalar.round` instead.\n",
      "  return round(sum([v * front.primitive.get(b, 0) for (b, v) in\n",
      "/home/computertreker/git/qiskit/qiskit-tutorial/foo/lib/python3.8/site-packages/qiskit/aqua/operators/state_fns/dict_state_fn.py:207: DeprecationWarning: The Python built-in `round` is deprecated for complex scalars, and will raise a `TypeError` in a future release. Use `np.round` or `scalar.round` instead.\n",
      "  return round(sum([v * front.primitive.get(b, 0) for (b, v) in\n",
      "/home/computertreker/git/qiskit/qiskit-tutorial/foo/lib/python3.8/site-packages/qiskit/aqua/operators/state_fns/dict_state_fn.py:207: DeprecationWarning: The Python built-in `round` is deprecated for complex scalars, and will raise a `TypeError` in a future release. Use `np.round` or `scalar.round` instead.\n",
      "  return round(sum([v * front.primitive.get(b, 0) for (b, v) in\n",
      "/home/computertreker/git/qiskit/qiskit-tutorial/foo/lib/python3.8/site-packages/qiskit/aqua/operators/state_fns/dict_state_fn.py:207: DeprecationWarning: The Python built-in `round` is deprecated for complex scalars, and will raise a `TypeError` in a future release. Use `np.round` or `scalar.round` instead.\n",
      "  return round(sum([v * front.primitive.get(b, 0) for (b, v) in\n",
      "/home/computertreker/git/qiskit/qiskit-tutorial/foo/lib/python3.8/site-packages/qiskit/aqua/operators/state_fns/dict_state_fn.py:207: DeprecationWarning: The Python built-in `round` is deprecated for complex scalars, and will raise a `TypeError` in a future release. Use `np.round` or `scalar.round` instead.\n",
      "  return round(sum([v * front.primitive.get(b, 0) for (b, v) in\n",
      "/home/computertreker/git/qiskit/qiskit-tutorial/foo/lib/python3.8/site-packages/qiskit/aqua/operators/state_fns/dict_state_fn.py:207: DeprecationWarning: The Python built-in `round` is deprecated for complex scalars, and will raise a `TypeError` in a future release. Use `np.round` or `scalar.round` instead.\n",
      "  return round(sum([v * front.primitive.get(b, 0) for (b, v) in\n",
      "/home/computertreker/git/qiskit/qiskit-tutorial/foo/lib/python3.8/site-packages/qiskit/aqua/operators/state_fns/dict_state_fn.py:207: DeprecationWarning: The Python built-in `round` is deprecated for complex scalars, and will raise a `TypeError` in a future release. Use `np.round` or `scalar.round` instead.\n",
      "  return round(sum([v * front.primitive.get(b, 0) for (b, v) in\n"
     ]
    },
    {
     "name": "stderr",
     "output_type": "stream",
     "text": [
      "/home/computertreker/git/qiskit/qiskit-tutorial/foo/lib/python3.8/site-packages/qiskit/aqua/operators/state_fns/dict_state_fn.py:207: DeprecationWarning: The Python built-in `round` is deprecated for complex scalars, and will raise a `TypeError` in a future release. Use `np.round` or `scalar.round` instead.\n",
      "  return round(sum([v * front.primitive.get(b, 0) for (b, v) in\n",
      "/home/computertreker/git/qiskit/qiskit-tutorial/foo/lib/python3.8/site-packages/qiskit/aqua/operators/state_fns/dict_state_fn.py:207: DeprecationWarning: The Python built-in `round` is deprecated for complex scalars, and will raise a `TypeError` in a future release. Use `np.round` or `scalar.round` instead.\n",
      "  return round(sum([v * front.primitive.get(b, 0) for (b, v) in\n",
      "/home/computertreker/git/qiskit/qiskit-tutorial/foo/lib/python3.8/site-packages/qiskit/aqua/operators/state_fns/dict_state_fn.py:207: DeprecationWarning: The Python built-in `round` is deprecated for complex scalars, and will raise a `TypeError` in a future release. Use `np.round` or `scalar.round` instead.\n",
      "  return round(sum([v * front.primitive.get(b, 0) for (b, v) in\n",
      "/home/computertreker/git/qiskit/qiskit-tutorial/foo/lib/python3.8/site-packages/qiskit/aqua/operators/state_fns/dict_state_fn.py:207: DeprecationWarning: The Python built-in `round` is deprecated for complex scalars, and will raise a `TypeError` in a future release. Use `np.round` or `scalar.round` instead.\n",
      "  return round(sum([v * front.primitive.get(b, 0) for (b, v) in\n",
      "/home/computertreker/git/qiskit/qiskit-tutorial/foo/lib/python3.8/site-packages/qiskit/aqua/operators/state_fns/dict_state_fn.py:207: DeprecationWarning: The Python built-in `round` is deprecated for complex scalars, and will raise a `TypeError` in a future release. Use `np.round` or `scalar.round` instead.\n",
      "  return round(sum([v * front.primitive.get(b, 0) for (b, v) in\n",
      "/home/computertreker/git/qiskit/qiskit-tutorial/foo/lib/python3.8/site-packages/qiskit/aqua/operators/state_fns/dict_state_fn.py:207: DeprecationWarning: The Python built-in `round` is deprecated for complex scalars, and will raise a `TypeError` in a future release. Use `np.round` or `scalar.round` instead.\n",
      "  return round(sum([v * front.primitive.get(b, 0) for (b, v) in\n",
      "/home/computertreker/git/qiskit/qiskit-tutorial/foo/lib/python3.8/site-packages/qiskit/aqua/operators/state_fns/dict_state_fn.py:207: DeprecationWarning: The Python built-in `round` is deprecated for complex scalars, and will raise a `TypeError` in a future release. Use `np.round` or `scalar.round` instead.\n",
      "  return round(sum([v * front.primitive.get(b, 0) for (b, v) in\n",
      "/home/computertreker/git/qiskit/qiskit-tutorial/foo/lib/python3.8/site-packages/qiskit/aqua/operators/state_fns/dict_state_fn.py:207: DeprecationWarning: The Python built-in `round` is deprecated for complex scalars, and will raise a `TypeError` in a future release. Use `np.round` or `scalar.round` instead.\n",
      "  return round(sum([v * front.primitive.get(b, 0) for (b, v) in\n",
      "/home/computertreker/git/qiskit/qiskit-tutorial/foo/lib/python3.8/site-packages/qiskit/aqua/operators/state_fns/dict_state_fn.py:207: DeprecationWarning: The Python built-in `round` is deprecated for complex scalars, and will raise a `TypeError` in a future release. Use `np.round` or `scalar.round` instead.\n",
      "  return round(sum([v * front.primitive.get(b, 0) for (b, v) in\n",
      "/home/computertreker/git/qiskit/qiskit-tutorial/foo/lib/python3.8/site-packages/qiskit/aqua/operators/state_fns/dict_state_fn.py:207: DeprecationWarning: The Python built-in `round` is deprecated for complex scalars, and will raise a `TypeError` in a future release. Use `np.round` or `scalar.round` instead.\n",
      "  return round(sum([v * front.primitive.get(b, 0) for (b, v) in\n",
      "/home/computertreker/git/qiskit/qiskit-tutorial/foo/lib/python3.8/site-packages/qiskit/aqua/operators/state_fns/dict_state_fn.py:207: DeprecationWarning: The Python built-in `round` is deprecated for complex scalars, and will raise a `TypeError` in a future release. Use `np.round` or `scalar.round` instead.\n",
      "  return round(sum([v * front.primitive.get(b, 0) for (b, v) in\n",
      "/home/computertreker/git/qiskit/qiskit-tutorial/foo/lib/python3.8/site-packages/qiskit/aqua/operators/state_fns/dict_state_fn.py:207: DeprecationWarning: The Python built-in `round` is deprecated for complex scalars, and will raise a `TypeError` in a future release. Use `np.round` or `scalar.round` instead.\n",
      "  return round(sum([v * front.primitive.get(b, 0) for (b, v) in\n",
      "/home/computertreker/git/qiskit/qiskit-tutorial/foo/lib/python3.8/site-packages/qiskit/aqua/operators/state_fns/dict_state_fn.py:207: DeprecationWarning: The Python built-in `round` is deprecated for complex scalars, and will raise a `TypeError` in a future release. Use `np.round` or `scalar.round` instead.\n",
      "  return round(sum([v * front.primitive.get(b, 0) for (b, v) in\n",
      "/home/computertreker/git/qiskit/qiskit-tutorial/foo/lib/python3.8/site-packages/qiskit/aqua/operators/state_fns/dict_state_fn.py:207: DeprecationWarning: The Python built-in `round` is deprecated for complex scalars, and will raise a `TypeError` in a future release. Use `np.round` or `scalar.round` instead.\n",
      "  return round(sum([v * front.primitive.get(b, 0) for (b, v) in\n",
      "/home/computertreker/git/qiskit/qiskit-tutorial/foo/lib/python3.8/site-packages/qiskit/aqua/operators/state_fns/dict_state_fn.py:207: DeprecationWarning: The Python built-in `round` is deprecated for complex scalars, and will raise a `TypeError` in a future release. Use `np.round` or `scalar.round` instead.\n",
      "  return round(sum([v * front.primitive.get(b, 0) for (b, v) in\n",
      "/home/computertreker/git/qiskit/qiskit-tutorial/foo/lib/python3.8/site-packages/qiskit/aqua/operators/state_fns/dict_state_fn.py:207: DeprecationWarning: The Python built-in `round` is deprecated for complex scalars, and will raise a `TypeError` in a future release. Use `np.round` or `scalar.round` instead.\n",
      "  return round(sum([v * front.primitive.get(b, 0) for (b, v) in\n",
      "/home/computertreker/git/qiskit/qiskit-tutorial/foo/lib/python3.8/site-packages/qiskit/aqua/operators/state_fns/dict_state_fn.py:207: DeprecationWarning: The Python built-in `round` is deprecated for complex scalars, and will raise a `TypeError` in a future release. Use `np.round` or `scalar.round` instead.\n",
      "  return round(sum([v * front.primitive.get(b, 0) for (b, v) in\n",
      "/home/computertreker/git/qiskit/qiskit-tutorial/foo/lib/python3.8/site-packages/qiskit/aqua/operators/state_fns/dict_state_fn.py:207: DeprecationWarning: The Python built-in `round` is deprecated for complex scalars, and will raise a `TypeError` in a future release. Use `np.round` or `scalar.round` instead.\n",
      "  return round(sum([v * front.primitive.get(b, 0) for (b, v) in\n",
      "/home/computertreker/git/qiskit/qiskit-tutorial/foo/lib/python3.8/site-packages/qiskit/aqua/operators/state_fns/dict_state_fn.py:207: DeprecationWarning: The Python built-in `round` is deprecated for complex scalars, and will raise a `TypeError` in a future release. Use `np.round` or `scalar.round` instead.\n",
      "  return round(sum([v * front.primitive.get(b, 0) for (b, v) in\n",
      "/home/computertreker/git/qiskit/qiskit-tutorial/foo/lib/python3.8/site-packages/qiskit/aqua/operators/state_fns/dict_state_fn.py:207: DeprecationWarning: The Python built-in `round` is deprecated for complex scalars, and will raise a `TypeError` in a future release. Use `np.round` or `scalar.round` instead.\n",
      "  return round(sum([v * front.primitive.get(b, 0) for (b, v) in\n",
      "/home/computertreker/git/qiskit/qiskit-tutorial/foo/lib/python3.8/site-packages/qiskit/aqua/operators/state_fns/dict_state_fn.py:207: DeprecationWarning: The Python built-in `round` is deprecated for complex scalars, and will raise a `TypeError` in a future release. Use `np.round` or `scalar.round` instead.\n",
      "  return round(sum([v * front.primitive.get(b, 0) for (b, v) in\n",
      "/home/computertreker/git/qiskit/qiskit-tutorial/foo/lib/python3.8/site-packages/qiskit/aqua/operators/state_fns/dict_state_fn.py:207: DeprecationWarning: The Python built-in `round` is deprecated for complex scalars, and will raise a `TypeError` in a future release. Use `np.round` or `scalar.round` instead.\n",
      "  return round(sum([v * front.primitive.get(b, 0) for (b, v) in\n",
      "/home/computertreker/git/qiskit/qiskit-tutorial/foo/lib/python3.8/site-packages/qiskit/aqua/operators/state_fns/dict_state_fn.py:207: DeprecationWarning: The Python built-in `round` is deprecated for complex scalars, and will raise a `TypeError` in a future release. Use `np.round` or `scalar.round` instead.\n",
      "  return round(sum([v * front.primitive.get(b, 0) for (b, v) in\n",
      "/home/computertreker/git/qiskit/qiskit-tutorial/foo/lib/python3.8/site-packages/qiskit/aqua/operators/state_fns/dict_state_fn.py:207: DeprecationWarning: The Python built-in `round` is deprecated for complex scalars, and will raise a `TypeError` in a future release. Use `np.round` or `scalar.round` instead.\n",
      "  return round(sum([v * front.primitive.get(b, 0) for (b, v) in\n",
      "/home/computertreker/git/qiskit/qiskit-tutorial/foo/lib/python3.8/site-packages/qiskit/aqua/operators/state_fns/dict_state_fn.py:207: DeprecationWarning: The Python built-in `round` is deprecated for complex scalars, and will raise a `TypeError` in a future release. Use `np.round` or `scalar.round` instead.\n",
      "  return round(sum([v * front.primitive.get(b, 0) for (b, v) in\n"
     ]
    },
    {
     "name": "stderr",
     "output_type": "stream",
     "text": [
      "/home/computertreker/git/qiskit/qiskit-tutorial/foo/lib/python3.8/site-packages/qiskit/aqua/operators/state_fns/dict_state_fn.py:207: DeprecationWarning: The Python built-in `round` is deprecated for complex scalars, and will raise a `TypeError` in a future release. Use `np.round` or `scalar.round` instead.\n",
      "  return round(sum([v * front.primitive.get(b, 0) for (b, v) in\n",
      "/home/computertreker/git/qiskit/qiskit-tutorial/foo/lib/python3.8/site-packages/qiskit/aqua/operators/state_fns/dict_state_fn.py:207: DeprecationWarning: The Python built-in `round` is deprecated for complex scalars, and will raise a `TypeError` in a future release. Use `np.round` or `scalar.round` instead.\n",
      "  return round(sum([v * front.primitive.get(b, 0) for (b, v) in\n",
      "/home/computertreker/git/qiskit/qiskit-tutorial/foo/lib/python3.8/site-packages/qiskit/aqua/operators/state_fns/dict_state_fn.py:207: DeprecationWarning: The Python built-in `round` is deprecated for complex scalars, and will raise a `TypeError` in a future release. Use `np.round` or `scalar.round` instead.\n",
      "  return round(sum([v * front.primitive.get(b, 0) for (b, v) in\n",
      "/home/computertreker/git/qiskit/qiskit-tutorial/foo/lib/python3.8/site-packages/qiskit/aqua/operators/state_fns/dict_state_fn.py:207: DeprecationWarning: The Python built-in `round` is deprecated for complex scalars, and will raise a `TypeError` in a future release. Use `np.round` or `scalar.round` instead.\n",
      "  return round(sum([v * front.primitive.get(b, 0) for (b, v) in\n",
      "/home/computertreker/git/qiskit/qiskit-tutorial/foo/lib/python3.8/site-packages/qiskit/aqua/operators/state_fns/dict_state_fn.py:207: DeprecationWarning: The Python built-in `round` is deprecated for complex scalars, and will raise a `TypeError` in a future release. Use `np.round` or `scalar.round` instead.\n",
      "  return round(sum([v * front.primitive.get(b, 0) for (b, v) in\n",
      "/home/computertreker/git/qiskit/qiskit-tutorial/foo/lib/python3.8/site-packages/qiskit/aqua/operators/state_fns/dict_state_fn.py:207: DeprecationWarning: The Python built-in `round` is deprecated for complex scalars, and will raise a `TypeError` in a future release. Use `np.round` or `scalar.round` instead.\n",
      "  return round(sum([v * front.primitive.get(b, 0) for (b, v) in\n",
      "/home/computertreker/git/qiskit/qiskit-tutorial/foo/lib/python3.8/site-packages/qiskit/aqua/operators/state_fns/dict_state_fn.py:207: DeprecationWarning: The Python built-in `round` is deprecated for complex scalars, and will raise a `TypeError` in a future release. Use `np.round` or `scalar.round` instead.\n",
      "  return round(sum([v * front.primitive.get(b, 0) for (b, v) in\n",
      "/home/computertreker/git/qiskit/qiskit-tutorial/foo/lib/python3.8/site-packages/qiskit/aqua/operators/state_fns/dict_state_fn.py:207: DeprecationWarning: The Python built-in `round` is deprecated for complex scalars, and will raise a `TypeError` in a future release. Use `np.round` or `scalar.round` instead.\n",
      "  return round(sum([v * front.primitive.get(b, 0) for (b, v) in\n",
      "/home/computertreker/git/qiskit/qiskit-tutorial/foo/lib/python3.8/site-packages/qiskit/aqua/operators/state_fns/dict_state_fn.py:207: DeprecationWarning: The Python built-in `round` is deprecated for complex scalars, and will raise a `TypeError` in a future release. Use `np.round` or `scalar.round` instead.\n",
      "  return round(sum([v * front.primitive.get(b, 0) for (b, v) in\n",
      "/home/computertreker/git/qiskit/qiskit-tutorial/foo/lib/python3.8/site-packages/qiskit/aqua/operators/state_fns/dict_state_fn.py:207: DeprecationWarning: The Python built-in `round` is deprecated for complex scalars, and will raise a `TypeError` in a future release. Use `np.round` or `scalar.round` instead.\n",
      "  return round(sum([v * front.primitive.get(b, 0) for (b, v) in\n",
      "/home/computertreker/git/qiskit/qiskit-tutorial/foo/lib/python3.8/site-packages/qiskit/aqua/operators/state_fns/dict_state_fn.py:207: DeprecationWarning: The Python built-in `round` is deprecated for complex scalars, and will raise a `TypeError` in a future release. Use `np.round` or `scalar.round` instead.\n",
      "  return round(sum([v * front.primitive.get(b, 0) for (b, v) in\n",
      "/home/computertreker/git/qiskit/qiskit-tutorial/foo/lib/python3.8/site-packages/qiskit/aqua/operators/state_fns/dict_state_fn.py:207: DeprecationWarning: The Python built-in `round` is deprecated for complex scalars, and will raise a `TypeError` in a future release. Use `np.round` or `scalar.round` instead.\n",
      "  return round(sum([v * front.primitive.get(b, 0) for (b, v) in\n",
      "/home/computertreker/git/qiskit/qiskit-tutorial/foo/lib/python3.8/site-packages/qiskit/aqua/operators/state_fns/dict_state_fn.py:207: DeprecationWarning: The Python built-in `round` is deprecated for complex scalars, and will raise a `TypeError` in a future release. Use `np.round` or `scalar.round` instead.\n",
      "  return round(sum([v * front.primitive.get(b, 0) for (b, v) in\n",
      "/home/computertreker/git/qiskit/qiskit-tutorial/foo/lib/python3.8/site-packages/qiskit/aqua/operators/state_fns/dict_state_fn.py:207: DeprecationWarning: The Python built-in `round` is deprecated for complex scalars, and will raise a `TypeError` in a future release. Use `np.round` or `scalar.round` instead.\n",
      "  return round(sum([v * front.primitive.get(b, 0) for (b, v) in\n",
      "/home/computertreker/git/qiskit/qiskit-tutorial/foo/lib/python3.8/site-packages/qiskit/aqua/operators/state_fns/dict_state_fn.py:207: DeprecationWarning: The Python built-in `round` is deprecated for complex scalars, and will raise a `TypeError` in a future release. Use `np.round` or `scalar.round` instead.\n",
      "  return round(sum([v * front.primitive.get(b, 0) for (b, v) in\n",
      "/home/computertreker/git/qiskit/qiskit-tutorial/foo/lib/python3.8/site-packages/qiskit/aqua/operators/state_fns/dict_state_fn.py:207: DeprecationWarning: The Python built-in `round` is deprecated for complex scalars, and will raise a `TypeError` in a future release. Use `np.round` or `scalar.round` instead.\n",
      "  return round(sum([v * front.primitive.get(b, 0) for (b, v) in\n",
      "/home/computertreker/git/qiskit/qiskit-tutorial/foo/lib/python3.8/site-packages/qiskit/aqua/operators/state_fns/dict_state_fn.py:207: DeprecationWarning: The Python built-in `round` is deprecated for complex scalars, and will raise a `TypeError` in a future release. Use `np.round` or `scalar.round` instead.\n",
      "  return round(sum([v * front.primitive.get(b, 0) for (b, v) in\n",
      "/home/computertreker/git/qiskit/qiskit-tutorial/foo/lib/python3.8/site-packages/qiskit/aqua/operators/state_fns/dict_state_fn.py:207: DeprecationWarning: The Python built-in `round` is deprecated for complex scalars, and will raise a `TypeError` in a future release. Use `np.round` or `scalar.round` instead.\n",
      "  return round(sum([v * front.primitive.get(b, 0) for (b, v) in\n",
      "/home/computertreker/git/qiskit/qiskit-tutorial/foo/lib/python3.8/site-packages/qiskit/aqua/operators/state_fns/dict_state_fn.py:207: DeprecationWarning: The Python built-in `round` is deprecated for complex scalars, and will raise a `TypeError` in a future release. Use `np.round` or `scalar.round` instead.\n",
      "  return round(sum([v * front.primitive.get(b, 0) for (b, v) in\n",
      "/home/computertreker/git/qiskit/qiskit-tutorial/foo/lib/python3.8/site-packages/qiskit/aqua/operators/state_fns/dict_state_fn.py:207: DeprecationWarning: The Python built-in `round` is deprecated for complex scalars, and will raise a `TypeError` in a future release. Use `np.round` or `scalar.round` instead.\n",
      "  return round(sum([v * front.primitive.get(b, 0) for (b, v) in\n",
      "/home/computertreker/git/qiskit/qiskit-tutorial/foo/lib/python3.8/site-packages/qiskit/aqua/operators/state_fns/dict_state_fn.py:207: DeprecationWarning: The Python built-in `round` is deprecated for complex scalars, and will raise a `TypeError` in a future release. Use `np.round` or `scalar.round` instead.\n",
      "  return round(sum([v * front.primitive.get(b, 0) for (b, v) in\n",
      "/home/computertreker/git/qiskit/qiskit-tutorial/foo/lib/python3.8/site-packages/qiskit/aqua/operators/state_fns/dict_state_fn.py:207: DeprecationWarning: The Python built-in `round` is deprecated for complex scalars, and will raise a `TypeError` in a future release. Use `np.round` or `scalar.round` instead.\n",
      "  return round(sum([v * front.primitive.get(b, 0) for (b, v) in\n",
      "/home/computertreker/git/qiskit/qiskit-tutorial/foo/lib/python3.8/site-packages/qiskit/aqua/operators/state_fns/dict_state_fn.py:207: DeprecationWarning: The Python built-in `round` is deprecated for complex scalars, and will raise a `TypeError` in a future release. Use `np.round` or `scalar.round` instead.\n",
      "  return round(sum([v * front.primitive.get(b, 0) for (b, v) in\n",
      "/home/computertreker/git/qiskit/qiskit-tutorial/foo/lib/python3.8/site-packages/qiskit/aqua/operators/state_fns/dict_state_fn.py:207: DeprecationWarning: The Python built-in `round` is deprecated for complex scalars, and will raise a `TypeError` in a future release. Use `np.round` or `scalar.round` instead.\n",
      "  return round(sum([v * front.primitive.get(b, 0) for (b, v) in\n",
      "/home/computertreker/git/qiskit/qiskit-tutorial/foo/lib/python3.8/site-packages/qiskit/aqua/operators/state_fns/dict_state_fn.py:207: DeprecationWarning: The Python built-in `round` is deprecated for complex scalars, and will raise a `TypeError` in a future release. Use `np.round` or `scalar.round` instead.\n",
      "  return round(sum([v * front.primitive.get(b, 0) for (b, v) in\n"
     ]
    },
    {
     "name": "stderr",
     "output_type": "stream",
     "text": [
      "/home/computertreker/git/qiskit/qiskit-tutorial/foo/lib/python3.8/site-packages/qiskit/aqua/operators/state_fns/dict_state_fn.py:207: DeprecationWarning: The Python built-in `round` is deprecated for complex scalars, and will raise a `TypeError` in a future release. Use `np.round` or `scalar.round` instead.\n",
      "  return round(sum([v * front.primitive.get(b, 0) for (b, v) in\n",
      "/home/computertreker/git/qiskit/qiskit-tutorial/foo/lib/python3.8/site-packages/qiskit/aqua/operators/state_fns/dict_state_fn.py:207: DeprecationWarning: The Python built-in `round` is deprecated for complex scalars, and will raise a `TypeError` in a future release. Use `np.round` or `scalar.round` instead.\n",
      "  return round(sum([v * front.primitive.get(b, 0) for (b, v) in\n",
      "/home/computertreker/git/qiskit/qiskit-tutorial/foo/lib/python3.8/site-packages/qiskit/aqua/operators/state_fns/dict_state_fn.py:207: DeprecationWarning: The Python built-in `round` is deprecated for complex scalars, and will raise a `TypeError` in a future release. Use `np.round` or `scalar.round` instead.\n",
      "  return round(sum([v * front.primitive.get(b, 0) for (b, v) in\n",
      "/home/computertreker/git/qiskit/qiskit-tutorial/foo/lib/python3.8/site-packages/qiskit/aqua/operators/state_fns/dict_state_fn.py:207: DeprecationWarning: The Python built-in `round` is deprecated for complex scalars, and will raise a `TypeError` in a future release. Use `np.round` or `scalar.round` instead.\n",
      "  return round(sum([v * front.primitive.get(b, 0) for (b, v) in\n",
      "/home/computertreker/git/qiskit/qiskit-tutorial/foo/lib/python3.8/site-packages/qiskit/aqua/operators/state_fns/dict_state_fn.py:207: DeprecationWarning: The Python built-in `round` is deprecated for complex scalars, and will raise a `TypeError` in a future release. Use `np.round` or `scalar.round` instead.\n",
      "  return round(sum([v * front.primitive.get(b, 0) for (b, v) in\n",
      "/home/computertreker/git/qiskit/qiskit-tutorial/foo/lib/python3.8/site-packages/qiskit/aqua/operators/state_fns/dict_state_fn.py:207: DeprecationWarning: The Python built-in `round` is deprecated for complex scalars, and will raise a `TypeError` in a future release. Use `np.round` or `scalar.round` instead.\n",
      "  return round(sum([v * front.primitive.get(b, 0) for (b, v) in\n",
      "/home/computertreker/git/qiskit/qiskit-tutorial/foo/lib/python3.8/site-packages/qiskit/aqua/operators/state_fns/dict_state_fn.py:207: DeprecationWarning: The Python built-in `round` is deprecated for complex scalars, and will raise a `TypeError` in a future release. Use `np.round` or `scalar.round` instead.\n",
      "  return round(sum([v * front.primitive.get(b, 0) for (b, v) in\n",
      "/home/computertreker/git/qiskit/qiskit-tutorial/foo/lib/python3.8/site-packages/qiskit/aqua/operators/state_fns/dict_state_fn.py:207: DeprecationWarning: The Python built-in `round` is deprecated for complex scalars, and will raise a `TypeError` in a future release. Use `np.round` or `scalar.round` instead.\n",
      "  return round(sum([v * front.primitive.get(b, 0) for (b, v) in\n",
      "/home/computertreker/git/qiskit/qiskit-tutorial/foo/lib/python3.8/site-packages/qiskit/aqua/operators/state_fns/dict_state_fn.py:207: DeprecationWarning: The Python built-in `round` is deprecated for complex scalars, and will raise a `TypeError` in a future release. Use `np.round` or `scalar.round` instead.\n",
      "  return round(sum([v * front.primitive.get(b, 0) for (b, v) in\n",
      "/home/computertreker/git/qiskit/qiskit-tutorial/foo/lib/python3.8/site-packages/qiskit/aqua/operators/state_fns/dict_state_fn.py:207: DeprecationWarning: The Python built-in `round` is deprecated for complex scalars, and will raise a `TypeError` in a future release. Use `np.round` or `scalar.round` instead.\n",
      "  return round(sum([v * front.primitive.get(b, 0) for (b, v) in\n",
      "/home/computertreker/git/qiskit/qiskit-tutorial/foo/lib/python3.8/site-packages/qiskit/aqua/operators/state_fns/dict_state_fn.py:207: DeprecationWarning: The Python built-in `round` is deprecated for complex scalars, and will raise a `TypeError` in a future release. Use `np.round` or `scalar.round` instead.\n",
      "  return round(sum([v * front.primitive.get(b, 0) for (b, v) in\n",
      "/home/computertreker/git/qiskit/qiskit-tutorial/foo/lib/python3.8/site-packages/qiskit/aqua/operators/state_fns/dict_state_fn.py:207: DeprecationWarning: The Python built-in `round` is deprecated for complex scalars, and will raise a `TypeError` in a future release. Use `np.round` or `scalar.round` instead.\n",
      "  return round(sum([v * front.primitive.get(b, 0) for (b, v) in\n",
      "/home/computertreker/git/qiskit/qiskit-tutorial/foo/lib/python3.8/site-packages/qiskit/aqua/operators/state_fns/dict_state_fn.py:207: DeprecationWarning: The Python built-in `round` is deprecated for complex scalars, and will raise a `TypeError` in a future release. Use `np.round` or `scalar.round` instead.\n",
      "  return round(sum([v * front.primitive.get(b, 0) for (b, v) in\n",
      "/home/computertreker/git/qiskit/qiskit-tutorial/foo/lib/python3.8/site-packages/qiskit/aqua/operators/state_fns/dict_state_fn.py:207: DeprecationWarning: The Python built-in `round` is deprecated for complex scalars, and will raise a `TypeError` in a future release. Use `np.round` or `scalar.round` instead.\n",
      "  return round(sum([v * front.primitive.get(b, 0) for (b, v) in\n",
      "/home/computertreker/git/qiskit/qiskit-tutorial/foo/lib/python3.8/site-packages/qiskit/aqua/operators/state_fns/dict_state_fn.py:207: DeprecationWarning: The Python built-in `round` is deprecated for complex scalars, and will raise a `TypeError` in a future release. Use `np.round` or `scalar.round` instead.\n",
      "  return round(sum([v * front.primitive.get(b, 0) for (b, v) in\n",
      "/home/computertreker/git/qiskit/qiskit-tutorial/foo/lib/python3.8/site-packages/qiskit/aqua/operators/state_fns/dict_state_fn.py:207: DeprecationWarning: The Python built-in `round` is deprecated for complex scalars, and will raise a `TypeError` in a future release. Use `np.round` or `scalar.round` instead.\n",
      "  return round(sum([v * front.primitive.get(b, 0) for (b, v) in\n",
      "/home/computertreker/git/qiskit/qiskit-tutorial/foo/lib/python3.8/site-packages/qiskit/aqua/operators/state_fns/dict_state_fn.py:207: DeprecationWarning: The Python built-in `round` is deprecated for complex scalars, and will raise a `TypeError` in a future release. Use `np.round` or `scalar.round` instead.\n",
      "  return round(sum([v * front.primitive.get(b, 0) for (b, v) in\n",
      "/home/computertreker/git/qiskit/qiskit-tutorial/foo/lib/python3.8/site-packages/qiskit/aqua/operators/state_fns/dict_state_fn.py:207: DeprecationWarning: The Python built-in `round` is deprecated for complex scalars, and will raise a `TypeError` in a future release. Use `np.round` or `scalar.round` instead.\n",
      "  return round(sum([v * front.primitive.get(b, 0) for (b, v) in\n",
      "/home/computertreker/git/qiskit/qiskit-tutorial/foo/lib/python3.8/site-packages/qiskit/aqua/operators/state_fns/dict_state_fn.py:207: DeprecationWarning: The Python built-in `round` is deprecated for complex scalars, and will raise a `TypeError` in a future release. Use `np.round` or `scalar.round` instead.\n",
      "  return round(sum([v * front.primitive.get(b, 0) for (b, v) in\n",
      "/home/computertreker/git/qiskit/qiskit-tutorial/foo/lib/python3.8/site-packages/qiskit/aqua/operators/state_fns/dict_state_fn.py:207: DeprecationWarning: The Python built-in `round` is deprecated for complex scalars, and will raise a `TypeError` in a future release. Use `np.round` or `scalar.round` instead.\n",
      "  return round(sum([v * front.primitive.get(b, 0) for (b, v) in\n",
      "/home/computertreker/git/qiskit/qiskit-tutorial/foo/lib/python3.8/site-packages/qiskit/aqua/operators/state_fns/dict_state_fn.py:207: DeprecationWarning: The Python built-in `round` is deprecated for complex scalars, and will raise a `TypeError` in a future release. Use `np.round` or `scalar.round` instead.\n",
      "  return round(sum([v * front.primitive.get(b, 0) for (b, v) in\n",
      "/home/computertreker/git/qiskit/qiskit-tutorial/foo/lib/python3.8/site-packages/qiskit/aqua/operators/state_fns/dict_state_fn.py:207: DeprecationWarning: The Python built-in `round` is deprecated for complex scalars, and will raise a `TypeError` in a future release. Use `np.round` or `scalar.round` instead.\n",
      "  return round(sum([v * front.primitive.get(b, 0) for (b, v) in\n",
      "/home/computertreker/git/qiskit/qiskit-tutorial/foo/lib/python3.8/site-packages/qiskit/aqua/operators/state_fns/dict_state_fn.py:207: DeprecationWarning: The Python built-in `round` is deprecated for complex scalars, and will raise a `TypeError` in a future release. Use `np.round` or `scalar.round` instead.\n",
      "  return round(sum([v * front.primitive.get(b, 0) for (b, v) in\n",
      "/home/computertreker/git/qiskit/qiskit-tutorial/foo/lib/python3.8/site-packages/qiskit/aqua/operators/state_fns/dict_state_fn.py:207: DeprecationWarning: The Python built-in `round` is deprecated for complex scalars, and will raise a `TypeError` in a future release. Use `np.round` or `scalar.round` instead.\n",
      "  return round(sum([v * front.primitive.get(b, 0) for (b, v) in\n",
      "/home/computertreker/git/qiskit/qiskit-tutorial/foo/lib/python3.8/site-packages/qiskit/aqua/operators/state_fns/dict_state_fn.py:207: DeprecationWarning: The Python built-in `round` is deprecated for complex scalars, and will raise a `TypeError` in a future release. Use `np.round` or `scalar.round` instead.\n",
      "  return round(sum([v * front.primitive.get(b, 0) for (b, v) in\n"
     ]
    },
    {
     "name": "stderr",
     "output_type": "stream",
     "text": [
      "/home/computertreker/git/qiskit/qiskit-tutorial/foo/lib/python3.8/site-packages/qiskit/aqua/operators/state_fns/dict_state_fn.py:207: DeprecationWarning: The Python built-in `round` is deprecated for complex scalars, and will raise a `TypeError` in a future release. Use `np.round` or `scalar.round` instead.\n",
      "  return round(sum([v * front.primitive.get(b, 0) for (b, v) in\n",
      "/home/computertreker/git/qiskit/qiskit-tutorial/foo/lib/python3.8/site-packages/qiskit/aqua/operators/state_fns/dict_state_fn.py:207: DeprecationWarning: The Python built-in `round` is deprecated for complex scalars, and will raise a `TypeError` in a future release. Use `np.round` or `scalar.round` instead.\n",
      "  return round(sum([v * front.primitive.get(b, 0) for (b, v) in\n",
      "/home/computertreker/git/qiskit/qiskit-tutorial/foo/lib/python3.8/site-packages/qiskit/aqua/operators/state_fns/dict_state_fn.py:207: DeprecationWarning: The Python built-in `round` is deprecated for complex scalars, and will raise a `TypeError` in a future release. Use `np.round` or `scalar.round` instead.\n",
      "  return round(sum([v * front.primitive.get(b, 0) for (b, v) in\n",
      "/home/computertreker/git/qiskit/qiskit-tutorial/foo/lib/python3.8/site-packages/qiskit/aqua/operators/state_fns/dict_state_fn.py:207: DeprecationWarning: The Python built-in `round` is deprecated for complex scalars, and will raise a `TypeError` in a future release. Use `np.round` or `scalar.round` instead.\n",
      "  return round(sum([v * front.primitive.get(b, 0) for (b, v) in\n",
      "/home/computertreker/git/qiskit/qiskit-tutorial/foo/lib/python3.8/site-packages/qiskit/aqua/operators/state_fns/dict_state_fn.py:207: DeprecationWarning: The Python built-in `round` is deprecated for complex scalars, and will raise a `TypeError` in a future release. Use `np.round` or `scalar.round` instead.\n",
      "  return round(sum([v * front.primitive.get(b, 0) for (b, v) in\n",
      "/home/computertreker/git/qiskit/qiskit-tutorial/foo/lib/python3.8/site-packages/qiskit/aqua/operators/state_fns/dict_state_fn.py:207: DeprecationWarning: The Python built-in `round` is deprecated for complex scalars, and will raise a `TypeError` in a future release. Use `np.round` or `scalar.round` instead.\n",
      "  return round(sum([v * front.primitive.get(b, 0) for (b, v) in\n",
      "/home/computertreker/git/qiskit/qiskit-tutorial/foo/lib/python3.8/site-packages/qiskit/aqua/operators/state_fns/dict_state_fn.py:207: DeprecationWarning: The Python built-in `round` is deprecated for complex scalars, and will raise a `TypeError` in a future release. Use `np.round` or `scalar.round` instead.\n",
      "  return round(sum([v * front.primitive.get(b, 0) for (b, v) in\n",
      "/home/computertreker/git/qiskit/qiskit-tutorial/foo/lib/python3.8/site-packages/qiskit/aqua/operators/state_fns/dict_state_fn.py:207: DeprecationWarning: The Python built-in `round` is deprecated for complex scalars, and will raise a `TypeError` in a future release. Use `np.round` or `scalar.round` instead.\n",
      "  return round(sum([v * front.primitive.get(b, 0) for (b, v) in\n",
      "/home/computertreker/git/qiskit/qiskit-tutorial/foo/lib/python3.8/site-packages/qiskit/aqua/operators/state_fns/dict_state_fn.py:207: DeprecationWarning: The Python built-in `round` is deprecated for complex scalars, and will raise a `TypeError` in a future release. Use `np.round` or `scalar.round` instead.\n",
      "  return round(sum([v * front.primitive.get(b, 0) for (b, v) in\n",
      "/home/computertreker/git/qiskit/qiskit-tutorial/foo/lib/python3.8/site-packages/qiskit/aqua/operators/state_fns/dict_state_fn.py:207: DeprecationWarning: The Python built-in `round` is deprecated for complex scalars, and will raise a `TypeError` in a future release. Use `np.round` or `scalar.round` instead.\n",
      "  return round(sum([v * front.primitive.get(b, 0) for (b, v) in\n",
      "/home/computertreker/git/qiskit/qiskit-tutorial/foo/lib/python3.8/site-packages/qiskit/aqua/operators/state_fns/dict_state_fn.py:207: DeprecationWarning: The Python built-in `round` is deprecated for complex scalars, and will raise a `TypeError` in a future release. Use `np.round` or `scalar.round` instead.\n",
      "  return round(sum([v * front.primitive.get(b, 0) for (b, v) in\n",
      "/home/computertreker/git/qiskit/qiskit-tutorial/foo/lib/python3.8/site-packages/qiskit/aqua/operators/state_fns/dict_state_fn.py:207: DeprecationWarning: The Python built-in `round` is deprecated for complex scalars, and will raise a `TypeError` in a future release. Use `np.round` or `scalar.round` instead.\n",
      "  return round(sum([v * front.primitive.get(b, 0) for (b, v) in\n",
      "/home/computertreker/git/qiskit/qiskit-tutorial/foo/lib/python3.8/site-packages/qiskit/aqua/operators/state_fns/dict_state_fn.py:207: DeprecationWarning: The Python built-in `round` is deprecated for complex scalars, and will raise a `TypeError` in a future release. Use `np.round` or `scalar.round` instead.\n",
      "  return round(sum([v * front.primitive.get(b, 0) for (b, v) in\n",
      "/home/computertreker/git/qiskit/qiskit-tutorial/foo/lib/python3.8/site-packages/qiskit/aqua/operators/state_fns/dict_state_fn.py:207: DeprecationWarning: The Python built-in `round` is deprecated for complex scalars, and will raise a `TypeError` in a future release. Use `np.round` or `scalar.round` instead.\n",
      "  return round(sum([v * front.primitive.get(b, 0) for (b, v) in\n",
      "/home/computertreker/git/qiskit/qiskit-tutorial/foo/lib/python3.8/site-packages/qiskit/aqua/operators/state_fns/dict_state_fn.py:207: DeprecationWarning: The Python built-in `round` is deprecated for complex scalars, and will raise a `TypeError` in a future release. Use `np.round` or `scalar.round` instead.\n",
      "  return round(sum([v * front.primitive.get(b, 0) for (b, v) in\n",
      "/home/computertreker/git/qiskit/qiskit-tutorial/foo/lib/python3.8/site-packages/qiskit/aqua/operators/state_fns/dict_state_fn.py:207: DeprecationWarning: The Python built-in `round` is deprecated for complex scalars, and will raise a `TypeError` in a future release. Use `np.round` or `scalar.round` instead.\n",
      "  return round(sum([v * front.primitive.get(b, 0) for (b, v) in\n",
      "/home/computertreker/git/qiskit/qiskit-tutorial/foo/lib/python3.8/site-packages/qiskit/aqua/operators/state_fns/dict_state_fn.py:207: DeprecationWarning: The Python built-in `round` is deprecated for complex scalars, and will raise a `TypeError` in a future release. Use `np.round` or `scalar.round` instead.\n",
      "  return round(sum([v * front.primitive.get(b, 0) for (b, v) in\n",
      "/home/computertreker/git/qiskit/qiskit-tutorial/foo/lib/python3.8/site-packages/qiskit/aqua/operators/state_fns/dict_state_fn.py:207: DeprecationWarning: The Python built-in `round` is deprecated for complex scalars, and will raise a `TypeError` in a future release. Use `np.round` or `scalar.round` instead.\n",
      "  return round(sum([v * front.primitive.get(b, 0) for (b, v) in\n",
      "/home/computertreker/git/qiskit/qiskit-tutorial/foo/lib/python3.8/site-packages/qiskit/aqua/operators/state_fns/dict_state_fn.py:207: DeprecationWarning: The Python built-in `round` is deprecated for complex scalars, and will raise a `TypeError` in a future release. Use `np.round` or `scalar.round` instead.\n",
      "  return round(sum([v * front.primitive.get(b, 0) for (b, v) in\n",
      "/home/computertreker/git/qiskit/qiskit-tutorial/foo/lib/python3.8/site-packages/qiskit/aqua/operators/state_fns/dict_state_fn.py:207: DeprecationWarning: The Python built-in `round` is deprecated for complex scalars, and will raise a `TypeError` in a future release. Use `np.round` or `scalar.round` instead.\n",
      "  return round(sum([v * front.primitive.get(b, 0) for (b, v) in\n",
      "/home/computertreker/git/qiskit/qiskit-tutorial/foo/lib/python3.8/site-packages/qiskit/aqua/operators/state_fns/dict_state_fn.py:207: DeprecationWarning: The Python built-in `round` is deprecated for complex scalars, and will raise a `TypeError` in a future release. Use `np.round` or `scalar.round` instead.\n",
      "  return round(sum([v * front.primitive.get(b, 0) for (b, v) in\n",
      "/home/computertreker/git/qiskit/qiskit-tutorial/foo/lib/python3.8/site-packages/qiskit/aqua/operators/state_fns/dict_state_fn.py:207: DeprecationWarning: The Python built-in `round` is deprecated for complex scalars, and will raise a `TypeError` in a future release. Use `np.round` or `scalar.round` instead.\n",
      "  return round(sum([v * front.primitive.get(b, 0) for (b, v) in\n",
      "/home/computertreker/git/qiskit/qiskit-tutorial/foo/lib/python3.8/site-packages/qiskit/aqua/operators/state_fns/dict_state_fn.py:207: DeprecationWarning: The Python built-in `round` is deprecated for complex scalars, and will raise a `TypeError` in a future release. Use `np.round` or `scalar.round` instead.\n",
      "  return round(sum([v * front.primitive.get(b, 0) for (b, v) in\n",
      "/home/computertreker/git/qiskit/qiskit-tutorial/foo/lib/python3.8/site-packages/qiskit/aqua/operators/state_fns/dict_state_fn.py:207: DeprecationWarning: The Python built-in `round` is deprecated for complex scalars, and will raise a `TypeError` in a future release. Use `np.round` or `scalar.round` instead.\n",
      "  return round(sum([v * front.primitive.get(b, 0) for (b, v) in\n",
      "/home/computertreker/git/qiskit/qiskit-tutorial/foo/lib/python3.8/site-packages/qiskit/aqua/operators/state_fns/dict_state_fn.py:207: DeprecationWarning: The Python built-in `round` is deprecated for complex scalars, and will raise a `TypeError` in a future release. Use `np.round` or `scalar.round` instead.\n",
      "  return round(sum([v * front.primitive.get(b, 0) for (b, v) in\n"
     ]
    },
    {
     "name": "stderr",
     "output_type": "stream",
     "text": [
      "/home/computertreker/git/qiskit/qiskit-tutorial/foo/lib/python3.8/site-packages/qiskit/aqua/operators/state_fns/dict_state_fn.py:207: DeprecationWarning: The Python built-in `round` is deprecated for complex scalars, and will raise a `TypeError` in a future release. Use `np.round` or `scalar.round` instead.\n",
      "  return round(sum([v * front.primitive.get(b, 0) for (b, v) in\n",
      "/home/computertreker/git/qiskit/qiskit-tutorial/foo/lib/python3.8/site-packages/qiskit/aqua/operators/state_fns/dict_state_fn.py:207: DeprecationWarning: The Python built-in `round` is deprecated for complex scalars, and will raise a `TypeError` in a future release. Use `np.round` or `scalar.round` instead.\n",
      "  return round(sum([v * front.primitive.get(b, 0) for (b, v) in\n",
      "/home/computertreker/git/qiskit/qiskit-tutorial/foo/lib/python3.8/site-packages/qiskit/aqua/operators/state_fns/dict_state_fn.py:207: DeprecationWarning: The Python built-in `round` is deprecated for complex scalars, and will raise a `TypeError` in a future release. Use `np.round` or `scalar.round` instead.\n",
      "  return round(sum([v * front.primitive.get(b, 0) for (b, v) in\n",
      "/home/computertreker/git/qiskit/qiskit-tutorial/foo/lib/python3.8/site-packages/qiskit/aqua/operators/state_fns/dict_state_fn.py:207: DeprecationWarning: The Python built-in `round` is deprecated for complex scalars, and will raise a `TypeError` in a future release. Use `np.round` or `scalar.round` instead.\n",
      "  return round(sum([v * front.primitive.get(b, 0) for (b, v) in\n",
      "/home/computertreker/git/qiskit/qiskit-tutorial/foo/lib/python3.8/site-packages/qiskit/aqua/operators/state_fns/dict_state_fn.py:207: DeprecationWarning: The Python built-in `round` is deprecated for complex scalars, and will raise a `TypeError` in a future release. Use `np.round` or `scalar.round` instead.\n",
      "  return round(sum([v * front.primitive.get(b, 0) for (b, v) in\n",
      "/home/computertreker/git/qiskit/qiskit-tutorial/foo/lib/python3.8/site-packages/qiskit/aqua/operators/state_fns/dict_state_fn.py:207: DeprecationWarning: The Python built-in `round` is deprecated for complex scalars, and will raise a `TypeError` in a future release. Use `np.round` or `scalar.round` instead.\n",
      "  return round(sum([v * front.primitive.get(b, 0) for (b, v) in\n",
      "/home/computertreker/git/qiskit/qiskit-tutorial/foo/lib/python3.8/site-packages/qiskit/aqua/operators/state_fns/dict_state_fn.py:207: DeprecationWarning: The Python built-in `round` is deprecated for complex scalars, and will raise a `TypeError` in a future release. Use `np.round` or `scalar.round` instead.\n",
      "  return round(sum([v * front.primitive.get(b, 0) for (b, v) in\n",
      "/home/computertreker/git/qiskit/qiskit-tutorial/foo/lib/python3.8/site-packages/qiskit/aqua/operators/state_fns/dict_state_fn.py:207: DeprecationWarning: The Python built-in `round` is deprecated for complex scalars, and will raise a `TypeError` in a future release. Use `np.round` or `scalar.round` instead.\n",
      "  return round(sum([v * front.primitive.get(b, 0) for (b, v) in\n",
      "/home/computertreker/git/qiskit/qiskit-tutorial/foo/lib/python3.8/site-packages/qiskit/aqua/operators/state_fns/dict_state_fn.py:207: DeprecationWarning: The Python built-in `round` is deprecated for complex scalars, and will raise a `TypeError` in a future release. Use `np.round` or `scalar.round` instead.\n",
      "  return round(sum([v * front.primitive.get(b, 0) for (b, v) in\n",
      "/home/computertreker/git/qiskit/qiskit-tutorial/foo/lib/python3.8/site-packages/qiskit/aqua/operators/state_fns/dict_state_fn.py:207: DeprecationWarning: The Python built-in `round` is deprecated for complex scalars, and will raise a `TypeError` in a future release. Use `np.round` or `scalar.round` instead.\n",
      "  return round(sum([v * front.primitive.get(b, 0) for (b, v) in\n",
      "/home/computertreker/git/qiskit/qiskit-tutorial/foo/lib/python3.8/site-packages/qiskit/aqua/operators/state_fns/dict_state_fn.py:207: DeprecationWarning: The Python built-in `round` is deprecated for complex scalars, and will raise a `TypeError` in a future release. Use `np.round` or `scalar.round` instead.\n",
      "  return round(sum([v * front.primitive.get(b, 0) for (b, v) in\n",
      "/home/computertreker/git/qiskit/qiskit-tutorial/foo/lib/python3.8/site-packages/qiskit/aqua/operators/state_fns/dict_state_fn.py:207: DeprecationWarning: The Python built-in `round` is deprecated for complex scalars, and will raise a `TypeError` in a future release. Use `np.round` or `scalar.round` instead.\n",
      "  return round(sum([v * front.primitive.get(b, 0) for (b, v) in\n",
      "/home/computertreker/git/qiskit/qiskit-tutorial/foo/lib/python3.8/site-packages/qiskit/aqua/operators/state_fns/dict_state_fn.py:207: DeprecationWarning: The Python built-in `round` is deprecated for complex scalars, and will raise a `TypeError` in a future release. Use `np.round` or `scalar.round` instead.\n",
      "  return round(sum([v * front.primitive.get(b, 0) for (b, v) in\n",
      "/home/computertreker/git/qiskit/qiskit-tutorial/foo/lib/python3.8/site-packages/qiskit/aqua/operators/state_fns/dict_state_fn.py:207: DeprecationWarning: The Python built-in `round` is deprecated for complex scalars, and will raise a `TypeError` in a future release. Use `np.round` or `scalar.round` instead.\n",
      "  return round(sum([v * front.primitive.get(b, 0) for (b, v) in\n",
      "/home/computertreker/git/qiskit/qiskit-tutorial/foo/lib/python3.8/site-packages/qiskit/aqua/operators/state_fns/dict_state_fn.py:207: DeprecationWarning: The Python built-in `round` is deprecated for complex scalars, and will raise a `TypeError` in a future release. Use `np.round` or `scalar.round` instead.\n",
      "  return round(sum([v * front.primitive.get(b, 0) for (b, v) in\n",
      "/home/computertreker/git/qiskit/qiskit-tutorial/foo/lib/python3.8/site-packages/qiskit/aqua/operators/state_fns/dict_state_fn.py:207: DeprecationWarning: The Python built-in `round` is deprecated for complex scalars, and will raise a `TypeError` in a future release. Use `np.round` or `scalar.round` instead.\n",
      "  return round(sum([v * front.primitive.get(b, 0) for (b, v) in\n",
      "/home/computertreker/git/qiskit/qiskit-tutorial/foo/lib/python3.8/site-packages/qiskit/aqua/operators/state_fns/dict_state_fn.py:207: DeprecationWarning: The Python built-in `round` is deprecated for complex scalars, and will raise a `TypeError` in a future release. Use `np.round` or `scalar.round` instead.\n",
      "  return round(sum([v * front.primitive.get(b, 0) for (b, v) in\n",
      "/home/computertreker/git/qiskit/qiskit-tutorial/foo/lib/python3.8/site-packages/qiskit/aqua/operators/state_fns/dict_state_fn.py:207: DeprecationWarning: The Python built-in `round` is deprecated for complex scalars, and will raise a `TypeError` in a future release. Use `np.round` or `scalar.round` instead.\n",
      "  return round(sum([v * front.primitive.get(b, 0) for (b, v) in\n",
      "/home/computertreker/git/qiskit/qiskit-tutorial/foo/lib/python3.8/site-packages/qiskit/aqua/operators/state_fns/dict_state_fn.py:207: DeprecationWarning: The Python built-in `round` is deprecated for complex scalars, and will raise a `TypeError` in a future release. Use `np.round` or `scalar.round` instead.\n",
      "  return round(sum([v * front.primitive.get(b, 0) for (b, v) in\n",
      "/home/computertreker/git/qiskit/qiskit-tutorial/foo/lib/python3.8/site-packages/qiskit/aqua/operators/state_fns/dict_state_fn.py:207: DeprecationWarning: The Python built-in `round` is deprecated for complex scalars, and will raise a `TypeError` in a future release. Use `np.round` or `scalar.round` instead.\n",
      "  return round(sum([v * front.primitive.get(b, 0) for (b, v) in\n",
      "/home/computertreker/git/qiskit/qiskit-tutorial/foo/lib/python3.8/site-packages/qiskit/aqua/operators/state_fns/dict_state_fn.py:207: DeprecationWarning: The Python built-in `round` is deprecated for complex scalars, and will raise a `TypeError` in a future release. Use `np.round` or `scalar.round` instead.\n",
      "  return round(sum([v * front.primitive.get(b, 0) for (b, v) in\n",
      "/home/computertreker/git/qiskit/qiskit-tutorial/foo/lib/python3.8/site-packages/qiskit/aqua/operators/state_fns/dict_state_fn.py:207: DeprecationWarning: The Python built-in `round` is deprecated for complex scalars, and will raise a `TypeError` in a future release. Use `np.round` or `scalar.round` instead.\n",
      "  return round(sum([v * front.primitive.get(b, 0) for (b, v) in\n",
      "/home/computertreker/git/qiskit/qiskit-tutorial/foo/lib/python3.8/site-packages/qiskit/aqua/operators/state_fns/dict_state_fn.py:207: DeprecationWarning: The Python built-in `round` is deprecated for complex scalars, and will raise a `TypeError` in a future release. Use `np.round` or `scalar.round` instead.\n",
      "  return round(sum([v * front.primitive.get(b, 0) for (b, v) in\n",
      "/home/computertreker/git/qiskit/qiskit-tutorial/foo/lib/python3.8/site-packages/qiskit/aqua/operators/state_fns/dict_state_fn.py:207: DeprecationWarning: The Python built-in `round` is deprecated for complex scalars, and will raise a `TypeError` in a future release. Use `np.round` or `scalar.round` instead.\n",
      "  return round(sum([v * front.primitive.get(b, 0) for (b, v) in\n",
      "/home/computertreker/git/qiskit/qiskit-tutorial/foo/lib/python3.8/site-packages/qiskit/aqua/operators/state_fns/dict_state_fn.py:207: DeprecationWarning: The Python built-in `round` is deprecated for complex scalars, and will raise a `TypeError` in a future release. Use `np.round` or `scalar.round` instead.\n",
      "  return round(sum([v * front.primitive.get(b, 0) for (b, v) in\n"
     ]
    },
    {
     "name": "stderr",
     "output_type": "stream",
     "text": [
      "/home/computertreker/git/qiskit/qiskit-tutorial/foo/lib/python3.8/site-packages/qiskit/aqua/operators/state_fns/dict_state_fn.py:207: DeprecationWarning: The Python built-in `round` is deprecated for complex scalars, and will raise a `TypeError` in a future release. Use `np.round` or `scalar.round` instead.\n",
      "  return round(sum([v * front.primitive.get(b, 0) for (b, v) in\n",
      "/home/computertreker/git/qiskit/qiskit-tutorial/foo/lib/python3.8/site-packages/qiskit/aqua/operators/state_fns/dict_state_fn.py:207: DeprecationWarning: The Python built-in `round` is deprecated for complex scalars, and will raise a `TypeError` in a future release. Use `np.round` or `scalar.round` instead.\n",
      "  return round(sum([v * front.primitive.get(b, 0) for (b, v) in\n",
      "/home/computertreker/git/qiskit/qiskit-tutorial/foo/lib/python3.8/site-packages/qiskit/aqua/operators/state_fns/dict_state_fn.py:207: DeprecationWarning: The Python built-in `round` is deprecated for complex scalars, and will raise a `TypeError` in a future release. Use `np.round` or `scalar.round` instead.\n",
      "  return round(sum([v * front.primitive.get(b, 0) for (b, v) in\n",
      "/home/computertreker/git/qiskit/qiskit-tutorial/foo/lib/python3.8/site-packages/qiskit/aqua/operators/state_fns/dict_state_fn.py:207: DeprecationWarning: The Python built-in `round` is deprecated for complex scalars, and will raise a `TypeError` in a future release. Use `np.round` or `scalar.round` instead.\n",
      "  return round(sum([v * front.primitive.get(b, 0) for (b, v) in\n",
      "/home/computertreker/git/qiskit/qiskit-tutorial/foo/lib/python3.8/site-packages/qiskit/aqua/operators/state_fns/dict_state_fn.py:207: DeprecationWarning: The Python built-in `round` is deprecated for complex scalars, and will raise a `TypeError` in a future release. Use `np.round` or `scalar.round` instead.\n",
      "  return round(sum([v * front.primitive.get(b, 0) for (b, v) in\n",
      "/home/computertreker/git/qiskit/qiskit-tutorial/foo/lib/python3.8/site-packages/qiskit/aqua/operators/state_fns/dict_state_fn.py:207: DeprecationWarning: The Python built-in `round` is deprecated for complex scalars, and will raise a `TypeError` in a future release. Use `np.round` or `scalar.round` instead.\n",
      "  return round(sum([v * front.primitive.get(b, 0) for (b, v) in\n",
      "/home/computertreker/git/qiskit/qiskit-tutorial/foo/lib/python3.8/site-packages/qiskit/aqua/operators/state_fns/dict_state_fn.py:207: DeprecationWarning: The Python built-in `round` is deprecated for complex scalars, and will raise a `TypeError` in a future release. Use `np.round` or `scalar.round` instead.\n",
      "  return round(sum([v * front.primitive.get(b, 0) for (b, v) in\n",
      "/home/computertreker/git/qiskit/qiskit-tutorial/foo/lib/python3.8/site-packages/qiskit/aqua/operators/state_fns/dict_state_fn.py:207: DeprecationWarning: The Python built-in `round` is deprecated for complex scalars, and will raise a `TypeError` in a future release. Use `np.round` or `scalar.round` instead.\n",
      "  return round(sum([v * front.primitive.get(b, 0) for (b, v) in\n",
      "/home/computertreker/git/qiskit/qiskit-tutorial/foo/lib/python3.8/site-packages/qiskit/aqua/operators/state_fns/dict_state_fn.py:207: DeprecationWarning: The Python built-in `round` is deprecated for complex scalars, and will raise a `TypeError` in a future release. Use `np.round` or `scalar.round` instead.\n",
      "  return round(sum([v * front.primitive.get(b, 0) for (b, v) in\n",
      "/home/computertreker/git/qiskit/qiskit-tutorial/foo/lib/python3.8/site-packages/qiskit/aqua/operators/state_fns/dict_state_fn.py:207: DeprecationWarning: The Python built-in `round` is deprecated for complex scalars, and will raise a `TypeError` in a future release. Use `np.round` or `scalar.round` instead.\n",
      "  return round(sum([v * front.primitive.get(b, 0) for (b, v) in\n"
     ]
    },
    {
     "name": "stdout",
     "output_type": "stream",
     "text": [
      "{'optimal_parameters': {Parameter(θ[0]): -3.5066854222828043, Parameter(θ[10]): 2.4679772171938295, Parameter(θ[11]): 2.035810688886627, Parameter(θ[12]): -1.8201489888165028, Parameter(θ[13]): -3.3188455994330397, Parameter(θ[14]): 4.943602399628503, Parameter(θ[15]): 5.323597843674701, Parameter(θ[1]): 4.185820042224241, Parameter(θ[2]): 3.523301827667687, Parameter(θ[3]): 0.08583149982647933, Parameter(θ[4]): 4.814605347345111, Parameter(θ[5]): 0.9441526990032016, Parameter(θ[6]): 2.6815109085836095, Parameter(θ[7]): 4.612108971621989, Parameter(θ[8]): -2.561934002843255, Parameter(θ[9]): 0.04269037114204171}, 'optimal_point': array([-3.50668542,  2.46797722,  2.03581069, -1.82014899, -3.3188456 ,\n",
      "        4.9436024 ,  5.32359784,  4.18582004,  3.52330183,  0.0858315 ,\n",
      "        4.81460535,  0.9441527 ,  2.68151091,  4.61210897, -2.561934  ,\n",
      "        0.04269037]), 'optimal_value': -1.82260200649447, 'optimizer_evals': 178, 'optimizer_time': 48.22874665260315, 'eigenvalue': (-1.82260200649447+0j), 'eigenstate': {'10': 7.318661292732936, '11': 29.289035197048545, '00': 7.570188773138538, '01': 955.82211473708}, 'cost_function_evals': 178}\n"
     ]
    },
    {
     "name": "stderr",
     "output_type": "stream",
     "text": [
      "/home/computertreker/git/qiskit/qiskit-tutorial/foo/lib/python3.8/site-packages/qiskit/aqua/operators/state_fns/dict_state_fn.py:207: DeprecationWarning: The Python built-in `round` is deprecated for complex scalars, and will raise a `TypeError` in a future release. Use `np.round` or `scalar.round` instead.\n",
      "  return round(sum([v * front.primitive.get(b, 0) for (b, v) in\n",
      "/home/computertreker/git/qiskit/qiskit-tutorial/foo/lib/python3.8/site-packages/qiskit/aqua/operators/state_fns/dict_state_fn.py:207: DeprecationWarning: The Python built-in `round` is deprecated for complex scalars, and will raise a `TypeError` in a future release. Use `np.round` or `scalar.round` instead.\n",
      "  return round(sum([v * front.primitive.get(b, 0) for (b, v) in\n",
      "/home/computertreker/git/qiskit/qiskit-tutorial/foo/lib/python3.8/site-packages/qiskit/aqua/operators/state_fns/dict_state_fn.py:207: DeprecationWarning: The Python built-in `round` is deprecated for complex scalars, and will raise a `TypeError` in a future release. Use `np.round` or `scalar.round` instead.\n",
      "  return round(sum([v * front.primitive.get(b, 0) for (b, v) in\n",
      "/home/computertreker/git/qiskit/qiskit-tutorial/foo/lib/python3.8/site-packages/qiskit/aqua/operators/state_fns/dict_state_fn.py:207: DeprecationWarning: The Python built-in `round` is deprecated for complex scalars, and will raise a `TypeError` in a future release. Use `np.round` or `scalar.round` instead.\n",
      "  return round(sum([v * front.primitive.get(b, 0) for (b, v) in\n",
      "/home/computertreker/git/qiskit/qiskit-tutorial/foo/lib/python3.8/site-packages/qiskit/aqua/operators/state_fns/dict_state_fn.py:207: DeprecationWarning: The Python built-in `round` is deprecated for complex scalars, and will raise a `TypeError` in a future release. Use `np.round` or `scalar.round` instead.\n",
      "  return round(sum([v * front.primitive.get(b, 0) for (b, v) in\n"
     ]
    }
   ],
   "source": [
    "# Run the algorithm\n",
    "result = vqe.run(qi_noise_model_qasm)\n",
    "print(result)"
   ]
  },
  {
   "cell_type": "code",
   "execution_count": 37,
   "metadata": {
    "ExecuteTime": {
     "end_time": "2019-12-10T21:48:47.743047Z",
     "start_time": "2019-12-10T21:48:47.658283Z"
    }
   },
   "outputs": [
    {
     "data": {
      "text/html": [
       "<h3>Version Information</h3><table><tr><th>Qiskit Software</th><th>Version</th></tr><tr><td>Qiskit</td><td>0.19.6</td></tr><tr><td>Terra</td><td>0.14.2</td></tr><tr><td>Aer</td><td>0.5.2</td></tr><tr><td>Ignis</td><td>0.3.3</td></tr><tr><td>Aqua</td><td>0.7.3</td></tr><tr><td>IBM Q Provider</td><td>0.7.2</td></tr><tr><th>System information</th></tr><tr><td>Python</td><td>3.8.3 (default, May 17 2020, 18:15:42) \n",
       "[GCC 10.1.0]</td></tr><tr><td>OS</td><td>Linux</td></tr><tr><td>CPUs</td><td>32</td></tr><tr><td>Memory (Gb)</td><td>125.72604370117188</td></tr><tr><td colspan='2'>Wed Jul 22 16:43:23 2020 EDT</td></tr></table>"
      ],
      "text/plain": [
       "<IPython.core.display.HTML object>"
      ]
     },
     "metadata": {},
     "output_type": "display_data"
    },
    {
     "data": {
      "text/html": [
       "<div style='width: 100%; background-color:#d5d9e0;padding-left: 10px; padding-bottom: 10px; padding-right: 10px; padding-top: 5px'><h3>This code is a part of Qiskit</h3><p>&copy; Copyright IBM 2017, 2020.</p><p>This code is licensed under the Apache License, Version 2.0. You may<br>obtain a copy of this license in the LICENSE.txt file in the root directory<br> of this source tree or at http://www.apache.org/licenses/LICENSE-2.0.<p>Any modifications or derivative works of this code must retain this<br>copyright notice, and modified files need to carry a notice indicating<br>that they have been altered from the originals.</p></div>"
      ],
      "text/plain": [
       "<IPython.core.display.HTML object>"
      ]
     },
     "metadata": {},
     "output_type": "display_data"
    }
   ],
   "source": [
    "import qiskit.tools.jupyter\n",
    "%qiskit_version_table\n",
    "%qiskit_copyright"
   ]
  },
  {
   "cell_type": "code",
   "execution_count": null,
   "metadata": {},
   "outputs": [],
   "source": []
  }
 ],
 "metadata": {
  "celltoolbar": "Tags",
  "kernelspec": {
   "display_name": "Python 3",
   "language": "python",
   "name": "python3"
  },
  "language_info": {
   "codemirror_mode": {
    "name": "ipython",
    "version": 3
   },
   "file_extension": ".py",
   "mimetype": "text/x-python",
   "name": "python",
   "nbconvert_exporter": "python",
   "pygments_lexer": "ipython3",
   "version": "3.8.3"
  },
  "varInspector": {
   "cols": {
    "lenName": 16,
    "lenType": 16,
    "lenVar": 40
   },
   "kernels_config": {
    "python": {
     "delete_cmd_postfix": "",
     "delete_cmd_prefix": "del ",
     "library": "var_list.py",
     "varRefreshCmd": "print(var_dic_list())"
    },
    "r": {
     "delete_cmd_postfix": ") ",
     "delete_cmd_prefix": "rm(",
     "library": "var_list.r",
     "varRefreshCmd": "cat(var_dic_list()) "
    }
   },
   "types_to_exclude": [
    "module",
    "function",
    "builtin_function_or_method",
    "instance",
    "_Feature"
   ],
   "window_display": false
  }
 },
 "nbformat": 4,
 "nbformat_minor": 2
}
