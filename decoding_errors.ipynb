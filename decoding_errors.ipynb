{
 "cells": [
  {
   "cell_type": "markdown",
   "source": [
    "## Delayed stabilzier measurements and their effect on the QEC\n",
    "In our thesis, we investigated the performance of the smallest possible quantum error correcting code (QECC) capable of correcting any single qubit error. This code, the $[\\![5,1,3]\\!]$ stabilizer code, could be a potentially interesting test case for error correction on near-term hardware. We identified the main bottleneck as a form of decoding error cause by noise occuring in-between the stabilizer measurements.\n",
    " \n",
    "## Recap of the code\n",
    "The $[\\![5,1,3]\\!]$ code is constructed in such a way that starting from a logical state $\\alpha\\ket{0_L}+\\beta\\ket{1_L}$, every single qubit pauli operator $E$ will map the state to a *unique* orthagonal subspace. One can then measure which of these orthagonal subspaces the state resides in and map it back to the codespace without affecting the underlying state.\n",
    "\n",
    "The codepace is 2-dimensional, and this property requires an additional 2-dimensional orthogonal subspace for every Pauli operator. There are three (X, Y and Z) Pauli operators for each qubit, which makes $2 \\cdot (1+3\\cdot5) = 32$ dimensions, which is exactly sattisfied by the $2^5=32$ dimensional Hilbert space. The $[\\![5,1,3]\\!]$ code is thus the smallest where this is possible. "
   ],
   "metadata": {}
  },
  {
   "cell_type": "code",
   "execution_count": null,
   "source": [],
   "outputs": [],
   "metadata": {}
  },
  {
   "cell_type": "markdown",
   "source": [],
   "metadata": {}
  }
 ],
 "metadata": {
  "orig_nbformat": 4,
  "language_info": {
   "name": "python"
  }
 },
 "nbformat": 4,
 "nbformat_minor": 2
}